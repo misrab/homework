{
 "cells": [
  {
   "cell_type": "code",
   "execution_count": 1,
   "metadata": {
    "collapsed": false
   },
   "outputs": [],
   "source": [
    "import csv\n",
    "import pandas as pd\n",
    "import numpy as np\n",
    "from sklearn.feature_extraction.text import CountVectorizer\n",
    "from sklearn.cross_validation import train_test_split\n",
    "from sklearn.naive_bayes import MultinomialNB\n",
    "from sklearn.naive_bayes import BernoulliNB\n",
    "from sklearn.linear_model import LogisticRegression\n",
    "from sklearn import metrics \n",
    "import matplotlib.pyplot as plt\n",
    "%matplotlib inline\n",
    "# from sklearn.metrics import roc_curve, auc"
   ]
  },
  {
   "cell_type": "code",
   "execution_count": 2,
   "metadata": {
    "collapsed": false
   },
   "outputs": [
    {
     "data": {
      "text/html": [
       "<div>\n",
       "<table border=\"1\" class=\"dataframe\">\n",
       "  <thead>\n",
       "    <tr style=\"text-align: right;\">\n",
       "      <th></th>\n",
       "      <th>Date</th>\n",
       "      <th>Number</th>\n",
       "      <th>Decreased</th>\n",
       "      <th>Same</th>\n",
       "      <th>Increased</th>\n",
       "    </tr>\n",
       "  </thead>\n",
       "  <tbody>\n",
       "    <tr>\n",
       "      <th>0</th>\n",
       "      <td>2/3/2009</td>\n",
       "      <td>1</td>\n",
       "      <td>1</td>\n",
       "      <td>0</td>\n",
       "      <td>0</td>\n",
       "    </tr>\n",
       "    <tr>\n",
       "      <th>1</th>\n",
       "      <td>3/20/2009</td>\n",
       "      <td>2</td>\n",
       "      <td>1</td>\n",
       "      <td>0</td>\n",
       "      <td>0</td>\n",
       "    </tr>\n",
       "    <tr>\n",
       "      <th>2</th>\n",
       "      <td>4/20/2009</td>\n",
       "      <td>3</td>\n",
       "      <td>1</td>\n",
       "      <td>0</td>\n",
       "      <td>0</td>\n",
       "    </tr>\n",
       "    <tr>\n",
       "      <th>3</th>\n",
       "      <td>5/13/2009</td>\n",
       "      <td>4</td>\n",
       "      <td>1</td>\n",
       "      <td>0</td>\n",
       "      <td>0</td>\n",
       "    </tr>\n",
       "    <tr>\n",
       "      <th>4</th>\n",
       "      <td>6/9/2009</td>\n",
       "      <td>5</td>\n",
       "      <td>1</td>\n",
       "      <td>0</td>\n",
       "      <td>0</td>\n",
       "    </tr>\n",
       "  </tbody>\n",
       "</table>\n",
       "</div>"
      ],
      "text/plain": [
       "        Date  Number  Decreased  Same  Increased\n",
       "0   2/3/2009       1          1     0          0\n",
       "1  3/20/2009       2          1     0          0\n",
       "2  4/20/2009       3          1     0          0\n",
       "3  5/13/2009       4          1     0          0\n",
       "4   6/9/2009       5          1     0          0"
      ]
     },
     "execution_count": 2,
     "metadata": {},
     "output_type": "execute_result"
    }
   ],
   "source": [
    "# Import master matrix for testing and examine \n",
    "\n",
    "master = pd.read_csv('C:/Users/ajarczyk/Dropbox/Programming/BI_Project/Master matrix.csv')\n",
    "master.head()"
   ]
  },
  {
   "cell_type": "code",
   "execution_count": 4,
   "metadata": {
    "collapsed": false
   },
   "outputs": [
    {
     "data": {
      "text/plain": [
       "Decreased    10\n",
       "Same         67\n",
       "Increased     5\n",
       "dtype: int64"
      ]
     },
     "execution_count": 4,
     "metadata": {},
     "output_type": "execute_result"
    }
   ],
   "source": [
    "# Examine breakdown for the total sample \n",
    "\n",
    "master[['Decreased', 'Same', 'Increased']].sum()"
   ]
  },
  {
   "cell_type": "code",
   "execution_count": 6,
   "metadata": {
    "collapsed": false
   },
   "outputs": [],
   "source": [
    "# Open training files for each training group and combine into single text files\n",
    "# Feed python the appropriate character set for decoding \n",
    "\n",
    "text = []\n",
    "for i in master.Number:\n",
    "    fname = 'C:/Users/ajarczyk/Dropbox/Programming/BI_Project/BIEngStatement' + str(i) + '.txt'\n",
    "    temp = open(fname).read().decode('utf_16')\n",
    "    text.append(temp)\n",
    "master['text'] = text"
   ]
  },
  {
   "cell_type": "code",
   "execution_count": 28,
   "metadata": {
    "collapsed": false
   },
   "outputs": [],
   "source": [
    "# Separate the individual words in the documents\n",
    "\n",
    "vectorizer = CountVectorizer(ngram_range=(1, 2))\n",
    "X = vectorizer.fit_transform(master.text)\n",
    "y = (master.Same == 1).values.astype(np.int)"
   ]
  },
  {
   "cell_type": "code",
   "execution_count": 29,
   "metadata": {
    "collapsed": true
   },
   "outputs": [],
   "source": [
    "# Use SKLearn's train_test_split\n",
    "\n",
    "xtrain, xtest, ytrain, ytest = train_test_split(X, y, test_size=0.2, random_state=36)"
   ]
  },
  {
   "cell_type": "code",
   "execution_count": 30,
   "metadata": {
    "collapsed": true
   },
   "outputs": [],
   "source": [
    "# Adapted from Misrab's example\n",
    "\n",
    "def accuracy_report(_clf):\n",
    "    #Print the accuracy on the test and training dataset\n",
    "    training_accuracy = _clf.score(xtrain, ytrain)\n",
    "    test_accuracy = _clf.score(xtest, ytest)\n",
    "\n",
    "    print \"Accuracy on training data: %0.2f%%\" % (100 * training_accuracy)\n",
    "    print \"Accuracy: %0.2f%%\" % (100 * test_accuracy)"
   ]
  },
  {
   "cell_type": "code",
   "execution_count": 31,
   "metadata": {
    "collapsed": false
   },
   "outputs": [
    {
     "name": "stdout",
     "output_type": "stream",
     "text": [
      "Accuracy to beat: 81.71%\n"
     ]
    }
   ],
   "source": [
    "# Adjust to see how prior works on test set \n",
    "\n",
    "atb = float(master['Same'].sum()) / len(master) * 100\n",
    "print \"Accuracy to beat: %0.2f\" % atb + \"%\""
   ]
  },
  {
   "cell_type": "code",
   "execution_count": 60,
   "metadata": {
    "collapsed": false
   },
   "outputs": [
    {
     "name": "stdout",
     "output_type": "stream",
     "text": [
      "Accuracy on training data: 93.85%\n",
      "Accuracy: 82.35%\n"
     ]
    }
   ],
   "source": [
    "# Run Multinomial NB and report accuracy\n",
    "clf = MultinomialNB()\n",
    "clf.fit(xtrain, ytrain)\n",
    "accuracy_report(clf)"
   ]
  },
  {
   "cell_type": "code",
   "execution_count": 62,
   "metadata": {
    "collapsed": false
   },
   "outputs": [],
   "source": [
    "# Aggregate stats for ROC curve chart\n",
    "# Some code sourced from: http://blog.yhat.com/posts/roc-curves.html \n",
    "# Some code also sourced from: http://scikit-learn.org/stable/auto_examples/model_selection/plot_roc.html\n",
    "\n",
    "preds = clf.predict_proba(xtest)[:,1]\n",
    "fpr, tpr, _ = metrics.roc_curve(ytest, preds)\n",
    "df = pd.DataFrame(dict(fpr=fpr, tpr=tpr))"
   ]
  },
  {
   "cell_type": "code",
   "execution_count": 34,
   "metadata": {
    "collapsed": false
   },
   "outputs": [
    {
     "name": "stdout",
     "output_type": "stream",
     "text": [
      "Accuracy on training data: 86.15%\n",
      "Accuracy: 76.47%\n"
     ]
    }
   ],
   "source": [
    "# Run Bernoulli NB for comparison\n",
    "\n",
    "clf = BernoulliNB().fit(xtrain, ytrain)\n",
    "accuracy_report(clf)"
   ]
  },
  {
   "cell_type": "code",
   "execution_count": 35,
   "metadata": {
    "collapsed": true
   },
   "outputs": [],
   "source": [
    "# Aggregate stats for ROC curve chart\n",
    "\n",
    "preds = clf.predict_proba(xtest)[:,1]\n",
    "fpr2, tpr2, _ = metrics.roc_curve(ytest, preds)\n",
    "df2 = pd.DataFrame(dict(fpr2=fpr2, tpr2=tpr2))"
   ]
  },
  {
   "cell_type": "code",
   "execution_count": 45,
   "metadata": {
    "collapsed": false
   },
   "outputs": [
    {
     "name": "stdout",
     "output_type": "stream",
     "text": [
      "Accuracy on training data: 100.00%\n",
      "Accuracy: 82.35%\n"
     ]
    }
   ],
   "source": [
    "# Run Logistic Regression for comparison\n",
    "\n",
    "clf = LogisticRegression()\n",
    "clf.fit(xtrain, ytrain)\n",
    "accuracy_report(clf)"
   ]
  },
  {
   "cell_type": "code",
   "execution_count": 58,
   "metadata": {
    "collapsed": false
   },
   "outputs": [
    {
     "data": {
      "text/plain": [
       "[<matplotlib.lines.Line2D at 0x1d582828>]"
      ]
     },
     "execution_count": 58,
     "metadata": {},
     "output_type": "execute_result"
    },
    {
     "data": {
      "image/png": "[encoded data removed]",
      "text/plain": [
       "<matplotlib.figure.Figure at 0x1bbfd6d8>"
      ]
     },
     "metadata": {},
     "output_type": "display_data"
    }
   ],
   "source": [
    "# Plot ROC curves for the various models\n",
    "\n",
    "plt.figure()\n",
    "plt.xlabel('False Positive Rate')\n",
    "plt.ylabel('True Positive Rate')\n",
    "plt.title('ROC Curves')\n",
    "plt.plot(df[\"fpr\"], df[\"tpr\"])\n",
    "plt.plot(df2[\"fpr2\"], df2[\"tpr2\"])\n",
    "plt.plot(df3[\"fpr3\"], df3[\"tpr3\"])"
   ]
  },
  {
   "cell_type": "code",
   "execution_count": null,
   "metadata": {
    "collapsed": true
   },
   "outputs": [],
   "source": []
  },
  {
   "cell_type": "code",
   "execution_count": null,
   "metadata": {
    "collapsed": true
   },
   "outputs": [],
   "source": []
  },
  {
   "cell_type": "code",
   "execution_count": 10,
   "metadata": {
    "collapsed": false
   },
   "outputs": [],
   "source": [
    "#classifier = OneVsRestClassifier(MultinomialNB())\n",
    "#preds = classifier.fit(xtrain, ytrain).predict_proba(xtest)[:, 0]\n",
    "#preds"
   ]
  },
  {
   "cell_type": "code",
   "execution_count": 11,
   "metadata": {
    "collapsed": false
   },
   "outputs": [],
   "source": [
    "#ytest - preds"
   ]
  },
  {
   "cell_type": "code",
   "execution_count": 12,
   "metadata": {
    "collapsed": false
   },
   "outputs": [],
   "source": [
    "# Code from http://scikit-learn.org/stable/auto_examples/model_selection/plot_roc.html \n",
    "\n",
    "#n_classes = ytest.shape[0]\n",
    "#preds = clf.predict_proba(xtest)\n",
    "\n",
    "#fpr = dict()\n",
    "#tpr = dict()\n",
    "#for i in range(n_classes):\n",
    "#    fpr[i], tpr[i], _ = roc_curve(ytest[:, i], preds[:, i])"
   ]
  },
  {
   "cell_type": "code",
   "execution_count": null,
   "metadata": {
    "collapsed": true
   },
   "outputs": [],
   "source": []
  },
  {
   "cell_type": "code",
   "execution_count": null,
   "metadata": {
    "collapsed": true
   },
   "outputs": [],
   "source": [
    "# Original format for Multinoulli, Bernoulli, and Logistic Regression\n",
    "clf = BernoulliNB().fit(xtrain, ytrain)\n",
    "accuracy_report(clf)"
   ]
  }
 ],
 "metadata": {
  "kernelspec": {
   "display_name": "Python 2",
   "language": "python",
   "name": "python2"
  },
  "language_info": {
   "codemirror_mode": {
    "name": "ipython",
    "version": 2
   },
   "file_extension": ".py",
   "mimetype": "text/x-python",
   "name": "python",
   "nbconvert_exporter": "python",
   "pygments_lexer": "ipython2",
   "version": "2.7.11"
  }
 },
 "nbformat": 4,
 "nbformat_minor": 0
}
