{
 "cells": [
  {
   "cell_type": "code",
   "execution_count": 265,
   "metadata": {
    "collapsed": true
   },
   "outputs": [],
   "source": [
    "# TO DO \n",
    "# For CountVectorizer, play with ngram_range, stop_words, max_df, min_df, max_features \n",
    "\n",
    "# IF THERE'S TIME \n",
    "# Add Bahasa analysis \n",
    "# Add clustering visualization for the data "
   ]
  },
  {
   "cell_type": "markdown",
   "metadata": {
    "collapsed": true
   },
   "source": [
    "# Background\n",
    "* Explanation of interest rates\n",
    "* How central banks adjust interest rates to account for changes in the economy\n",
    "* Motivation for the research"
   ]
  },
  {
   "cell_type": "markdown",
   "metadata": {},
   "source": [
    "# Preparation \n",
    "* Import all necessary libraries\n",
    "* Import master matrix, which includes data on actual interest rate movements (i.e., the independent variables)  \n",
    "* Build out the master matrix to include summary statements from the Indonesian central bank \n",
    "* Examine the data to evaluate skew \n",
    "* Visualize data to better understand word dispersion "
   ]
  },
  {
   "cell_type": "code",
   "execution_count": 266,
   "metadata": {
    "collapsed": false
   },
   "outputs": [],
   "source": [
    "# Import all necessary libraries\n",
    "\n",
    "import csv\n",
    "import pandas as pd\n",
    "import numpy as np\n",
    "import nltk \n",
    "from nltk.draw.dispersion import dispersion_plot\n",
    "from sklearn.feature_extraction.text import CountVectorizer\n",
    "from sklearn.cross_validation import train_test_split\n",
    "from sklearn.naive_bayes import MultinomialNB\n",
    "from sklearn.naive_bayes import BernoulliNB\n",
    "from sklearn.linear_model import LogisticRegression\n",
    "from sklearn import svm\n",
    "from sklearn import metrics \n",
    "import matplotlib.pyplot as plt\n",
    "%matplotlib inline"
   ]
  },
  {
   "cell_type": "code",
   "execution_count": 267,
   "metadata": {
    "collapsed": false
   },
   "outputs": [
    {
     "data": {
      "text/html": [
       "<div>\n",
       "<table border=\"1\" class=\"dataframe\">\n",
       "  <thead>\n",
       "    <tr style=\"text-align: right;\">\n",
       "      <th></th>\n",
       "      <th>Date</th>\n",
       "      <th>Number</th>\n",
       "      <th>Decreased</th>\n",
       "      <th>Same</th>\n",
       "      <th>Increased</th>\n",
       "    </tr>\n",
       "  </thead>\n",
       "  <tbody>\n",
       "    <tr>\n",
       "      <th>0</th>\n",
       "      <td>2/3/2009</td>\n",
       "      <td>1</td>\n",
       "      <td>1</td>\n",
       "      <td>0</td>\n",
       "      <td>0</td>\n",
       "    </tr>\n",
       "    <tr>\n",
       "      <th>1</th>\n",
       "      <td>3/20/2009</td>\n",
       "      <td>2</td>\n",
       "      <td>1</td>\n",
       "      <td>0</td>\n",
       "      <td>0</td>\n",
       "    </tr>\n",
       "    <tr>\n",
       "      <th>2</th>\n",
       "      <td>4/20/2009</td>\n",
       "      <td>3</td>\n",
       "      <td>1</td>\n",
       "      <td>0</td>\n",
       "      <td>0</td>\n",
       "    </tr>\n",
       "    <tr>\n",
       "      <th>3</th>\n",
       "      <td>5/13/2009</td>\n",
       "      <td>4</td>\n",
       "      <td>1</td>\n",
       "      <td>0</td>\n",
       "      <td>0</td>\n",
       "    </tr>\n",
       "    <tr>\n",
       "      <th>4</th>\n",
       "      <td>6/9/2009</td>\n",
       "      <td>5</td>\n",
       "      <td>1</td>\n",
       "      <td>0</td>\n",
       "      <td>0</td>\n",
       "    </tr>\n",
       "  </tbody>\n",
       "</table>\n",
       "</div>"
      ],
      "text/plain": [
       "        Date  Number  Decreased  Same  Increased\n",
       "0   2/3/2009       1          1     0          0\n",
       "1  3/20/2009       2          1     0          0\n",
       "2  4/20/2009       3          1     0          0\n",
       "3  5/13/2009       4          1     0          0\n",
       "4   6/9/2009       5          1     0          0"
      ]
     },
     "execution_count": 267,
     "metadata": {},
     "output_type": "execute_result"
    }
   ],
   "source": [
    "# Read master matrix for testing and ensure it imported properly \n",
    "\n",
    "master = pd.read_csv('C:/Users/ajarczyk/Dropbox/Programming/BI_Project/Master matrix.csv')\n",
    "master.head()"
   ]
  },
  {
   "cell_type": "code",
   "execution_count": 268,
   "metadata": {
    "collapsed": false
   },
   "outputs": [],
   "source": [
    "# Open training files for each training group and add to a column in the master matrix \n",
    "\n",
    "text = []\n",
    "for i in master.Number:\n",
    "    fname = 'C:/Users/ajarczyk/Dropbox/Programming/BI_Project/BIEngStatement' + str(i) + '.txt'\n",
    "    temp = open(fname).read().decode('utf_16')\n",
    "    text.append(temp)\n",
    "master['text'] = text"
   ]
  },
  {
   "cell_type": "code",
   "execution_count": 269,
   "metadata": {
    "collapsed": false
   },
   "outputs": [
    {
     "data": {
      "text/plain": [
       "Decreased    10\n",
       "Same         67\n",
       "Increased     5\n",
       "dtype: int64"
      ]
     },
     "execution_count": 269,
     "metadata": {},
     "output_type": "execute_result"
    }
   ],
   "source": [
    "# Examine breakdown for the total sample \n",
    "\n",
    "master[['Decreased', 'Same', 'Increased']].sum()"
   ]
  },
  {
   "cell_type": "code",
   "execution_count": 270,
   "metadata": {
    "collapsed": false
   },
   "outputs": [
    {
     "data": {
      "image/png": "[encoded data removed]",
      "text/plain": [
       "<matplotlib.figure.Figure at 0x204879b0>"
      ]
     },
     "metadata": {},
     "output_type": "display_data"
    }
   ],
   "source": [
    "txt = \"\"\n",
    "for i in (master.Number - 1):\n",
    "    txt = txt + master['text'][i]\n",
    "tokens = nltk.word_tokenize(txt)\n",
    "txt = nltk.Text(tokens)\n",
    "dispersion_plot(txt, ['global', 'crisis', 'budget', 'rupiah', 'oil', 'fuel', 'subsidy'])"
   ]
  },
  {
   "cell_type": "markdown",
   "metadata": {},
   "source": [
    "# Data Analysis\n",
    "* Break down the documents into n-grams and eliminate the least useful words \n",
    "* Break the data set into testing and training subsets \n",
    "* Set a benchmark for performance by evaluating the prior \n",
    "* Develop models using Multinomial Naive Bayes, Bernoulli Naive Bayes, Logistic Regression, and SVM\n",
    "* Evaluate the models' accuracy on the testing data and training data\n",
    "* Draw the models' ROC curves and calculate their AUCs "
   ]
  },
  {
   "cell_type": "code",
   "execution_count": 271,
   "metadata": {
    "collapsed": false
   },
   "outputs": [],
   "source": [
    "# Separate the individual words in the documents\n",
    "\n",
    "vectorizer = CountVectorizer(ngram_range=(1, 2), max_df=0.8) \n",
    "X = vectorizer.fit_transform(master.text)\n",
    "y = (master.Same == 1).values.astype(np.int)"
   ]
  },
  {
   "cell_type": "code",
   "execution_count": 272,
   "metadata": {
    "collapsed": false
   },
   "outputs": [],
   "source": [
    "# Use SKLearn's train_test_split\n",
    "\n",
    "xtrain, xtest, ytrain, ytest = train_test_split(X, y, test_size=0.2, random_state=36)"
   ]
  },
  {
   "cell_type": "code",
   "execution_count": 273,
   "metadata": {
    "collapsed": true
   },
   "outputs": [],
   "source": [
    "# Print the accuracy on the test and training dataset (Adapted from Misrab's example)\n",
    "\n",
    "def accuracy_report(_clf):\n",
    "    training_accuracy = _clf.score(xtrain, ytrain)\n",
    "    test_accuracy = _clf.score(xtest, ytest)\n",
    "\n",
    "    print \"Accuracy on training data: %0.2f%%\" % (100 * training_accuracy)\n",
    "    print \"Accuracy: %0.2f%%\" % (100 * test_accuracy)\n",
    "    \n",
    "    return training_accuracy, test_accuracy"
   ]
  },
  {
   "cell_type": "code",
   "execution_count": 274,
   "metadata": {
    "collapsed": false
   },
   "outputs": [
    {
     "name": "stdout",
     "output_type": "stream",
     "text": [
      "Accuracy to beat: 76.47%\n"
     ]
    }
   ],
   "source": [
    "# Adjust to see how prior works on test set \n",
    "\n",
    "atb = float(sum(ytest))/len(ytest) * 100\n",
    "print \"Accuracy to beat: %0.2f\" % atb + \"%\""
   ]
  },
  {
   "cell_type": "code",
   "execution_count": 275,
   "metadata": {
    "collapsed": false
   },
   "outputs": [
    {
     "name": "stdout",
     "output_type": "stream",
     "text": [
      "Accuracy on training data: 92.31%\n",
      "Accuracy: 76.47%\n"
     ]
    }
   ],
   "source": [
    "# Run Multinomial NB and report accuracy\n",
    "clf = MultinomialNB()\n",
    "clf.fit(xtrain, ytrain)\n",
    "tra_acc1, tes_acc1 = accuracy_report(clf)"
   ]
  },
  {
   "cell_type": "code",
   "execution_count": 276,
   "metadata": {
    "collapsed": false
   },
   "outputs": [
    {
     "name": "stdout",
     "output_type": "stream",
     "text": [
      "AUC:  0.548076923077\n"
     ]
    }
   ],
   "source": [
    "# Aggregate stats for ROC curve chart\n",
    "# Some code sourced from: http://blog.yhat.com/posts/roc-curves.html \n",
    "# Some code also sourced from: http://scikit-learn.org/stable/auto_examples/model_selection/plot_roc.html\n",
    "\n",
    "preds = clf.predict_proba(xtest)[:,1]\n",
    "fpr, tpr, _ = metrics.roc_curve(ytest, preds)\n",
    "df = pd.DataFrame(dict(fpr=fpr, tpr=tpr))\n",
    "auc1 = metrics.roc_auc_score(ytest, preds)\n",
    "print \"AUC: \", auc1"
   ]
  },
  {
   "cell_type": "code",
   "execution_count": 277,
   "metadata": {
    "collapsed": false
   },
   "outputs": [
    {
     "name": "stdout",
     "output_type": "stream",
     "text": [
      "Accuracy on training data: 90.77%\n",
      "Accuracy: 82.35%\n"
     ]
    }
   ],
   "source": [
    "# Run Bernoulli NB for comparison\n",
    "\n",
    "clf = BernoulliNB()\n",
    "clf.fit(xtrain, ytrain)\n",
    "tra_acc2, tes_acc2 = accuracy_report(clf)"
   ]
  },
  {
   "cell_type": "code",
   "execution_count": 278,
   "metadata": {
    "collapsed": false
   },
   "outputs": [
    {
     "name": "stdout",
     "output_type": "stream",
     "text": [
      "AUC:  0.509615384615\n"
     ]
    }
   ],
   "source": [
    "# Aggregate stats for ROC curve chart\n",
    "\n",
    "preds = clf.predict_proba(xtest)[:,1]\n",
    "fpr2, tpr2, _ = metrics.roc_curve(ytest, preds)\n",
    "df2 = pd.DataFrame(dict(fpr2=fpr2, tpr2=tpr2))\n",
    "auc2 = metrics.roc_auc_score(ytest, preds)\n",
    "print \"AUC: \", auc2"
   ]
  },
  {
   "cell_type": "code",
   "execution_count": 279,
   "metadata": {
    "collapsed": false
   },
   "outputs": [
    {
     "name": "stdout",
     "output_type": "stream",
     "text": [
      "Accuracy on training data: 100.00%\n",
      "Accuracy: 76.47%\n"
     ]
    }
   ],
   "source": [
    "# Run Logistic Regression for comparison\n",
    "\n",
    "clf = LogisticRegression()\n",
    "clf.fit(xtrain, ytrain)\n",
    "tra_acc3, tes_acc3 = accuracy_report(clf)"
   ]
  },
  {
   "cell_type": "code",
   "execution_count": 280,
   "metadata": {
    "collapsed": false
   },
   "outputs": [
    {
     "name": "stdout",
     "output_type": "stream",
     "text": [
      "AUC:  0.653846153846\n"
     ]
    }
   ],
   "source": [
    "# Aggregate stats for ROC curve chart\n",
    "\n",
    "preds = clf.predict_proba(xtest)[:,1]\n",
    "fpr3, tpr3, _ = metrics.roc_curve(ytest, preds)\n",
    "df3 = pd.DataFrame(dict(fpr3=fpr3, tpr3=tpr3))\n",
    "auc3 = metrics.roc_auc_score(ytest, preds)\n",
    "print \"AUC: \", auc3"
   ]
  },
  {
   "cell_type": "code",
   "execution_count": 281,
   "metadata": {
    "collapsed": false
   },
   "outputs": [
    {
     "name": "stdout",
     "output_type": "stream",
     "text": [
      "Accuracy on training data: 100.00%\n",
      "Accuracy: 76.47%\n"
     ]
    }
   ],
   "source": [
    "# Run SVM for comparison\n",
    "\n",
    "clf = svm.SVC(kernel='linear', probability=True)\n",
    "clf.fit(xtrain, ytrain)\n",
    "tra_acc4, tes_acc4 = accuracy_report(clf)"
   ]
  },
  {
   "cell_type": "code",
   "execution_count": 282,
   "metadata": {
    "collapsed": false
   },
   "outputs": [
    {
     "name": "stdout",
     "output_type": "stream",
     "text": [
      "AUC:  0.653846153846\n"
     ]
    }
   ],
   "source": [
    "# Aggregate stats for ROC curve chart\n",
    "\n",
    "preds = clf.predict_proba(xtest)[:,1]\n",
    "fpr4, tpr4, _ = metrics.roc_curve(ytest, preds)\n",
    "df4 = pd.DataFrame(dict(fpr4=fpr4, tpr4=tpr4))\n",
    "auc4 = metrics.roc_auc_score(ytest, preds)\n",
    "print \"AUC: \", auc4"
   ]
  },
  {
   "cell_type": "code",
   "execution_count": 283,
   "metadata": {
    "collapsed": false
   },
   "outputs": [
    {
     "data": {
      "text/plain": [
       "[<matplotlib.lines.Line2D at 0x1c51d358>]"
      ]
     },
     "execution_count": 283,
     "metadata": {},
     "output_type": "execute_result"
    },
    {
     "data": {
      "image/png": "[encoded data removed]",
      "text/plain": [
       "<matplotlib.figure.Figure at 0x1faad780>"
      ]
     },
     "metadata": {},
     "output_type": "display_data"
    }
   ],
   "source": [
    "# Plot ROC curves for the various models\n",
    "\n",
    "plt.figure()\n",
    "plt.xlabel('False Positive Rate')\n",
    "plt.ylabel('True Positive Rate')\n",
    "plt.title('ROC Curves')\n",
    "plt.plot(df[\"fpr\"], df[\"tpr\"])\n",
    "plt.plot(df2[\"fpr2\"], df2[\"tpr2\"])\n",
    "plt.plot(df3[\"fpr3\"], df3[\"tpr3\"])\n",
    "plt.plot(df4[\"fpr4\"], df4[\"tpr4\"])"
   ]
  },
  {
   "cell_type": "code",
   "execution_count": 284,
   "metadata": {
    "collapsed": false
   },
   "outputs": [
    {
     "data": {
      "text/html": [
       "<div>\n",
       "<table border=\"1\" class=\"dataframe\">\n",
       "  <thead>\n",
       "    <tr style=\"text-align: right;\">\n",
       "      <th></th>\n",
       "      <th>AUC</th>\n",
       "      <th>Training Set Accuracy</th>\n",
       "      <th>Testing Set Accuracy</th>\n",
       "    </tr>\n",
       "  </thead>\n",
       "  <tbody>\n",
       "    <tr>\n",
       "      <th>Baseline</th>\n",
       "      <td>NA</td>\n",
       "      <td>NA</td>\n",
       "      <td>0.764706</td>\n",
       "    </tr>\n",
       "    <tr>\n",
       "      <th>Multinomial NB</th>\n",
       "      <td>0.548077</td>\n",
       "      <td>0.923077</td>\n",
       "      <td>0.764706</td>\n",
       "    </tr>\n",
       "    <tr>\n",
       "      <th>Linear Regression</th>\n",
       "      <td>0.653846</td>\n",
       "      <td>1</td>\n",
       "      <td>0.764706</td>\n",
       "    </tr>\n",
       "    <tr>\n",
       "      <th>SVM</th>\n",
       "      <td>0.653846</td>\n",
       "      <td>1</td>\n",
       "      <td>0.764706</td>\n",
       "    </tr>\n",
       "    <tr>\n",
       "      <th>Bernoulli NB</th>\n",
       "      <td>0.509615</td>\n",
       "      <td>0.907692</td>\n",
       "      <td>0.823529</td>\n",
       "    </tr>\n",
       "  </tbody>\n",
       "</table>\n",
       "</div>"
      ],
      "text/plain": [
       "                        AUC Training Set Accuracy  Testing Set Accuracy\n",
       "Baseline                 NA                    NA              0.764706\n",
       "Multinomial NB     0.548077              0.923077              0.764706\n",
       "Linear Regression  0.653846                     1              0.764706\n",
       "SVM                0.653846                     1              0.764706\n",
       "Bernoulli NB       0.509615              0.907692              0.823529"
      ]
     },
     "execution_count": 284,
     "metadata": {},
     "output_type": "execute_result"
    }
   ],
   "source": [
    "# Evaluate the various models \n",
    "baseline = ['NA', 'NA', atb/100]\n",
    "mnb = [auc1, tra_acc1, tes_acc1]\n",
    "bnb = [auc2, tra_acc2, tes_acc2]\n",
    "lr = [auc3, tra_acc3, tes_acc3]\n",
    "svm = [auc4, tra_acc4, tes_acc4]\n",
    "index = ['Baseline', 'Multinomial NB', 'Bernoulli NB', 'Linear Regression', 'SVM']\n",
    "pfmtrx = pd.DataFrame([baseline, mnb, bnb, lr, svm], index=index,\n",
    "             columns=['AUC', 'Training Set Accuracy', 'Testing Set Accuracy'])\n",
    "pfmtrx.sort_values(by='Testing Set Accuracy')"
   ]
  },
  {
   "cell_type": "code",
   "execution_count": null,
   "metadata": {
    "collapsed": false
   },
   "outputs": [],
   "source": []
  },
  {
   "cell_type": "code",
   "execution_count": null,
   "metadata": {
    "collapsed": true
   },
   "outputs": [],
   "source": []
  },
  {
   "cell_type": "code",
   "execution_count": null,
   "metadata": {
    "collapsed": true
   },
   "outputs": [],
   "source": []
  },
  {
   "cell_type": "code",
   "execution_count": null,
   "metadata": {
    "collapsed": true
   },
   "outputs": [],
   "source": []
  },
  {
   "cell_type": "code",
   "execution_count": null,
   "metadata": {
    "collapsed": true
   },
   "outputs": [],
   "source": []
  },
  {
   "cell_type": "code",
   "execution_count": null,
   "metadata": {
    "collapsed": false
   },
   "outputs": [],
   "source": [
    "#classifier = OneVsRestClassifier(MultinomialNB())\n",
    "#preds = classifier.fit(xtrain, ytrain).predict_proba(xtest)[:, 0]\n",
    "#preds"
   ]
  },
  {
   "cell_type": "code",
   "execution_count": null,
   "metadata": {
    "collapsed": false
   },
   "outputs": [],
   "source": [
    "#ytest - preds"
   ]
  },
  {
   "cell_type": "code",
   "execution_count": null,
   "metadata": {
    "collapsed": false
   },
   "outputs": [],
   "source": [
    "# Code from http://scikit-learn.org/stable/auto_examples/model_selection/plot_roc.html \n",
    "\n",
    "#n_classes = ytest.shape[0]\n",
    "#preds = clf.predict_proba(xtest)\n",
    "\n",
    "#fpr = dict()\n",
    "#tpr = dict()\n",
    "#for i in range(n_classes):\n",
    "#    fpr[i], tpr[i], _ = roc_curve(ytest[:, i], preds[:, i])"
   ]
  },
  {
   "cell_type": "code",
   "execution_count": null,
   "metadata": {
    "collapsed": true
   },
   "outputs": [],
   "source": []
  },
  {
   "cell_type": "code",
   "execution_count": 57,
   "metadata": {
    "collapsed": false
   },
   "outputs": [
    {
     "name": "stdout",
     "output_type": "stream",
     "text": [
      "Accuracy on training data: 83.67%\n",
      "Accuracy: 78.79%\n"
     ]
    }
   ],
   "source": [
    "# Original format for Multinoulli, Bernoulli, and Logistic Regression\n",
    "clf = BernoulliNB().fit(xtrain, ytrain)\n",
    "accuracy_report(clf)"
   ]
  },
  {
   "cell_type": "code",
   "execution_count": 58,
   "metadata": {
    "collapsed": false
   },
   "outputs": [
    {
     "data": {
      "image/png": "[encoded data removed]",
      "text/plain": [
       "<matplotlib.figure.Figure at 0x1b8bfbe0>"
      ]
     },
     "metadata": {},
     "output_type": "display_data"
    },
    {
     "data": {
      "text/plain": [
       "<Text: The global economic crisis has taken a more...>"
      ]
     },
     "execution_count": 58,
     "metadata": {},
     "output_type": "execute_result"
    }
   ],
   "source": [
    "txt = master['text'][0]\n",
    "tokens = nltk.word_tokenize(txt)\n",
    "text2 = nltk.Text(tokens)\n",
    "dispersion_plot(text2, ['global', 'Indonesia', 'because', 'and', 'dollar'])\n",
    "text2"
   ]
  },
  {
   "cell_type": "code",
   "execution_count": 156,
   "metadata": {
    "collapsed": false
   },
   "outputs": [
    {
     "data": {
      "text/html": [
       "<div>\n",
       "<table border=\"1\" class=\"dataframe\">\n",
       "  <thead>\n",
       "    <tr style=\"text-align: right;\">\n",
       "      <th></th>\n",
       "      <th>Bernoulli NB</th>\n",
       "      <th>Linear Regression</th>\n",
       "      <th>Multinomial NB</th>\n",
       "      <th>SVM</th>\n",
       "    </tr>\n",
       "  </thead>\n",
       "  <tbody>\n",
       "    <tr>\n",
       "      <th>Model AUC</th>\n",
       "      <td>0.5</td>\n",
       "      <td>0.711538</td>\n",
       "      <td>0.625</td>\n",
       "      <td>0.711538</td>\n",
       "    </tr>\n",
       "  </tbody>\n",
       "</table>\n",
       "</div>"
      ],
      "text/plain": [
       "           Bernoulli NB  Linear Regression  Multinomial NB       SVM\n",
       "Model AUC           0.5           0.711538           0.625  0.711538"
      ]
     },
     "execution_count": 156,
     "metadata": {},
     "output_type": "execute_result"
    }
   ],
   "source": [
    "aucs = {'Multinomial NB': auc1, 'Bernoulli NB': auc2, 'Linear Regression': auc3, 'SVM': auc4}\n",
    "pd.DataFrame(data=aucs, index={\"Model AUC\"})"
   ]
  }
 ],
 "metadata": {
  "kernelspec": {
   "display_name": "Python 2",
   "language": "python",
   "name": "python2"
  },
  "language_info": {
   "codemirror_mode": {
    "name": "ipython",
    "version": 2
   },
   "file_extension": ".py",
   "mimetype": "text/x-python",
   "name": "python",
   "nbconvert_exporter": "python",
   "pygments_lexer": "ipython2",
   "version": "2.7.11"
  }
 },
 "nbformat": 4,
 "nbformat_minor": 0
}
