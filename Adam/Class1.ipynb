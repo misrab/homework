{
 "cells": [
  {
   "cell_type": "code",
   "execution_count": 3,
   "metadata": {
    "collapsed": false
   },
   "outputs": [
    {
     "data": {
      "text/plain": [
       "'\\nLab: Reading and Writing Files in Python\\n'"
      ]
     },
     "execution_count": 3,
     "metadata": {},
     "output_type": "execute_result"
    }
   ],
   "source": [
    "'''\n",
    "Lab: Reading and Writing Files in Python\n",
    "'''"
   ]
  },
  {
   "cell_type": "code",
   "execution_count": 4,
   "metadata": {
    "collapsed": false
   },
   "outputs": [
    {
     "name": "stdout",
     "output_type": "stream",
     "text": [
      "['country', 'beer_servings', 'spirit_servings', 'wine_servings', 'total_litres_of_pure_alcohol', 'continent']\n",
      "193\n"
     ]
    }
   ],
   "source": [
    "'''\n",
    "PART 1:\n",
    "Read in drinks.csv\n",
    "Store the header in a list called 'header'\n",
    "Store the data in a list of lists called 'data'\n",
    "Hint: you've already seen this code!\n",
    "'''\n",
    "\n",
    "import csv \n",
    "with open('C:/Users/ajarczyk/Documents/SG_DAT1/data/drinks.csv', 'rb') as csvfile:\n",
    "    all_rows = csv.reader(csvfile, delimiter=',', quotechar='|') \n",
    "    index = 0 \n",
    "    data = [] \n",
    "    header = []\n",
    "    for row in all_rows: \n",
    "        if index == 0:\n",
    "            header = row \n",
    "        else:\n",
    "            data.append(row)\n",
    "        index +=1 \n",
    "    print header \n",
    "    print len(data)"
   ]
  },
  {
   "cell_type": "code",
   "execution_count": 5,
   "metadata": {
    "collapsed": false
   },
   "outputs": [
    {
     "name": "stdout",
     "output_type": "stream",
     "text": [
      "['0', '89', '25', '245', '217', '102', '193', '21', '261', '279', '21', '122', '42', '0', '143', '142', '295', '263', '34', '23', '167', '76', '173', '245', '31', '231', '25', '88', '37', '144', '57', '147', '240', '17', '15', '130', '79', '159', '1', '76', '0', '149', '230', '93', '192', '361', '0', '32', '224', '15', '52', '193', '162', '6', '52', '92', '18', '224', '20', '77', '263', '127', '347', '8', '52', '346', '31', '133', '199', '53', '9', '28', '93', '1', '69', '234', '233', '9', '5', '0', '9', '313', '63', '85', '82', '77', '6', '124', '58', '21', '0', '31', '62', '281', '20', '82', '19', '0', '343', '236', '26', '8', '13', '0', '5', '149', '0', '0', '98', '238', '62', '0', '77', '31', '12', '47', '5', '376', '49', '5', '251', '203', '78', '3', '42', '188', '169', '22', '0', '306', '285', '44', '213', '163', '71', '343', '194', '1', '140', '109', '297', '247', '43', '194', '171', '120', '105', '0', '56', '0', '9', '283', '157', '25', '60', '196', '270', '56', '0', '225', '284', '16', '8', '128', '90', '152', '185', '5', '2', '99', '106', '1', '36', '36', '197', '51', '51', '19', '6', '45', '206', '16', '219', '36', '249', '115', '25', '21', '333', '111', '6', '32', '64']\n",
      "193\n"
     ]
    }
   ],
   "source": [
    "'''\n",
    "PART 2:\n",
    "Isolate the beer_servings column in a list of integers called 'beers'\n",
    "Hint: you can use a list comprehension to do this in one line\n",
    "Expected output:\n",
    "    beers == [0, 89, ..., 32, 64]\n",
    "    len(beers) == 193\n",
    "'''\n",
    "\n",
    "beers = [row[1] for row in data]\n",
    "print beers \n",
    "print len(beers)"
   ]
  },
  {
   "cell_type": "code",
   "execution_count": 12,
   "metadata": {
    "collapsed": false
   },
   "outputs": [
    {
     "name": "stdout",
     "output_type": "stream",
     "text": [
      "[102.0, 122.0, 143.0, 263.0, 240.0, 149.0, 93.0, 52.0, 193.0, 52.0, 199.0, 53.0, 1.0, 69.0, 82.0, 238.0, 78.0, 285.0, 194.0, 171.0, 120.0, 197.0, 249.0]\n",
      "23\n",
      "[89.0, 245.0, 21.0, 279.0, 21.0, 142.0, 295.0, 76.0, 231.0, 230.0, 192.0, 361.0, 224.0, 224.0, 263.0, 127.0, 52.0, 346.0, 133.0, 234.0, 233.0, 313.0, 85.0, 281.0, 343.0, 236.0, 149.0, 0.0, 31.0, 251.0, 169.0, 343.0, 194.0, 109.0, 297.0, 0.0, 283.0, 196.0, 270.0, 284.0, 152.0, 185.0, 106.0, 206.0, 219.0]\n",
      "45\n"
     ]
    }
   ],
   "source": [
    "'''\n",
    "PART 3:\n",
    "Create separate lists of NA and EU beer servings: 'NA_beers', 'EU_beers'\n",
    "Hint: you can use a list comprehension with a condition\n",
    "Expected output:\n",
    "    NA_beers == [102, 122, ..., 197, 249]\n",
    "    len(NA_beers) == 23\n",
    "    EU_beers == [89, 245, ..., 206, 219]\n",
    "    len(EU_beers) == 45\n",
    "'''\n",
    "\n",
    "NA_beers = []\n",
    "EU_beers = []\n",
    "for row in data:\n",
    "    if row[5] == 'NA':\n",
    "        NA_beers.append(float(row[1]))\n",
    "    if row[5] == 'EU':\n",
    "        EU_beers.append(float(row[1]))\n",
    "print NA_beers\n",
    "print(len(NA_beers))\n",
    "print EU_beers\n",
    "print(len(EU_beers))"
   ]
  },
  {
   "cell_type": "code",
   "execution_count": 18,
   "metadata": {
    "collapsed": false
   },
   "outputs": [
    {
     "name": "stdout",
     "output_type": "stream",
     "text": [
      "145.43\n",
      "193.78\n"
     ]
    }
   ],
   "source": [
    "'''\n",
    "PART 4:\n",
    "Calculate the average NA and EU beer servings to 2 decimals: 'NA_avg', 'EU_avg'\n",
    "Hint: don't forget about data types!\n",
    "Expected output:\n",
    "    NA_avg == 145.43\n",
    "    EU_avg == 193.78\n",
    "'''\n",
    "\n",
    "NA_avg = round(sum(NA_beers) / len(NA_beers), 2)\n",
    "EU_avg = round(sum(EU_beers) / len(EU_beers), 2)\n",
    "print(NA_avg)\n",
    "print(EU_avg)"
   ]
  },
  {
   "cell_type": "code",
   "execution_count": 19,
   "metadata": {
    "collapsed": true
   },
   "outputs": [],
   "source": [
    "'''\n",
    "PART 5:\n",
    "Write a CSV file called 'avg_beer.csv' with two columns and three rows.\n",
    "The first row is the column headers: 'continent', 'avg_beer'\n",
    "The second and third rows contain the NA and EU values.\n",
    "Hint: think about what data structure will make this easy\n",
    "Expected output (in the actual file):\n",
    "    continent,avg_beer\n",
    "    NA,145.43\n",
    "    EU,193.78\n",
    "'''\n",
    "avg_beer = [['continent','avg_beer'], \n",
    "            ['NA',145.43], \n",
    "            ['EU',193.78]]\n",
    "with open('avg_beer.csv', 'wb') as csvfile:\n",
    "    spamwriter = csv.writer(csvfile, delimiter=',')\n",
    "    spamwriter.writerows(avg_beer)"
   ]
  },
  {
   "cell_type": "code",
   "execution_count": 23,
   "metadata": {
    "collapsed": false
   },
   "outputs": [],
   "source": [
    "'''\n",
    "Part 6:\n",
    "Use the requests module to pull in weather data for any city\n",
    "Hint: you can use Istanbul from the other code file but you can search\n",
    "for cities at http://openweathermap.org/find\n",
    "\n",
    "Create a dates list that stores the date of each datapoint as well as\n",
    "temperature and humidity\n",
    "\n",
    "You've already seen this code!\n",
    "'''\n",
    "\n",
    "import requests\n",
    "from datetime import datetime\n",
    "\n",
    "api_endpoint = 'http://api.openweathermap.org/data/2.5/forecast/city'\n",
    "params = {}\n",
    "params['id'] = '745044'\n",
    "params['units'] = 'metric'\n",
    "params['APPID'] = '1f0913cb0f8e335d998b9667f136e23f'\n",
    "req = requests.get(api_endpoint, params = params)\n",
    "data = req.json()\n",
    "weather_data = data['list']\n",
    "\n",
    "dates = [day['dt_txt'] for day in weather_data]\n",
    "dates2 = [datetime.strptime(day, \"%Y-%m-%d %H:%M:%S\") for day in dates]\n",
    "\n",
    "temps = [day['main']['temp'] for day in weather_data]\n",
    "\n",
    "humids = [day['main']['humidity'] for day in weather_data]"
   ]
  },
  {
   "cell_type": "code",
   "execution_count": 8,
   "metadata": {
    "collapsed": false
   },
   "outputs": [
    {
     "data": {
      "text/plain": [
       "[<matplotlib.lines.Line2D at 0xacc86a0>]"
      ]
     },
     "execution_count": 8,
     "metadata": {},
     "output_type": "execute_result"
    },
    {
     "data": {
      "image/png": "[encoded data removed]",
      "text/plain": [
       "<matplotlib.figure.Figure at 0x3ac7d68>"
      ]
     },
     "metadata": {},
     "output_type": "display_data"
    }
   ],
   "source": [
    "'''\n",
    "Part 7\n",
    "Create a list of the pressure measurements and plot it against dates\n",
    "'''\n",
    "import matplotlib.pyplot as plt\n",
    "%matplotlib inline\n",
    "\n",
    "press = [day['main']['pressure'] for day in weather_data]\n",
    "\n",
    "plt.plot(dates2, press)"
   ]
  },
  {
   "cell_type": "code",
   "execution_count": 9,
   "metadata": {
    "collapsed": false
   },
   "outputs": [
    {
     "data": {
      "text/plain": [
       "<matplotlib.collections.PathCollection at 0xb058e80>"
      ]
     },
     "execution_count": 9,
     "metadata": {},
     "output_type": "execute_result"
    },
    {
     "data": {
      "image/png": "[encoded data removed]",
      "text/plain": [
       "<matplotlib.figure.Figure at 0x3ac7c50>"
      ]
     },
     "metadata": {},
     "output_type": "display_data"
    }
   ],
   "source": [
    "'''\n",
    "Part 8\n",
    "Make a scatter plot plotting pressure against temperature and humidity\n",
    "'''\n",
    "\n",
    "plt.scatter(temps, humids)"
   ]
  },
  {
   "cell_type": "code",
   "execution_count": null,
   "metadata": {
    "collapsed": true
   },
   "outputs": [],
   "source": []
  }
 ],
 "metadata": {
  "kernelspec": {
   "display_name": "Python 2",
   "language": "python",
   "name": "python2"
  },
  "language_info": {
   "codemirror_mode": {
    "name": "ipython",
    "version": 2
   },
   "file_extension": ".py",
   "mimetype": "text/x-python",
   "name": "python",
   "nbconvert_exporter": "python",
   "pygments_lexer": "ipython2",
   "version": "2.7.11"
  }
 },
 "nbformat": 4,
 "nbformat_minor": 0
}
