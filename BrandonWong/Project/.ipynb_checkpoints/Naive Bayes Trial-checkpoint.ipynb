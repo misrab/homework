{
 "cells": [
  {
   "cell_type": "code",
   "execution_count": 87,
   "metadata": {
    "collapsed": true
   },
   "outputs": [],
   "source": [
    "import pandas as pd\n",
    "import numpy as np\n",
    "from sklearn.cross_validation import train_test_split\n",
    "pd.set_option('display.width', 500)\n",
    "pd.set_option('display.max_columns', 30)"
   ]
  },
  {
   "cell_type": "code",
   "execution_count": 88,
   "metadata": {
    "collapsed": true
   },
   "outputs": [],
   "source": [
    "# Not real training set, was playing around in csv file and added \"on_point\" column\n",
    "training_data = pd.read_csv(r\"C:\\Users\\Brandon\\Desktop\\Home_Depot_Data\\train_01.csv\", encoding=\"ISO-8859-1\")"
   ]
  },
  {
   "cell_type": "code",
   "execution_count": 89,
   "metadata": {
    "collapsed": false
   },
   "outputs": [
    {
     "data": {
      "text/plain": [
       "id                 int64\n",
       "product_uid        int64\n",
       "product_title     object\n",
       "search_term       object\n",
       "relevance        float64\n",
       "on_point          object\n",
       "dtype: object"
      ]
     },
     "execution_count": 89,
     "metadata": {},
     "output_type": "execute_result"
    }
   ],
   "source": [
    "training_data.dtypes"
   ]
  },
  {
   "cell_type": "code",
   "execution_count": 90,
   "metadata": {
    "collapsed": false
   },
   "outputs": [
    {
     "data": {
      "text/plain": [
       "{dtype('int64'): [u'id', u'product_uid'],\n",
       " dtype('float64'): [u'relevance'],\n",
       " dtype('O'): [u'product_title', u'search_term', u'on_point']}"
      ]
     },
     "execution_count": 90,
     "metadata": {},
     "output_type": "execute_result"
    }
   ],
   "source": [
    "g = training_data.columns.to_series().groupby(training_data.dtypes).groups\n",
    "g"
   ]
  },
  {
   "cell_type": "code",
   "execution_count": 91,
   "metadata": {
    "collapsed": false
   },
   "outputs": [
    {
     "data": {
      "text/html": [
       "<div>\n",
       "<table border=\"1\" class=\"dataframe\">\n",
       "  <thead>\n",
       "    <tr style=\"text-align: right;\">\n",
       "      <th></th>\n",
       "      <th>id</th>\n",
       "      <th>product_uid</th>\n",
       "      <th>product_title</th>\n",
       "      <th>search_term</th>\n",
       "      <th>relevance</th>\n",
       "      <th>on_point</th>\n",
       "    </tr>\n",
       "  </thead>\n",
       "  <tbody>\n",
       "    <tr>\n",
       "      <th>0</th>\n",
       "      <td>2</td>\n",
       "      <td>100001</td>\n",
       "      <td>Simpson Strong-Tie 12-Gauge Angle</td>\n",
       "      <td>angle bracket</td>\n",
       "      <td>3.00</td>\n",
       "      <td>yay</td>\n",
       "    </tr>\n",
       "    <tr>\n",
       "      <th>1</th>\n",
       "      <td>3</td>\n",
       "      <td>100001</td>\n",
       "      <td>Simpson Strong-Tie 12-Gauge Angle</td>\n",
       "      <td>l bracket</td>\n",
       "      <td>2.50</td>\n",
       "      <td>yay</td>\n",
       "    </tr>\n",
       "    <tr>\n",
       "      <th>2</th>\n",
       "      <td>9</td>\n",
       "      <td>100002</td>\n",
       "      <td>BEHR Premium Textured DeckOver 1-gal. #SC-141 ...</td>\n",
       "      <td>deck over</td>\n",
       "      <td>3.00</td>\n",
       "      <td>yay</td>\n",
       "    </tr>\n",
       "    <tr>\n",
       "      <th>3</th>\n",
       "      <td>16</td>\n",
       "      <td>100005</td>\n",
       "      <td>Delta Vero 1-Handle Shower Only Faucet Trim Ki...</td>\n",
       "      <td>rain shower head</td>\n",
       "      <td>2.33</td>\n",
       "      <td>nah</td>\n",
       "    </tr>\n",
       "    <tr>\n",
       "      <th>4</th>\n",
       "      <td>17</td>\n",
       "      <td>100005</td>\n",
       "      <td>Delta Vero 1-Handle Shower Only Faucet Trim Ki...</td>\n",
       "      <td>shower only faucet</td>\n",
       "      <td>2.67</td>\n",
       "      <td>yay</td>\n",
       "    </tr>\n",
       "    <tr>\n",
       "      <th>5</th>\n",
       "      <td>18</td>\n",
       "      <td>100006</td>\n",
       "      <td>Whirlpool 1.9 cu. ft. Over the Range Convectio...</td>\n",
       "      <td>convection otr</td>\n",
       "      <td>3.00</td>\n",
       "      <td>yay</td>\n",
       "    </tr>\n",
       "    <tr>\n",
       "      <th>6</th>\n",
       "      <td>20</td>\n",
       "      <td>100006</td>\n",
       "      <td>Whirlpool 1.9 cu. ft. Over the Range Convectio...</td>\n",
       "      <td>microwave over stove</td>\n",
       "      <td>2.67</td>\n",
       "      <td>yay</td>\n",
       "    </tr>\n",
       "    <tr>\n",
       "      <th>7</th>\n",
       "      <td>21</td>\n",
       "      <td>100006</td>\n",
       "      <td>Whirlpool 1.9 cu. ft. Over the Range Convectio...</td>\n",
       "      <td>microwaves</td>\n",
       "      <td>3.00</td>\n",
       "      <td>yay</td>\n",
       "    </tr>\n",
       "    <tr>\n",
       "      <th>8</th>\n",
       "      <td>23</td>\n",
       "      <td>100007</td>\n",
       "      <td>Lithonia Lighting Quantum 2-Light Black LED Em...</td>\n",
       "      <td>emergency light</td>\n",
       "      <td>2.67</td>\n",
       "      <td>yay</td>\n",
       "    </tr>\n",
       "    <tr>\n",
       "      <th>9</th>\n",
       "      <td>27</td>\n",
       "      <td>100009</td>\n",
       "      <td>House of Fara 3/4 in. x 3 in. x 8 ft. MDF Flut...</td>\n",
       "      <td>mdf 3/4</td>\n",
       "      <td>3.00</td>\n",
       "      <td>yay</td>\n",
       "    </tr>\n",
       "  </tbody>\n",
       "</table>\n",
       "</div>"
      ],
      "text/plain": [
       "   id  product_uid                                      product_title           search_term  relevance on_point\n",
       "0   2       100001                  Simpson Strong-Tie 12-Gauge Angle         angle bracket       3.00      yay\n",
       "1   3       100001                  Simpson Strong-Tie 12-Gauge Angle             l bracket       2.50      yay\n",
       "2   9       100002  BEHR Premium Textured DeckOver 1-gal. #SC-141 ...             deck over       3.00      yay\n",
       "3  16       100005  Delta Vero 1-Handle Shower Only Faucet Trim Ki...      rain shower head       2.33      nah\n",
       "4  17       100005  Delta Vero 1-Handle Shower Only Faucet Trim Ki...    shower only faucet       2.67      yay\n",
       "5  18       100006  Whirlpool 1.9 cu. ft. Over the Range Convectio...        convection otr       3.00      yay\n",
       "6  20       100006  Whirlpool 1.9 cu. ft. Over the Range Convectio...  microwave over stove       2.67      yay\n",
       "7  21       100006  Whirlpool 1.9 cu. ft. Over the Range Convectio...            microwaves       3.00      yay\n",
       "8  23       100007  Lithonia Lighting Quantum 2-Light Black LED Em...       emergency light       2.67      yay\n",
       "9  27       100009  House of Fara 3/4 in. x 3 in. x 8 ft. MDF Flut...               mdf 3/4       3.00      yay"
      ]
     },
     "execution_count": 91,
     "metadata": {},
     "output_type": "execute_result"
    }
   ],
   "source": [
    "training_data.head(10)"
   ]
  },
  {
   "cell_type": "code",
   "execution_count": 92,
   "metadata": {
    "collapsed": false
   },
   "outputs": [
    {
     "data": {
      "text/plain": [
       "u'deck over'"
      ]
     },
     "execution_count": 92,
     "metadata": {},
     "output_type": "execute_result"
    }
   ],
   "source": [
    "training_data.search_term[2]"
   ]
  },
  {
   "cell_type": "code",
   "execution_count": 93,
   "metadata": {
    "collapsed": true
   },
   "outputs": [],
   "source": [
    "from sklearn.feature_extraction.text import CountVectorizer"
   ]
  },
  {
   "cell_type": "code",
   "execution_count": 94,
   "metadata": {
    "collapsed": false
   },
   "outputs": [
    {
     "name": "stdout",
     "output_type": "stream",
     "text": [
      "  (0, 2897)\t1\n",
      "  (0, 4566)\t1\n",
      "  (0, 2901)\t1\n",
      "  (1, 4566)\t1\n",
      "  (2, 7514)\t1\n",
      "  (2, 17665)\t1\n",
      "  (2, 7533)\t1\n",
      "  (3, 19798)\t1\n",
      "  (3, 21965)\t1\n",
      "  (3, 12535)\t1\n",
      "  (3, 19811)\t1\n",
      "  (3, 21999)\t1\n",
      "  (4, 21965)\t1\n",
      "  (4, 17312)\t1\n",
      "  (4, 9640)\t1\n",
      "  (4, 22008)\t1\n",
      "  (4, 17314)\t1\n",
      "  (5, 6789)\t1\n",
      "  (5, 17438)\t1\n",
      "  (5, 6791)\t1\n",
      "  (6, 17665)\t1\n",
      "  (6, 16174)\t1\n",
      "  (6, 23600)\t1\n",
      "  (6, 16186)\t1\n",
      "  (6, 17678)\t1\n",
      "  :\t:\n",
      "  (74064, 12201)\t1\n",
      "  (74064, 15363)\t1\n",
      "  (74064, 21321)\t1\n",
      "  (74064, 8716)\t1\n",
      "  (74064, 14348)\t1\n",
      "  (74064, 21330)\t1\n",
      "  (74064, 22132)\t1\n",
      "  (74064, 15374)\t1\n",
      "  (74064, 22133)\t1\n",
      "  (74064, 12202)\t1\n",
      "  (74064, 8720)\t1\n",
      "  (74065, 11294)\t1\n",
      "  (74065, 7587)\t1\n",
      "  (74065, 27741)\t1\n",
      "  (74065, 27742)\t1\n",
      "  (74065, 11301)\t1\n",
      "  (74066, 7297)\t1\n",
      "  (74066, 13640)\t1\n",
      "  (74066, 21803)\t1\n",
      "  (74066, 9954)\t1\n",
      "  (74066, 1879)\t1\n",
      "  (74066, 9957)\t1\n",
      "  (74066, 21805)\t1\n",
      "  (74066, 7298)\t1\n",
      "  (74066, 1880)\t1\n"
     ]
    }
   ],
   "source": [
    "# Instantiate the vectorizer with n-grams of length one or two\n",
    "CountV = CountVectorizer(ngram_range=(1,2))\n",
    "\n",
    "# Vector where each row is bag-of-words for a single quote\n",
    "X = CountV.fit_transform(training_data.search_term)\n",
    "print X"
   ]
  },
  {
   "cell_type": "code",
   "execution_count": 95,
   "metadata": {
    "collapsed": false
   },
   "outputs": [
    {
     "name": "stdout",
     "output_type": "stream",
     "text": [
      "[1 1 1 ..., 0 1 0]\n"
     ]
    }
   ],
   "source": [
    "# Create an array where each element encodes whether the array is Relevant or Not\n",
    "Y = (training_data.on_point == 'yay').values.astype(np.int)\n",
    "print Y"
   ]
  },
  {
   "cell_type": "code",
   "execution_count": 96,
   "metadata": {
    "collapsed": true
   },
   "outputs": [],
   "source": [
    "from sklearn.cross_validation import train_test_split\n",
    "xtrain, xtest, ytrain, ytest = train_test_split(X, Y)"
   ]
  },
  {
   "cell_type": "code",
   "execution_count": 97,
   "metadata": {
    "collapsed": true
   },
   "outputs": [],
   "source": [
    "# vector of all quotes\n",
    "yay_CV = CountV.fit(training_data.search_term)\n",
    "\n",
    "# a few helper functions\n",
    "def accuracy_report(_clf):\n",
    "    print \"Accuracy: %0.2f%%\" % (100 * _clf.score(xtest, ytest))\n",
    "\n",
    "    #Print the accuracy on the test and training dataset\n",
    "    training_accuracy = _clf.score(xtrain, ytrain)\n",
    "    test_accuracy = _clf.score(xtest, ytest)\n",
    "\n",
    "    print \"Accuracy on training data: %0.2f\" % (training_accuracy)\n",
    "    \n",
    "# a function to run some tests\n",
    "def AnalyzeReview(testquote, _clf):\n",
    "    print \"\\\"\"  + testquote + \"\\\" is judged by clasifier to be...\"\n",
    "    testquote = yay_CV.transform([testquote])\n",
    "\n",
    "    if (_clf.predict(testquote)[0] == 1):\n",
    "        print \"... on point.\"\n",
    "    else:\n",
    "        print \"... not on point.\"\n",
    "    return(_clf.predict(testquote)[0])"
   ]
  },
  {
   "cell_type": "code",
   "execution_count": 98,
   "metadata": {
    "collapsed": false
   },
   "outputs": [
    {
     "name": "stdout",
     "output_type": "stream",
     "text": [
      "MultinomialNB\n",
      "Accuracy: 66.54%\n",
      "Accuracy on training data: 0.75\n"
     ]
    }
   ],
   "source": [
    "# Multinomial NB and accuracy report\n",
    "\n",
    "from sklearn.naive_bayes import MultinomialNB\n",
    "\n",
    "print \"MultinomialNB\"\n",
    "clf_mn = MultinomialNB().fit(xtrain, ytrain)\n",
    "accuracy_report(clf_mn)"
   ]
  },
  {
   "cell_type": "code",
   "execution_count": 99,
   "metadata": {
    "collapsed": false
   },
   "outputs": [
    {
     "name": "stdout",
     "output_type": "stream",
     "text": [
      "BernoulliNB\n",
      "Accuracy: 66.50%\n",
      "Accuracy on training data: 0.75\n"
     ]
    }
   ],
   "source": [
    "# Bernoulli NB and accuracy report\n",
    "\n",
    "from sklearn.naive_bayes import BernoulliNB\n",
    "print \"BernoulliNB\"\n",
    "clf_bern = BernoulliNB().fit(xtrain, ytrain)\n",
    "accuracy_report(clf_bern)"
   ]
  },
  {
   "cell_type": "code",
   "execution_count": 101,
   "metadata": {
    "collapsed": false
   },
   "outputs": [
    {
     "name": "stdout",
     "output_type": "stream",
     "text": [
      "Logistic Regression\n",
      "Accuracy: 68.09%\n",
      "Accuracy on training data: 0.77\n"
     ]
    }
   ],
   "source": [
    "# Logistic Regression for comparison\n",
    "\n",
    "from sklearn.linear_model import LogisticRegression\n",
    "print \"Logistic Regression\"\n",
    "clf_lr = LogisticRegression().fit(xtrain, ytrain)\n",
    "accuracy_report(clf_lr)"
   ]
  },
  {
   "cell_type": "code",
   "execution_count": 103,
   "metadata": {
    "collapsed": false
   },
   "outputs": [
    {
     "name": "stdout",
     "output_type": "stream",
     "text": [
      "\"microwaves\" is judged by clasifier to be...\n",
      "... on point.\n",
      "\"microwaves\" is judged by clasifier to be...\n",
      "... on point.\n",
      "\"rain shower head\" is judged by clasifier to be...\n",
      "... on point.\n"
     ]
    },
    {
     "data": {
      "text/plain": [
       "1"
      ]
     },
     "execution_count": 103,
     "metadata": {},
     "output_type": "execute_result"
    }
   ],
   "source": [
    "AnalyzeReview(\"microwaves\", clf_mn)\n",
    "AnalyzeReview(\"microwaves\", clf_bern)\n",
    "AnalyzeReview(\"rain shower head\", clf_lr)"
   ]
  },
  {
   "cell_type": "code",
   "execution_count": null,
   "metadata": {
    "collapsed": true
   },
   "outputs": [],
   "source": []
  }
 ],
 "metadata": {
  "kernelspec": {
   "display_name": "Python 2",
   "language": "python",
   "name": "python2"
  },
  "language_info": {
   "codemirror_mode": {
    "name": "ipython",
    "version": 2
   },
   "file_extension": ".py",
   "mimetype": "text/x-python",
   "name": "python",
   "nbconvert_exporter": "python",
   "pygments_lexer": "ipython2",
   "version": "2.7.11"
  }
 },
 "nbformat": 4,
 "nbformat_minor": 0
}
