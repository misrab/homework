{
 "cells": [
  {
   "cell_type": "markdown",
   "metadata": {},
   "source": [
    "## K-Nearest Neighbors Lab"
   ]
  },
  {
   "cell_type": "markdown",
   "metadata": {},
   "source": [
    "### Setup"
   ]
  },
  {
   "cell_type": "code",
   "execution_count": 1,
   "metadata": {
    "collapsed": true
   },
   "outputs": [],
   "source": [
    "import pandas as pd\n",
    "import numpy as np\n",
    "from datetime import datetime"
   ]
  },
  {
   "cell_type": "markdown",
   "metadata": {},
   "source": [
    "**Question** Do you recall how the euclidean distance between two points is calculated? Type in your answer below, and remember to convert it to Markdown."
   ]
  },
  {
   "cell_type": "markdown",
   "metadata": {
    "collapsed": true
   },
   "source": [
    "It's the 'straight line' distance between the points.\n",
    "i.e., the Euclidean distance between p and q, in n-dimensional space, is:\n",
    "$$d(p,q) = \\sqrt{(p_1-q_1)^2+(p_2-q_2)^2+...+(p_n-q_n)^2}$$"
   ]
  },
  {
   "cell_type": "markdown",
   "metadata": {},
   "source": [
    "We will need a euclidean_distance_algorithm that takes in two numpy arrays, and calculates the euclidean distance between them."
   ]
  },
  {
   "cell_type": "code",
   "execution_count": 2,
   "metadata": {
    "collapsed": true
   },
   "outputs": [],
   "source": [
    "def euclidean_distance(np1, np2):\n",
    "    return np.linalg.norm(np1-np2)\n",
    "    # Hint: Use a Numpy Linear Algebra function, keeping in mind the synonym for Euclidean distance"
   ]
  },
  {
   "cell_type": "markdown",
   "metadata": {},
   "source": [
    "Bring in the iris data from the web\n",
    "\n",
    "iris_data == 2D numpy array of the four predictors of iris plus the species"
   ]
  },
  {
   "cell_type": "code",
   "execution_count": 40,
   "metadata": {
    "collapsed": true
   },
   "outputs": [],
   "source": [
    "iris_data = pd.read_csv('https://raw.githubusercontent.com/misrab/SG_DAT1/master/data/iris.csv')"
   ]
  },
  {
   "cell_type": "markdown",
   "metadata": {},
   "source": [
    "iris_data is a dataframe, but let's turn it into a 2D numpy array\n",
    "\n",
    "Hint: use .values to turn a dataframe into a 2d array"
   ]
  },
  {
   "cell_type": "code",
   "execution_count": 41,
   "metadata": {
    "collapsed": false
   },
   "outputs": [],
   "source": [
    "iris_data['species_num'] = iris_data.species.map({'Iris-setosa':0, 'Iris-versicolor':1, 'Iris-virginica':2})\n",
    "\n",
    "iris_data = iris_data.drop(['species'],axis = 1)\n",
    "iris_data = iris_data.values"
   ]
  },
  {
   "cell_type": "markdown",
   "metadata": {},
   "source": [
    "**Question** In terms of machine learning:\n",
    "1. What would the first four columns be called?\n",
    "2. What would the species column be called?"
   ]
  },
  {
   "cell_type": "markdown",
   "metadata": {
    "collapsed": true
   },
   "source": [
    "The first 4 columns are the 'features'."
   ]
  },
  {
   "cell_type": "markdown",
   "metadata": {
    "collapsed": true
   },
   "source": [
    "The species column is the 'response'"
   ]
  },
  {
   "cell_type": "markdown",
   "metadata": {},
   "source": [
    "Let's take a peek at the data, before we move further."
   ]
  },
  {
   "cell_type": "code",
   "execution_count": 42,
   "metadata": {
    "collapsed": false
   },
   "outputs": [
    {
     "data": {
      "text/plain": [
       "array([[ 5.1,  3.5,  1.4,  0.2,  0. ],\n",
       "       [ 4.9,  3. ,  1.4,  0.2,  0. ],\n",
       "       [ 4.7,  3.2,  1.3,  0.2,  0. ],\n",
       "       [ 4.6,  3.1,  1.5,  0.2,  0. ],\n",
       "       [ 5. ,  3.6,  1.4,  0.2,  0. ],\n",
       "       [ 5.4,  3.9,  1.7,  0.4,  0. ],\n",
       "       [ 4.6,  3.4,  1.4,  0.3,  0. ],\n",
       "       [ 5. ,  3.4,  1.5,  0.2,  0. ],\n",
       "       [ 4.4,  2.9,  1.4,  0.2,  0. ],\n",
       "       [ 4.9,  3.1,  1.5,  0.1,  0. ],\n",
       "       [ 5.4,  3.7,  1.5,  0.2,  0. ],\n",
       "       [ 4.8,  3.4,  1.6,  0.2,  0. ],\n",
       "       [ 4.8,  3. ,  1.4,  0.1,  0. ],\n",
       "       [ 4.3,  3. ,  1.1,  0.1,  0. ],\n",
       "       [ 5.8,  4. ,  1.2,  0.2,  0. ],\n",
       "       [ 5.7,  4.4,  1.5,  0.4,  0. ],\n",
       "       [ 5.4,  3.9,  1.3,  0.4,  0. ],\n",
       "       [ 5.1,  3.5,  1.4,  0.3,  0. ],\n",
       "       [ 5.7,  3.8,  1.7,  0.3,  0. ],\n",
       "       [ 5.1,  3.8,  1.5,  0.3,  0. ],\n",
       "       [ 5.4,  3.4,  1.7,  0.2,  0. ],\n",
       "       [ 5.1,  3.7,  1.5,  0.4,  0. ],\n",
       "       [ 4.6,  3.6,  1. ,  0.2,  0. ],\n",
       "       [ 5.1,  3.3,  1.7,  0.5,  0. ],\n",
       "       [ 4.8,  3.4,  1.9,  0.2,  0. ],\n",
       "       [ 5. ,  3. ,  1.6,  0.2,  0. ],\n",
       "       [ 5. ,  3.4,  1.6,  0.4,  0. ],\n",
       "       [ 5.2,  3.5,  1.5,  0.2,  0. ],\n",
       "       [ 5.2,  3.4,  1.4,  0.2,  0. ],\n",
       "       [ 4.7,  3.2,  1.6,  0.2,  0. ],\n",
       "       [ 4.8,  3.1,  1.6,  0.2,  0. ],\n",
       "       [ 5.4,  3.4,  1.5,  0.4,  0. ],\n",
       "       [ 5.2,  4.1,  1.5,  0.1,  0. ],\n",
       "       [ 5.5,  4.2,  1.4,  0.2,  0. ],\n",
       "       [ 4.9,  3.1,  1.5,  0.1,  0. ],\n",
       "       [ 5. ,  3.2,  1.2,  0.2,  0. ],\n",
       "       [ 5.5,  3.5,  1.3,  0.2,  0. ],\n",
       "       [ 4.9,  3.1,  1.5,  0.1,  0. ],\n",
       "       [ 4.4,  3. ,  1.3,  0.2,  0. ],\n",
       "       [ 5.1,  3.4,  1.5,  0.2,  0. ],\n",
       "       [ 5. ,  3.5,  1.3,  0.3,  0. ],\n",
       "       [ 4.5,  2.3,  1.3,  0.3,  0. ],\n",
       "       [ 4.4,  3.2,  1.3,  0.2,  0. ],\n",
       "       [ 5. ,  3.5,  1.6,  0.6,  0. ],\n",
       "       [ 5.1,  3.8,  1.9,  0.4,  0. ],\n",
       "       [ 4.8,  3. ,  1.4,  0.3,  0. ],\n",
       "       [ 5.1,  3.8,  1.6,  0.2,  0. ],\n",
       "       [ 4.6,  3.2,  1.4,  0.2,  0. ],\n",
       "       [ 5.3,  3.7,  1.5,  0.2,  0. ],\n",
       "       [ 5. ,  3.3,  1.4,  0.2,  0. ],\n",
       "       [ 7. ,  3.2,  4.7,  1.4,  1. ],\n",
       "       [ 6.4,  3.2,  4.5,  1.5,  1. ],\n",
       "       [ 6.9,  3.1,  4.9,  1.5,  1. ],\n",
       "       [ 5.5,  2.3,  4. ,  1.3,  1. ],\n",
       "       [ 6.5,  2.8,  4.6,  1.5,  1. ],\n",
       "       [ 5.7,  2.8,  4.5,  1.3,  1. ],\n",
       "       [ 6.3,  3.3,  4.7,  1.6,  1. ],\n",
       "       [ 4.9,  2.4,  3.3,  1. ,  1. ],\n",
       "       [ 6.6,  2.9,  4.6,  1.3,  1. ],\n",
       "       [ 5.2,  2.7,  3.9,  1.4,  1. ],\n",
       "       [ 5. ,  2. ,  3.5,  1. ,  1. ],\n",
       "       [ 5.9,  3. ,  4.2,  1.5,  1. ],\n",
       "       [ 6. ,  2.2,  4. ,  1. ,  1. ],\n",
       "       [ 6.1,  2.9,  4.7,  1.4,  1. ],\n",
       "       [ 5.6,  2.9,  3.6,  1.3,  1. ],\n",
       "       [ 6.7,  3.1,  4.4,  1.4,  1. ],\n",
       "       [ 5.6,  3. ,  4.5,  1.5,  1. ],\n",
       "       [ 5.8,  2.7,  4.1,  1. ,  1. ],\n",
       "       [ 6.2,  2.2,  4.5,  1.5,  1. ],\n",
       "       [ 5.6,  2.5,  3.9,  1.1,  1. ],\n",
       "       [ 5.9,  3.2,  4.8,  1.8,  1. ],\n",
       "       [ 6.1,  2.8,  4. ,  1.3,  1. ],\n",
       "       [ 6.3,  2.5,  4.9,  1.5,  1. ],\n",
       "       [ 6.1,  2.8,  4.7,  1.2,  1. ],\n",
       "       [ 6.4,  2.9,  4.3,  1.3,  1. ],\n",
       "       [ 6.6,  3. ,  4.4,  1.4,  1. ],\n",
       "       [ 6.8,  2.8,  4.8,  1.4,  1. ],\n",
       "       [ 6.7,  3. ,  5. ,  1.7,  1. ],\n",
       "       [ 6. ,  2.9,  4.5,  1.5,  1. ],\n",
       "       [ 5.7,  2.6,  3.5,  1. ,  1. ],\n",
       "       [ 5.5,  2.4,  3.8,  1.1,  1. ],\n",
       "       [ 5.5,  2.4,  3.7,  1. ,  1. ],\n",
       "       [ 5.8,  2.7,  3.9,  1.2,  1. ],\n",
       "       [ 6. ,  2.7,  5.1,  1.6,  1. ],\n",
       "       [ 5.4,  3. ,  4.5,  1.5,  1. ],\n",
       "       [ 6. ,  3.4,  4.5,  1.6,  1. ],\n",
       "       [ 6.7,  3.1,  4.7,  1.5,  1. ],\n",
       "       [ 6.3,  2.3,  4.4,  1.3,  1. ],\n",
       "       [ 5.6,  3. ,  4.1,  1.3,  1. ],\n",
       "       [ 5.5,  2.5,  4. ,  1.3,  1. ],\n",
       "       [ 5.5,  2.6,  4.4,  1.2,  1. ],\n",
       "       [ 6.1,  3. ,  4.6,  1.4,  1. ],\n",
       "       [ 5.8,  2.6,  4. ,  1.2,  1. ],\n",
       "       [ 5. ,  2.3,  3.3,  1. ,  1. ],\n",
       "       [ 5.6,  2.7,  4.2,  1.3,  1. ],\n",
       "       [ 5.7,  3. ,  4.2,  1.2,  1. ],\n",
       "       [ 5.7,  2.9,  4.2,  1.3,  1. ],\n",
       "       [ 6.2,  2.9,  4.3,  1.3,  1. ],\n",
       "       [ 5.1,  2.5,  3. ,  1.1,  1. ],\n",
       "       [ 5.7,  2.8,  4.1,  1.3,  1. ],\n",
       "       [ 6.3,  3.3,  6. ,  2.5,  2. ],\n",
       "       [ 5.8,  2.7,  5.1,  1.9,  2. ],\n",
       "       [ 7.1,  3. ,  5.9,  2.1,  2. ],\n",
       "       [ 6.3,  2.9,  5.6,  1.8,  2. ],\n",
       "       [ 6.5,  3. ,  5.8,  2.2,  2. ],\n",
       "       [ 7.6,  3. ,  6.6,  2.1,  2. ],\n",
       "       [ 4.9,  2.5,  4.5,  1.7,  2. ],\n",
       "       [ 7.3,  2.9,  6.3,  1.8,  2. ],\n",
       "       [ 6.7,  2.5,  5.8,  1.8,  2. ],\n",
       "       [ 7.2,  3.6,  6.1,  2.5,  2. ],\n",
       "       [ 6.5,  3.2,  5.1,  2. ,  2. ],\n",
       "       [ 6.4,  2.7,  5.3,  1.9,  2. ],\n",
       "       [ 6.8,  3. ,  5.5,  2.1,  2. ],\n",
       "       [ 5.7,  2.5,  5. ,  2. ,  2. ],\n",
       "       [ 5.8,  2.8,  5.1,  2.4,  2. ],\n",
       "       [ 6.4,  3.2,  5.3,  2.3,  2. ],\n",
       "       [ 6.5,  3. ,  5.5,  1.8,  2. ],\n",
       "       [ 7.7,  3.8,  6.7,  2.2,  2. ],\n",
       "       [ 7.7,  2.6,  6.9,  2.3,  2. ],\n",
       "       [ 6. ,  2.2,  5. ,  1.5,  2. ],\n",
       "       [ 6.9,  3.2,  5.7,  2.3,  2. ],\n",
       "       [ 5.6,  2.8,  4.9,  2. ,  2. ],\n",
       "       [ 7.7,  2.8,  6.7,  2. ,  2. ],\n",
       "       [ 6.3,  2.7,  4.9,  1.8,  2. ],\n",
       "       [ 6.7,  3.3,  5.7,  2.1,  2. ],\n",
       "       [ 7.2,  3.2,  6. ,  1.8,  2. ],\n",
       "       [ 6.2,  2.8,  4.8,  1.8,  2. ],\n",
       "       [ 6.1,  3. ,  4.9,  1.8,  2. ],\n",
       "       [ 6.4,  2.8,  5.6,  2.1,  2. ],\n",
       "       [ 7.2,  3. ,  5.8,  1.6,  2. ],\n",
       "       [ 7.4,  2.8,  6.1,  1.9,  2. ],\n",
       "       [ 7.9,  3.8,  6.4,  2. ,  2. ],\n",
       "       [ 6.4,  2.8,  5.6,  2.2,  2. ],\n",
       "       [ 6.3,  2.8,  5.1,  1.5,  2. ],\n",
       "       [ 6.1,  2.6,  5.6,  1.4,  2. ],\n",
       "       [ 7.7,  3. ,  6.1,  2.3,  2. ],\n",
       "       [ 6.3,  3.4,  5.6,  2.4,  2. ],\n",
       "       [ 6.4,  3.1,  5.5,  1.8,  2. ],\n",
       "       [ 6. ,  3. ,  4.8,  1.8,  2. ],\n",
       "       [ 6.9,  3.1,  5.4,  2.1,  2. ],\n",
       "       [ 6.7,  3.1,  5.6,  2.4,  2. ],\n",
       "       [ 6.9,  3.1,  5.1,  2.3,  2. ],\n",
       "       [ 5.8,  2.7,  5.1,  1.9,  2. ],\n",
       "       [ 6.8,  3.2,  5.9,  2.3,  2. ],\n",
       "       [ 6.7,  3.3,  5.7,  2.5,  2. ],\n",
       "       [ 6.7,  3. ,  5.2,  2.3,  2. ],\n",
       "       [ 6.3,  2.5,  5. ,  1.9,  2. ],\n",
       "       [ 6.5,  3. ,  5.2,  2. ,  2. ],\n",
       "       [ 6.2,  3.4,  5.4,  2.3,  2. ],\n",
       "       [ 5.9,  3. ,  5.1,  1.8,  2. ]])"
      ]
     },
     "execution_count": 42,
     "metadata": {},
     "output_type": "execute_result"
    }
   ],
   "source": [
    "iris_data"
   ]
  },
  {
   "cell_type": "markdown",
   "metadata": {},
   "source": [
    "### Predictions"
   ]
  },
  {
   "cell_type": "markdown",
   "metadata": {},
   "source": [
    "Before we jump into making a general function, let's try to predict an unknown speciment with the values [ 6.3,  3.1 ,  5.1,  2.4], looking at k=3 neighbours\n",
    "\n",
    "Let's define the variables first."
   ]
  },
  {
   "cell_type": "code",
   "execution_count": 85,
   "metadata": {
    "collapsed": true
   },
   "outputs": [],
   "source": [
    "unknown = [ 6.3,  3.1 ,  5.1,  2.4]\n",
    "k = 3"
   ]
  },
  {
   "cell_type": "markdown",
   "metadata": {},
   "source": [
    "Make a list of \"distances\" consisting of tuples. Each tuple should be (euc_distance(unknown, data_point), species) for each data_point in iris_data.\n",
    "\n",
    "Hints: Loop through the rows. Eyeball through the data. The data points in each case are in the range 4 elements from the left in each row, or equivalently before the last elements in each row. The species is always the last element in each row.\n",
    "\n",
    "If you'd like, you can also loop through the rows, and append the calculations to an array.\n",
    "\n",
    "As you can see, there are multiple ways to do this, so pick whichever suits you best!"
   ]
  },
  {
   "cell_type": "code",
   "execution_count": 86,
   "metadata": {
    "collapsed": false
   },
   "outputs": [],
   "source": [
    "distances = [(euclidean_distance(unknown, data_point[:4]),data_point[4]) for data_point in iris_data]"
   ]
  },
  {
   "cell_type": "code",
   "execution_count": 87,
   "metadata": {
    "collapsed": false
   },
   "outputs": [
    {
     "data": {
      "text/plain": [
       "[(4.4866468548349108, 0.0),\n",
       " (4.5276925690687078, 0.0),\n",
       " (4.6743983570080969, 0.0),\n",
       " (4.5486261662176632, 0.0),\n",
       " (4.524378410345447, 0.0),\n",
       " (4.1243181254602552, 0.0),\n",
       " (4.591296113299598, 0.0),\n",
       " (4.4249293779675165, 0.0),\n",
       " (4.7095647357266461, 0.0),\n",
       " (4.495553358597804, 0.0),\n",
       " (4.3554563480765127, 0.0),\n",
       " (4.4079473681068375, 0.0),\n",
       " (4.608687448721164, 0.0),\n",
       " (5.0299105359837162, 0.0),\n",
       " (4.5945620030640564, 0.0),\n",
       " (4.3600458713183281, 0.0),\n",
       " (4.4598206241955509, 0.0),\n",
       " (4.4384682042344297, 0.0),\n",
       " (4.1012193308819755, 0.0),\n",
       " (4.3931765272977588, 0.0),\n",
       " (4.1593268686170832, 0.0),\n",
       " (4.3312815655415431, 0.0),\n",
       " (4.9789557138018408, 0.0),\n",
       " (4.0804411526206321, 0.0),\n",
       " (4.1737273509418413, 0.0),\n",
       " (4.3347433603386483, 0.0),\n",
       " (4.246174749112428, 0.0),\n",
       " (4.3783558557979267, 0.0),\n",
       " (4.4530888156424631, 0.0),\n",
       " (4.4339598554790722, 0.0),\n",
       " (4.3977266854592036, 0.0),\n",
       " (4.2261093218230874, 0.0),\n",
       " (4.5232731511594562, 0.0),\n",
       " (4.5144213361182839, 0.0),\n",
       " (4.495553358597804, 0.0),\n",
       " (4.6636895265444069, 0.0),\n",
       " (4.4810713004816156, 0.0),\n",
       " (4.495553358597804, 0.0),\n",
       " (4.7853944456021589, 0.0),\n",
       " (4.3965895873961216, 0.0),\n",
       " (4.5497252664309302, 0.0),\n",
       " (4.7675989764240869, 0.0),\n",
       " (4.7853944456021589, 0.0),\n",
       " (4.1641325627314023, 0.0),\n",
       " (4.0211938525766202, 0.0),\n",
       " (4.512205669071391, 0.0),\n",
       " (4.361192497471305, 0.0),\n",
       " (4.6292547996410818, 0.0),\n",
       " (4.3772137256478576, 0.0),\n",
       " (4.5011109739707598, 0.0),\n",
       " (1.2884098726725126, 1.0),\n",
       " (1.0908712114635712, 1.0),\n",
       " (1.1000000000000001, 1.0),\n",
       " (1.9235384061671343, 1.0),\n",
       " (1.0908712114635715, 1.0),\n",
       " (1.4212670403551892, 1.0),\n",
       " (0.91651513899116754, 1.0),\n",
       " (2.7658633371878656, 1.0),\n",
       " (1.260952021291849, 1.0),\n",
       " (1.9519221295943132, 1.0),\n",
       " (2.7239676943752467, 1.0),\n",
       " (1.3379088160259647, 1.0),\n",
       " (2.017424100183201, 1.0),\n",
       " (1.1135528725660042, 1.0),\n",
       " (1.9974984355438175, 1.0),\n",
       " (1.2845232578665127, 1.0),\n",
       " (1.2922847983320085, 1.0),\n",
       " (1.8357559750685819, 1.0),\n",
       " (1.4106735979665883, 1.0),\n",
       " (1.9949937343260002, 1.0),\n",
       " (0.78740078740118069, 1.0),\n",
       " (1.5968719422671309, 1.0),\n",
       " (1.0999999999999999, 1.0),\n",
       " (1.3152946437965904, 1.0),\n",
       " (1.3784048752090219, 1.0),\n",
       " (1.2609520212918488, 1.0),\n",
       " (1.1958260743101399, 1.0),\n",
       " (0.81853527718724506, 1.0),\n",
       " (1.1401754250991376, 1.0),\n",
       " (2.2649503305812244, 1.0),\n",
       " (2.1236760581595298, 1.0),\n",
       " (2.2472205054244228, 1.0),\n",
       " (1.8138357147217052, 1.0),\n",
       " (0.94339811320566014, 1.0),\n",
       " (1.4106735979665879, 1.0),\n",
       " (1.0862780491200212, 1.0),\n",
       " (1.0630145812734648, 1.0),\n",
       " (1.5297058540778352, 1.0),\n",
       " (1.6462077633154328, 1.0),\n",
       " (1.8493242008906927, 1.0),\n",
       " (1.6792855623746661, 1.0),\n",
       " (1.1401754250991381, 1.0),\n",
       " (1.7748239349298847, 1.0),\n",
       " (2.7440845468024486, 1.0),\n",
       " (1.6340134638368189, 1.0),\n",
       " (1.618641405623864, 1.0),\n",
       " (1.5556349186104039, 1.0),\n",
       " (1.3784048752090219, 1.0),\n",
       " (2.8106938645110389, 1.0),\n",
       " (1.6309506430300089, 1.0),\n",
       " (0.92736184954957068, 2.0),\n",
       " (0.81240384046359604, 2.0),\n",
       " (1.1747340124470733, 2.0),\n",
       " (0.80622577482985491, 2.0),\n",
       " (0.761577310586391, 2.0),\n",
       " (2.0099751242241779, 2.0),\n",
       " (1.780449381476485, 2.0),\n",
       " (1.6852299546352718, 2.0),\n",
       " (1.1704699910719627, 2.0),\n",
       " (1.438749456993816, 2.0),\n",
       " (0.45825756949558399, 2.0),\n",
       " (0.67823299831252692, 2.0),\n",
       " (0.7141428428542852, 2.0),\n",
       " (0.94339811320566014, 2.0),\n",
       " (0.58309518948453021, 2.0),\n",
       " (0.26457513110645947, 2.0),\n",
       " (0.75498344352707514, 2.0),\n",
       " (2.2472205054244236, 2.0),\n",
       " (2.3366642891095855, 2.0),\n",
       " (1.3114877048603999, 2.0),\n",
       " (0.86023252670426342, 2.0),\n",
       " (0.8831760866327848, 2.0),\n",
       " (2.184032966784156, 2.0),\n",
       " (0.74833147735478789, 2.0),\n",
       " (0.80622577482985536, 2.0),\n",
       " (1.4106735979665888, 2.0),\n",
       " (0.74161984870956621, 2.0),\n",
       " (0.67082039324993659, 2.0),\n",
       " (0.66332495807108005, 2.0),\n",
       " (1.3964240043768943, 2.0),\n",
       " (1.5968719422671316, 2.0),\n",
       " (2.2135943621178664, 2.0),\n",
       " (0.62449979983983994, 2.0),\n",
       " (0.94868329805051377, 2.0),\n",
       " (1.2409673645990857, 2.0),\n",
       " (1.726267650163207, 2.0),\n",
       " (0.58309518948452999, 2.0),\n",
       " (0.72801098892805205, 2.0),\n",
       " (0.74161984870956599, 2.0),\n",
       " (0.73484692283495401, 2.0),\n",
       " (0.64031242374328512, 2.0),\n",
       " (0.60827625302982247, 2.0),\n",
       " (0.81240384046359604, 2.0),\n",
       " (0.95393920141694621, 2.0),\n",
       " (0.75498344352707547, 2.0),\n",
       " (0.43588989435406783, 2.0),\n",
       " (0.78740078740118113, 2.0),\n",
       " (0.46904157598234308, 2.0),\n",
       " (0.44721359549995826, 2.0),\n",
       " (0.72801098892805138, 2.0)]"
      ]
     },
     "execution_count": 87,
     "metadata": {},
     "output_type": "execute_result"
    }
   ],
   "source": [
    "distances"
   ]
  },
  {
   "cell_type": "markdown",
   "metadata": {},
   "source": [
    "Grab the nearest k neighbours.\n",
    "\n",
    "Hint: Sort the distances (ascending), and then only consider the 'k' lowest distances (recall that k=3 in this case)."
   ]
  },
  {
   "cell_type": "code",
   "execution_count": 90,
   "metadata": {
    "collapsed": false
   },
   "outputs": [
    {
     "data": {
      "text/plain": [
       "[(0.26457513110645947, 2.0),\n",
       " (0.43588989435406783, 2.0),\n",
       " (0.44721359549995826, 2.0)]"
      ]
     },
     "execution_count": 90,
     "metadata": {},
     "output_type": "execute_result"
    }
   ],
   "source": [
    "nearest = sorted(distances, key=lambda x: x[0], reverse=False)[:3]\n",
    "nearest"
   ]
  },
  {
   "cell_type": "markdown",
   "metadata": {},
   "source": [
    "Now we need to take the most frequently occuring flower in those k neighbors.\n",
    "\n",
    "To do this, we will use the collections module. Give a list 'l', the following code will spit back the mode:"
   ]
  },
  {
   "cell_type": "code",
   "execution_count": 91,
   "metadata": {
    "collapsed": false
   },
   "outputs": [
    {
     "data": {
      "text/plain": [
       "2"
      ]
     },
     "execution_count": 91,
     "metadata": {},
     "output_type": "execute_result"
    }
   ],
   "source": [
    "from collections import Counter\n",
    "l = [1,2,3,4,3,2,2,5,8,2,2,2,5,9,2,2,5,5,3,2]\n",
    "Counter(l).most_common(1)[0][0] # == 2"
   ]
  },
  {
   "cell_type": "markdown",
   "metadata": {},
   "source": [
    "Use it to find the most frequent occuring flower in the nearest neighbours (the 'nearest' array).\n",
    "\n",
    "Note that the species is in the 1th index now (it was in the 4th index in iris_data).\n",
    "\n",
    "Hint: Loop through all the elements in 'nearest', and find the mode."
   ]
  },
  {
   "cell_type": "code",
   "execution_count": 92,
   "metadata": {
    "collapsed": false
   },
   "outputs": [
    {
     "data": {
      "text/plain": [
       "2.0"
      ]
     },
     "execution_count": 92,
     "metadata": {},
     "output_type": "execute_result"
    }
   ],
   "source": [
    "prediction = Counter([x[1] for x in nearest]).most_common(1)[0][0]\n",
    "prediction"
   ]
  },
  {
   "cell_type": "markdown",
   "metadata": {},
   "source": [
    "Time to put it in a function so we can apply the prediction to each row in our data set!\n",
    "\n",
    "Hint: Combine all that we've done so far."
   ]
  },
  {
   "cell_type": "code",
   "execution_count": 93,
   "metadata": {
    "collapsed": true
   },
   "outputs": [],
   "source": [
    "def predict(unknown, k = 3):\n",
    "    '''\n",
    "    Input:\n",
    "        unknown  == four attributes of an unknown flower\n",
    "        k        == the number of neighbors used\n",
    "    Output:\n",
    "        A prediction of the species of flower (str)\n",
    "    '''\n",
    "    distances = [(euclidean_distance(unknown, data_point[:4]),data_point[4]) for data_point in iris_data]\n",
    "    nearest = sorted(distances, key=lambda x: x[0], reverse=False)[:3]\n",
    "    prediction = Counter([x[1] for x in nearest]).most_common(1)[0][0]\n",
    "    return prediction"
   ]
  },
  {
   "cell_type": "markdown",
   "metadata": {},
   "source": [
    "Let's try it out!"
   ]
  },
  {
   "cell_type": "code",
   "execution_count": 94,
   "metadata": {
    "collapsed": false
   },
   "outputs": [
    {
     "data": {
      "text/plain": [
       "2.0"
      ]
     },
     "execution_count": 94,
     "metadata": {},
     "output_type": "execute_result"
    }
   ],
   "source": [
    "predict([ 5.8,  2.7,  5.1,  1.9]) # = what?"
   ]
  },
  {
   "cell_type": "markdown",
   "metadata": {},
   "source": [
    "Putting it all together, we'll try to predict each row in the original Iris data, and see how our algorithms perform.\n",
    "\n",
    "Note we use row[-1] because the last element of each row in iris_data is the actual species."
   ]
  },
  {
   "cell_type": "code",
   "execution_count": 101,
   "metadata": {
    "collapsed": false
   },
   "outputs": [
    {
     "data": {
      "text/plain": [
       "0.95999999999999996"
      ]
     },
     "execution_count": 101,
     "metadata": {},
     "output_type": "execute_result"
    }
   ],
   "source": [
    "predictions = np.array([predict(row[:4]) for row in iris_data])\n",
    "actual = np.array([row[-1] for row in iris_data])\n",
    "np.mean(predictions == actual) # accuracy of the model"
   ]
  },
  {
   "cell_type": "markdown",
   "metadata": {},
   "source": [
    "Let's try it with different values of k now, making sure to measure the processing time for each of the iterations."
   ]
  },
  {
   "cell_type": "code",
   "execution_count": 102,
   "metadata": {
    "collapsed": false
   },
   "outputs": [
    {
     "name": "stdout",
     "output_type": "stream",
     "text": [
      "0.96\n",
      "0:00:00.141000\n"
     ]
    }
   ],
   "source": [
    "start= datetime.now()\n",
    "predictions = np.array([predict(row[:4], k = 5) for row in iris_data])\n",
    "actual = np.array([row[-1] for row in iris_data])\n",
    "print np.mean(predictions == actual)\n",
    "print datetime.now() - start"
   ]
  },
  {
   "cell_type": "code",
   "execution_count": 103,
   "metadata": {
    "collapsed": false
   },
   "outputs": [
    {
     "name": "stdout",
     "output_type": "stream",
     "text": [
      "0.96\n",
      "0:00:00.133000\n"
     ]
    }
   ],
   "source": [
    "start= datetime.now()\n",
    "predictions = np.array([predict(row[:4], k = 2) for row in iris_data])\n",
    "actual = np.array([row[-1] for row in iris_data])\n",
    "print np.mean(predictions == actual)\n",
    "print datetime.now() - start"
   ]
  },
  {
   "cell_type": "markdown",
   "metadata": {},
   "source": [
    "**Question** To wrap this up, could you write a script which iterates through different values of 'k' from a list (for example, k = [1, 2, 5, 10, 25]), and returns the accuracy and processing times? You can store the values however you like, using a dataframe, an array, or another approach."
   ]
  },
  {
   "cell_type": "code",
   "execution_count": 115,
   "metadata": {
    "collapsed": false
   },
   "outputs": [
    {
     "data": {
      "text/html": [
       "<div>\n",
       "<table border=\"1\" class=\"dataframe\">\n",
       "  <thead>\n",
       "    <tr style=\"text-align: right;\">\n",
       "      <th></th>\n",
       "      <th>k</th>\n",
       "      <th>accuracy</th>\n",
       "      <th>processing_time</th>\n",
       "    </tr>\n",
       "  </thead>\n",
       "  <tbody>\n",
       "    <tr>\n",
       "      <th>0</th>\n",
       "      <td>1</td>\n",
       "      <td>0.96</td>\n",
       "      <td>00:00:00.133000</td>\n",
       "    </tr>\n",
       "    <tr>\n",
       "      <th>1</th>\n",
       "      <td>2</td>\n",
       "      <td>0.96</td>\n",
       "      <td>00:00:00.125000</td>\n",
       "    </tr>\n",
       "    <tr>\n",
       "      <th>2</th>\n",
       "      <td>5</td>\n",
       "      <td>0.96</td>\n",
       "      <td>00:00:00.124000</td>\n",
       "    </tr>\n",
       "    <tr>\n",
       "      <th>3</th>\n",
       "      <td>10</td>\n",
       "      <td>0.96</td>\n",
       "      <td>00:00:00.119000</td>\n",
       "    </tr>\n",
       "    <tr>\n",
       "      <th>4</th>\n",
       "      <td>25</td>\n",
       "      <td>0.96</td>\n",
       "      <td>00:00:00.123000</td>\n",
       "    </tr>\n",
       "  </tbody>\n",
       "</table>\n",
       "</div>"
      ],
      "text/plain": [
       "    k  accuracy  processing_time\n",
       "0   1      0.96  00:00:00.133000\n",
       "1   2      0.96  00:00:00.125000\n",
       "2   5      0.96  00:00:00.124000\n",
       "3  10      0.96  00:00:00.119000\n",
       "4  25      0.96  00:00:00.123000"
      ]
     },
     "execution_count": 115,
     "metadata": {},
     "output_type": "execute_result"
    }
   ],
   "source": [
    "k_list = [1, 2, 5, 10, 25]\n",
    "mydf = pd.DataFrame(columns=['k','accuracy','processing_time'])\n",
    "for k in k_list:\n",
    "    start= datetime.now()\n",
    "    predictions = np.array([predict(row[:4], k = 2) for row in iris_data])\n",
    "    actual = np.array([row[-1] for row in iris_data])\n",
    "    mydf.loc[len(mydf)] = [k, np.mean(predictions == actual), datetime.now() - start]\n",
    "mydf    "
   ]
  }
 ],
 "metadata": {
  "kernelspec": {
   "display_name": "Python 2",
   "language": "python",
   "name": "python2"
  },
  "language_info": {
   "codemirror_mode": {
    "name": "ipython",
    "version": 2
   },
   "file_extension": ".py",
   "mimetype": "text/x-python",
   "name": "python",
   "nbconvert_exporter": "python",
   "pygments_lexer": "ipython2",
   "version": "2.7.11"
  }
 },
 "nbformat": 4,
 "nbformat_minor": 0
}
