{
 "cells": [
  {
   "cell_type": "markdown",
   "metadata": {
    "collapsed": false
   },
   "source": [
    "# Homework 1, 23 Jan 2016"
   ]
  },
  {
   "cell_type": "markdown",
   "metadata": {},
   "source": [
    "## Analysis on Murder Data"
   ]
  },
  {
   "cell_type": "code",
   "execution_count": 1,
   "metadata": {
    "collapsed": false
   },
   "outputs": [
    {
     "data": {
      "text/html": [
       "<div>\n",
       "<table border=\"1\" class=\"dataframe\">\n",
       "  <thead>\n",
       "    <tr style=\"text-align: right;\">\n",
       "      <th></th>\n",
       "      <th>Unnamed: 0</th>\n",
       "      <th>name</th>\n",
       "      <th>age</th>\n",
       "      <th>gender</th>\n",
       "      <th>raceethnicity</th>\n",
       "      <th>month</th>\n",
       "      <th>day</th>\n",
       "      <th>year</th>\n",
       "      <th>streetaddress</th>\n",
       "      <th>city</th>\n",
       "      <th>state</th>\n",
       "      <th>lawenforcementagency</th>\n",
       "      <th>cause</th>\n",
       "      <th>armed</th>\n",
       "      <th>county_income</th>\n",
       "    </tr>\n",
       "  </thead>\n",
       "  <tbody>\n",
       "    <tr>\n",
       "      <th>0</th>\n",
       "      <td>0</td>\n",
       "      <td>A'donte Washington</td>\n",
       "      <td>16</td>\n",
       "      <td>Male</td>\n",
       "      <td>Black</td>\n",
       "      <td>February</td>\n",
       "      <td>23</td>\n",
       "      <td>2015</td>\n",
       "      <td>Clearview Ln</td>\n",
       "      <td>Millbrook</td>\n",
       "      <td>AL</td>\n",
       "      <td>Millbrook Police Department</td>\n",
       "      <td>Gunshot</td>\n",
       "      <td>No</td>\n",
       "      <td>54766</td>\n",
       "    </tr>\n",
       "    <tr>\n",
       "      <th>1</th>\n",
       "      <td>1</td>\n",
       "      <td>Aaron Rutledge</td>\n",
       "      <td>27</td>\n",
       "      <td>Male</td>\n",
       "      <td>White</td>\n",
       "      <td>April</td>\n",
       "      <td>2</td>\n",
       "      <td>2015</td>\n",
       "      <td>300 block Iris Park Dr</td>\n",
       "      <td>Pineville</td>\n",
       "      <td>LA</td>\n",
       "      <td>Rapides Parish Sheriff's Office</td>\n",
       "      <td>Gunshot</td>\n",
       "      <td>No</td>\n",
       "      <td>40930</td>\n",
       "    </tr>\n",
       "    <tr>\n",
       "      <th>2</th>\n",
       "      <td>2</td>\n",
       "      <td>Aaron Siler</td>\n",
       "      <td>26</td>\n",
       "      <td>Male</td>\n",
       "      <td>White</td>\n",
       "      <td>March</td>\n",
       "      <td>14</td>\n",
       "      <td>2015</td>\n",
       "      <td>22nd Ave and 56th St</td>\n",
       "      <td>Kenosha</td>\n",
       "      <td>WI</td>\n",
       "      <td>Kenosha Police Department</td>\n",
       "      <td>Gunshot</td>\n",
       "      <td>No</td>\n",
       "      <td>54930</td>\n",
       "    </tr>\n",
       "    <tr>\n",
       "      <th>3</th>\n",
       "      <td>3</td>\n",
       "      <td>Aaron Valdez</td>\n",
       "      <td>25</td>\n",
       "      <td>Male</td>\n",
       "      <td>Hispanic/Latino</td>\n",
       "      <td>March</td>\n",
       "      <td>11</td>\n",
       "      <td>2015</td>\n",
       "      <td>3000 Seminole Ave</td>\n",
       "      <td>South Gate</td>\n",
       "      <td>CA</td>\n",
       "      <td>South Gate Police Department</td>\n",
       "      <td>Gunshot</td>\n",
       "      <td>Firearm</td>\n",
       "      <td>55909</td>\n",
       "    </tr>\n",
       "    <tr>\n",
       "      <th>4</th>\n",
       "      <td>4</td>\n",
       "      <td>Adam Jovicic</td>\n",
       "      <td>29</td>\n",
       "      <td>Male</td>\n",
       "      <td>White</td>\n",
       "      <td>March</td>\n",
       "      <td>19</td>\n",
       "      <td>2015</td>\n",
       "      <td>364 Hiwood Ave</td>\n",
       "      <td>Munroe Falls</td>\n",
       "      <td>OH</td>\n",
       "      <td>Kent Police Department</td>\n",
       "      <td>Gunshot</td>\n",
       "      <td>No</td>\n",
       "      <td>49669</td>\n",
       "    </tr>\n",
       "  </tbody>\n",
       "</table>\n",
       "</div>"
      ],
      "text/plain": [
       "   Unnamed: 0                name  age gender    raceethnicity     month  day  \\\n",
       "0           0  A'donte Washington   16   Male            Black  February   23   \n",
       "1           1      Aaron Rutledge   27   Male            White     April    2   \n",
       "2           2         Aaron Siler   26   Male            White     March   14   \n",
       "3           3        Aaron Valdez   25   Male  Hispanic/Latino     March   11   \n",
       "4           4        Adam Jovicic   29   Male            White     March   19   \n",
       "\n",
       "   year           streetaddress          city state  \\\n",
       "0  2015            Clearview Ln     Millbrook    AL   \n",
       "1  2015  300 block Iris Park Dr     Pineville    LA   \n",
       "2  2015    22nd Ave and 56th St       Kenosha    WI   \n",
       "3  2015       3000 Seminole Ave    South Gate    CA   \n",
       "4  2015          364 Hiwood Ave  Munroe Falls    OH   \n",
       "\n",
       "              lawenforcementagency    cause    armed  county_income  \n",
       "0      Millbrook Police Department  Gunshot       No          54766  \n",
       "1  Rapides Parish Sheriff's Office  Gunshot       No          40930  \n",
       "2        Kenosha Police Department  Gunshot       No          54930  \n",
       "3     South Gate Police Department  Gunshot  Firearm          55909  \n",
       "4           Kent Police Department  Gunshot       No          49669  "
      ]
     },
     "execution_count": 1,
     "metadata": {},
     "output_type": "execute_result"
    }
   ],
   "source": [
    "import pandas as pd\n",
    "\n",
    "killings = pd.read_csv('/Users/zachang/Desktop/Data Science Course/DAT1/SG_DAT1/homework/data/police-killings.csv')\n",
    "killings.head()"
   ]
  },
  {
   "cell_type": "markdown",
   "metadata": {
    "collapsed": false
   },
   "source": [
    "### 1. Make the following changed to column names:\n",
    "# lawenforcementagency -> agency\n",
    "# raceethnicity        -> race\n",
    "\n",
    "killings.rename(columns={'lawenforcementagency':'agency', 'raceethnicity':'race'})"
   ]
  },
  {
   "cell_type": "code",
   "execution_count": 5,
   "metadata": {
    "collapsed": false
   },
   "outputs": [
    {
     "data": {
      "text/plain": [
       "Unnamed: 0              0\n",
       "name                    0\n",
       "age                     0\n",
       "gender                  0\n",
       "raceethnicity           0\n",
       "month                   0\n",
       "day                     0\n",
       "year                    0\n",
       "streetaddress           4\n",
       "city                    0\n",
       "state                   0\n",
       "lawenforcementagency    0\n",
       "cause                   0\n",
       "armed                   0\n",
       "county_income           0\n",
       "dtype: int64"
      ]
     },
     "execution_count": 5,
     "metadata": {},
     "output_type": "execute_result"
    }
   ],
   "source": [
    "# 2. Show the count of missing values in each column\n",
    "\n",
    "len(killings.index)- killings.count()"
   ]
  },
  {
   "cell_type": "code",
   "execution_count": 6,
   "metadata": {
    "collapsed": false
   },
   "outputs": [
    {
     "data": {
      "text/html": [
       "<div>\n",
       "<table border=\"1\" class=\"dataframe\">\n",
       "  <thead>\n",
       "    <tr style=\"text-align: right;\">\n",
       "      <th></th>\n",
       "      <th>Unnamed: 0</th>\n",
       "      <th>name</th>\n",
       "      <th>age</th>\n",
       "      <th>gender</th>\n",
       "      <th>raceethnicity</th>\n",
       "      <th>month</th>\n",
       "      <th>day</th>\n",
       "      <th>year</th>\n",
       "      <th>streetaddress</th>\n",
       "      <th>city</th>\n",
       "      <th>state</th>\n",
       "      <th>lawenforcementagency</th>\n",
       "      <th>cause</th>\n",
       "      <th>armed</th>\n",
       "      <th>county_income</th>\n",
       "    </tr>\n",
       "  </thead>\n",
       "  <tbody>\n",
       "    <tr>\n",
       "      <th>50</th>\n",
       "      <td>50</td>\n",
       "      <td>Billy Patrick</td>\n",
       "      <td>29</td>\n",
       "      <td>Male</td>\n",
       "      <td>White</td>\n",
       "      <td>April</td>\n",
       "      <td>26</td>\n",
       "      <td>2015</td>\n",
       "      <td>Unknown</td>\n",
       "      <td>Bunch</td>\n",
       "      <td>OK</td>\n",
       "      <td>Oklahoma Department of Wildlife Conservation</td>\n",
       "      <td>Gunshot</td>\n",
       "      <td>Firearm</td>\n",
       "      <td>32556</td>\n",
       "    </tr>\n",
       "    <tr>\n",
       "      <th>280</th>\n",
       "      <td>280</td>\n",
       "      <td>Kenneth Brown</td>\n",
       "      <td>18</td>\n",
       "      <td>Male</td>\n",
       "      <td>White</td>\n",
       "      <td>January</td>\n",
       "      <td>4</td>\n",
       "      <td>2015</td>\n",
       "      <td>Unknown</td>\n",
       "      <td>Guthrie</td>\n",
       "      <td>OK</td>\n",
       "      <td>Oklahoma State Police</td>\n",
       "      <td>Gunshot</td>\n",
       "      <td>Non-lethal firearm</td>\n",
       "      <td>53591</td>\n",
       "    </tr>\n",
       "    <tr>\n",
       "      <th>379</th>\n",
       "      <td>379</td>\n",
       "      <td>Ricky Hall</td>\n",
       "      <td>27</td>\n",
       "      <td>Male</td>\n",
       "      <td>Black</td>\n",
       "      <td>March</td>\n",
       "      <td>30</td>\n",
       "      <td>2015</td>\n",
       "      <td>Unknown</td>\n",
       "      <td>Fort Meade</td>\n",
       "      <td>MD</td>\n",
       "      <td>NSA Police Department</td>\n",
       "      <td>Gunshot</td>\n",
       "      <td>Firearm</td>\n",
       "      <td>87430</td>\n",
       "    </tr>\n",
       "    <tr>\n",
       "      <th>405</th>\n",
       "      <td>405</td>\n",
       "      <td>Santos 'Cuate' Cortez Hernandez</td>\n",
       "      <td>24</td>\n",
       "      <td>Male</td>\n",
       "      <td>Hispanic/Latino</td>\n",
       "      <td>April</td>\n",
       "      <td>20</td>\n",
       "      <td>2015</td>\n",
       "      <td>Unknown</td>\n",
       "      <td>Mission</td>\n",
       "      <td>TX</td>\n",
       "      <td>Hidalgo County Sheriff's Office</td>\n",
       "      <td>Gunshot</td>\n",
       "      <td>Firearm</td>\n",
       "      <td>34146</td>\n",
       "    </tr>\n",
       "  </tbody>\n",
       "</table>\n",
       "</div>"
      ],
      "text/plain": [
       "     Unnamed: 0                             name  age gender    raceethnicity  \\\n",
       "50           50                    Billy Patrick   29   Male            White   \n",
       "280         280                    Kenneth Brown   18   Male            White   \n",
       "379         379                       Ricky Hall   27   Male            Black   \n",
       "405         405  Santos 'Cuate' Cortez Hernandez   24   Male  Hispanic/Latino   \n",
       "\n",
       "       month  day  year streetaddress        city state  \\\n",
       "50     April   26  2015       Unknown       Bunch    OK   \n",
       "280  January    4  2015       Unknown     Guthrie    OK   \n",
       "379    March   30  2015       Unknown  Fort Meade    MD   \n",
       "405    April   20  2015       Unknown     Mission    TX   \n",
       "\n",
       "                             lawenforcementagency    cause  \\\n",
       "50   Oklahoma Department of Wildlife Conservation  Gunshot   \n",
       "280                         Oklahoma State Police  Gunshot   \n",
       "379                         NSA Police Department  Gunshot   \n",
       "405               Hidalgo County Sheriff's Office  Gunshot   \n",
       "\n",
       "                  armed  county_income  \n",
       "50              Firearm          32556  \n",
       "280  Non-lethal firearm          53591  \n",
       "379             Firearm          87430  \n",
       "405             Firearm          34146  "
      ]
     },
     "execution_count": 6,
     "metadata": {},
     "output_type": "execute_result"
    }
   ],
   "source": [
    "# 3. replace each null value in the dataframe with the string \"Unknown\"\n",
    "\n",
    "\n",
    "null_Ind=killings.streetaddress.isnull()\n",
    "killings[null_Ind]\n",
    "\n",
    "killings.fillna('Unknown',inplace=True)\n",
    "killings[null_Ind]\n"
   ]
  },
  {
   "cell_type": "code",
   "execution_count": 7,
   "metadata": {
    "collapsed": false
   },
   "outputs": [
    {
     "name": "stdout",
     "output_type": "stream",
     "text": [
      "467\n"
     ]
    }
   ],
   "source": [
    "# 4. How many killings were there so far in 2015?\n",
    "\n",
    "killings.year.describe()\n",
    "print len(killings.year)"
   ]
  },
  {
   "cell_type": "code",
   "execution_count": 8,
   "metadata": {
    "collapsed": false
   },
   "outputs": [
    {
     "data": {
      "text/plain": [
       "Male      445\n",
       "Female     22\n",
       "Name: gender, dtype: int64"
      ]
     },
     "execution_count": 8,
     "metadata": {},
     "output_type": "execute_result"
    }
   ],
   "source": [
    "# 5. Of all killings, how many were male and how many female?\n",
    "\n",
    "killings.gender.value_counts()"
   ]
  },
  {
   "cell_type": "code",
   "execution_count": 9,
   "metadata": {
    "collapsed": false
   },
   "outputs": [
    {
     "name": "stdout",
     "output_type": "stream",
     "text": [
      "102\n"
     ]
    }
   ],
   "source": [
    "# 6. How many killings were of unarmed people?\n",
    "\n",
    "no_unarmed = killings.armed.value_counts()['No']\n",
    "\n",
    "print no_unarmed"
   ]
  },
  {
   "cell_type": "code",
   "execution_count": 10,
   "metadata": {
    "collapsed": false
   },
   "outputs": [
    {
     "data": {
      "text/plain": [
       "21.84"
      ]
     },
     "execution_count": 10,
     "metadata": {},
     "output_type": "execute_result"
    }
   ],
   "source": [
    "# 7. What percentage of all killings were unarmed?\n",
    "\n",
    "round(float(no_unarmed)/len(killings.armed)  *100, 2)\n"
   ]
  },
  {
   "cell_type": "code",
   "execution_count": 11,
   "metadata": {
    "collapsed": false
   },
   "outputs": [
    {
     "data": {
      "text/plain": [
       "CA    74\n",
       "TX    46\n",
       "FL    29\n",
       "AZ    25\n",
       "OK    22\n",
       "Name: state, dtype: int64"
      ]
     },
     "execution_count": 11,
     "metadata": {},
     "output_type": "execute_result"
    }
   ],
   "source": [
    "# 8. What are the 5 states with the most killings?\n",
    "\n",
    "killings.state.value_counts()[0:5]"
   ]
  },
  {
   "cell_type": "code",
   "execution_count": 14,
   "metadata": {
    "collapsed": false
   },
   "outputs": [
    {
     "data": {
      "text/plain": [
       "White                     236\n",
       "Black                     135\n",
       "Hispanic/Latino            67\n",
       "Unknown                    15\n",
       "Asian/Pacific Islander     10\n",
       "Native American             4\n",
       "Name: raceethnicity, dtype: int64"
      ]
     },
     "execution_count": 14,
     "metadata": {},
     "output_type": "execute_result"
    }
   ],
   "source": [
    "# 9. Show a value counts of deaths for each race\n",
    "\n",
    "killings.raceethnicity.value_counts()\n",
    "\n",
    "## Rename didn't work! \n"
   ]
  },
  {
   "cell_type": "code",
   "execution_count": 2,
   "metadata": {
    "collapsed": false
   },
   "outputs": [
    {
     "data": {
      "image/png": "[encoded data removed]",
      "text/plain": [
       "<matplotlib.figure.Figure at 0x107b855d0>"
      ]
     },
     "metadata": {},
     "output_type": "display_data"
    }
   ],
   "source": [
    "# 10. Display a histogram of ages of all killings\n",
    "\n",
    "%matplotlib inline\n",
    "import matplotlib.pyplot as plt\n",
    "import numpy as np\n",
    "\n",
    "plt.hist(killings.age,color='blue',normed=True)\n",
    "plt.title(\"Histogram of Killings by Age\")\n",
    "plt.xlabel(\"Age\")\n",
    "plt.ylabel(\"Frequency Density\")\n",
    "plt.show()"
   ]
  },
  {
   "cell_type": "code",
   "execution_count": 67,
   "metadata": {
    "collapsed": false
   },
   "outputs": [
    {
     "data": {
      "text/plain": [
       "array([[<matplotlib.axes._subplots.AxesSubplot object at 0x10d075b50>,\n",
       "        <matplotlib.axes._subplots.AxesSubplot object at 0x10e465c50>],\n",
       "       [<matplotlib.axes._subplots.AxesSubplot object at 0x10e4e3a90>,\n",
       "        <matplotlib.axes._subplots.AxesSubplot object at 0x10e547dd0>],\n",
       "       [<matplotlib.axes._subplots.AxesSubplot object at 0x10e5caf10>,\n",
       "        <matplotlib.axes._subplots.AxesSubplot object at 0x10e577350>]], dtype=object)"
      ]
     },
     "execution_count": 67,
     "metadata": {},
     "output_type": "execute_result"
    },
    {
     "data": {
      "image/png": "[encoded data removed]",
      "text/plain": [
       "<matplotlib.figure.Figure at 0x10bd58950>"
      ]
     },
     "metadata": {},
     "output_type": "display_data"
    }
   ],
   "source": [
    "# 11. Show 6 histograms of ages by race\n",
    "\n",
    "killings.age.hist(by=killings.raceethnicity, sharex = False, sharey = False ,normed=True)\n",
    "\n"
   ]
  },
  {
   "cell_type": "code",
   "execution_count": 29,
   "metadata": {
    "collapsed": false
   },
   "outputs": [
    {
     "data": {
      "text/plain": [
       "raceethnicity\n",
       "Asian/Pacific Islander    40.800000\n",
       "Black                     34.044444\n",
       "Hispanic/Latino           31.716418\n",
       "Native American           27.750000\n",
       "Unknown                   43.533333\n",
       "White                     40.466102\n",
       "Name: age, dtype: float64"
      ]
     },
     "execution_count": 29,
     "metadata": {},
     "output_type": "execute_result"
    }
   ],
   "source": [
    "# 12. What is the average age of death by race?\n",
    "\n",
    "killings.groupby('raceethnicity').age.mean()"
   ]
  },
  {
   "cell_type": "code",
   "execution_count": 154,
   "metadata": {
    "collapsed": false
   },
   "outputs": [
    {
     "data": {
      "text/plain": [
       "<matplotlib.text.Text at 0x10f07e990>"
      ]
     },
     "execution_count": 154,
     "metadata": {},
     "output_type": "execute_result"
    },
    {
     "data": {
      "image/png": "[encoded data removed]",
      "text/plain": [
       "<matplotlib.figure.Figure at 0x10cc82650>"
      ]
     },
     "metadata": {},
     "output_type": "display_data"
    }
   ],
   "source": [
    "# 13. Show a bar chart with counts of deaths every month\n",
    "\n",
    "\n",
    "pltheight=np.array(killings.month.value_counts())\n",
    "\n",
    "mth=killings.month.unique()\n",
    "ind = np.arange(len(mth))\n",
    "width = 0.5\n",
    "\n",
    "plt.bar(ind,pltheight,width=width,align='center')\n",
    "plt.xticks(ind,mth)\n",
    "plt.xlabel(\"Month\")\n",
    "plt.ylabel(\"Number of Killings\")\n",
    "plt.title(\"Bar Plot of Number of Killings per Month\")"
   ]
  },
  {
   "cell_type": "markdown",
   "metadata": {},
   "source": [
    "## Analysis on College Majors Data"
   ]
  },
  {
   "cell_type": "code",
   "execution_count": 4,
   "metadata": {
    "collapsed": false
   },
   "outputs": [
    {
     "data": {
      "text/html": [
       "<div>\n",
       "<table border=\"1\" class=\"dataframe\">\n",
       "  <thead>\n",
       "    <tr style=\"text-align: right;\">\n",
       "      <th></th>\n",
       "      <th>Unnamed: 0</th>\n",
       "      <th>Major_code</th>\n",
       "      <th>Major</th>\n",
       "      <th>Major_category</th>\n",
       "      <th>Total</th>\n",
       "      <th>Employed</th>\n",
       "      <th>Employed_full_time_year_round</th>\n",
       "      <th>Unemployed</th>\n",
       "      <th>Unemployment_rate</th>\n",
       "      <th>Median</th>\n",
       "      <th>P25th</th>\n",
       "      <th>P75th</th>\n",
       "    </tr>\n",
       "  </thead>\n",
       "  <tbody>\n",
       "    <tr>\n",
       "      <th>0</th>\n",
       "      <td>0</td>\n",
       "      <td>1100</td>\n",
       "      <td>GENERAL AGRICULTURE</td>\n",
       "      <td>Agriculture &amp; Natural Resources</td>\n",
       "      <td>128148</td>\n",
       "      <td>90245</td>\n",
       "      <td>74078</td>\n",
       "      <td>2423</td>\n",
       "      <td>0.026147</td>\n",
       "      <td>50000</td>\n",
       "      <td>34000</td>\n",
       "      <td>80000</td>\n",
       "    </tr>\n",
       "    <tr>\n",
       "      <th>1</th>\n",
       "      <td>1</td>\n",
       "      <td>1101</td>\n",
       "      <td>AGRICULTURE PRODUCTION AND MANAGEMENT</td>\n",
       "      <td>Agriculture &amp; Natural Resources</td>\n",
       "      <td>95326</td>\n",
       "      <td>76865</td>\n",
       "      <td>64240</td>\n",
       "      <td>2266</td>\n",
       "      <td>0.028636</td>\n",
       "      <td>54000</td>\n",
       "      <td>36000</td>\n",
       "      <td>80000</td>\n",
       "    </tr>\n",
       "    <tr>\n",
       "      <th>2</th>\n",
       "      <td>2</td>\n",
       "      <td>1102</td>\n",
       "      <td>AGRICULTURAL ECONOMICS</td>\n",
       "      <td>Agriculture &amp; Natural Resources</td>\n",
       "      <td>33955</td>\n",
       "      <td>26321</td>\n",
       "      <td>22810</td>\n",
       "      <td>821</td>\n",
       "      <td>0.030248</td>\n",
       "      <td>63000</td>\n",
       "      <td>40000</td>\n",
       "      <td>98000</td>\n",
       "    </tr>\n",
       "    <tr>\n",
       "      <th>3</th>\n",
       "      <td>3</td>\n",
       "      <td>1103</td>\n",
       "      <td>ANIMAL SCIENCES</td>\n",
       "      <td>Agriculture &amp; Natural Resources</td>\n",
       "      <td>103549</td>\n",
       "      <td>81177</td>\n",
       "      <td>64937</td>\n",
       "      <td>3619</td>\n",
       "      <td>0.042679</td>\n",
       "      <td>46000</td>\n",
       "      <td>30000</td>\n",
       "      <td>72000</td>\n",
       "    </tr>\n",
       "    <tr>\n",
       "      <th>4</th>\n",
       "      <td>4</td>\n",
       "      <td>1104</td>\n",
       "      <td>FOOD SCIENCE</td>\n",
       "      <td>Agriculture &amp; Natural Resources</td>\n",
       "      <td>24280</td>\n",
       "      <td>17281</td>\n",
       "      <td>12722</td>\n",
       "      <td>894</td>\n",
       "      <td>0.049188</td>\n",
       "      <td>62000</td>\n",
       "      <td>38500</td>\n",
       "      <td>90000</td>\n",
       "    </tr>\n",
       "  </tbody>\n",
       "</table>\n",
       "</div>"
      ],
      "text/plain": [
       "   Unnamed: 0  Major_code                                  Major  \\\n",
       "0           0        1100                    GENERAL AGRICULTURE   \n",
       "1           1        1101  AGRICULTURE PRODUCTION AND MANAGEMENT   \n",
       "2           2        1102                 AGRICULTURAL ECONOMICS   \n",
       "3           3        1103                        ANIMAL SCIENCES   \n",
       "4           4        1104                           FOOD SCIENCE   \n",
       "\n",
       "                    Major_category   Total  Employed  \\\n",
       "0  Agriculture & Natural Resources  128148     90245   \n",
       "1  Agriculture & Natural Resources   95326     76865   \n",
       "2  Agriculture & Natural Resources   33955     26321   \n",
       "3  Agriculture & Natural Resources  103549     81177   \n",
       "4  Agriculture & Natural Resources   24280     17281   \n",
       "\n",
       "   Employed_full_time_year_round  Unemployed  Unemployment_rate  Median  \\\n",
       "0                          74078        2423           0.026147   50000   \n",
       "1                          64240        2266           0.028636   54000   \n",
       "2                          22810         821           0.030248   63000   \n",
       "3                          64937        3619           0.042679   46000   \n",
       "4                          12722         894           0.049188   62000   \n",
       "\n",
       "   P25th  P75th  \n",
       "0  34000  80000  \n",
       "1  36000  80000  \n",
       "2  40000  98000  \n",
       "3  30000  72000  \n",
       "4  38500  90000  "
      ]
     },
     "execution_count": 4,
     "metadata": {},
     "output_type": "execute_result"
    }
   ],
   "source": [
    "majors = pd.read_csv('/Users/zachang/Desktop/Data Science Course/DAT1/SG_DAT1/homework/data/college-majors.csv')\n",
    "majors.head()\n",
    "\n",
    "\n",
    "\n"
   ]
  },
  {
   "cell_type": "code",
   "execution_count": 5,
   "metadata": {
    "collapsed": false
   },
   "outputs": [
    {
     "data": {
      "text/html": [
       "<div>\n",
       "<table border=\"1\" class=\"dataframe\">\n",
       "  <thead>\n",
       "    <tr style=\"text-align: right;\">\n",
       "      <th></th>\n",
       "      <th>Unnamed: 0</th>\n",
       "      <th>Major_code</th>\n",
       "      <th>Major</th>\n",
       "      <th>Major_category</th>\n",
       "      <th>Total</th>\n",
       "      <th>Employed</th>\n",
       "      <th>Employed_full_time_year_round</th>\n",
       "      <th>Unemployed</th>\n",
       "      <th>Unemployment_rate</th>\n",
       "      <th>Median</th>\n",
       "      <th>P25th</th>\n",
       "      <th>P75th</th>\n",
       "    </tr>\n",
       "  </thead>\n",
       "  <tbody>\n",
       "    <tr>\n",
       "      <th>0</th>\n",
       "      <td>0</td>\n",
       "      <td>1100</td>\n",
       "      <td>GENERAL AGRICULTURE</td>\n",
       "      <td>Agriculture &amp; Natural Resources</td>\n",
       "      <td>128148</td>\n",
       "      <td>90245</td>\n",
       "      <td>74078</td>\n",
       "      <td>2423</td>\n",
       "      <td>0.026147</td>\n",
       "      <td>50000</td>\n",
       "      <td>34000</td>\n",
       "      <td>80000</td>\n",
       "    </tr>\n",
       "    <tr>\n",
       "      <th>1</th>\n",
       "      <td>1</td>\n",
       "      <td>1101</td>\n",
       "      <td>AGRICULTURE PRODUCTION AND MANAGEMENT</td>\n",
       "      <td>Agriculture &amp; Natural Resources</td>\n",
       "      <td>95326</td>\n",
       "      <td>76865</td>\n",
       "      <td>64240</td>\n",
       "      <td>2266</td>\n",
       "      <td>0.028636</td>\n",
       "      <td>54000</td>\n",
       "      <td>36000</td>\n",
       "      <td>80000</td>\n",
       "    </tr>\n",
       "    <tr>\n",
       "      <th>2</th>\n",
       "      <td>2</td>\n",
       "      <td>1102</td>\n",
       "      <td>AGRICULTURAL ECONOMICS</td>\n",
       "      <td>Agriculture &amp; Natural Resources</td>\n",
       "      <td>33955</td>\n",
       "      <td>26321</td>\n",
       "      <td>22810</td>\n",
       "      <td>821</td>\n",
       "      <td>0.030248</td>\n",
       "      <td>63000</td>\n",
       "      <td>40000</td>\n",
       "      <td>98000</td>\n",
       "    </tr>\n",
       "    <tr>\n",
       "      <th>3</th>\n",
       "      <td>3</td>\n",
       "      <td>1103</td>\n",
       "      <td>ANIMAL SCIENCES</td>\n",
       "      <td>Agriculture &amp; Natural Resources</td>\n",
       "      <td>103549</td>\n",
       "      <td>81177</td>\n",
       "      <td>64937</td>\n",
       "      <td>3619</td>\n",
       "      <td>0.042679</td>\n",
       "      <td>46000</td>\n",
       "      <td>30000</td>\n",
       "      <td>72000</td>\n",
       "    </tr>\n",
       "    <tr>\n",
       "      <th>4</th>\n",
       "      <td>4</td>\n",
       "      <td>1104</td>\n",
       "      <td>FOOD SCIENCE</td>\n",
       "      <td>Agriculture &amp; Natural Resources</td>\n",
       "      <td>24280</td>\n",
       "      <td>17281</td>\n",
       "      <td>12722</td>\n",
       "      <td>894</td>\n",
       "      <td>0.049188</td>\n",
       "      <td>62000</td>\n",
       "      <td>38500</td>\n",
       "      <td>90000</td>\n",
       "    </tr>\n",
       "  </tbody>\n",
       "</table>\n",
       "</div>"
      ],
      "text/plain": [
       "   Unnamed: 0  Major_code                                  Major  \\\n",
       "0           0        1100                    GENERAL AGRICULTURE   \n",
       "1           1        1101  AGRICULTURE PRODUCTION AND MANAGEMENT   \n",
       "2           2        1102                 AGRICULTURAL ECONOMICS   \n",
       "3           3        1103                        ANIMAL SCIENCES   \n",
       "4           4        1104                           FOOD SCIENCE   \n",
       "\n",
       "                    Major_category   Total  Employed  \\\n",
       "0  Agriculture & Natural Resources  128148     90245   \n",
       "1  Agriculture & Natural Resources   95326     76865   \n",
       "2  Agriculture & Natural Resources   33955     26321   \n",
       "3  Agriculture & Natural Resources  103549     81177   \n",
       "4  Agriculture & Natural Resources   24280     17281   \n",
       "\n",
       "   Employed_full_time_year_round  Unemployed  Unemployment_rate  Median  \\\n",
       "0                          74078        2423           0.026147   50000   \n",
       "1                          64240        2266           0.028636   54000   \n",
       "2                          22810         821           0.030248   63000   \n",
       "3                          64937        3619           0.042679   46000   \n",
       "4                          12722         894           0.049188   62000   \n",
       "\n",
       "   P25th  P75th  \n",
       "0  34000  80000  \n",
       "1  36000  80000  \n",
       "2  40000  98000  \n",
       "3  30000  72000  \n",
       "4  38500  90000  "
      ]
     },
     "execution_count": 5,
     "metadata": {},
     "output_type": "execute_result"
    }
   ],
   "source": [
    "# 1. Delete the columns (employed_full_time_year_round, major_code)\n",
    "\n",
    "majors.drop(['Employed_full_time_year_round','Major_code'],axis=1)\n",
    "majors.head()"
   ]
  },
  {
   "cell_type": "code",
   "execution_count": 6,
   "metadata": {
    "collapsed": false
   },
   "outputs": [
    {
     "data": {
      "text/plain": [
       "Unnamed: 0                       0\n",
       "Major_code                       0\n",
       "Major                            0\n",
       "Major_category                   0\n",
       "Total                            0\n",
       "Employed                         0\n",
       "Employed_full_time_year_round    0\n",
       "Unemployed                       0\n",
       "Unemployment_rate                0\n",
       "Median                           0\n",
       "P25th                            0\n",
       "P75th                            0\n",
       "dtype: int64"
      ]
     },
     "execution_count": 6,
     "metadata": {},
     "output_type": "execute_result"
    }
   ],
   "source": [
    "# 2. Show the count of missing values in each column\n",
    "\n",
    "majors.isnull().sum()"
   ]
  },
  {
   "cell_type": "code",
   "execution_count": 7,
   "metadata": {
    "collapsed": false
   },
   "outputs": [
    {
     "name": "stdout",
     "output_type": "stream",
     "text": [
      "The top 10 highest paying majors are:\n",
      "PETROLEUM ENGINEERING\n",
      "PHARMACY PHARMACEUTICAL SCIENCES AND ADMINISTRATION\n",
      "NAVAL ARCHITECTURE AND MARINE ENGINEERING\n",
      "METALLURGICAL ENGINEERING\n",
      "NUCLEAR ENGINEERING\n",
      "MINING AND MINERAL ENGINEERING\n",
      "MATHEMATICS AND COMPUTER SCIENCE\n",
      "ELECTRICAL ENGINEERING\n",
      "CHEMICAL ENGINEERING\n",
      "GEOLOGICAL AND GEOPHYSICAL ENGINEERING\n"
     ]
    }
   ],
   "source": [
    "# 3. What are the top 10 highest paying majors?\n",
    "\n",
    "## Take this to mean, \"Going by the median salaries, what are the top 10 highest paying majors\"\n",
    "\n",
    "len(majors.Major.unique()) - len(majors)\n",
    "\n",
    "## All Degrees in the dataset are unique. \n",
    "\n",
    "top10 = majors.groupby('Major').Median.mean().sort_values(ascending=False).head(10)\n",
    "print \"The top 10 highest paying majors are:\"\n",
    "\n",
    "for i in range(len(top10)):\n",
    "    print top10.index[i]\n",
    "\n"
   ]
  },
  {
   "cell_type": "code",
   "execution_count": 8,
   "metadata": {
    "collapsed": false
   },
   "outputs": [
    {
     "data": {
      "text/plain": [
       "<matplotlib.text.Text at 0x108af5fd0>"
      ]
     },
     "execution_count": 8,
     "metadata": {},
     "output_type": "execute_result"
    },
    {
     "data": {
      "image/png": "[encoded data removed]",
      "text/plain": [
       "<matplotlib.figure.Figure at 0x108a6c250>"
      ]
     },
     "metadata": {},
     "output_type": "display_data"
    }
   ],
   "source": [
    "# 4. Plot the data from the last question in a bar chart, include proper title, and labels!\n",
    "\n",
    "plt.bar(np.arange(len(top10)),top10,align='edge')\n",
    "plt.xticks(np.arange(len(top10)),np.array(top10.index),rotation=45)\n",
    "plt.xlabel(\"Type of Major\")\n",
    "plt.ylabel(\"Salary in $\")\n",
    "plt.title(\"Bar Plot of Salary by Major\")\n",
    "\n",
    "## Labels are all screwy"
   ]
  },
  {
   "cell_type": "code",
   "execution_count": 9,
   "metadata": {
    "collapsed": false
   },
   "outputs": [
    {
     "data": {
      "text/plain": [
       "Major_category\n",
       "Agriculture & Natural Resources        55000.000000\n",
       "Arts                                   43525.000000\n",
       "Biology & Life Science                 50821.428571\n",
       "Business                               60615.384615\n",
       "Communications & Journalism            49500.000000\n",
       "Computers & Mathematics                66272.727273\n",
       "Education                              43831.250000\n",
       "Engineering                            77758.620690\n",
       "Health                                 56458.333333\n",
       "Humanities & Liberal Arts              46080.000000\n",
       "Industrial Arts & Consumer Services    52642.857143\n",
       "Interdisciplinary                      43000.000000\n",
       "Law & Public Policy                    52800.000000\n",
       "Physical Sciences                      62400.000000\n",
       "Psychology & Social Work               44555.555556\n",
       "Social Science                         53222.222222\n",
       "Name: Median, dtype: float64"
      ]
     },
     "execution_count": 9,
     "metadata": {},
     "output_type": "execute_result"
    }
   ],
   "source": [
    "# 5. What is the average median salary for each major category?\n",
    "\n",
    "## Take this to mean \"What is the average of the median salaries across the respective major categories?\"\n",
    "\n",
    "majors.groupby('Major_category').Median.mean()\n"
   ]
  },
  {
   "cell_type": "code",
   "execution_count": 10,
   "metadata": {
    "collapsed": false
   },
   "outputs": [
    {
     "name": "stdout",
     "output_type": "stream",
     "text": [
      "The top 5 highest paying major categories are:\n",
      "Engineering\n",
      "Computers & Mathematics\n",
      "Physical Sciences\n",
      "Business\n",
      "Health\n"
     ]
    }
   ],
   "source": [
    "# 6. Show only the top 5 paying major categories\n",
    "\n",
    "## Take this to mean \"Show top 5 major paying categories, by the average of the median salary for each category\"\n",
    "\n",
    "t5 = majors.groupby('Major_category').Median.mean().sort_values(ascending=False).head(5)\n",
    "\n",
    "print \"The top 5 highest paying major categories are:\"\n",
    "\n",
    "for i in range(len(t5)):\n",
    "    print t5.index[i]\n"
   ]
  },
  {
   "cell_type": "code",
   "execution_count": 27,
   "metadata": {
    "collapsed": false
   },
   "outputs": [
    {
     "data": {
      "text/plain": [
       "Engineering                            29\n",
       "Education                              16\n",
       "Humanities & Liberal Arts              15\n",
       "Biology & Life Science                 14\n",
       "Business                               13\n",
       "Health                                 12\n",
       "Computers & Mathematics                11\n",
       "Physical Sciences                      10\n",
       "Agriculture & Natural Resources        10\n",
       "Psychology & Social Work                9\n",
       "Social Science                          9\n",
       "Arts                                    8\n",
       "Industrial Arts & Consumer Services     7\n",
       "Law & Public Policy                     5\n",
       "Communications & Journalism             4\n",
       "Interdisciplinary                       1\n",
       "Name: Major_category, dtype: int64"
      ]
     },
     "execution_count": 27,
     "metadata": {},
     "output_type": "execute_result"
    }
   ],
   "source": []
  },
  {
   "cell_type": "code",
   "execution_count": 11,
   "metadata": {
    "collapsed": false
   },
   "outputs": [
    {
     "data": {
      "text/plain": [
       "<matplotlib.text.Text at 0x108b394d0>"
      ]
     },
     "execution_count": 11,
     "metadata": {},
     "output_type": "execute_result"
    },
    {
     "data": {
      "image/png": "[encoded data removed]",
      "text/plain": [
       "<matplotlib.figure.Figure at 0x108bcdb10>"
      ]
     },
     "metadata": {},
     "output_type": "display_data"
    }
   ],
   "source": [
    "# 7. Plot a histogram of the distribution of median salaries\n",
    "\n",
    "plt.hist(majors.Median,color='blue',normed=True)\n",
    "plt.title(\"Histogram of Distribution of Median Salaries\")\n",
    "plt.xlabel(\"Median Salary in $\")\n",
    "plt.ylabel(\"Frequency Density\")"
   ]
  },
  {
   "cell_type": "code",
   "execution_count": 62,
   "metadata": {
    "collapsed": false
   },
   "outputs": [],
   "source": [
    "# 8. Plot a histogram of the distribution of median salaries by major category\n",
    "\n",
    "## Take this to be \"Plot histograms of distribution of median salaries by major category\"\n",
    "\n",
    "majors.Major_category.value_counts()\n",
    "\n",
    "MajInd = majors.Major_category.value_counts().index\n",
    "\n",
    "## Take first 5 categories only since number for each group is small"
   ]
  },
  {
   "cell_type": "code",
   "execution_count": 64,
   "metadata": {
    "collapsed": false
   },
   "outputs": [
    {
     "ename": "AttributeError",
     "evalue": "Unknown property bin",
     "output_type": "error",
     "traceback": [
      "\u001b[0;31m---------------------------------------------------------------------------\u001b[0m",
      "\u001b[0;31mAttributeError\u001b[0m                            Traceback (most recent call last)",
      "\u001b[0;32m<ipython-input-64-86f16ed4acac>\u001b[0m in \u001b[0;36m<module>\u001b[0;34m()\u001b[0m\n\u001b[1;32m      6\u001b[0m     \u001b[0mplt\u001b[0m\u001b[0;34m.\u001b[0m\u001b[0msubplot\u001b[0m\u001b[0;34m(\u001b[0m\u001b[0;36m5\u001b[0m\u001b[0;34m,\u001b[0m\u001b[0;36m1\u001b[0m\u001b[0;34m,\u001b[0m\u001b[0mi\u001b[0m\u001b[0;34m)\u001b[0m\u001b[0;34m\u001b[0m\u001b[0m\n\u001b[1;32m      7\u001b[0m     \u001b[0mx\u001b[0m \u001b[0;34m=\u001b[0m \u001b[0mnp\u001b[0m\u001b[0;34m.\u001b[0m\u001b[0marray\u001b[0m\u001b[0;34m(\u001b[0m\u001b[0mmajors\u001b[0m\u001b[0;34m.\u001b[0m\u001b[0mMedian\u001b[0m\u001b[0;34m[\u001b[0m\u001b[0mmajors\u001b[0m\u001b[0;34m.\u001b[0m\u001b[0mMajor_category\u001b[0m\u001b[0;34m==\u001b[0m\u001b[0mMajInd\u001b[0m\u001b[0;34m[\u001b[0m\u001b[0mi\u001b[0m\u001b[0;34m-\u001b[0m\u001b[0;36m1\u001b[0m\u001b[0;34m]\u001b[0m\u001b[0;34m]\u001b[0m\u001b[0;34m)\u001b[0m\u001b[0;34m\u001b[0m\u001b[0m\n\u001b[0;32m----> 8\u001b[0;31m     \u001b[0mplt\u001b[0m\u001b[0;34m.\u001b[0m\u001b[0mhist\u001b[0m\u001b[0;34m(\u001b[0m\u001b[0mx\u001b[0m\u001b[0;34m,\u001b[0m\u001b[0mbin\u001b[0m\u001b[0;34m=\u001b[0m\u001b[0;36m5\u001b[0m\u001b[0;34m,\u001b[0m\u001b[0mnormed\u001b[0m\u001b[0;34m=\u001b[0m\u001b[0mTrue\u001b[0m\u001b[0;34m)\u001b[0m\u001b[0;34m\u001b[0m\u001b[0m\n\u001b[0m\u001b[1;32m      9\u001b[0m \u001b[0;34m\u001b[0m\u001b[0m\n\u001b[1;32m     10\u001b[0m \u001b[0mplt\u001b[0m\u001b[0;34m.\u001b[0m\u001b[0mshow\u001b[0m\u001b[0;34m(\u001b[0m\u001b[0;34m)\u001b[0m\u001b[0;34m\u001b[0m\u001b[0m\n",
      "\u001b[0;32m//anaconda/lib/python2.7/site-packages/matplotlib/pyplot.pyc\u001b[0m in \u001b[0;36mhist\u001b[0;34m(x, bins, range, normed, weights, cumulative, bottom, histtype, align, orientation, rwidth, log, color, label, stacked, hold, **kwargs)\u001b[0m\n\u001b[1;32m   2894\u001b[0m                       \u001b[0mhisttype\u001b[0m\u001b[0;34m=\u001b[0m\u001b[0mhisttype\u001b[0m\u001b[0;34m,\u001b[0m \u001b[0malign\u001b[0m\u001b[0;34m=\u001b[0m\u001b[0malign\u001b[0m\u001b[0;34m,\u001b[0m \u001b[0morientation\u001b[0m\u001b[0;34m=\u001b[0m\u001b[0morientation\u001b[0m\u001b[0;34m,\u001b[0m\u001b[0;34m\u001b[0m\u001b[0m\n\u001b[1;32m   2895\u001b[0m                       \u001b[0mrwidth\u001b[0m\u001b[0;34m=\u001b[0m\u001b[0mrwidth\u001b[0m\u001b[0;34m,\u001b[0m \u001b[0mlog\u001b[0m\u001b[0;34m=\u001b[0m\u001b[0mlog\u001b[0m\u001b[0;34m,\u001b[0m \u001b[0mcolor\u001b[0m\u001b[0;34m=\u001b[0m\u001b[0mcolor\u001b[0m\u001b[0;34m,\u001b[0m \u001b[0mlabel\u001b[0m\u001b[0;34m=\u001b[0m\u001b[0mlabel\u001b[0m\u001b[0;34m,\u001b[0m\u001b[0;34m\u001b[0m\u001b[0m\n\u001b[0;32m-> 2896\u001b[0;31m                       stacked=stacked, **kwargs)\n\u001b[0m\u001b[1;32m   2897\u001b[0m         \u001b[0mdraw_if_interactive\u001b[0m\u001b[0;34m(\u001b[0m\u001b[0;34m)\u001b[0m\u001b[0;34m\u001b[0m\u001b[0m\n\u001b[1;32m   2898\u001b[0m     \u001b[0;32mfinally\u001b[0m\u001b[0;34m:\u001b[0m\u001b[0;34m\u001b[0m\u001b[0m\n",
      "\u001b[0;32m//anaconda/lib/python2.7/site-packages/matplotlib/axes/_axes.pyc\u001b[0m in \u001b[0;36mhist\u001b[0;34m(self, x, bins, range, normed, weights, cumulative, bottom, histtype, align, orientation, rwidth, log, color, label, stacked, **kwargs)\u001b[0m\n\u001b[1;32m   5886\u001b[0m             \u001b[0;32mif\u001b[0m \u001b[0mpatch\u001b[0m\u001b[0;34m:\u001b[0m\u001b[0;34m\u001b[0m\u001b[0m\n\u001b[1;32m   5887\u001b[0m                 \u001b[0mp\u001b[0m \u001b[0;34m=\u001b[0m \u001b[0mpatch\u001b[0m\u001b[0;34m[\u001b[0m\u001b[0;36m0\u001b[0m\u001b[0;34m]\u001b[0m\u001b[0;34m\u001b[0m\u001b[0m\n\u001b[0;32m-> 5888\u001b[0;31m                 \u001b[0mp\u001b[0m\u001b[0;34m.\u001b[0m\u001b[0mupdate\u001b[0m\u001b[0;34m(\u001b[0m\u001b[0mkwargs\u001b[0m\u001b[0;34m)\u001b[0m\u001b[0;34m\u001b[0m\u001b[0m\n\u001b[0m\u001b[1;32m   5889\u001b[0m                 \u001b[0;32mif\u001b[0m \u001b[0mlbl\u001b[0m \u001b[0;32mis\u001b[0m \u001b[0;32mnot\u001b[0m \u001b[0mNone\u001b[0m\u001b[0;34m:\u001b[0m\u001b[0;34m\u001b[0m\u001b[0m\n\u001b[1;32m   5890\u001b[0m                     \u001b[0mp\u001b[0m\u001b[0;34m.\u001b[0m\u001b[0mset_label\u001b[0m\u001b[0;34m(\u001b[0m\u001b[0mlbl\u001b[0m\u001b[0;34m)\u001b[0m\u001b[0;34m\u001b[0m\u001b[0m\n",
      "\u001b[0;32m//anaconda/lib/python2.7/site-packages/matplotlib/artist.pyc\u001b[0m in \u001b[0;36mupdate\u001b[0;34m(self, props)\u001b[0m\n\u001b[1;32m    755\u001b[0m             \u001b[0mfunc\u001b[0m \u001b[0;34m=\u001b[0m \u001b[0mgetattr\u001b[0m\u001b[0;34m(\u001b[0m\u001b[0mself\u001b[0m\u001b[0;34m,\u001b[0m \u001b[0;34m'set_'\u001b[0m \u001b[0;34m+\u001b[0m \u001b[0mk\u001b[0m\u001b[0;34m,\u001b[0m \u001b[0mNone\u001b[0m\u001b[0;34m)\u001b[0m\u001b[0;34m\u001b[0m\u001b[0m\n\u001b[1;32m    756\u001b[0m             \u001b[0;32mif\u001b[0m \u001b[0mfunc\u001b[0m \u001b[0;32mis\u001b[0m \u001b[0mNone\u001b[0m \u001b[0;32mor\u001b[0m \u001b[0;32mnot\u001b[0m \u001b[0msix\u001b[0m\u001b[0;34m.\u001b[0m\u001b[0mcallable\u001b[0m\u001b[0;34m(\u001b[0m\u001b[0mfunc\u001b[0m\u001b[0;34m)\u001b[0m\u001b[0;34m:\u001b[0m\u001b[0;34m\u001b[0m\u001b[0m\n\u001b[0;32m--> 757\u001b[0;31m                 \u001b[0;32mraise\u001b[0m \u001b[0mAttributeError\u001b[0m\u001b[0;34m(\u001b[0m\u001b[0;34m'Unknown property %s'\u001b[0m \u001b[0;34m%\u001b[0m \u001b[0mk\u001b[0m\u001b[0;34m)\u001b[0m\u001b[0;34m\u001b[0m\u001b[0m\n\u001b[0m\u001b[1;32m    758\u001b[0m             \u001b[0mfunc\u001b[0m\u001b[0;34m(\u001b[0m\u001b[0mv\u001b[0m\u001b[0;34m)\u001b[0m\u001b[0;34m\u001b[0m\u001b[0m\n\u001b[1;32m    759\u001b[0m             \u001b[0mchanged\u001b[0m \u001b[0;34m=\u001b[0m \u001b[0mTrue\u001b[0m\u001b[0;34m\u001b[0m\u001b[0m\n",
      "\u001b[0;31mAttributeError\u001b[0m: Unknown property bin"
     ]
    },
    {
     "data": {
      "image/png": "[encoded data removed]",
      "text/plain": [
       "<matplotlib.figure.Figure at 0x10cd83b50>"
      ]
     },
     "metadata": {},
     "output_type": "display_data"
    }
   ],
   "source": [
    "## Plot histograms for top 5 major categories\n",
    "\n",
    "plt.figure()\n",
    "\n",
    "for i in range(1,5):\n",
    "    plt.subplot(5,1,i)\n",
    "    x = np.array(majors.Median[majors.Major_category==MajInd[i-1]])\n",
    "    plt.hist(x,bin=5,normed=True)\n",
    "    \n",
    "plt.show()\n",
    "\n",
    "## Doesn't really work out... "
   ]
  },
  {
   "cell_type": "code",
   "execution_count": 80,
   "metadata": {
    "collapsed": false
   },
   "outputs": [
    {
     "data": {
      "text/html": [
       "<div>\n",
       "<table border=\"1\" class=\"dataframe\">\n",
       "  <thead>\n",
       "    <tr style=\"text-align: right;\">\n",
       "      <th></th>\n",
       "      <th>Major</th>\n",
       "      <th>Unemployment_rate</th>\n",
       "      <th>Unemployed</th>\n",
       "    </tr>\n",
       "  </thead>\n",
       "  <tbody>\n",
       "    <tr>\n",
       "      <th>161</th>\n",
       "      <td>BUSINESS MANAGEMENT AND ADMINISTRATION</td>\n",
       "      <td>0.058865</td>\n",
       "      <td>147261</td>\n",
       "    </tr>\n",
       "    <tr>\n",
       "      <th>158</th>\n",
       "      <td>GENERAL BUSINESS</td>\n",
       "      <td>0.051378</td>\n",
       "      <td>85626</td>\n",
       "    </tr>\n",
       "    <tr>\n",
       "      <th>114</th>\n",
       "      <td>PSYCHOLOGY</td>\n",
       "      <td>0.069667</td>\n",
       "      <td>79066</td>\n",
       "    </tr>\n",
       "    <tr>\n",
       "      <th>159</th>\n",
       "      <td>ACCOUNTING</td>\n",
       "      <td>0.053415</td>\n",
       "      <td>75379</td>\n",
       "    </tr>\n",
       "    <tr>\n",
       "      <th>13</th>\n",
       "      <td>COMMUNICATIONS</td>\n",
       "      <td>0.064360</td>\n",
       "      <td>54390</td>\n",
       "    </tr>\n",
       "    <tr>\n",
       "      <th>73</th>\n",
       "      <td>ENGLISH LANGUAGE AND LITERATURE</td>\n",
       "      <td>0.068645</td>\n",
       "      <td>52248</td>\n",
       "    </tr>\n",
       "    <tr>\n",
       "      <th>164</th>\n",
       "      <td>MARKETING AND MARKETING RESEARCH</td>\n",
       "      <td>0.055033</td>\n",
       "      <td>51839</td>\n",
       "    </tr>\n",
       "    <tr>\n",
       "      <th>132</th>\n",
       "      <td>POLITICAL SCIENCE AND GOVERNMENT</td>\n",
       "      <td>0.069374</td>\n",
       "      <td>40376</td>\n",
       "    </tr>\n",
       "    <tr>\n",
       "      <th>25</th>\n",
       "      <td>GENERAL EDUCATION</td>\n",
       "      <td>0.043904</td>\n",
       "      <td>38742</td>\n",
       "    </tr>\n",
       "    <tr>\n",
       "      <th>78</th>\n",
       "      <td>BIOLOGY</td>\n",
       "      <td>0.059301</td>\n",
       "      <td>36757</td>\n",
       "    </tr>\n",
       "  </tbody>\n",
       "</table>\n",
       "</div>"
      ],
      "text/plain": [
       "                                      Major  Unemployment_rate  Unemployed\n",
       "161  BUSINESS MANAGEMENT AND ADMINISTRATION           0.058865      147261\n",
       "158                        GENERAL BUSINESS           0.051378       85626\n",
       "114                              PSYCHOLOGY           0.069667       79066\n",
       "159                              ACCOUNTING           0.053415       75379\n",
       "13                           COMMUNICATIONS           0.064360       54390\n",
       "73          ENGLISH LANGUAGE AND LITERATURE           0.068645       52248\n",
       "164        MARKETING AND MARKETING RESEARCH           0.055033       51839\n",
       "132        POLITICAL SCIENCE AND GOVERNMENT           0.069374       40376\n",
       "25                        GENERAL EDUCATION           0.043904       38742\n",
       "78                                  BIOLOGY           0.059301       36757"
      ]
     },
     "execution_count": 80,
     "metadata": {},
     "output_type": "execute_result"
    }
   ],
   "source": [
    "# 9. What are the top 10 most UNemployed majors?\n",
    "# What are the unemployment rates?\n",
    "\n",
    "majors[['Major','Unemployment_rate','Unemployed']].sort_values(by='Unemployed',ascending=False).head(10)"
   ]
  },
  {
   "cell_type": "code",
   "execution_count": 82,
   "metadata": {
    "collapsed": false
   },
   "outputs": [
    {
     "data": {
      "text/html": [
       "<div>\n",
       "<table border=\"1\" class=\"dataframe\">\n",
       "  <thead>\n",
       "    <tr style=\"text-align: right;\">\n",
       "      <th></th>\n",
       "      <th>Unnamed: 0</th>\n",
       "      <th>Major_code</th>\n",
       "      <th>Major</th>\n",
       "      <th>Major_category</th>\n",
       "      <th>Total</th>\n",
       "      <th>Employed</th>\n",
       "      <th>Employed_full_time_year_round</th>\n",
       "      <th>Unemployed</th>\n",
       "      <th>Unemployment_rate</th>\n",
       "      <th>Median</th>\n",
       "      <th>P25th</th>\n",
       "      <th>P75th</th>\n",
       "      <th>sample_employment_rate</th>\n",
       "    </tr>\n",
       "  </thead>\n",
       "  <tbody>\n",
       "    <tr>\n",
       "      <th>0</th>\n",
       "      <td>0</td>\n",
       "      <td>1100</td>\n",
       "      <td>GENERAL AGRICULTURE</td>\n",
       "      <td>Agriculture &amp; Natural Resources</td>\n",
       "      <td>128148</td>\n",
       "      <td>90245</td>\n",
       "      <td>74078</td>\n",
       "      <td>2423</td>\n",
       "      <td>0.026147</td>\n",
       "      <td>50000</td>\n",
       "      <td>34000</td>\n",
       "      <td>80000</td>\n",
       "      <td>0.704225</td>\n",
       "    </tr>\n",
       "    <tr>\n",
       "      <th>1</th>\n",
       "      <td>1</td>\n",
       "      <td>1101</td>\n",
       "      <td>AGRICULTURE PRODUCTION AND MANAGEMENT</td>\n",
       "      <td>Agriculture &amp; Natural Resources</td>\n",
       "      <td>95326</td>\n",
       "      <td>76865</td>\n",
       "      <td>64240</td>\n",
       "      <td>2266</td>\n",
       "      <td>0.028636</td>\n",
       "      <td>54000</td>\n",
       "      <td>36000</td>\n",
       "      <td>80000</td>\n",
       "      <td>0.806338</td>\n",
       "    </tr>\n",
       "    <tr>\n",
       "      <th>2</th>\n",
       "      <td>2</td>\n",
       "      <td>1102</td>\n",
       "      <td>AGRICULTURAL ECONOMICS</td>\n",
       "      <td>Agriculture &amp; Natural Resources</td>\n",
       "      <td>33955</td>\n",
       "      <td>26321</td>\n",
       "      <td>22810</td>\n",
       "      <td>821</td>\n",
       "      <td>0.030248</td>\n",
       "      <td>63000</td>\n",
       "      <td>40000</td>\n",
       "      <td>98000</td>\n",
       "      <td>0.775173</td>\n",
       "    </tr>\n",
       "    <tr>\n",
       "      <th>3</th>\n",
       "      <td>3</td>\n",
       "      <td>1103</td>\n",
       "      <td>ANIMAL SCIENCES</td>\n",
       "      <td>Agriculture &amp; Natural Resources</td>\n",
       "      <td>103549</td>\n",
       "      <td>81177</td>\n",
       "      <td>64937</td>\n",
       "      <td>3619</td>\n",
       "      <td>0.042679</td>\n",
       "      <td>46000</td>\n",
       "      <td>30000</td>\n",
       "      <td>72000</td>\n",
       "      <td>0.783948</td>\n",
       "    </tr>\n",
       "    <tr>\n",
       "      <th>4</th>\n",
       "      <td>4</td>\n",
       "      <td>1104</td>\n",
       "      <td>FOOD SCIENCE</td>\n",
       "      <td>Agriculture &amp; Natural Resources</td>\n",
       "      <td>24280</td>\n",
       "      <td>17281</td>\n",
       "      <td>12722</td>\n",
       "      <td>894</td>\n",
       "      <td>0.049188</td>\n",
       "      <td>62000</td>\n",
       "      <td>38500</td>\n",
       "      <td>90000</td>\n",
       "      <td>0.711738</td>\n",
       "    </tr>\n",
       "    <tr>\n",
       "      <th>5</th>\n",
       "      <td>5</td>\n",
       "      <td>1105</td>\n",
       "      <td>PLANT SCIENCE AND AGRONOMY</td>\n",
       "      <td>Agriculture &amp; Natural Resources</td>\n",
       "      <td>79409</td>\n",
       "      <td>63043</td>\n",
       "      <td>51077</td>\n",
       "      <td>2070</td>\n",
       "      <td>0.031791</td>\n",
       "      <td>50000</td>\n",
       "      <td>35000</td>\n",
       "      <td>75000</td>\n",
       "      <td>0.793902</td>\n",
       "    </tr>\n",
       "    <tr>\n",
       "      <th>6</th>\n",
       "      <td>6</td>\n",
       "      <td>1106</td>\n",
       "      <td>SOIL SCIENCE</td>\n",
       "      <td>Agriculture &amp; Natural Resources</td>\n",
       "      <td>6586</td>\n",
       "      <td>4926</td>\n",
       "      <td>4042</td>\n",
       "      <td>264</td>\n",
       "      <td>0.050867</td>\n",
       "      <td>63000</td>\n",
       "      <td>39400</td>\n",
       "      <td>88000</td>\n",
       "      <td>0.747950</td>\n",
       "    </tr>\n",
       "    <tr>\n",
       "      <th>7</th>\n",
       "      <td>7</td>\n",
       "      <td>1199</td>\n",
       "      <td>MISCELLANEOUS AGRICULTURE</td>\n",
       "      <td>Agriculture &amp; Natural Resources</td>\n",
       "      <td>8549</td>\n",
       "      <td>6392</td>\n",
       "      <td>5074</td>\n",
       "      <td>261</td>\n",
       "      <td>0.039230</td>\n",
       "      <td>52000</td>\n",
       "      <td>35000</td>\n",
       "      <td>75000</td>\n",
       "      <td>0.747690</td>\n",
       "    </tr>\n",
       "    <tr>\n",
       "      <th>8</th>\n",
       "      <td>8</td>\n",
       "      <td>1301</td>\n",
       "      <td>ENVIRONMENTAL SCIENCE</td>\n",
       "      <td>Biology &amp; Life Science</td>\n",
       "      <td>106106</td>\n",
       "      <td>87602</td>\n",
       "      <td>65238</td>\n",
       "      <td>4736</td>\n",
       "      <td>0.051290</td>\n",
       "      <td>52000</td>\n",
       "      <td>38000</td>\n",
       "      <td>75000</td>\n",
       "      <td>0.825608</td>\n",
       "    </tr>\n",
       "    <tr>\n",
       "      <th>9</th>\n",
       "      <td>9</td>\n",
       "      <td>1302</td>\n",
       "      <td>FORESTRY</td>\n",
       "      <td>Agriculture &amp; Natural Resources</td>\n",
       "      <td>69447</td>\n",
       "      <td>48228</td>\n",
       "      <td>39613</td>\n",
       "      <td>2144</td>\n",
       "      <td>0.042563</td>\n",
       "      <td>58000</td>\n",
       "      <td>40500</td>\n",
       "      <td>80000</td>\n",
       "      <td>0.694458</td>\n",
       "    </tr>\n",
       "  </tbody>\n",
       "</table>\n",
       "</div>"
      ],
      "text/plain": [
       "   Unnamed: 0  Major_code                                  Major  \\\n",
       "0           0        1100                    GENERAL AGRICULTURE   \n",
       "1           1        1101  AGRICULTURE PRODUCTION AND MANAGEMENT   \n",
       "2           2        1102                 AGRICULTURAL ECONOMICS   \n",
       "3           3        1103                        ANIMAL SCIENCES   \n",
       "4           4        1104                           FOOD SCIENCE   \n",
       "5           5        1105             PLANT SCIENCE AND AGRONOMY   \n",
       "6           6        1106                           SOIL SCIENCE   \n",
       "7           7        1199              MISCELLANEOUS AGRICULTURE   \n",
       "8           8        1301                  ENVIRONMENTAL SCIENCE   \n",
       "9           9        1302                               FORESTRY   \n",
       "\n",
       "                    Major_category   Total  Employed  \\\n",
       "0  Agriculture & Natural Resources  128148     90245   \n",
       "1  Agriculture & Natural Resources   95326     76865   \n",
       "2  Agriculture & Natural Resources   33955     26321   \n",
       "3  Agriculture & Natural Resources  103549     81177   \n",
       "4  Agriculture & Natural Resources   24280     17281   \n",
       "5  Agriculture & Natural Resources   79409     63043   \n",
       "6  Agriculture & Natural Resources    6586      4926   \n",
       "7  Agriculture & Natural Resources    8549      6392   \n",
       "8           Biology & Life Science  106106     87602   \n",
       "9  Agriculture & Natural Resources   69447     48228   \n",
       "\n",
       "   Employed_full_time_year_round  Unemployed  Unemployment_rate  Median  \\\n",
       "0                          74078        2423           0.026147   50000   \n",
       "1                          64240        2266           0.028636   54000   \n",
       "2                          22810         821           0.030248   63000   \n",
       "3                          64937        3619           0.042679   46000   \n",
       "4                          12722         894           0.049188   62000   \n",
       "5                          51077        2070           0.031791   50000   \n",
       "6                           4042         264           0.050867   63000   \n",
       "7                           5074         261           0.039230   52000   \n",
       "8                          65238        4736           0.051290   52000   \n",
       "9                          39613        2144           0.042563   58000   \n",
       "\n",
       "   P25th  P75th  sample_employment_rate  \n",
       "0  34000  80000                0.704225  \n",
       "1  36000  80000                0.806338  \n",
       "2  40000  98000                0.775173  \n",
       "3  30000  72000                0.783948  \n",
       "4  38500  90000                0.711738  \n",
       "5  35000  75000                0.793902  \n",
       "6  39400  88000                0.747950  \n",
       "7  35000  75000                0.747690  \n",
       "8  38000  75000                0.825608  \n",
       "9  40500  80000                0.694458  "
      ]
     },
     "execution_count": 82,
     "metadata": {},
     "output_type": "execute_result"
    }
   ],
   "source": [
    "# 11. the total and employed column refer to the people that were surveyed.\n",
    "# Create a new column showing the emlpoyment rate of the people surveyed for each major\n",
    "# call it \"sample_employment_rate\"\n",
    "# Example the first row has total: 128148 and employed: 90245. it's \n",
    "# sample_employment_rate should be 90245.0 / 128148.0 = .7042\n",
    "\n",
    "majors['sample_employment_rate']= majors['Employed']/majors['Total']\n"
   ]
  },
  {
   "cell_type": "code",
   "execution_count": 84,
   "metadata": {
    "collapsed": false
   },
   "outputs": [],
   "source": [
    "# 12. Create a \"sample_unemployment_rate\" colun\n",
    "# this column should be 1 - \"sample_employment_rate\"\n",
    "\n",
    "majors['sample_unemployment_rate']=1-majors['sample_employment_rate']\n"
   ]
  }
 ],
 "metadata": {
  "kernelspec": {
   "display_name": "Python 2",
   "language": "python",
   "name": "python2"
  },
  "language_info": {
   "codemirror_mode": {
    "name": "ipython",
    "version": 2
   },
   "file_extension": ".py",
   "mimetype": "text/x-python",
   "name": "python",
   "nbconvert_exporter": "python",
   "pygments_lexer": "ipython2",
   "version": "2.7.10"
  }
 },
 "nbformat": 4,
 "nbformat_minor": 0
}
