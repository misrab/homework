{
 "cells": [
  {
   "cell_type": "markdown",
   "metadata": {},
   "source": [
    "# Lab: K Nearest Neighbours, 23 Jan 2016"
   ]
  },
  {
   "cell_type": "code",
   "execution_count": 1,
   "metadata": {
    "collapsed": true
   },
   "outputs": [],
   "source": [
    "import pandas as pd\n",
    "import numpy as np\n"
   ]
  },
  {
   "cell_type": "code",
   "execution_count": 2,
   "metadata": {
    "collapsed": true
   },
   "outputs": [],
   "source": [
    "## Calculating Euclidean Distance\n",
    "\n",
    "## Define a functon that takes in two numpy arrays, and calculates the euclidean distance between them\n",
    "\n",
    "def euclidean_distance(np1, np2):\n",
    "    return np.linalg.norm(np1-np2)"
   ]
  },
  {
   "cell_type": "code",
   "execution_count": 10,
   "metadata": {
    "collapsed": false
   },
   "outputs": [
    {
     "data": {
      "text/plain": [
       "numpy.ndarray"
      ]
     },
     "execution_count": 10,
     "metadata": {},
     "output_type": "execute_result"
    }
   ],
   "source": [
    "iris_data = pd.read_csv('https://raw.githubusercontent.com/sinanuozdemir/SF_DAT_15/master/data/iris.csv')\n",
    "\n",
    "# iris_data is a dataframe, but let's turn it into\n",
    "# a 2D numpy array\n",
    "# Hint: use .values to turn a dataframe into a 2d array\n",
    "\n",
    "iris_data = np.array([row for row in iris_data.values])\n"
   ]
  },
  {
   "cell_type": "markdown",
   "metadata": {},
   "source": [
    "### Question: in terms of machine learning:\n",
    "a. the first four columns are called what? Predictors\n",
    "\n",
    "b. the species column is called what? Outcome\n"
   ]
  },
  {
   "cell_type": "code",
   "execution_count": 40,
   "metadata": {
    "collapsed": false
   },
   "outputs": [
    {
     "data": {
      "text/plain": [
       "[(4.4866468548349108, 'Iris-setosa'),\n",
       " (4.5276925690687078, 'Iris-setosa'),\n",
       " (4.6743983570080969, 'Iris-setosa'),\n",
       " (4.5486261662176632, 'Iris-setosa'),\n",
       " (4.524378410345447, 'Iris-setosa'),\n",
       " (4.1243181254602561, 'Iris-setosa'),\n",
       " (4.591296113299598, 'Iris-setosa'),\n",
       " (4.4249293779675165, 'Iris-setosa'),\n",
       " (4.7095647357266461, 'Iris-setosa'),\n",
       " (4.495553358597804, 'Iris-setosa'),\n",
       " (4.3554563480765127, 'Iris-setosa'),\n",
       " (4.4079473681068375, 'Iris-setosa'),\n",
       " (4.608687448721164, 'Iris-setosa'),\n",
       " (5.0299105359837162, 'Iris-setosa'),\n",
       " (4.5945620030640564, 'Iris-setosa'),\n",
       " (4.3600458713183281, 'Iris-setosa'),\n",
       " (4.4598206241955518, 'Iris-setosa'),\n",
       " (4.4384682042344288, 'Iris-setosa'),\n",
       " (4.1012193308819755, 'Iris-setosa'),\n",
       " (4.3931765272977588, 'Iris-setosa'),\n",
       " (4.1593268686170832, 'Iris-setosa'),\n",
       " (4.3312815655415431, 'Iris-setosa'),\n",
       " (4.9789557138018408, 'Iris-setosa'),\n",
       " (4.080441152620633, 'Iris-setosa'),\n",
       " (4.1737273509418413, 'Iris-setosa'),\n",
       " (4.3347433603386483, 'Iris-setosa'),\n",
       " (4.246174749112428, 'Iris-setosa'),\n",
       " (4.3783558557979267, 'Iris-setosa'),\n",
       " (4.4530888156424631, 'Iris-setosa'),\n",
       " (4.4339598554790722, 'Iris-setosa'),\n",
       " (4.3977266854592036, 'Iris-setosa'),\n",
       " (4.2261093218230874, 'Iris-setosa'),\n",
       " (4.5232731511594562, 'Iris-setosa'),\n",
       " (4.5144213361182839, 'Iris-setosa'),\n",
       " (4.495553358597804, 'Iris-setosa'),\n",
       " (4.6636895265444069, 'Iris-setosa'),\n",
       " (4.4810713004816156, 'Iris-setosa'),\n",
       " (4.495553358597804, 'Iris-setosa'),\n",
       " (4.7853944456021598, 'Iris-setosa'),\n",
       " (4.3965895873961216, 'Iris-setosa'),\n",
       " (4.5497252664309302, 'Iris-setosa'),\n",
       " (4.7675989764240869, 'Iris-setosa'),\n",
       " (4.7853944456021598, 'Iris-setosa'),\n",
       " (4.1641325627314023, 'Iris-setosa'),\n",
       " (4.0211938525766202, 'Iris-setosa'),\n",
       " (4.512205669071391, 'Iris-setosa'),\n",
       " (4.361192497471305, 'Iris-setosa'),\n",
       " (4.6292547996410827, 'Iris-setosa'),\n",
       " (4.3772137256478576, 'Iris-setosa'),\n",
       " (4.5011109739707589, 'Iris-setosa'),\n",
       " (1.2884098726725126, 'Iris-versicolor'),\n",
       " (1.0908712114635712, 'Iris-versicolor'),\n",
       " (1.1000000000000001, 'Iris-versicolor'),\n",
       " (1.9235384061671343, 'Iris-versicolor'),\n",
       " (1.0908712114635715, 'Iris-versicolor'),\n",
       " (1.4212670403551892, 'Iris-versicolor'),\n",
       " (0.91651513899116754, 'Iris-versicolor'),\n",
       " (2.7658633371878656, 'Iris-versicolor'),\n",
       " (1.260952021291849, 'Iris-versicolor'),\n",
       " (1.9519221295943132, 'Iris-versicolor'),\n",
       " (2.7239676943752467, 'Iris-versicolor'),\n",
       " (1.3379088160259647, 'Iris-versicolor'),\n",
       " (2.017424100183201, 'Iris-versicolor'),\n",
       " (1.1135528725660042, 'Iris-versicolor'),\n",
       " (1.9974984355438175, 'Iris-versicolor'),\n",
       " (1.2845232578665127, 'Iris-versicolor'),\n",
       " (1.2922847983320085, 'Iris-versicolor'),\n",
       " (1.8357559750685819, 'Iris-versicolor'),\n",
       " (1.4106735979665881, 'Iris-versicolor'),\n",
       " (1.994993734326, 'Iris-versicolor'),\n",
       " (0.78740078740118069, 'Iris-versicolor'),\n",
       " (1.5968719422671309, 'Iris-versicolor'),\n",
       " (1.0999999999999999, 'Iris-versicolor'),\n",
       " (1.3152946437965904, 'Iris-versicolor'),\n",
       " (1.3784048752090219, 'Iris-versicolor'),\n",
       " (1.2609520212918488, 'Iris-versicolor'),\n",
       " (1.1958260743101399, 'Iris-versicolor'),\n",
       " (0.81853527718724506, 'Iris-versicolor'),\n",
       " (1.1401754250991376, 'Iris-versicolor'),\n",
       " (2.2649503305812244, 'Iris-versicolor'),\n",
       " (2.1236760581595298, 'Iris-versicolor'),\n",
       " (2.2472205054244228, 'Iris-versicolor'),\n",
       " (1.8138357147217052, 'Iris-versicolor'),\n",
       " (0.94339811320566014, 'Iris-versicolor'),\n",
       " (1.4106735979665879, 'Iris-versicolor'),\n",
       " (1.0862780491200212, 'Iris-versicolor'),\n",
       " (1.0630145812734648, 'Iris-versicolor'),\n",
       " (1.5297058540778352, 'Iris-versicolor'),\n",
       " (1.6462077633154328, 'Iris-versicolor'),\n",
       " (1.8493242008906927, 'Iris-versicolor'),\n",
       " (1.6792855623746661, 'Iris-versicolor'),\n",
       " (1.1401754250991381, 'Iris-versicolor'),\n",
       " (1.7748239349298847, 'Iris-versicolor'),\n",
       " (2.7440845468024486, 'Iris-versicolor'),\n",
       " (1.6340134638368189, 'Iris-versicolor'),\n",
       " (1.618641405623864, 'Iris-versicolor'),\n",
       " (1.5556349186104039, 'Iris-versicolor'),\n",
       " (1.3784048752090219, 'Iris-versicolor'),\n",
       " (2.8106938645110389, 'Iris-versicolor'),\n",
       " (1.6309506430300089, 'Iris-versicolor'),\n",
       " (0.92736184954957068, 'Iris-virginica'),\n",
       " (0.81240384046359604, 'Iris-virginica'),\n",
       " (1.1747340124470733, 'Iris-virginica'),\n",
       " (0.80622577482985491, 'Iris-virginica'),\n",
       " (0.761577310586391, 'Iris-virginica'),\n",
       " (2.0099751242241779, 'Iris-virginica'),\n",
       " (1.780449381476485, 'Iris-virginica'),\n",
       " (1.6852299546352718, 'Iris-virginica'),\n",
       " (1.1704699910719627, 'Iris-virginica'),\n",
       " (1.4387494569938162, 'Iris-virginica'),\n",
       " (0.45825756949558405, 'Iris-virginica'),\n",
       " (0.67823299831252692, 'Iris-virginica'),\n",
       " (0.71414284285428509, 'Iris-virginica'),\n",
       " (0.94339811320566014, 'Iris-virginica'),\n",
       " (0.58309518948453021, 'Iris-virginica'),\n",
       " (0.26457513110645947, 'Iris-virginica'),\n",
       " (0.75498344352707514, 'Iris-virginica'),\n",
       " (2.2472205054244236, 'Iris-virginica'),\n",
       " (2.336664289109585, 'Iris-virginica'),\n",
       " (1.3114877048603999, 'Iris-virginica'),\n",
       " (0.86023252670426342, 'Iris-virginica'),\n",
       " (0.88317608663278468, 'Iris-virginica'),\n",
       " (2.184032966784156, 'Iris-virginica'),\n",
       " (0.74833147735478789, 'Iris-virginica'),\n",
       " (0.80622577482985536, 'Iris-virginica'),\n",
       " (1.4106735979665888, 'Iris-virginica'),\n",
       " (0.74161984870956621, 'Iris-virginica'),\n",
       " (0.67082039324993659, 'Iris-virginica'),\n",
       " (0.66332495807108005, 'Iris-virginica'),\n",
       " (1.3964240043768943, 'Iris-virginica'),\n",
       " (1.5968719422671316, 'Iris-virginica'),\n",
       " (2.2135943621178664, 'Iris-virginica'),\n",
       " (0.62449979983983994, 'Iris-virginica'),\n",
       " (0.94868329805051377, 'Iris-virginica'),\n",
       " (1.2409673645990857, 'Iris-virginica'),\n",
       " (1.7262676501632073, 'Iris-virginica'),\n",
       " (0.58309518948452999, 'Iris-virginica'),\n",
       " (0.72801098892805205, 'Iris-virginica'),\n",
       " (0.74161984870956599, 'Iris-virginica'),\n",
       " (0.73484692283495401, 'Iris-virginica'),\n",
       " (0.64031242374328512, 'Iris-virginica'),\n",
       " (0.60827625302982247, 'Iris-virginica'),\n",
       " (0.81240384046359604, 'Iris-virginica'),\n",
       " (0.95393920141694621, 'Iris-virginica'),\n",
       " (0.75498344352707547, 'Iris-virginica'),\n",
       " (0.43588989435406783, 'Iris-virginica'),\n",
       " (0.78740078740118113, 'Iris-virginica'),\n",
       " (0.46904157598234308, 'Iris-virginica'),\n",
       " (0.44721359549995821, 'Iris-virginica'),\n",
       " (0.72801098892805138, 'Iris-virginica')]"
      ]
     },
     "execution_count": 40,
     "metadata": {},
     "output_type": "execute_result"
    }
   ],
   "source": [
    "'''\n",
    "Part 2: Predictions\n",
    "\n",
    "Before we jump into making a general function,\n",
    "let's try to predict \n",
    "\n",
    "unknown = [ 6.3,  3.1 ,  5.1,  2.4] with 3 neighbors\n",
    "'''\n",
    "\n",
    "# define our variables\n",
    "unknown = [ 6.3,  3.1 ,  5.1,  2.4]\n",
    "k = 3\n",
    "\n",
    "# Make a a list \"distances\" consisting of tuples\n",
    "# Each tuple should be\n",
    "# (euc_distance(unknown, data_point), species)\n",
    "# for each data_point in iris_data\n",
    "\n",
    "distance = [(euclidean_distance(unknown,iris_data[i][:4]),iris_data[i][4]) for i in range(len(iris_data))]\n",
    "distance"
   ]
  },
  {
   "cell_type": "code",
   "execution_count": 69,
   "metadata": {
    "collapsed": false
   },
   "outputs": [
    {
     "data": {
      "text/plain": [
       "['Iris-virginica', 'Iris-virginica', 'Iris-virginica']"
      ]
     },
     "execution_count": 69,
     "metadata": {},
     "output_type": "execute_result"
    }
   ],
   "source": [
    "## K nearest neighbours\n",
    "nearest = sorted(distance)[:k]\n",
    "nearest = [x[1] for x in nearest]\n",
    "\n",
    "nearest"
   ]
  },
  {
   "cell_type": "code",
   "execution_count": 45,
   "metadata": {
    "collapsed": true
   },
   "outputs": [],
   "source": [
    "from collections import Counter"
   ]
  },
  {
   "cell_type": "code",
   "execution_count": 71,
   "metadata": {
    "collapsed": false
   },
   "outputs": [
    {
     "data": {
      "text/plain": [
       "[('Iris-virginica', 3)]"
      ]
     },
     "execution_count": 71,
     "metadata": {},
     "output_type": "execute_result"
    }
   ],
   "source": [
    "# Counts the most common species \n",
    "\n",
    "Counter(nearest).most_common(1)"
   ]
  },
  {
   "cell_type": "code",
   "execution_count": 76,
   "metadata": {
    "collapsed": false
   },
   "outputs": [
    {
     "name": "stdout",
     "output_type": "stream",
     "text": [
      "Iris-virginica\n"
     ]
    }
   ],
   "source": [
    "# Predicting the most common species by count\n",
    "\n",
    "predictions = Counter(nearest).most_common(1)[0][0]\n",
    "print predictions"
   ]
  },
  {
   "cell_type": "code",
   "execution_count": 98,
   "metadata": {
    "collapsed": false
   },
   "outputs": [],
   "source": [
    "## Defining a function that performs the above\n",
    "\n",
    "def predict(unknown, k = 3):\n",
    "    dist = [(euclidean_distance(unknown,iris_data[i][:4]),iris_data[i][4]) for i in range(len(iris_data))]\n",
    "    near = sorted(dist)[:k]\n",
    "    nearest_neighbours = [x[1] for x in near]\n",
    "    predictions = Counter(nearest_neighbours).most_common(1)[0][0]\n",
    "    print \"A prediction of the species of flower according to the three nearest neighbours is %s\" % predictions\n",
    "    return predictions\n",
    "   \n",
    "\n"
   ]
  },
  {
   "cell_type": "code",
   "execution_count": 99,
   "metadata": {
    "collapsed": false
   },
   "outputs": [
    {
     "name": "stdout",
     "output_type": "stream",
     "text": [
      "A prediction of the species of flower according to the three nearest neighbours is Iris-virginica\n"
     ]
    },
    {
     "data": {
      "text/plain": [
       "'Iris-virginica'"
      ]
     },
     "execution_count": 99,
     "metadata": {},
     "output_type": "execute_result"
    }
   ],
   "source": [
    "## Trying out ze new function\n",
    "\n",
    "new_unknown = [5.8,  2.7,  5.1,  1.9]\n",
    "predict(new_unknown)\n",
    "\n",
    "\n",
    "## Didn't get setosa"
   ]
  },
  {
   "cell_type": "code",
   "execution_count": 103,
   "metadata": {
    "collapsed": false
   },
   "outputs": [
    {
     "name": "stdout",
     "output_type": "stream",
     "text": [
      "A prediction of the species of flower according to the three nearest neighbours is Iris-setosa\n",
      "A prediction of the species of flower according to the three nearest neighbours is Iris-setosa\n",
      "A prediction of the species of flower according to the three nearest neighbours is Iris-setosa\n",
      "A prediction of the species of flower according to the three nearest neighbours is Iris-setosa\n",
      "A prediction of the species of flower according to the three nearest neighbours is Iris-setosa\n",
      "A prediction of the species of flower according to the three nearest neighbours is Iris-setosa\n",
      "A prediction of the species of flower according to the three nearest neighbours is Iris-setosa\n",
      "A prediction of the species of flower according to the three nearest neighbours is Iris-setosa\n",
      "A prediction of the species of flower according to the three nearest neighbours is Iris-setosa\n",
      "A prediction of the species of flower according to the three nearest neighbours is Iris-setosa\n",
      "A prediction of the species of flower according to the three nearest neighbours is Iris-setosa\n",
      "A prediction of the species of flower according to the three nearest neighbours is Iris-setosa\n",
      "A prediction of the species of flower according to the three nearest neighbours is Iris-setosa\n",
      "A prediction of the species of flower according to the three nearest neighbours is Iris-setosa\n",
      "A prediction of the species of flower according to the three nearest neighbours is Iris-setosa\n",
      "A prediction of the species of flower according to the three nearest neighbours is Iris-setosa\n",
      "A prediction of the species of flower according to the three nearest neighbours is Iris-setosa\n",
      "A prediction of the species of flower according to the three nearest neighbours is Iris-setosa\n",
      "A prediction of the species of flower according to the three nearest neighbours is Iris-setosa\n",
      "A prediction of the species of flower according to the three nearest neighbours is Iris-setosa\n",
      "A prediction of the species of flower according to the three nearest neighbours is Iris-setosa\n",
      "A prediction of the species of flower according to the three nearest neighbours is Iris-setosa\n",
      "A prediction of the species of flower according to the three nearest neighbours is Iris-setosa\n",
      "A prediction of the species of flower according to the three nearest neighbours is Iris-setosa\n",
      "A prediction of the species of flower according to the three nearest neighbours is Iris-setosa\n",
      "A prediction of the species of flower according to the three nearest neighbours is Iris-setosa\n",
      "A prediction of the species of flower according to the three nearest neighbours is Iris-setosa\n",
      "A prediction of the species of flower according to the three nearest neighbours is Iris-setosa\n",
      "A prediction of the species of flower according to the three nearest neighbours is Iris-setosa\n",
      "A prediction of the species of flower according to the three nearest neighbours is Iris-setosa\n",
      "A prediction of the species of flower according to the three nearest neighbours is Iris-setosa\n",
      "A prediction of the species of flower according to the three nearest neighbours is Iris-setosa\n",
      "A prediction of the species of flower according to the three nearest neighbours is Iris-setosa\n",
      "A prediction of the species of flower according to the three nearest neighbours is Iris-setosa\n",
      "A prediction of the species of flower according to the three nearest neighbours is Iris-setosa\n",
      "A prediction of the species of flower according to the three nearest neighbours is Iris-setosa\n",
      "A prediction of the species of flower according to the three nearest neighbours is Iris-setosa\n",
      "A prediction of the species of flower according to the three nearest neighbours is Iris-setosa\n",
      "A prediction of the species of flower according to the three nearest neighbours is Iris-setosa\n",
      "A prediction of the species of flower according to the three nearest neighbours is Iris-setosa\n",
      "A prediction of the species of flower according to the three nearest neighbours is Iris-setosa\n",
      "A prediction of the species of flower according to the three nearest neighbours is Iris-setosa\n",
      "A prediction of the species of flower according to the three nearest neighbours is Iris-setosa\n",
      "A prediction of the species of flower according to the three nearest neighbours is Iris-setosa\n",
      "A prediction of the species of flower according to the three nearest neighbours is Iris-setosa\n",
      "A prediction of the species of flower according to the three nearest neighbours is Iris-setosa\n",
      "A prediction of the species of flower according to the three nearest neighbours is Iris-setosa\n",
      "A prediction of the species of flower according to the three nearest neighbours is Iris-setosa\n",
      "A prediction of the species of flower according to the three nearest neighbours is Iris-setosa\n",
      "A prediction of the species of flower according to the three nearest neighbours is Iris-setosa\n",
      "A prediction of the species of flower according to the three nearest neighbours is Iris-versicolor\n",
      "A prediction of the species of flower according to the three nearest neighbours is Iris-versicolor\n",
      "A prediction of the species of flower according to the three nearest neighbours is Iris-versicolor\n",
      "A prediction of the species of flower according to the three nearest neighbours is Iris-versicolor\n",
      "A prediction of the species of flower according to the three nearest neighbours is Iris-versicolor\n",
      "A prediction of the species of flower according to the three nearest neighbours is Iris-versicolor\n",
      "A prediction of the species of flower according to the three nearest neighbours is Iris-versicolor\n",
      "A prediction of the species of flower according to the three nearest neighbours is Iris-versicolor\n",
      "A prediction of the species of flower according to the three nearest neighbours is Iris-versicolor\n",
      "A prediction of the species of flower according to the three nearest neighbours is Iris-versicolor\n",
      "A prediction of the species of flower according to the three nearest neighbours is Iris-versicolor\n",
      "A prediction of the species of flower according to the three nearest neighbours is Iris-versicolor\n",
      "A prediction of the species of flower according to the three nearest neighbours is Iris-versicolor\n",
      "A prediction of the species of flower according to the three nearest neighbours is Iris-versicolor\n",
      "A prediction of the species of flower according to the three nearest neighbours is Iris-versicolor\n",
      "A prediction of the species of flower according to the three nearest neighbours is Iris-versicolor\n",
      "A prediction of the species of flower according to the three nearest neighbours is Iris-versicolor\n",
      "A prediction of the species of flower according to the three nearest neighbours is Iris-versicolor\n",
      "A prediction of the species of flower according to the three nearest neighbours is Iris-versicolor\n",
      "A prediction of the species of flower according to the three nearest neighbours is Iris-versicolor\n",
      "A prediction of the species of flower according to the three nearest neighbours is Iris-virginica\n",
      "A prediction of the species of flower according to the three nearest neighbours is Iris-versicolor\n",
      "A prediction of the species of flower according to the three nearest neighbours is Iris-virginica\n",
      "A prediction of the species of flower according to the three nearest neighbours is Iris-versicolor\n",
      "A prediction of the species of flower according to the three nearest neighbours is Iris-versicolor\n",
      "A prediction of the species of flower according to the three nearest neighbours is Iris-versicolor\n",
      "A prediction of the species of flower according to the three nearest neighbours is Iris-versicolor\n",
      "A prediction of the species of flower according to the three nearest neighbours is Iris-versicolor\n",
      "A prediction of the species of flower according to the three nearest neighbours is Iris-versicolor\n",
      "A prediction of the species of flower according to the three nearest neighbours is Iris-versicolor\n",
      "A prediction of the species of flower according to the three nearest neighbours is Iris-versicolor\n",
      "A prediction of the species of flower according to the three nearest neighbours is Iris-versicolor\n",
      "A prediction of the species of flower according to the three nearest neighbours is Iris-versicolor\n",
      "A prediction of the species of flower according to the three nearest neighbours is Iris-virginica\n",
      "A prediction of the species of flower according to the three nearest neighbours is Iris-versicolor\n",
      "A prediction of the species of flower according to the three nearest neighbours is Iris-versicolor\n",
      "A prediction of the species of flower according to the three nearest neighbours is Iris-versicolor\n",
      "A prediction of the species of flower according to the three nearest neighbours is Iris-versicolor\n",
      "A prediction of the species of flower according to the three nearest neighbours is Iris-versicolor\n",
      "A prediction of the species of flower according to the three nearest neighbours is Iris-versicolor\n",
      "A prediction of the species of flower according to the three nearest neighbours is Iris-versicolor\n",
      "A prediction of the species of flower according to the three nearest neighbours is Iris-versicolor\n",
      "A prediction of the species of flower according to the three nearest neighbours is Iris-versicolor\n",
      "A prediction of the species of flower according to the three nearest neighbours is Iris-versicolor\n",
      "A prediction of the species of flower according to the three nearest neighbours is Iris-versicolor\n",
      "A prediction of the species of flower according to the three nearest neighbours is Iris-versicolor\n",
      "A prediction of the species of flower according to the three nearest neighbours is Iris-versicolor\n",
      "A prediction of the species of flower according to the three nearest neighbours is Iris-versicolor\n",
      "A prediction of the species of flower according to the three nearest neighbours is Iris-versicolor\n",
      "A prediction of the species of flower according to the three nearest neighbours is Iris-versicolor\n",
      "A prediction of the species of flower according to the three nearest neighbours is Iris-virginica\n",
      "A prediction of the species of flower according to the three nearest neighbours is Iris-virginica\n",
      "A prediction of the species of flower according to the three nearest neighbours is Iris-virginica\n",
      "A prediction of the species of flower according to the three nearest neighbours is Iris-virginica\n",
      "A prediction of the species of flower according to the three nearest neighbours is Iris-virginica\n",
      "A prediction of the species of flower according to the three nearest neighbours is Iris-virginica\n",
      "A prediction of the species of flower according to the three nearest neighbours is Iris-versicolor\n",
      "A prediction of the species of flower according to the three nearest neighbours is Iris-virginica\n",
      "A prediction of the species of flower according to the three nearest neighbours is Iris-virginica\n",
      "A prediction of the species of flower according to the three nearest neighbours is Iris-virginica\n",
      "A prediction of the species of flower according to the three nearest neighbours is Iris-virginica\n",
      "A prediction of the species of flower according to the three nearest neighbours is Iris-virginica\n",
      "A prediction of the species of flower according to the three nearest neighbours is Iris-virginica\n",
      "A prediction of the species of flower according to the three nearest neighbours is Iris-virginica\n",
      "A prediction of the species of flower according to the three nearest neighbours is Iris-virginica\n",
      "A prediction of the species of flower according to the three nearest neighbours is Iris-virginica\n",
      "A prediction of the species of flower according to the three nearest neighbours is Iris-virginica\n",
      "A prediction of the species of flower according to the three nearest neighbours is Iris-virginica\n",
      "A prediction of the species of flower according to the three nearest neighbours is Iris-virginica\n",
      "A prediction of the species of flower according to the three nearest neighbours is Iris-versicolor\n",
      "A prediction of the species of flower according to the three nearest neighbours is Iris-virginica\n",
      "A prediction of the species of flower according to the three nearest neighbours is Iris-virginica\n",
      "A prediction of the species of flower according to the three nearest neighbours is Iris-virginica\n",
      "A prediction of the species of flower according to the three nearest neighbours is Iris-virginica\n",
      "A prediction of the species of flower according to the three nearest neighbours is Iris-virginica\n",
      "A prediction of the species of flower according to the three nearest neighbours is Iris-virginica\n",
      "A prediction of the species of flower according to the three nearest neighbours is Iris-virginica\n",
      "A prediction of the species of flower according to the three nearest neighbours is Iris-virginica\n",
      "A prediction of the species of flower according to the three nearest neighbours is Iris-virginica\n",
      "A prediction of the species of flower according to the three nearest neighbours is Iris-virginica\n",
      "A prediction of the species of flower according to the three nearest neighbours is Iris-virginica\n",
      "A prediction of the species of flower according to the three nearest neighbours is Iris-virginica\n",
      "A prediction of the species of flower according to the three nearest neighbours is Iris-virginica\n",
      "A prediction of the species of flower according to the three nearest neighbours is Iris-versicolor\n",
      "A prediction of the species of flower according to the three nearest neighbours is Iris-virginica\n",
      "A prediction of the species of flower according to the three nearest neighbours is Iris-virginica\n",
      "A prediction of the species of flower according to the three nearest neighbours is Iris-virginica\n",
      "A prediction of the species of flower according to the three nearest neighbours is Iris-virginica\n",
      "A prediction of the species of flower according to the three nearest neighbours is Iris-virginica\n",
      "A prediction of the species of flower according to the three nearest neighbours is Iris-virginica\n",
      "A prediction of the species of flower according to the three nearest neighbours is Iris-virginica\n",
      "A prediction of the species of flower according to the three nearest neighbours is Iris-virginica\n",
      "A prediction of the species of flower according to the three nearest neighbours is Iris-virginica\n",
      "A prediction of the species of flower according to the three nearest neighbours is Iris-virginica\n",
      "A prediction of the species of flower according to the three nearest neighbours is Iris-virginica\n",
      "A prediction of the species of flower according to the three nearest neighbours is Iris-virginica\n",
      "A prediction of the species of flower according to the three nearest neighbours is Iris-virginica\n",
      "A prediction of the species of flower according to the three nearest neighbours is Iris-virginica\n",
      "A prediction of the species of flower according to the three nearest neighbours is Iris-virginica\n",
      "A prediction of the species of flower according to the three nearest neighbours is Iris-virginica\n"
     ]
    },
    {
     "data": {
      "text/plain": [
       "array(['Iris-setosa', 'Iris-setosa', 'Iris-setosa', 'Iris-setosa',\n",
       "       'Iris-setosa', 'Iris-setosa', 'Iris-setosa', 'Iris-setosa',\n",
       "       'Iris-setosa', 'Iris-setosa', 'Iris-setosa', 'Iris-setosa',\n",
       "       'Iris-setosa', 'Iris-setosa', 'Iris-setosa', 'Iris-setosa',\n",
       "       'Iris-setosa', 'Iris-setosa', 'Iris-setosa', 'Iris-setosa',\n",
       "       'Iris-setosa', 'Iris-setosa', 'Iris-setosa', 'Iris-setosa',\n",
       "       'Iris-setosa', 'Iris-setosa', 'Iris-setosa', 'Iris-setosa',\n",
       "       'Iris-setosa', 'Iris-setosa', 'Iris-setosa', 'Iris-setosa',\n",
       "       'Iris-setosa', 'Iris-setosa', 'Iris-setosa', 'Iris-setosa',\n",
       "       'Iris-setosa', 'Iris-setosa', 'Iris-setosa', 'Iris-setosa',\n",
       "       'Iris-setosa', 'Iris-setosa', 'Iris-setosa', 'Iris-setosa',\n",
       "       'Iris-setosa', 'Iris-setosa', 'Iris-setosa', 'Iris-setosa',\n",
       "       'Iris-setosa', 'Iris-setosa', 'Iris-versicolor', 'Iris-versicolor',\n",
       "       'Iris-versicolor', 'Iris-versicolor', 'Iris-versicolor',\n",
       "       'Iris-versicolor', 'Iris-versicolor', 'Iris-versicolor',\n",
       "       'Iris-versicolor', 'Iris-versicolor', 'Iris-versicolor',\n",
       "       'Iris-versicolor', 'Iris-versicolor', 'Iris-versicolor',\n",
       "       'Iris-versicolor', 'Iris-versicolor', 'Iris-versicolor',\n",
       "       'Iris-versicolor', 'Iris-versicolor', 'Iris-versicolor',\n",
       "       'Iris-virginica', 'Iris-versicolor', 'Iris-virginica',\n",
       "       'Iris-versicolor', 'Iris-versicolor', 'Iris-versicolor',\n",
       "       'Iris-versicolor', 'Iris-versicolor', 'Iris-versicolor',\n",
       "       'Iris-versicolor', 'Iris-versicolor', 'Iris-versicolor',\n",
       "       'Iris-versicolor', 'Iris-virginica', 'Iris-versicolor',\n",
       "       'Iris-versicolor', 'Iris-versicolor', 'Iris-versicolor',\n",
       "       'Iris-versicolor', 'Iris-versicolor', 'Iris-versicolor',\n",
       "       'Iris-versicolor', 'Iris-versicolor', 'Iris-versicolor',\n",
       "       'Iris-versicolor', 'Iris-versicolor', 'Iris-versicolor',\n",
       "       'Iris-versicolor', 'Iris-versicolor', 'Iris-versicolor',\n",
       "       'Iris-virginica', 'Iris-virginica', 'Iris-virginica',\n",
       "       'Iris-virginica', 'Iris-virginica', 'Iris-virginica',\n",
       "       'Iris-versicolor', 'Iris-virginica', 'Iris-virginica',\n",
       "       'Iris-virginica', 'Iris-virginica', 'Iris-virginica',\n",
       "       'Iris-virginica', 'Iris-virginica', 'Iris-virginica',\n",
       "       'Iris-virginica', 'Iris-virginica', 'Iris-virginica',\n",
       "       'Iris-virginica', 'Iris-versicolor', 'Iris-virginica',\n",
       "       'Iris-virginica', 'Iris-virginica', 'Iris-virginica',\n",
       "       'Iris-virginica', 'Iris-virginica', 'Iris-virginica',\n",
       "       'Iris-virginica', 'Iris-virginica', 'Iris-virginica',\n",
       "       'Iris-virginica', 'Iris-virginica', 'Iris-virginica',\n",
       "       'Iris-versicolor', 'Iris-virginica', 'Iris-virginica',\n",
       "       'Iris-virginica', 'Iris-virginica', 'Iris-virginica',\n",
       "       'Iris-virginica', 'Iris-virginica', 'Iris-virginica',\n",
       "       'Iris-virginica', 'Iris-virginica', 'Iris-virginica',\n",
       "       'Iris-virginica', 'Iris-virginica', 'Iris-virginica',\n",
       "       'Iris-virginica', 'Iris-virginica'], \n",
       "      dtype='|S15')"
      ]
     },
     "execution_count": 103,
     "metadata": {},
     "output_type": "execute_result"
    }
   ],
   "source": [
    "predictions = np.array([predict(row[:4]) for row in iris_data])\n",
    "predictions\n"
   ]
  },
  {
   "cell_type": "code",
   "execution_count": 105,
   "metadata": {
    "collapsed": false
   },
   "outputs": [
    {
     "data": {
      "text/plain": [
       "0.95999999999999996"
      ]
     },
     "execution_count": 105,
     "metadata": {},
     "output_type": "execute_result"
    }
   ],
   "source": [
    "# this is the last column of the iris_data\n",
    "actual = np.array([row[-1] for row in iris_data])\n",
    "\n",
    "# accuracy of the model\n",
    "np.mean(predictions == actual)\n",
    "\n",
    "\n"
   ]
  },
  {
   "cell_type": "code",
   "execution_count": null,
   "metadata": {
    "collapsed": true
   },
   "outputs": [],
   "source": []
  }
 ],
 "metadata": {
  "kernelspec": {
   "display_name": "Python 2",
   "language": "python",
   "name": "python2"
  },
  "language_info": {
   "codemirror_mode": {
    "name": "ipython",
    "version": 2
   },
   "file_extension": ".py",
   "mimetype": "text/x-python",
   "name": "python",
   "nbconvert_exporter": "python",
   "pygments_lexer": "ipython2",
   "version": "2.7.10"
  }
 },
 "nbformat": 4,
 "nbformat_minor": 0
}
