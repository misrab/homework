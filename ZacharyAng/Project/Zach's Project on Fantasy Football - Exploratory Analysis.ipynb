{
 "cells": [
  {
   "cell_type": "markdown",
   "metadata": {
    "collapsed": true
   },
   "source": [
    "# Barclays Premier League Fantasy Football Exploratory Analysis\n",
    "\n",
    "## Introduction\n",
    "\n",
    "I've been really into BPL Fantasy Football this season and have been building a fantasy team since the start of the season last year. \n",
    "\n",
    "I'm not very good at picking the right squad based on my instincts, so my basic goal is to use the data from the present and past weeks to determine the best picks for the upcoming week.\n",
    "\n",
    "## How Fantasy Football Works\n",
    "\n",
    "I play Fantasy Football off the <a href='http://fantasy.premierleague.com'> official BPL Fantasy site</a>. For the uninitiated, Fantasy Football is an online game where users pick a squad of 15 real-life football players from a league. In this case, I'm playing the BPL, which is the English top division. Points are scored and collated depending on a player's actions in the actual game. The aim of the game is to amass the highest number of points each game week. The rules are <a href='http://fantasy.premierleague.com/rules/'> here</a>. Friends tend to form mini-competitions to see who's better at picking the best squad week after week. At the end of the season, the winner of their league with the higest points gets the honour of having the best fantasy football instincts (although there's usually money involved in mini-leagues amongst friends). There's a budget allocated to each user so you can't always choose the best player. Players get transferred in and out of teams weekly, so there's an entire transfer market \n",
    "\n",
    "## Fantasy Football Data\n",
    "\n",
    "Data is available from an API from the official site on players' basic information, team information, fixture information and performance stats. Each player's performance is aggregated every gameweek to give an overall view of the players' performance. There are nested data sets on each player's weekly performance history, as well as performance in past seasons.    \n",
    "\n",
    "There are 550 players in the fantasy football database. I'll import some basic data on them for a start. "
   ]
  },
  {
   "cell_type": "code",
   "execution_count": 1,
   "metadata": {
    "collapsed": true
   },
   "outputs": [],
   "source": [
    "import requests as rq"
   ]
  },
  {
   "cell_type": "markdown",
   "metadata": {},
   "source": [
    "### Diving deeper into Player Data \n",
    "\n",
    "There are a total of 63 data attributes for any single player. Each player has a unique player id, and data is updated once every <i>gameweek</i>. That is to say, a full round of fixtures played amongst 20 teams. [Note: Fixtures sometimes get postponed from one gameweek to another, so that might be a complication for the data set.] \n",
    "\n",
    "In essence, the gameweek view reflects the player's (a) cumulative performance up to that gameweek and (b) the player's performance in that particular gameweek. \n",
    "\n",
    "Above that, there are some <b>nested</b> attributes that give us a whole lot more information. For instance, for each player, the attribute 'fixture_history' returns the players performance down to the individual fixtures of the current season played up to the current gameweek. 'season_history' returns the players' cumulative performance over the past few seasons (if they are available). \n",
    "\n",
    "This presents a whole different order of magnitude of information, so I'll be focusing on gameweek level data for a start. \n",
    "\n",
    "The Fantasy League API doesn't really have a guide, so I'm going to give a brief overview of the variables I'll be using for a start:\n",
    "\n",
    "- <b>Personal Attributes</b>\n",
    "    - Player ID - Unique Identifier\n",
    "    - First Name, Last name\n",
    "    - Position, ie. Goalkeeper, Midfielder\n",
    "- <b>Team Attributes</b>\n",
    "    - Team name, Team ID\n",
    "- <b>Real Life Performance Attributes</b> (measured up to current gameweek)\n",
    "    - Total Goals scored\n",
    "    - Assists\n",
    "    - Goals Conceded\n",
    "    - Total minutes played\n",
    "- <b>Fantasy Performance Attributes</b> \n",
    "    - Total points scored\n",
    "    - Points per game\n",
    "    - Total Bonus points\n",
    "    - Number of points scored in the most recent gameweek\n",
    "    - Number of Bonus points scored in the most recent gameweek\n",
    "\n",
    "[<i>These characterise the fantasy points, measured up to current gameweek, that each player has scored according to the fantasy system, and not in \"real life\". Bonus points are tallied in a separate system, where more \"minor actions\" in a game, such as a shot on target, a tackle or a clearance can be tallied. These do not directly contribute towards fantasy points.</i>]\n",
    " \n",
    "- <b> Transfer Market Attributes</b>\n",
    "    - Total Transfers In\n",
    "    - Total Transfers Out\n",
    "- <b> Injury Attributes </b>\n",
    "    - % Chance of playing in this round\n",
    "    - % Chance of playing in the next round\n",
    "\n",
    "\n",
    "With that, I'm going to extract the fantasy points as the outcome variable and 21 features for 550 players. "
   ]
  },
  {
   "cell_type": "code",
   "execution_count": 414,
   "metadata": {
    "collapsed": false
   },
   "outputs": [
    {
     "name": "stdout",
     "output_type": "stream",
     "text": [
      "21\n"
     ]
    }
   ],
   "source": [
    "required_fields=['id','first_name','second_name','team_name','team_id','type_name','event_points','assists','goals_scored','goals_conceded','now_cost','bonus','bps','dreamteam_count','chance_of_playing_next_round','chance_of_playing_this_round','minutes','form','points_per_game','next_fixture','total_points']\n",
    "print (len(required_fields))"
   ]
  },
  {
   "cell_type": "code",
   "execution_count": 415,
   "metadata": {
    "collapsed": false
   },
   "outputs": [],
   "source": [
    "data=[]\n",
    "t_form=[]\n",
    "for i in range(1,551):\n",
    "    r = rq.get('http://fantasy.premierleague.com/web/api/elements/%d' %(i))\n",
    "    d = r.json()\n",
    "    p_data = [d[required_fields[j]] for j in range(len(required_fields))]\n",
    "    p_hist = d['fixture_history']['all']\n",
    "    bonus_form = sum([p_hist[j][16] for j in range((len(p_hist)-5),(len(p_hist)-2))])\n",
    "    fantasy_form = sum([p_hist[j][19] for j in range((len(p_hist)-5),(len(p_hist)-2))])\n",
    "    for j in range((len(p_hist)-5),(len(p_hist)-2)):\n",
    "        g= re.match(\"(.*)(...) ([0-9]+)?-?([0-9]+)\",p_hist[j][2])\n",
    "        if g.groups()[2]==g.groups()[3]:\n",
    "            result=1\n",
    "        elif g.groups()[2]>g.groups()[3]:\n",
    "            result = 3\n",
    "        elif g.group()[2]<g.groups()[3]:\n",
    "            result =0\n",
    "        t_form.append(result)\n",
    "    own_team_form=sum(t_form)\n",
    "    t_form=[]\n",
    "    home = re.match(\"(.*)(...) ([0-9]+)?-?([0-9]+)\",p_hist[len(p_hist)-1][2]).groups()[1] == '(H)'\n",
    "    p_data.extend([bonus_form,fantasy_form,own_team_form,home])\n",
    "    data.append(p_data)"
   ]
  },
  {
   "cell_type": "code",
   "execution_count": 416,
   "metadata": {
    "collapsed": false
   },
   "outputs": [
    {
     "data": {
      "text/plain": [
       "['id',\n",
       " 'first_name',\n",
       " 'second_name',\n",
       " 'team_name',\n",
       " 'team_id',\n",
       " 'type_name',\n",
       " 'event_points',\n",
       " 'assists',\n",
       " 'goals_scored',\n",
       " 'goals_conceded',\n",
       " 'now_cost',\n",
       " 'bonus',\n",
       " 'bps',\n",
       " 'dreamteam_count',\n",
       " 'chance_of_playing_next_round',\n",
       " 'chance_of_playing_this_round',\n",
       " 'minutes',\n",
       " 'form',\n",
       " 'points_per_game',\n",
       " 'next_fixture',\n",
       " 'total_points',\n",
       " 'bonus_form',\n",
       " 'fantasy_form',\n",
       " 'own_team_form',\n",
       " 'home']"
      ]
     },
     "execution_count": 416,
     "metadata": {},
     "output_type": "execute_result"
    }
   ],
   "source": [
    "required_fields.extend(['bonus_form','fantasy_form','own_team_form','home'])\n",
    "required_fields"
   ]
  },
  {
   "cell_type": "code",
   "execution_count": 14,
   "metadata": {
    "collapsed": false
   },
   "outputs": [],
   "source": [
    "# Convert to data frame.. \n",
    "\n",
    "import csv \n",
    "import pandas as pd"
   ]
  },
  {
   "cell_type": "code",
   "execution_count": 45,
   "metadata": {
    "collapsed": false
   },
   "outputs": [
    {
     "ename": "NameError",
     "evalue": "name 'df' is not defined",
     "output_type": "error",
     "traceback": [
      "\u001b[0;31m---------------------------------------------------------------------------\u001b[0m",
      "\u001b[0;31mNameError\u001b[0m                                 Traceback (most recent call last)",
      "\u001b[0;32m<ipython-input-45-43994a2725c3>\u001b[0m in \u001b[0;36m<module>\u001b[0;34m()\u001b[0m\n\u001b[1;32m      1\u001b[0m \u001b[0;31m## I'm going to export the data to a csv so I don't have to keep pinging the API.\u001b[0m\u001b[0;34m\u001b[0m\u001b[0;34m\u001b[0m\u001b[0m\n\u001b[1;32m      2\u001b[0m \u001b[0;34m\u001b[0m\u001b[0m\n\u001b[0;32m----> 3\u001b[0;31m \u001b[0mdf\u001b[0m\u001b[0;34m.\u001b[0m\u001b[0mto_csv\u001b[0m\u001b[0;34m(\u001b[0m\u001b[0;34m'Fantasy Gameweek 26old.csv'\u001b[0m\u001b[0;34m,\u001b[0m \u001b[0mencoding\u001b[0m\u001b[0;34m=\u001b[0m\u001b[0;34m'utf'\u001b[0m\u001b[0;34m)\u001b[0m\u001b[0;34m\u001b[0m\u001b[0m\n\u001b[0m",
      "\u001b[0;31mNameError\u001b[0m: name 'df' is not defined"
     ]
    }
   ],
   "source": [
    "## I'm going to export the data to a csv so I don't have to keep pinging the API. \n",
    "\n",
    "df.to_csv('Fantasy Gameweek 26old.csv', encoding='utf')"
   ]
  },
  {
   "cell_type": "code",
   "execution_count": 16,
   "metadata": {
    "collapsed": false
   },
   "outputs": [
    {
     "data": {
      "text/html": [
       "<div>\n",
       "<table border=\"1\" class=\"dataframe\">\n",
       "  <thead>\n",
       "    <tr style=\"text-align: right;\">\n",
       "      <th></th>\n",
       "      <th>Unnamed: 0</th>\n",
       "      <th>id</th>\n",
       "      <th>first_name</th>\n",
       "      <th>second_name</th>\n",
       "      <th>team_name</th>\n",
       "      <th>team_id</th>\n",
       "      <th>type_name</th>\n",
       "      <th>now_cost</th>\n",
       "      <th>chance_of_playing_next_round</th>\n",
       "      <th>chance_of_playing_this_round</th>\n",
       "      <th>...</th>\n",
       "      <th>goals_per_min_t1</th>\n",
       "      <th>assists_per_min_t1</th>\n",
       "      <th>clean_sheets_per_min_t1</th>\n",
       "      <th>goals_conceded_per_min_t1</th>\n",
       "      <th>saves_per_min_t1</th>\n",
       "      <th>own_team_form</th>\n",
       "      <th>home</th>\n",
       "      <th>next_team</th>\n",
       "      <th>next_team_pos_t</th>\n",
       "      <th>fantasy_points_t</th>\n",
       "    </tr>\n",
       "  </thead>\n",
       "  <tbody>\n",
       "    <tr>\n",
       "      <th>0</th>\n",
       "      <td>0</td>\n",
       "      <td>1</td>\n",
       "      <td>Wojciech</td>\n",
       "      <td>Szczesny</td>\n",
       "      <td>Arsenal</td>\n",
       "      <td>1</td>\n",
       "      <td>Goalkeeper</td>\n",
       "      <td>50</td>\n",
       "      <td>0</td>\n",
       "      <td>0</td>\n",
       "      <td>...</td>\n",
       "      <td>0</td>\n",
       "      <td>0</td>\n",
       "      <td>0.000000</td>\n",
       "      <td>0</td>\n",
       "      <td>0.000000</td>\n",
       "      <td>1</td>\n",
       "      <td>True</td>\n",
       "      <td>LEI</td>\n",
       "      <td>1</td>\n",
       "      <td>0</td>\n",
       "    </tr>\n",
       "    <tr>\n",
       "      <th>1</th>\n",
       "      <td>1</td>\n",
       "      <td>2</td>\n",
       "      <td>David</td>\n",
       "      <td>Ospina</td>\n",
       "      <td>Arsenal</td>\n",
       "      <td>1</td>\n",
       "      <td>Goalkeeper</td>\n",
       "      <td>47</td>\n",
       "      <td>100</td>\n",
       "      <td>100</td>\n",
       "      <td>...</td>\n",
       "      <td>0</td>\n",
       "      <td>0</td>\n",
       "      <td>0.000000</td>\n",
       "      <td>0</td>\n",
       "      <td>0.000000</td>\n",
       "      <td>1</td>\n",
       "      <td>True</td>\n",
       "      <td>LEI</td>\n",
       "      <td>1</td>\n",
       "      <td>0</td>\n",
       "    </tr>\n",
       "    <tr>\n",
       "      <th>2</th>\n",
       "      <td>2</td>\n",
       "      <td>3</td>\n",
       "      <td>Petr</td>\n",
       "      <td>Cech</td>\n",
       "      <td>Arsenal</td>\n",
       "      <td>1</td>\n",
       "      <td>Goalkeeper</td>\n",
       "      <td>60</td>\n",
       "      <td>0</td>\n",
       "      <td>0</td>\n",
       "      <td>...</td>\n",
       "      <td>0</td>\n",
       "      <td>0</td>\n",
       "      <td>0.007407</td>\n",
       "      <td>0</td>\n",
       "      <td>0.044444</td>\n",
       "      <td>1</td>\n",
       "      <td>True</td>\n",
       "      <td>LEI</td>\n",
       "      <td>1</td>\n",
       "      <td>2</td>\n",
       "    </tr>\n",
       "    <tr>\n",
       "      <th>3</th>\n",
       "      <td>3</td>\n",
       "      <td>4</td>\n",
       "      <td>Laurent</td>\n",
       "      <td>Koscielny</td>\n",
       "      <td>Arsenal</td>\n",
       "      <td>1</td>\n",
       "      <td>Defender</td>\n",
       "      <td>63</td>\n",
       "      <td>0</td>\n",
       "      <td>0</td>\n",
       "      <td>...</td>\n",
       "      <td>0</td>\n",
       "      <td>0</td>\n",
       "      <td>0.007407</td>\n",
       "      <td>0</td>\n",
       "      <td>0.000000</td>\n",
       "      <td>1</td>\n",
       "      <td>True</td>\n",
       "      <td>LEI</td>\n",
       "      <td>1</td>\n",
       "      <td>0</td>\n",
       "    </tr>\n",
       "    <tr>\n",
       "      <th>4</th>\n",
       "      <td>4</td>\n",
       "      <td>5</td>\n",
       "      <td>Per</td>\n",
       "      <td>Mertesacker</td>\n",
       "      <td>Arsenal</td>\n",
       "      <td>1</td>\n",
       "      <td>Defender</td>\n",
       "      <td>52</td>\n",
       "      <td>100</td>\n",
       "      <td>100</td>\n",
       "      <td>...</td>\n",
       "      <td>0</td>\n",
       "      <td>0</td>\n",
       "      <td>0.009346</td>\n",
       "      <td>0</td>\n",
       "      <td>0.000000</td>\n",
       "      <td>1</td>\n",
       "      <td>True</td>\n",
       "      <td>LEI</td>\n",
       "      <td>1</td>\n",
       "      <td>2</td>\n",
       "    </tr>\n",
       "  </tbody>\n",
       "</table>\n",
       "<p>5 rows × 33 columns</p>\n",
       "</div>"
      ],
      "text/plain": [
       "   Unnamed: 0  id first_name  second_name team_name  team_id   type_name  \\\n",
       "0           0   1   Wojciech     Szczesny   Arsenal        1  Goalkeeper   \n",
       "1           1   2      David       Ospina   Arsenal        1  Goalkeeper   \n",
       "2           2   3       Petr         Cech   Arsenal        1  Goalkeeper   \n",
       "3           3   4    Laurent    Koscielny   Arsenal        1    Defender   \n",
       "4           4   5        Per  Mertesacker   Arsenal        1    Defender   \n",
       "\n",
       "   now_cost  chance_of_playing_next_round  chance_of_playing_this_round  \\\n",
       "0        50                             0                             0   \n",
       "1        47                           100                           100   \n",
       "2        60                             0                             0   \n",
       "3        63                             0                             0   \n",
       "4        52                           100                           100   \n",
       "\n",
       "         ...         goals_per_min_t1  assists_per_min_t1  \\\n",
       "0        ...                        0                   0   \n",
       "1        ...                        0                   0   \n",
       "2        ...                        0                   0   \n",
       "3        ...                        0                   0   \n",
       "4        ...                        0                   0   \n",
       "\n",
       "   clean_sheets_per_min_t1  goals_conceded_per_min_t1  saves_per_min_t1  \\\n",
       "0                 0.000000                          0          0.000000   \n",
       "1                 0.000000                          0          0.000000   \n",
       "2                 0.007407                          0          0.044444   \n",
       "3                 0.007407                          0          0.000000   \n",
       "4                 0.009346                          0          0.000000   \n",
       "\n",
       "   own_team_form  home  next_team  next_team_pos_t  fantasy_points_t  \n",
       "0              1  True        LEI                1                 0  \n",
       "1              1  True        LEI                1                 0  \n",
       "2              1  True        LEI                1                 2  \n",
       "3              1  True        LEI                1                 0  \n",
       "4              1  True        LEI                1                 2  \n",
       "\n",
       "[5 rows x 33 columns]"
      ]
     },
     "execution_count": 16,
     "metadata": {},
     "output_type": "execute_result"
    }
   ],
   "source": [
    "## For when importing from CSV\n",
    "\n",
    "df = pd.read_csv('Fantasy Gameweek 25.csv')\n",
    "df.head()"
   ]
  },
  {
   "cell_type": "code",
   "execution_count": 17,
   "metadata": {
    "collapsed": false
   },
   "outputs": [
    {
     "ename": "KeyError",
     "evalue": "'total_points'",
     "output_type": "error",
     "traceback": [
      "\u001b[0;31m---------------------------------------------------------------------------\u001b[0m",
      "\u001b[0;31mKeyError\u001b[0m                                  Traceback (most recent call last)",
      "\u001b[0;32m<ipython-input-17-2b69dd96a72d>\u001b[0m in \u001b[0;36m<module>\u001b[0;34m()\u001b[0m\n\u001b[1;32m      1\u001b[0m \u001b[0;31m## Top 10 players in Fantasy Football\u001b[0m\u001b[0;34m\u001b[0m\u001b[0;34m\u001b[0m\u001b[0m\n\u001b[1;32m      2\u001b[0m \u001b[0;34m\u001b[0m\u001b[0m\n\u001b[0;32m----> 3\u001b[0;31m \u001b[0mdf\u001b[0m\u001b[0;34m.\u001b[0m\u001b[0msort_values\u001b[0m\u001b[0;34m(\u001b[0m\u001b[0mby\u001b[0m\u001b[0;34m=\u001b[0m\u001b[0;34m'total_points'\u001b[0m\u001b[0;34m,\u001b[0m\u001b[0mascending\u001b[0m\u001b[0;34m=\u001b[0m\u001b[0mFalse\u001b[0m\u001b[0;34m)\u001b[0m\u001b[0;34m.\u001b[0m\u001b[0mhead\u001b[0m\u001b[0;34m(\u001b[0m\u001b[0;36m10\u001b[0m\u001b[0;34m)\u001b[0m\u001b[0;34m\u001b[0m\u001b[0m\n\u001b[0m",
      "\u001b[0;32m//anaconda/lib/python2.7/site-packages/pandas/core/frame.pyc\u001b[0m in \u001b[0;36msort_values\u001b[0;34m(self, by, axis, ascending, inplace, kind, na_position)\u001b[0m\n\u001b[1;32m   3047\u001b[0m \u001b[0;34m\u001b[0m\u001b[0m\n\u001b[1;32m   3048\u001b[0m             \u001b[0mby\u001b[0m \u001b[0;34m=\u001b[0m \u001b[0mby\u001b[0m\u001b[0;34m[\u001b[0m\u001b[0;36m0\u001b[0m\u001b[0;34m]\u001b[0m\u001b[0;34m\u001b[0m\u001b[0m\n\u001b[0;32m-> 3049\u001b[0;31m             \u001b[0mk\u001b[0m \u001b[0;34m=\u001b[0m \u001b[0mself\u001b[0m\u001b[0;34m[\u001b[0m\u001b[0mby\u001b[0m\u001b[0;34m]\u001b[0m\u001b[0;34m.\u001b[0m\u001b[0mvalues\u001b[0m\u001b[0;34m\u001b[0m\u001b[0m\n\u001b[0m\u001b[1;32m   3050\u001b[0m             \u001b[0;32mif\u001b[0m \u001b[0mk\u001b[0m\u001b[0;34m.\u001b[0m\u001b[0mndim\u001b[0m \u001b[0;34m==\u001b[0m \u001b[0;36m2\u001b[0m\u001b[0;34m:\u001b[0m\u001b[0;34m\u001b[0m\u001b[0m\n\u001b[1;32m   3051\u001b[0m \u001b[0;34m\u001b[0m\u001b[0m\n",
      "\u001b[0;32m//anaconda/lib/python2.7/site-packages/pandas/core/frame.pyc\u001b[0m in \u001b[0;36m__getitem__\u001b[0;34m(self, key)\u001b[0m\n\u001b[1;32m   1912\u001b[0m             \u001b[0;32mreturn\u001b[0m \u001b[0mself\u001b[0m\u001b[0;34m.\u001b[0m\u001b[0m_getitem_multilevel\u001b[0m\u001b[0;34m(\u001b[0m\u001b[0mkey\u001b[0m\u001b[0;34m)\u001b[0m\u001b[0;34m\u001b[0m\u001b[0m\n\u001b[1;32m   1913\u001b[0m         \u001b[0;32melse\u001b[0m\u001b[0;34m:\u001b[0m\u001b[0;34m\u001b[0m\u001b[0m\n\u001b[0;32m-> 1914\u001b[0;31m             \u001b[0;32mreturn\u001b[0m \u001b[0mself\u001b[0m\u001b[0;34m.\u001b[0m\u001b[0m_getitem_column\u001b[0m\u001b[0;34m(\u001b[0m\u001b[0mkey\u001b[0m\u001b[0;34m)\u001b[0m\u001b[0;34m\u001b[0m\u001b[0m\n\u001b[0m\u001b[1;32m   1915\u001b[0m \u001b[0;34m\u001b[0m\u001b[0m\n\u001b[1;32m   1916\u001b[0m     \u001b[0;32mdef\u001b[0m \u001b[0m_getitem_column\u001b[0m\u001b[0;34m(\u001b[0m\u001b[0mself\u001b[0m\u001b[0;34m,\u001b[0m \u001b[0mkey\u001b[0m\u001b[0;34m)\u001b[0m\u001b[0;34m:\u001b[0m\u001b[0;34m\u001b[0m\u001b[0m\n",
      "\u001b[0;32m//anaconda/lib/python2.7/site-packages/pandas/core/frame.pyc\u001b[0m in \u001b[0;36m_getitem_column\u001b[0;34m(self, key)\u001b[0m\n\u001b[1;32m   1919\u001b[0m         \u001b[0;31m# get column\u001b[0m\u001b[0;34m\u001b[0m\u001b[0;34m\u001b[0m\u001b[0m\n\u001b[1;32m   1920\u001b[0m         \u001b[0;32mif\u001b[0m \u001b[0mself\u001b[0m\u001b[0;34m.\u001b[0m\u001b[0mcolumns\u001b[0m\u001b[0;34m.\u001b[0m\u001b[0mis_unique\u001b[0m\u001b[0;34m:\u001b[0m\u001b[0;34m\u001b[0m\u001b[0m\n\u001b[0;32m-> 1921\u001b[0;31m             \u001b[0;32mreturn\u001b[0m \u001b[0mself\u001b[0m\u001b[0;34m.\u001b[0m\u001b[0m_get_item_cache\u001b[0m\u001b[0;34m(\u001b[0m\u001b[0mkey\u001b[0m\u001b[0;34m)\u001b[0m\u001b[0;34m\u001b[0m\u001b[0m\n\u001b[0m\u001b[1;32m   1922\u001b[0m \u001b[0;34m\u001b[0m\u001b[0m\n\u001b[1;32m   1923\u001b[0m         \u001b[0;31m# duplicate columns & possible reduce dimensionaility\u001b[0m\u001b[0;34m\u001b[0m\u001b[0;34m\u001b[0m\u001b[0m\n",
      "\u001b[0;32m//anaconda/lib/python2.7/site-packages/pandas/core/generic.pyc\u001b[0m in \u001b[0;36m_get_item_cache\u001b[0;34m(self, item)\u001b[0m\n\u001b[1;32m   1088\u001b[0m         \u001b[0mres\u001b[0m \u001b[0;34m=\u001b[0m \u001b[0mcache\u001b[0m\u001b[0;34m.\u001b[0m\u001b[0mget\u001b[0m\u001b[0;34m(\u001b[0m\u001b[0mitem\u001b[0m\u001b[0;34m)\u001b[0m\u001b[0;34m\u001b[0m\u001b[0m\n\u001b[1;32m   1089\u001b[0m         \u001b[0;32mif\u001b[0m \u001b[0mres\u001b[0m \u001b[0;32mis\u001b[0m \u001b[0mNone\u001b[0m\u001b[0;34m:\u001b[0m\u001b[0;34m\u001b[0m\u001b[0m\n\u001b[0;32m-> 1090\u001b[0;31m             \u001b[0mvalues\u001b[0m \u001b[0;34m=\u001b[0m \u001b[0mself\u001b[0m\u001b[0;34m.\u001b[0m\u001b[0m_data\u001b[0m\u001b[0;34m.\u001b[0m\u001b[0mget\u001b[0m\u001b[0;34m(\u001b[0m\u001b[0mitem\u001b[0m\u001b[0;34m)\u001b[0m\u001b[0;34m\u001b[0m\u001b[0m\n\u001b[0m\u001b[1;32m   1091\u001b[0m             \u001b[0mres\u001b[0m \u001b[0;34m=\u001b[0m \u001b[0mself\u001b[0m\u001b[0;34m.\u001b[0m\u001b[0m_box_item_values\u001b[0m\u001b[0;34m(\u001b[0m\u001b[0mitem\u001b[0m\u001b[0;34m,\u001b[0m \u001b[0mvalues\u001b[0m\u001b[0;34m)\u001b[0m\u001b[0;34m\u001b[0m\u001b[0m\n\u001b[1;32m   1092\u001b[0m             \u001b[0mcache\u001b[0m\u001b[0;34m[\u001b[0m\u001b[0mitem\u001b[0m\u001b[0;34m]\u001b[0m \u001b[0;34m=\u001b[0m \u001b[0mres\u001b[0m\u001b[0;34m\u001b[0m\u001b[0m\n",
      "\u001b[0;32m//anaconda/lib/python2.7/site-packages/pandas/core/internals.pyc\u001b[0m in \u001b[0;36mget\u001b[0;34m(self, item, fastpath)\u001b[0m\n\u001b[1;32m   3100\u001b[0m \u001b[0;34m\u001b[0m\u001b[0m\n\u001b[1;32m   3101\u001b[0m             \u001b[0;32mif\u001b[0m \u001b[0;32mnot\u001b[0m \u001b[0misnull\u001b[0m\u001b[0;34m(\u001b[0m\u001b[0mitem\u001b[0m\u001b[0;34m)\u001b[0m\u001b[0;34m:\u001b[0m\u001b[0;34m\u001b[0m\u001b[0m\n\u001b[0;32m-> 3102\u001b[0;31m                 \u001b[0mloc\u001b[0m \u001b[0;34m=\u001b[0m \u001b[0mself\u001b[0m\u001b[0;34m.\u001b[0m\u001b[0mitems\u001b[0m\u001b[0;34m.\u001b[0m\u001b[0mget_loc\u001b[0m\u001b[0;34m(\u001b[0m\u001b[0mitem\u001b[0m\u001b[0;34m)\u001b[0m\u001b[0;34m\u001b[0m\u001b[0m\n\u001b[0m\u001b[1;32m   3103\u001b[0m             \u001b[0;32melse\u001b[0m\u001b[0;34m:\u001b[0m\u001b[0;34m\u001b[0m\u001b[0m\n\u001b[1;32m   3104\u001b[0m                 \u001b[0mindexer\u001b[0m \u001b[0;34m=\u001b[0m \u001b[0mnp\u001b[0m\u001b[0;34m.\u001b[0m\u001b[0marange\u001b[0m\u001b[0;34m(\u001b[0m\u001b[0mlen\u001b[0m\u001b[0;34m(\u001b[0m\u001b[0mself\u001b[0m\u001b[0;34m.\u001b[0m\u001b[0mitems\u001b[0m\u001b[0;34m)\u001b[0m\u001b[0;34m)\u001b[0m\u001b[0;34m[\u001b[0m\u001b[0misnull\u001b[0m\u001b[0;34m(\u001b[0m\u001b[0mself\u001b[0m\u001b[0;34m.\u001b[0m\u001b[0mitems\u001b[0m\u001b[0;34m)\u001b[0m\u001b[0;34m]\u001b[0m\u001b[0;34m\u001b[0m\u001b[0m\n",
      "\u001b[0;32m//anaconda/lib/python2.7/site-packages/pandas/core/index.pyc\u001b[0m in \u001b[0;36mget_loc\u001b[0;34m(self, key, method, tolerance)\u001b[0m\n\u001b[1;32m   1690\u001b[0m                 raise ValueError('tolerance argument only valid if using pad, '\n\u001b[1;32m   1691\u001b[0m                                  'backfill or nearest lookups')\n\u001b[0;32m-> 1692\u001b[0;31m             \u001b[0;32mreturn\u001b[0m \u001b[0mself\u001b[0m\u001b[0;34m.\u001b[0m\u001b[0m_engine\u001b[0m\u001b[0;34m.\u001b[0m\u001b[0mget_loc\u001b[0m\u001b[0;34m(\u001b[0m\u001b[0m_values_from_object\u001b[0m\u001b[0;34m(\u001b[0m\u001b[0mkey\u001b[0m\u001b[0;34m)\u001b[0m\u001b[0;34m)\u001b[0m\u001b[0;34m\u001b[0m\u001b[0m\n\u001b[0m\u001b[1;32m   1693\u001b[0m \u001b[0;34m\u001b[0m\u001b[0m\n\u001b[1;32m   1694\u001b[0m         indexer = self.get_indexer([key], method=method,\n",
      "\u001b[0;32mpandas/index.pyx\u001b[0m in \u001b[0;36mpandas.index.IndexEngine.get_loc (pandas/index.c:3979)\u001b[0;34m()\u001b[0m\n",
      "\u001b[0;32mpandas/index.pyx\u001b[0m in \u001b[0;36mpandas.index.IndexEngine.get_loc (pandas/index.c:3843)\u001b[0;34m()\u001b[0m\n",
      "\u001b[0;32mpandas/hashtable.pyx\u001b[0m in \u001b[0;36mpandas.hashtable.PyObjectHashTable.get_item (pandas/hashtable.c:12265)\u001b[0;34m()\u001b[0m\n",
      "\u001b[0;32mpandas/hashtable.pyx\u001b[0m in \u001b[0;36mpandas.hashtable.PyObjectHashTable.get_item (pandas/hashtable.c:12216)\u001b[0;34m()\u001b[0m\n",
      "\u001b[0;31mKeyError\u001b[0m: 'total_points'"
     ]
    }
   ],
   "source": [
    "## Top 10 players in Fantasy Football\n",
    "\n",
    "df.sort_values(by='total_points',ascending=False).head(10)"
   ]
  },
  {
   "cell_type": "code",
   "execution_count": 49,
   "metadata": {
    "collapsed": false
   },
   "outputs": [],
   "source": [
    "## Just some cleaning to make sure the strings are converted to floating numbers.\n",
    "\n",
    "df.form = df.form.astype(float)\n",
    "df.points_per_game = df.points_per_game.astype(float)"
   ]
  },
  {
   "cell_type": "code",
   "execution_count": 50,
   "metadata": {
    "collapsed": false
   },
   "outputs": [
    {
     "data": {
      "text/html": [
       "<div>\n",
       "<table border=\"1\" class=\"dataframe\">\n",
       "  <thead>\n",
       "    <tr style=\"text-align: right;\">\n",
       "      <th></th>\n",
       "      <th>Unnamed: 0</th>\n",
       "      <th>id</th>\n",
       "      <th>team_id</th>\n",
       "      <th>event_points</th>\n",
       "      <th>assists</th>\n",
       "      <th>goals_scored</th>\n",
       "      <th>goals_conceded</th>\n",
       "      <th>now_cost</th>\n",
       "      <th>bonus</th>\n",
       "      <th>bps</th>\n",
       "      <th>...</th>\n",
       "      <th>chance_of_playing_next_round</th>\n",
       "      <th>chance_of_playing_this_round</th>\n",
       "      <th>minutes</th>\n",
       "      <th>form</th>\n",
       "      <th>points_per_game</th>\n",
       "      <th>total_points</th>\n",
       "      <th>bonus_form</th>\n",
       "      <th>fantasy_form</th>\n",
       "      <th>own_team_form</th>\n",
       "      <th>home</th>\n",
       "    </tr>\n",
       "  </thead>\n",
       "  <tbody>\n",
       "    <tr>\n",
       "      <th>count</th>\n",
       "      <td>550.000000</td>\n",
       "      <td>550.000000</td>\n",
       "      <td>550.000000</td>\n",
       "      <td>550.000000</td>\n",
       "      <td>550.000000</td>\n",
       "      <td>550.000000</td>\n",
       "      <td>550.000000</td>\n",
       "      <td>550.000000</td>\n",
       "      <td>550.000000</td>\n",
       "      <td>550.000000</td>\n",
       "      <td>...</td>\n",
       "      <td>430.000000</td>\n",
       "      <td>428.000000</td>\n",
       "      <td>550.000000</td>\n",
       "      <td>550.000000</td>\n",
       "      <td>550.000000</td>\n",
       "      <td>550.000000</td>\n",
       "      <td>550.000000</td>\n",
       "      <td>550.000000</td>\n",
       "      <td>550.000000</td>\n",
       "      <td>550</td>\n",
       "    </tr>\n",
       "    <tr>\n",
       "      <th>mean</th>\n",
       "      <td>274.500000</td>\n",
       "      <td>275.500000</td>\n",
       "      <td>10.410909</td>\n",
       "      <td>1.180000</td>\n",
       "      <td>1.009091</td>\n",
       "      <td>1.101818</td>\n",
       "      <td>12.978182</td>\n",
       "      <td>50.970909</td>\n",
       "      <td>2.790909</td>\n",
       "      <td>173.821818</td>\n",
       "      <td>...</td>\n",
       "      <td>63.430233</td>\n",
       "      <td>62.441589</td>\n",
       "      <td>885.038182</td>\n",
       "      <td>1.342364</td>\n",
       "      <td>2.151091</td>\n",
       "      <td>36.176364</td>\n",
       "      <td>19.900000</td>\n",
       "      <td>4.220000</td>\n",
       "      <td>6.061818</td>\n",
       "      <td>0.483636</td>\n",
       "    </tr>\n",
       "    <tr>\n",
       "      <th>std</th>\n",
       "      <td>158.915596</td>\n",
       "      <td>158.915596</td>\n",
       "      <td>5.789434</td>\n",
       "      <td>2.346637</td>\n",
       "      <td>1.866664</td>\n",
       "      <td>2.343964</td>\n",
       "      <td>12.257390</td>\n",
       "      <td>12.337064</td>\n",
       "      <td>4.466625</td>\n",
       "      <td>167.652834</td>\n",
       "      <td>...</td>\n",
       "      <td>46.636656</td>\n",
       "      <td>47.492722</td>\n",
       "      <td>797.369163</td>\n",
       "      <td>1.793229</td>\n",
       "      <td>1.557258</td>\n",
       "      <td>35.422763</td>\n",
       "      <td>25.911981</td>\n",
       "      <td>5.932894</td>\n",
       "      <td>2.291943</td>\n",
       "      <td>0.500187</td>\n",
       "    </tr>\n",
       "    <tr>\n",
       "      <th>min</th>\n",
       "      <td>0.000000</td>\n",
       "      <td>1.000000</td>\n",
       "      <td>1.000000</td>\n",
       "      <td>-3.000000</td>\n",
       "      <td>0.000000</td>\n",
       "      <td>0.000000</td>\n",
       "      <td>0.000000</td>\n",
       "      <td>37.000000</td>\n",
       "      <td>0.000000</td>\n",
       "      <td>-1.000000</td>\n",
       "      <td>...</td>\n",
       "      <td>0.000000</td>\n",
       "      <td>0.000000</td>\n",
       "      <td>0.000000</td>\n",
       "      <td>-0.300000</td>\n",
       "      <td>-0.500000</td>\n",
       "      <td>-1.000000</td>\n",
       "      <td>-2.000000</td>\n",
       "      <td>0.000000</td>\n",
       "      <td>3.000000</td>\n",
       "      <td>False</td>\n",
       "    </tr>\n",
       "    <tr>\n",
       "      <th>25%</th>\n",
       "      <td>137.250000</td>\n",
       "      <td>138.250000</td>\n",
       "      <td>5.000000</td>\n",
       "      <td>0.000000</td>\n",
       "      <td>0.000000</td>\n",
       "      <td>0.000000</td>\n",
       "      <td>1.000000</td>\n",
       "      <td>43.000000</td>\n",
       "      <td>0.000000</td>\n",
       "      <td>7.250000</td>\n",
       "      <td>...</td>\n",
       "      <td>0.000000</td>\n",
       "      <td>0.000000</td>\n",
       "      <td>55.500000</td>\n",
       "      <td>0.000000</td>\n",
       "      <td>1.000000</td>\n",
       "      <td>2.000000</td>\n",
       "      <td>0.000000</td>\n",
       "      <td>0.000000</td>\n",
       "      <td>3.000000</td>\n",
       "      <td>0</td>\n",
       "    </tr>\n",
       "    <tr>\n",
       "      <th>50%</th>\n",
       "      <td>274.500000</td>\n",
       "      <td>275.500000</td>\n",
       "      <td>10.000000</td>\n",
       "      <td>0.000000</td>\n",
       "      <td>0.000000</td>\n",
       "      <td>0.000000</td>\n",
       "      <td>11.000000</td>\n",
       "      <td>47.000000</td>\n",
       "      <td>0.000000</td>\n",
       "      <td>126.500000</td>\n",
       "      <td>...</td>\n",
       "      <td>100.000000</td>\n",
       "      <td>100.000000</td>\n",
       "      <td>760.500000</td>\n",
       "      <td>0.500000</td>\n",
       "      <td>2.200000</td>\n",
       "      <td>28.000000</td>\n",
       "      <td>4.000000</td>\n",
       "      <td>1.000000</td>\n",
       "      <td>7.000000</td>\n",
       "      <td>0</td>\n",
       "    </tr>\n",
       "    <tr>\n",
       "      <th>75%</th>\n",
       "      <td>411.750000</td>\n",
       "      <td>412.750000</td>\n",
       "      <td>15.000000</td>\n",
       "      <td>2.000000</td>\n",
       "      <td>1.000000</td>\n",
       "      <td>1.000000</td>\n",
       "      <td>22.000000</td>\n",
       "      <td>54.000000</td>\n",
       "      <td>4.000000</td>\n",
       "      <td>299.750000</td>\n",
       "      <td>...</td>\n",
       "      <td>100.000000</td>\n",
       "      <td>100.000000</td>\n",
       "      <td>1544.000000</td>\n",
       "      <td>2.225000</td>\n",
       "      <td>3.200000</td>\n",
       "      <td>59.000000</td>\n",
       "      <td>37.750000</td>\n",
       "      <td>7.000000</td>\n",
       "      <td>9.000000</td>\n",
       "      <td>1</td>\n",
       "    </tr>\n",
       "    <tr>\n",
       "      <th>max</th>\n",
       "      <td>549.000000</td>\n",
       "      <td>550.000000</td>\n",
       "      <td>20.000000</td>\n",
       "      <td>15.000000</td>\n",
       "      <td>17.000000</td>\n",
       "      <td>19.000000</td>\n",
       "      <td>50.000000</td>\n",
       "      <td>136.000000</td>\n",
       "      <td>32.000000</td>\n",
       "      <td>644.000000</td>\n",
       "      <td>...</td>\n",
       "      <td>100.000000</td>\n",
       "      <td>100.000000</td>\n",
       "      <td>2340.000000</td>\n",
       "      <td>9.800000</td>\n",
       "      <td>7.400000</td>\n",
       "      <td>184.000000</td>\n",
       "      <td>132.000000</td>\n",
       "      <td>33.000000</td>\n",
       "      <td>9.000000</td>\n",
       "      <td>True</td>\n",
       "    </tr>\n",
       "  </tbody>\n",
       "</table>\n",
       "<p>8 rows × 21 columns</p>\n",
       "</div>"
      ],
      "text/plain": [
       "       Unnamed: 0          id     team_id  event_points     assists  \\\n",
       "count  550.000000  550.000000  550.000000    550.000000  550.000000   \n",
       "mean   274.500000  275.500000   10.410909      1.180000    1.009091   \n",
       "std    158.915596  158.915596    5.789434      2.346637    1.866664   \n",
       "min      0.000000    1.000000    1.000000     -3.000000    0.000000   \n",
       "25%    137.250000  138.250000    5.000000      0.000000    0.000000   \n",
       "50%    274.500000  275.500000   10.000000      0.000000    0.000000   \n",
       "75%    411.750000  412.750000   15.000000      2.000000    1.000000   \n",
       "max    549.000000  550.000000   20.000000     15.000000   17.000000   \n",
       "\n",
       "       goals_scored  goals_conceded    now_cost       bonus         bps  \\\n",
       "count    550.000000      550.000000  550.000000  550.000000  550.000000   \n",
       "mean       1.101818       12.978182   50.970909    2.790909  173.821818   \n",
       "std        2.343964       12.257390   12.337064    4.466625  167.652834   \n",
       "min        0.000000        0.000000   37.000000    0.000000   -1.000000   \n",
       "25%        0.000000        1.000000   43.000000    0.000000    7.250000   \n",
       "50%        0.000000       11.000000   47.000000    0.000000  126.500000   \n",
       "75%        1.000000       22.000000   54.000000    4.000000  299.750000   \n",
       "max       19.000000       50.000000  136.000000   32.000000  644.000000   \n",
       "\n",
       "         ...     chance_of_playing_next_round  chance_of_playing_this_round  \\\n",
       "count    ...                       430.000000                    428.000000   \n",
       "mean     ...                        63.430233                     62.441589   \n",
       "std      ...                        46.636656                     47.492722   \n",
       "min      ...                         0.000000                      0.000000   \n",
       "25%      ...                         0.000000                      0.000000   \n",
       "50%      ...                       100.000000                    100.000000   \n",
       "75%      ...                       100.000000                    100.000000   \n",
       "max      ...                       100.000000                    100.000000   \n",
       "\n",
       "           minutes        form  points_per_game  total_points  bonus_form  \\\n",
       "count   550.000000  550.000000       550.000000    550.000000  550.000000   \n",
       "mean    885.038182    1.342364         2.151091     36.176364   19.900000   \n",
       "std     797.369163    1.793229         1.557258     35.422763   25.911981   \n",
       "min       0.000000   -0.300000        -0.500000     -1.000000   -2.000000   \n",
       "25%      55.500000    0.000000         1.000000      2.000000    0.000000   \n",
       "50%     760.500000    0.500000         2.200000     28.000000    4.000000   \n",
       "75%    1544.000000    2.225000         3.200000     59.000000   37.750000   \n",
       "max    2340.000000    9.800000         7.400000    184.000000  132.000000   \n",
       "\n",
       "       fantasy_form  own_team_form      home  \n",
       "count    550.000000     550.000000       550  \n",
       "mean       4.220000       6.061818  0.483636  \n",
       "std        5.932894       2.291943  0.500187  \n",
       "min        0.000000       3.000000     False  \n",
       "25%        0.000000       3.000000         0  \n",
       "50%        1.000000       7.000000         0  \n",
       "75%        7.000000       9.000000         1  \n",
       "max       33.000000       9.000000      True  \n",
       "\n",
       "[8 rows x 21 columns]"
      ]
     },
     "execution_count": 50,
     "metadata": {},
     "output_type": "execute_result"
    }
   ],
   "source": [
    "## Summary Statistics\n",
    "\n",
    "df.describe()"
   ]
  },
  {
   "cell_type": "code",
   "execution_count": 12,
   "metadata": {
    "collapsed": false
   },
   "outputs": [],
   "source": [
    "import matplotlib.pyplot as plt\n",
    "import seaborn as sns \n",
    "%matplotlib inline\n",
    "import numpy as np"
   ]
  },
  {
   "cell_type": "code",
   "execution_count": 25,
   "metadata": {
    "collapsed": false
   },
   "outputs": [
    {
     "data": {
      "text/plain": [
       "<matplotlib.axes._subplots.AxesSubplot at 0x10ccf55d0>"
      ]
     },
     "execution_count": 25,
     "metadata": {},
     "output_type": "execute_result"
    },
    {
     "data": {
      "image/png": "[encoded data removed]",
      "text/plain": [
       "<matplotlib.figure.Figure at 0x10ccfe050>"
      ]
     },
     "metadata": {},
     "output_type": "display_data"
    }
   ],
   "source": [
    "# One response variable here is the amount of fantasy points scored. Let's take a look at the distribution\n",
    "\n",
    "plt.hist(df.fantasy_points_t,color='blue',normed=True)\n",
    "plt.title(\"Histogram of Fantasy Points Distribution at Gameweek 25\")\n",
    "plt.ylabel(\"Frequency Density\")\n",
    "plt.xlabel(\"Total Fantasy Points up at Gameweek 25\")\n",
    "sns.kdeplot(df.fantasy_points_t)"
   ]
  },
  {
   "cell_type": "markdown",
   "metadata": {},
   "source": [
    "Data is highly skewed to the left. About 20% of players score 10 points and below. These are probably guys from the reserve team, long term injuries etc.\n",
    "\n",
    "There is a good chunk of players not in contention to play at all. So I'd probably want to filter them out at the earlier on in my proper analysis. \n",
    "\n",
    "Let's look at how the features correlate with our response variable"
   ]
  },
  {
   "cell_type": "code",
   "execution_count": 29,
   "metadata": {
    "collapsed": false
   },
   "outputs": [
    {
     "data": {
      "text/plain": [
       "Unnamed: 0                     -0.067488\n",
       "id                             -0.067488\n",
       "team_id                        -0.019681\n",
       "event_points                    0.460971\n",
       "assists                         0.655133\n",
       "goals_scored                    0.652215\n",
       "goals_conceded                  0.755811\n",
       "now_cost                        0.485286\n",
       "bonus                           0.840500\n",
       "bps                             0.938958\n",
       "dreamteam_count                 0.699658\n",
       "chance_of_playing_next_round    0.423601\n",
       "chance_of_playing_this_round    0.430077\n",
       "minutes                         0.906495\n",
       "form                            0.736912\n",
       "points_per_game                 0.820001\n",
       "total_points                    1.000000\n",
       "bonus_form                      0.721936\n",
       "fantasy_form                    0.724479\n",
       "own_team_form                   0.001099\n",
       "home                           -0.010066\n",
       "Name: total_points, dtype: float64"
      ]
     },
     "execution_count": 29,
     "metadata": {},
     "output_type": "execute_result"
    }
   ],
   "source": [
    "df.corr()['total_points']"
   ]
  },
  {
   "cell_type": "markdown",
   "metadata": {},
   "source": [
    "Pretty strong associations all around, likely >0 for most features. Highest correlation between 'bps' variable and fantasy points scored. This is expected because 'bps' captures fantasy point scoring actions and then some.\n",
    "\n",
    "Going back to the analytical objective of predicting the highest fantasy points scorer, it would be instructive to consider the outcome variable as the number of points scored in the current week."
   ]
  },
  {
   "cell_type": "code",
   "execution_count": 30,
   "metadata": {
    "collapsed": false
   },
   "outputs": [
    {
     "data": {
      "text/plain": [
       "<matplotlib.axes._subplots.AxesSubplot at 0x10f271590>"
      ]
     },
     "execution_count": 30,
     "metadata": {},
     "output_type": "execute_result"
    },
    {
     "data": {
      "image/png": "[encoded data removed]",
      "text/plain": [
       "<matplotlib.figure.Figure at 0x10e379fd0>"
      ]
     },
     "metadata": {},
     "output_type": "display_data"
    }
   ],
   "source": [
    "# Let's look at the distribution again..\n",
    "\n",
    "plt.hist(df.event_points,color='blue',normed=True)\n",
    "plt.title(\"Histogram of Fantasy Points Distribution for Gameweek 26\")\n",
    "plt.ylabel(\"Frequency Density\")\n",
    "plt.xlabel(\"Fantasy Points for Gameweek 26\")\n",
    "sns.kdeplot(df.event_points)"
   ]
  },
  {
   "cell_type": "markdown",
   "metadata": {},
   "source": [
    "Expectedly, this is even more skewed because any given team is allowed to play 11 players and field three substitutes, leaving only a maximum of 14 out of a typical squad of 28 that can score points. "
   ]
  },
  {
   "cell_type": "code",
   "execution_count": 426,
   "metadata": {
    "collapsed": false
   },
   "outputs": [
    {
     "data": {
      "text/plain": [
       "id                             -0.002611\n",
       "team_id                         0.050455\n",
       "event_points                    1.000000\n",
       "assists                         0.429594\n",
       "goals_scored                    0.351329\n",
       "goals_conceded                  0.312335\n",
       "now_cost                        0.313132\n",
       "bonus                           0.419629\n",
       "bps                             0.414457\n",
       "dreamteam_count                 0.347681\n",
       "chance_of_playing_next_round    0.397265\n",
       "chance_of_playing_this_round    0.376798\n",
       "minutes                         0.385982\n",
       "form                            0.625656\n",
       "points_per_game                 0.441847\n",
       "total_points                    0.460971\n",
       "bonus_form                      0.409134\n",
       "fantasy_form                    0.399853\n",
       "own_team_form                   0.051776\n",
       "home                           -0.080510\n",
       "Name: event_points, dtype: float64"
      ]
     },
     "execution_count": 426,
     "metadata": {},
     "output_type": "execute_result"
    }
   ],
   "source": [
    "df.corr()['event_points']"
   ]
  },
  {
   "cell_type": "markdown",
   "metadata": {},
   "source": [
    "What stands out for me here is that form seems like more highly correlated that the cumulative points, or points per game. This means that the a player's performance in the past few games is likely to be a better predictor of his current performance than his performance in the overall season."
   ]
  },
  {
   "cell_type": "code",
   "execution_count": 11,
   "metadata": {
    "collapsed": false
   },
   "outputs": [
    {
     "ename": "NameError",
     "evalue": "name 'sns' is not defined",
     "output_type": "error",
     "traceback": [
      "\u001b[0;31m---------------------------------------------------------------------------\u001b[0m",
      "\u001b[0;31mNameError\u001b[0m                                 Traceback (most recent call last)",
      "\u001b[0;32m<ipython-input-11-c276fca1f335>\u001b[0m in \u001b[0;36m<module>\u001b[0;34m()\u001b[0m\n\u001b[1;32m      1\u001b[0m \u001b[0;31m## Just do a heatmap to see if there are any strong intra-feature correlations...\u001b[0m\u001b[0;34m\u001b[0m\u001b[0;34m\u001b[0m\u001b[0m\n\u001b[1;32m      2\u001b[0m \u001b[0;34m\u001b[0m\u001b[0m\n\u001b[0;32m----> 3\u001b[0;31m \u001b[0msns\u001b[0m\u001b[0;34m.\u001b[0m\u001b[0mheatmap\u001b[0m\u001b[0;34m(\u001b[0m\u001b[0mdf\u001b[0m\u001b[0;34m.\u001b[0m\u001b[0mcorr\u001b[0m\u001b[0;34m(\u001b[0m\u001b[0;34m)\u001b[0m\u001b[0;34m,\u001b[0m\u001b[0mfigsize\u001b[0m\u001b[0;34m=\u001b[0m\u001b[0;34m(\u001b[0m\u001b[0;36m15\u001b[0m\u001b[0;34m,\u001b[0m\u001b[0;36m15\u001b[0m\u001b[0;34m)\u001b[0m\u001b[0;34m)\u001b[0m\u001b[0;34m\u001b[0m\u001b[0m\n\u001b[0m",
      "\u001b[0;31mNameError\u001b[0m: name 'sns' is not defined"
     ]
    }
   ],
   "source": [
    "## Just do a heatmap to see if there are any strong intra-feature correlations...\n",
    "\n",
    "sns.heatmap(df.corr(),figsize=(15,15))"
   ]
  },
  {
   "cell_type": "markdown",
   "metadata": {},
   "source": [
    "## Preliminary Modelling"
   ]
  },
  {
   "cell_type": "markdown",
   "metadata": {},
   "source": [
    "This preliminary analysis leads me to the conclusion that I should be digging a bit more into the player's form to uncover more features to predict his next gameweek's performance. \n",
    "\n",
    "Given this, I have added more features into the dataset on a player's form. I have three new features on a player's form : (a) fantasy form, the sum of all fantasy points of a player over the past 3 weeks; (b) bonus_form, the sum of all bonus points of a player over the past 3 weeks; and (c) own team form, the amount of points that the player's team has accumulated in the past 3 weeks. \n",
    "\n",
    "I'll run through a few models to see what kind of results come up.\n",
    "\n",
    "## Simple Linear Regression \n",
    "\n",
    "I can formulate the problem as a regression problem and use the number of points as a continuous variable, and regress it on my feature set. "
   ]
  },
  {
   "cell_type": "code",
   "execution_count": 428,
   "metadata": {
    "collapsed": false,
    "scrolled": true
   },
   "outputs": [
    {
     "data": {
      "text/html": [
       "<table class=\"simpletable\">\n",
       "<caption>OLS Regression Results</caption>\n",
       "<tr>\n",
       "  <th>Dep. Variable:</th>      <td>event_points</td>   <th>  R-squared:         </th> <td>   0.474</td>\n",
       "</tr>\n",
       "<tr>\n",
       "  <th>Model:</th>                   <td>OLS</td>       <th>  Adj. R-squared:    </th> <td>   0.464</td>\n",
       "</tr>\n",
       "<tr>\n",
       "  <th>Method:</th>             <td>Least Squares</td>  <th>  F-statistic:       </th> <td>   48.53</td>\n",
       "</tr>\n",
       "<tr>\n",
       "  <th>Date:</th>             <td>Thu, 18 Feb 2016</td> <th>  Prob (F-statistic):</th> <td>8.30e-69</td>\n",
       "</tr>\n",
       "<tr>\n",
       "  <th>Time:</th>                 <td>23:31:11</td>     <th>  Log-Likelihood:    </th> <td> -1072.5</td>\n",
       "</tr>\n",
       "<tr>\n",
       "  <th>No. Observations:</th>      <td>   550</td>      <th>  AIC:               </th> <td>   2167.</td>\n",
       "</tr>\n",
       "<tr>\n",
       "  <th>Df Residuals:</th>          <td>   539</td>      <th>  BIC:               </th> <td>   2214.</td>\n",
       "</tr>\n",
       "<tr>\n",
       "  <th>Df Model:</th>              <td>    10</td>      <th>                     </th>     <td> </td>   \n",
       "</tr>\n",
       "<tr>\n",
       "  <th>Covariance Type:</th>      <td>nonrobust</td>    <th>                     </th>     <td> </td>   \n",
       "</tr>\n",
       "</table>\n",
       "<table class=\"simpletable\">\n",
       "<tr>\n",
       "        <td></td>           <th>coef</th>     <th>std err</th>      <th>t</th>      <th>P>|t|</th> <th>[95.0% Conf. Int.]</th> \n",
       "</tr>\n",
       "<tr>\n",
       "  <th>Intercept</th>     <td>   -1.0704</td> <td>    0.422</td> <td>   -2.534</td> <td> 0.012</td> <td>   -1.900    -0.241</td>\n",
       "</tr>\n",
       "<tr>\n",
       "  <th>home[T.True]</th>  <td>   -0.2144</td> <td>    0.157</td> <td>   -1.365</td> <td> 0.173</td> <td>   -0.523     0.094</td>\n",
       "</tr>\n",
       "<tr>\n",
       "  <th>form</th>          <td>    1.2349</td> <td>    0.083</td> <td>   14.967</td> <td> 0.000</td> <td>    1.073     1.397</td>\n",
       "</tr>\n",
       "<tr>\n",
       "  <th>total_points</th>  <td>    0.0024</td> <td>    0.011</td> <td>    0.210</td> <td> 0.834</td> <td>   -0.020     0.025</td>\n",
       "</tr>\n",
       "<tr>\n",
       "  <th>minutes</th>       <td>    0.0002</td> <td>    0.000</td> <td>    0.372</td> <td> 0.710</td> <td>   -0.001     0.001</td>\n",
       "</tr>\n",
       "<tr>\n",
       "  <th>bps</th>           <td>   -0.0015</td> <td>    0.002</td> <td>   -0.620</td> <td> 0.535</td> <td>   -0.006     0.003</td>\n",
       "</tr>\n",
       "<tr>\n",
       "  <th>bonus</th>         <td>    0.0259</td> <td>    0.039</td> <td>    0.669</td> <td> 0.504</td> <td>   -0.050     0.102</td>\n",
       "</tr>\n",
       "<tr>\n",
       "  <th>now_cost</th>      <td>    0.0230</td> <td>    0.008</td> <td>    2.999</td> <td> 0.003</td> <td>    0.008     0.038</td>\n",
       "</tr>\n",
       "<tr>\n",
       "  <th>fantasy_form</th>  <td>   -0.2891</td> <td>    0.047</td> <td>   -6.218</td> <td> 0.000</td> <td>   -0.380    -0.198</td>\n",
       "</tr>\n",
       "<tr>\n",
       "  <th>bonus_form</th>    <td>    0.0262</td> <td>    0.011</td> <td>    2.376</td> <td> 0.018</td> <td>    0.005     0.048</td>\n",
       "</tr>\n",
       "<tr>\n",
       "  <th>own_team_form</th> <td>    0.0300</td> <td>    0.034</td> <td>    0.878</td> <td> 0.381</td> <td>   -0.037     0.097</td>\n",
       "</tr>\n",
       "</table>\n",
       "<table class=\"simpletable\">\n",
       "<tr>\n",
       "  <th>Omnibus:</th>       <td>167.701</td> <th>  Durbin-Watson:     </th> <td>   1.983</td> \n",
       "</tr>\n",
       "<tr>\n",
       "  <th>Prob(Omnibus):</th> <td> 0.000</td>  <th>  Jarque-Bera (JB):  </th> <td>1069.321</td> \n",
       "</tr>\n",
       "<tr>\n",
       "  <th>Skew:</th>          <td> 1.179</td>  <th>  Prob(JB):          </th> <td>6.31e-233</td>\n",
       "</tr>\n",
       "<tr>\n",
       "  <th>Kurtosis:</th>      <td> 9.411</td>  <th>  Cond. No.          </th> <td>7.06e+03</td> \n",
       "</tr>\n",
       "</table>"
      ],
      "text/plain": [
       "<class 'statsmodels.iolib.summary.Summary'>\n",
       "\"\"\"\n",
       "                            OLS Regression Results                            \n",
       "==============================================================================\n",
       "Dep. Variable:           event_points   R-squared:                       0.474\n",
       "Model:                            OLS   Adj. R-squared:                  0.464\n",
       "Method:                 Least Squares   F-statistic:                     48.53\n",
       "Date:                Thu, 18 Feb 2016   Prob (F-statistic):           8.30e-69\n",
       "Time:                        23:31:11   Log-Likelihood:                -1072.5\n",
       "No. Observations:                 550   AIC:                             2167.\n",
       "Df Residuals:                     539   BIC:                             2214.\n",
       "Df Model:                          10                                         \n",
       "Covariance Type:            nonrobust                                         \n",
       "=================================================================================\n",
       "                    coef    std err          t      P>|t|      [95.0% Conf. Int.]\n",
       "---------------------------------------------------------------------------------\n",
       "Intercept        -1.0704      0.422     -2.534      0.012        -1.900    -0.241\n",
       "home[T.True]     -0.2144      0.157     -1.365      0.173        -0.523     0.094\n",
       "form              1.2349      0.083     14.967      0.000         1.073     1.397\n",
       "total_points      0.0024      0.011      0.210      0.834        -0.020     0.025\n",
       "minutes           0.0002      0.000      0.372      0.710        -0.001     0.001\n",
       "bps              -0.0015      0.002     -0.620      0.535        -0.006     0.003\n",
       "bonus             0.0259      0.039      0.669      0.504        -0.050     0.102\n",
       "now_cost          0.0230      0.008      2.999      0.003         0.008     0.038\n",
       "fantasy_form     -0.2891      0.047     -6.218      0.000        -0.380    -0.198\n",
       "bonus_form        0.0262      0.011      2.376      0.018         0.005     0.048\n",
       "own_team_form     0.0300      0.034      0.878      0.381        -0.037     0.097\n",
       "==============================================================================\n",
       "Omnibus:                      167.701   Durbin-Watson:                   1.983\n",
       "Prob(Omnibus):                  0.000   Jarque-Bera (JB):             1069.321\n",
       "Skew:                           1.179   Prob(JB):                    6.31e-233\n",
       "Kurtosis:                       9.411   Cond. No.                     7.06e+03\n",
       "==============================================================================\n",
       "\n",
       "Warnings:\n",
       "[1] Standard Errors assume that the covariance matrix of the errors is correctly specified.\n",
       "[2] The condition number is large, 7.06e+03. This might indicate that there are\n",
       "strong multicollinearity or other numerical problems.\n",
       "\"\"\""
      ]
     },
     "execution_count": 428,
     "metadata": {},
     "output_type": "execute_result"
    }
   ],
   "source": [
    "\n",
    "import statsmodels.formula.api as smf\n",
    "lm= smf.ols(formula='event_points ~ form + total_points + minutes + bps + bonus + now_cost + fantasy_form + bonus_form + own_team_form + home',data=df)\n",
    "\n",
    "results = lm.fit()\n",
    "results.summary()"
   ]
  },
  {
   "cell_type": "markdown",
   "metadata": {},
   "source": [
    "### Observations\n",
    "\n",
    "- <b>Form is highly significant in influencing performance, but total points is not</b>\n",
    "    - This leads me to believe that I should be looking at \"form\" type variables, ie. lagged variables, and not cumulative variables\n",
    "- <b> Fantasy Form is significant, but influences performance not in the direction which we'd expect </b>\n",
    "    - This seems rather strange, but I'm going to keep in the feature set. \n",
    "    - There's no exact definition of how BPL calculates \"form\", but it seems to be performing better as a predictor than the variable that I created, \"fantasy_form\". The website says that form is calculated on a player's performance over 'the last 30 days'. I might make some tweaks to my variable to extend the run length back by a few games.\n",
    "- <b> Bonus Form and bonus points continue to be a significant feature </b> \n",
    "- <b> Home Team advantage seems to be a myth</b>\n",
    "\n",
    "\n",
    "## Classification Models\n",
    "\n",
    "I've also tried formulating my problem as a classification problem. Here, my outcome variable is defined as any player who has scored above 5 points. In this gameweek data set, 43 out of the 550 players selected scored more than 5 points.\n",
    "\n",
    "Approaching this as a classification problem has intuitive appeal. If I can predict a subset of players that will score well in any given gameweek, I can then narrow down player selection to a smaller set of players, and formulate a linear optimisation problem to select an optimal combination of players. \n"
   ]
  },
  {
   "cell_type": "code",
   "execution_count": 53,
   "metadata": {
    "collapsed": true
   },
   "outputs": [],
   "source": [
    "from sklearn.naive_bayes import MultinomialNB\n",
    "from sklearn.naive_bayes import BernoulliNB\n",
    "from sklearn.naive_bayes import GaussianNB\n",
    "from sklearn.linear_model import LogisticRegression\n",
    "from sklearn.cross_validation import train_test_split"
   ]
  },
  {
   "cell_type": "code",
   "execution_count": 64,
   "metadata": {
    "collapsed": false
   },
   "outputs": [
    {
     "name": "stdout",
     "output_type": "stream",
     "text": [
      "43\n"
     ]
    }
   ],
   "source": [
    "# Create Binary Variable\n",
    "\n",
    "df['points_scorer'] = df.event_points>5\n",
    "df['points_scorer'] = df.points_scorer.astype(int)\n",
    "print sum(df['points_scorer'])\n",
    "# Create new feature set and define new binary outcome variable\n",
    "\n",
    "X = df[['form', 'minutes', 'bps', 'bonus', 'now_cost', 'fantasy_form', 'bonus_form', 'own_team_form','home']]\n",
    "y = df['points_scorer']\n",
    "xtrain, xtest, ytrain, ytest = train_test_split(X, y)"
   ]
  },
  {
   "cell_type": "code",
   "execution_count": 55,
   "metadata": {
    "collapsed": true
   },
   "outputs": [],
   "source": [
    "# Recycling a function from the lab\n",
    "\n",
    "def accuracy_report(clf):\n",
    "    print \"Accuracy: %0.2f%%\" % (100 * clf.score(xtest, ytest))\n",
    "\n",
    "    #Print the accuracy on the test and training dataset\n",
    "    training_accuracy = clf.score(xtrain, ytrain)\n",
    "    test_accuracy = clf.score(xtest, ytest)\n",
    "\n",
    "    print \"Accuracy on training data: %0.2f\" % (training_accuracy)"
   ]
  },
  {
   "cell_type": "code",
   "execution_count": 56,
   "metadata": {
    "collapsed": false
   },
   "outputs": [
    {
     "name": "stdout",
     "output_type": "stream",
     "text": [
      "Fit Accuracy for Binomial Naive Bayes\n",
      "Accuracy: 83.33%\n",
      "Accuracy on training data: 0.81\n",
      "Fit Accuracy for Gaussian Naive Bayes\n",
      "Accuracy: 87.68%\n",
      "Accuracy on training data: 0.85\n",
      "Fit Accuracy for Logistic Regression\n",
      "Accuracy: 91.30%\n",
      "Accuracy on training data: 0.94\n"
     ]
    }
   ],
   "source": [
    "# Running three different types of classifiers. Multinomial will not be fitted here because it cannot pass non-integer continuous values in the feature set.\n",
    "\n",
    "clf_bn=BernoulliNB().fit(xtrain,ytrain)\n",
    "print \"Fit Accuracy for Binomial Naive Bayes\"\n",
    "accuracy_report(clf_bn)\n",
    "\n",
    "clf_gauss = GaussianNB().fit(xtrain, ytrain)\n",
    "print \"Fit Accuracy for Gaussian Naive Bayes\"\n",
    "accuracy_report(clf_gauss)\n",
    "\n",
    "clf_log=LogisticRegression().fit(xtrain,ytrain)\n",
    "print \"Fit Accuracy for Logistic Regression\"\n",
    "accuracy_report(clf_log)"
   ]
  },
  {
   "cell_type": "code",
   "execution_count": 58,
   "metadata": {
    "collapsed": true
   },
   "outputs": [],
   "source": [
    "## K-means clustering\n",
    "from sklearn.cluster import KMeans"
   ]
  },
  {
   "cell_type": "code",
   "execution_count": 59,
   "metadata": {
    "collapsed": false
   },
   "outputs": [],
   "source": [
    "K = range(1,20)\n",
    "\n",
    "inertias = []\n",
    "for k in K:\n",
    "    # create a new KMeans object for each value of k\n",
    "    kmeans = KMeans(n_clusters=k, random_state=8)\n",
    "    kmeans.fit(xtrain)\n",
    "    inertias.append(kmeans.inertia_)"
   ]
  },
  {
   "cell_type": "code",
   "execution_count": 60,
   "metadata": {
    "collapsed": false
   },
   "outputs": [
    {
     "data": {
      "image/png": "[encoded data removed]",
      "text/plain": [
       "<matplotlib.figure.Figure at 0x10cadd990>"
      ]
     },
     "metadata": {},
     "output_type": "display_data"
    }
   ],
   "source": [
    "plt.plot(K,inertias,marker='o')\n",
    "plt.xlabel('Number of clusters')\n",
    "plt.ylabel('Sum of distances of samples to their closest cluster center')\n",
    "tt = plt.title('Elbow Plot for K-Means clustering')  "
   ]
  },
  {
   "cell_type": "code",
   "execution_count": 61,
   "metadata": {
    "collapsed": false
   },
   "outputs": [
    {
     "name": "stdout",
     "output_type": "stream",
     "text": [
      "Accuracy: -773607388.12%\n",
      "Accuracy on training data: -21831631.04\n"
     ]
    }
   ],
   "source": [
    "kmeansfit= KMeans(n_clusters=3,random_state=8).fit(xtrain)\n",
    "accuracy_report(kmeansfit)"
   ]
  },
  {
   "cell_type": "code",
   "execution_count": 62,
   "metadata": {
    "collapsed": false
   },
   "outputs": [],
   "source": [
    "## Support Vector Machine\n",
    "\n",
    "from sklearn.svm import LinearSVC\n",
    "from sklearn.svm import SVC"
   ]
  },
  {
   "cell_type": "code",
   "execution_count": 56,
   "metadata": {
    "collapsed": false
   },
   "outputs": [
    {
     "name": "stdout",
     "output_type": "stream",
     "text": [
      "Accuracy: 92.03%\n",
      "Accuracy on training data: 1.00\n"
     ]
    }
   ],
   "source": [
    "rbf_svm=SVC(kernel='rbf').fit(xtrain,ytrain)\n",
    "accuracy_report(rbf_svm)"
   ]
  }
 ],
 "metadata": {
  "kernelspec": {
   "display_name": "Python 2",
   "language": "python",
   "name": "python2"
  },
  "language_info": {
   "codemirror_mode": {
    "name": "ipython",
    "version": 2
   },
   "file_extension": ".py",
   "mimetype": "text/x-python",
   "name": "python",
   "nbconvert_exporter": "python",
   "pygments_lexer": "ipython2",
   "version": "2.7.11"
  }
 },
 "nbformat": 4,
 "nbformat_minor": 0
}
