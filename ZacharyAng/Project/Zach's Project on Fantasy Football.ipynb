{
 "cells": [
  {
   "cell_type": "markdown",
   "metadata": {
    "collapsed": true
   },
   "source": [
    "# Barclays Premier League Fantasy Football Data Analysis\n",
    "\n",
    "## Introduction\n",
    "\n",
    "I've been really into BPL Fantasy Football this season and have been building a fantasy team since the start of the season last year. \n",
    "\n",
    "I'm not very good at picking the right squad based on my instincts, so my basic goal is to use the data from the present and past weeks to determine the best picks for the upcoming week.\n",
    "\n",
    "## How Fantasy Football Works\n",
    "\n",
    "I play Fantasy Football off the <a href='http://fantasy.premierleague.com'> official BPL Fantasy site</a>. For the uninitiated, Fantasy Football is an online game where users pick a squad of 15 real-life football players from a league. In this case, I'm playing the BPL, which is the English top division. Points are scored and collated depending on a player's actions in the actual game. The aim of the game is to amass the highest number of points each game week. The rules are <a href='http://fantasy.premierleague.com/rules/'> here</a>. Friends tend to form mini-competitions to see who's better at picking the best squad week after week. At the end of the season, the winner of their league with the higest points gets the honour of having the best fantasy football instincts (although there's usually money involved in mini-leagues amongst friends). There's a budget allocated to each user so you can't always choose the best player. Players get transferred in and out of teams weekly, so there's an entire transfer market \n",
    "\n",
    "## Fantasy Football Data\n",
    "\n",
    "Data is available from an API from the official site on players' basic information, team information, fixture information and performance stats. Each player's performance is aggregated every gameweek to give an overall view of the players' performance. There are nested data sets on each player's weekly performance history, as well as performance in past seasons.    \n",
    "\n",
    "There are 549 players in the fantasy football database. I'll import some basic data on them for a start. "
   ]
  },
  {
   "cell_type": "code",
   "execution_count": 146,
   "metadata": {
    "collapsed": true
   },
   "outputs": [],
   "source": [
    "import requests as rq"
   ]
  },
  {
   "cell_type": "code",
   "execution_count": 155,
   "metadata": {
    "collapsed": false
   },
   "outputs": [
    {
     "name": "stdout",
     "output_type": "stream",
     "text": [
      "[u'transfers_out', u'yellow_cards', u'code', u'event_total', u'goals_conceded', u'photo', u'red_cards', u'saves', u'ep_this', u'value_form', u'next_fixture', u'team_id', u'goals_scored', u'loans_in', u'web_name', u'value_season', u'team_name', u'cost_change_start_fall', u'team_code', u'fixtures', u'special', u'first_name', u'transfers_out_event', u'chance_of_playing_next_round', u'cost_change_start', u'cost_change_event_fall', u'event_explain', u'type_name', u'bps', u'id', u'bonus', u'season_history', u'total_points', u'penalties_missed', u'status', u'form', u'own_goals', u'loaned_in', u'current_fixture', u'now_cost', u'fixture_history', u'clean_sheets', u'assists', u'selected_by_percent', u'transfers_in', u'loans_out', u'news', u'ea_index', u'penalties_saved', u'dreamteam_count', u'in_dreamteam', u'points_per_game', u'minutes', u'loaned_out', u'transfers_in_event', u'selected_by', u'element_type', u'ep_next', u'team', u'chance_of_playing_this_round', u'event_points', u'second_name', u'cost_change_event']\n",
      "63\n"
     ]
    }
   ],
   "source": [
    "## Taking a look at one player's data \n",
    "\n",
    "r25 = rq.get('http://fantasy.premierleague.com/web/api/elements/3')\n",
    "d25 = r25.json()\n",
    "\n",
    "## The data fields available for each player. \n",
    "\n",
    "print d25.keys()\n",
    "print len(d25.keys())"
   ]
  },
  {
   "cell_type": "markdown",
   "metadata": {},
   "source": [
    "### Diving deeper into Player Data \n",
    "\n",
    "There are a total of 63 data attributes for any single player. Each player has a unique player id, and data is updated once every <i>gameweek</i>. That is to say, a full round of fixtures played amongst 20 teams. [Note: Fixtures sometimes get postponed from one gameweek to another, so that might be a complication for the data set.] \n",
    "\n",
    "In essence, the gameweek view reflects the player's (a) cumulative performance up to that gameweek and (b) the player's performance in that particular gameweek. \n",
    "\n",
    "Above that, there are some <b>nested</b> attributes that give us a whole lot more information. For instance, for each player, the attribute 'fixture_history' returns the players performance down to the individual fixtures of the current season played up to the current gameweek. 'season_history' returns the players' cumulative performance over the past few seasons (if they are available). \n",
    "\n",
    "This presents a whole different order of magnitude of information, so I'll be focusing on gameweek level data for a start. \n",
    "\n",
    "The Fantasy League API doesn't really have a guide, so I'm going to give a brief overview of the variables I'll be using for a start:\n",
    "\n",
    "- <b>Personal Attributes</b>\n",
    "    - Player ID - Unique Identifier\n",
    "    - First Name, Last name\n",
    "    - Position, ie. Goalkeeper, Midfielder\n",
    "- <b>Team Attributes</b>\n",
    "    - Team name, Team ID\n",
    "- <b>Real Life Performance Attributes</b> (measured up to current gameweek)\n",
    "    - Total Goals scored\n",
    "    - Assists\n",
    "    - Goals Conceded\n",
    "    - Total minutes played\n",
    "- <b>Fantasy Performance Attributes</b> \n",
    "    - Total points scored\n",
    "    - Points per game\n",
    "    - Total Bonus points\n",
    "    - Number of points scored in the most recent gameweek\n",
    "    - Number of Bonus points scored in the most recent gameweek\n",
    "\n",
    "[<i>These characterise the fantasy points, measured up to current gameweek, that each player has scored according to the fantasy system, and not in \"real life\". Bonus points are tallied in a separate system, where more \"minor actions\" in a game, such as a shot on target, a tackle or a clearance can be tallied. These do not directly contribute towards fantasy points.</i>]\n",
    " \n",
    "- <b> Transfer Market Attributes</b>\n",
    "    - Total Transfers In\n",
    "    - Total Transfers Out\n",
    "- <b> Injury Attributes </b>\n",
    "    - % Chance of playing in this round\n",
    "    - % Chance of playing in the next round\n",
    "\n",
    "With that, I'm going to extract the fantasy points as the outcome variable and 21 features for 549 players. "
   ]
  },
  {
   "cell_type": "code",
   "execution_count": 164,
   "metadata": {
    "collapsed": false
   },
   "outputs": [
    {
     "name": "stdout",
     "output_type": "stream",
     "text": [
      "22\n"
     ]
    }
   ],
   "source": [
    "required_fields=['id','first_name','second_name','team_name','team_id','type_name','event_points','event_total','assists','goals_scored','goals_conceded','now_cost','bonus','bps','dreamteam_count','chance_of_playing_next_round','chance_of_playing_this_round','minutes','form','points_per_game','next_fixture','total_points']\n",
    "print (len(required_fields))"
   ]
  },
  {
   "cell_type": "code",
   "execution_count": 156,
   "metadata": {
    "collapsed": false
   },
   "outputs": [
    {
     "name": "stdout",
     "output_type": "stream",
     "text": [
      "<type 'list'>\n"
     ]
    }
   ],
   "source": [
    "data=[]\n",
    "print type(data)\n",
    "for i in range(1,550):\n",
    "    r = rq.get('http://fantasy.premierleague.com/web/api/elements/%d' %(i))\n",
    "    d = r.json()\n",
    "    p_data = [d[required_fields[j]] for j in range(len(required_fields))]\n",
    "    data.append(p_data)\n",
    "    "
   ]
  },
  {
   "cell_type": "code",
   "execution_count": 125,
   "metadata": {
    "collapsed": false
   },
   "outputs": [],
   "source": [
    "# Convert to data frame.. \n",
    "\n",
    "import csv \n",
    "import pandas as pd\n",
    "df = pd.DataFrame(data,columns=required_fields)"
   ]
  },
  {
   "cell_type": "code",
   "execution_count": 159,
   "metadata": {
    "collapsed": false
   },
   "outputs": [],
   "source": [
    "## I'm going to export the data to a csv so I don't have to keep pinging the API. \n",
    "\n",
    "df.to_csv('Fantasy Gameweek 25.csv', encoding='utf')"
   ]
  },
  {
   "cell_type": "code",
   "execution_count": 192,
   "metadata": {
    "collapsed": false
   },
   "outputs": [
    {
     "data": {
      "text/html": [
       "<div>\n",
       "<table border=\"1\" class=\"dataframe\">\n",
       "  <thead>\n",
       "    <tr style=\"text-align: right;\">\n",
       "      <th></th>\n",
       "      <th>id</th>\n",
       "      <th>first_name</th>\n",
       "      <th>second_name</th>\n",
       "      <th>team_name</th>\n",
       "      <th>team_id</th>\n",
       "      <th>type_name</th>\n",
       "      <th>event_points</th>\n",
       "      <th>event_total</th>\n",
       "      <th>assists</th>\n",
       "      <th>goals_scored</th>\n",
       "      <th>...</th>\n",
       "      <th>bonus</th>\n",
       "      <th>bps</th>\n",
       "      <th>dreamteam_count</th>\n",
       "      <th>chance_of_playing_next_round</th>\n",
       "      <th>chance_of_playing_this_round</th>\n",
       "      <th>minutes</th>\n",
       "      <th>form</th>\n",
       "      <th>points_per_game</th>\n",
       "      <th>next_fixture</th>\n",
       "      <th>total_points</th>\n",
       "    </tr>\n",
       "  </thead>\n",
       "  <tbody>\n",
       "    <tr>\n",
       "      <th>162</th>\n",
       "      <td>163</td>\n",
       "      <td>Riyad</td>\n",
       "      <td>Mahrez</td>\n",
       "      <td>Leicester</td>\n",
       "      <td>7</td>\n",
       "      <td>Midfielder</td>\n",
       "      <td>14</td>\n",
       "      <td>14</td>\n",
       "      <td>10</td>\n",
       "      <td>14</td>\n",
       "      <td>...</td>\n",
       "      <td>32</td>\n",
       "      <td>609</td>\n",
       "      <td>10</td>\n",
       "      <td>100</td>\n",
       "      <td>100</td>\n",
       "      <td>1959</td>\n",
       "      <td>6.0</td>\n",
       "      <td>7.6</td>\n",
       "      <td>Arsenal (A)</td>\n",
       "      <td>183</td>\n",
       "    </tr>\n",
       "    <tr>\n",
       "      <th>169</th>\n",
       "      <td>170</td>\n",
       "      <td>Jamie</td>\n",
       "      <td>Vardy</td>\n",
       "      <td>Leicester</td>\n",
       "      <td>7</td>\n",
       "      <td>Forward</td>\n",
       "      <td>2</td>\n",
       "      <td>2</td>\n",
       "      <td>5</td>\n",
       "      <td>18</td>\n",
       "      <td>...</td>\n",
       "      <td>24</td>\n",
       "      <td>619</td>\n",
       "      <td>3</td>\n",
       "      <td>100</td>\n",
       "      <td>100</td>\n",
       "      <td>2178</td>\n",
       "      <td>5.6</td>\n",
       "      <td>6.2</td>\n",
       "      <td>Arsenal (A)</td>\n",
       "      <td>156</td>\n",
       "    </tr>\n",
       "    <tr>\n",
       "      <th>148</th>\n",
       "      <td>149</td>\n",
       "      <td>Romelu</td>\n",
       "      <td>Lukaku</td>\n",
       "      <td>Everton</td>\n",
       "      <td>6</td>\n",
       "      <td>Forward</td>\n",
       "      <td>9</td>\n",
       "      <td>9</td>\n",
       "      <td>5</td>\n",
       "      <td>16</td>\n",
       "      <td>...</td>\n",
       "      <td>25</td>\n",
       "      <td>531</td>\n",
       "      <td>7</td>\n",
       "      <td>100</td>\n",
       "      <td>75</td>\n",
       "      <td>2151</td>\n",
       "      <td>3.2</td>\n",
       "      <td>6.0</td>\n",
       "      <td>West Brom (H)</td>\n",
       "      <td>151</td>\n",
       "    </tr>\n",
       "    <tr>\n",
       "      <th>441</th>\n",
       "      <td>442</td>\n",
       "      <td>Odion</td>\n",
       "      <td>Ighalo</td>\n",
       "      <td>Watford</td>\n",
       "      <td>18</td>\n",
       "      <td>Forward</td>\n",
       "      <td>2</td>\n",
       "      <td>2</td>\n",
       "      <td>6</td>\n",
       "      <td>15</td>\n",
       "      <td>...</td>\n",
       "      <td>25</td>\n",
       "      <td>493</td>\n",
       "      <td>7</td>\n",
       "      <td>100</td>\n",
       "      <td>100</td>\n",
       "      <td>2128</td>\n",
       "      <td>4.0</td>\n",
       "      <td>6.0</td>\n",
       "      <td>Crystal Palace (A)</td>\n",
       "      <td>149</td>\n",
       "    </tr>\n",
       "    <tr>\n",
       "      <th>14</th>\n",
       "      <td>15</td>\n",
       "      <td>Mesut</td>\n",
       "      <td>Özil</td>\n",
       "      <td>Arsenal</td>\n",
       "      <td>1</td>\n",
       "      <td>Midfielder</td>\n",
       "      <td>10</td>\n",
       "      <td>10</td>\n",
       "      <td>16</td>\n",
       "      <td>4</td>\n",
       "      <td>...</td>\n",
       "      <td>25</td>\n",
       "      <td>609</td>\n",
       "      <td>3</td>\n",
       "      <td>100</td>\n",
       "      <td>100</td>\n",
       "      <td>1989</td>\n",
       "      <td>3.4</td>\n",
       "      <td>6.4</td>\n",
       "      <td>Leicester (H)</td>\n",
       "      <td>148</td>\n",
       "    </tr>\n",
       "    <tr>\n",
       "      <th>137</th>\n",
       "      <td>138</td>\n",
       "      <td>Ross</td>\n",
       "      <td>Barkley</td>\n",
       "      <td>Everton</td>\n",
       "      <td>6</td>\n",
       "      <td>Midfielder</td>\n",
       "      <td>3</td>\n",
       "      <td>3</td>\n",
       "      <td>8</td>\n",
       "      <td>8</td>\n",
       "      <td>...</td>\n",
       "      <td>14</td>\n",
       "      <td>518</td>\n",
       "      <td>4</td>\n",
       "      <td>NaN</td>\n",
       "      <td>NaN</td>\n",
       "      <td>2182</td>\n",
       "      <td>5.2</td>\n",
       "      <td>5.3</td>\n",
       "      <td>West Brom (H)</td>\n",
       "      <td>133</td>\n",
       "    </tr>\n",
       "    <tr>\n",
       "      <th>349</th>\n",
       "      <td>350</td>\n",
       "      <td>Harry</td>\n",
       "      <td>Kane</td>\n",
       "      <td>Spurs</td>\n",
       "      <td>14</td>\n",
       "      <td>Forward</td>\n",
       "      <td>2</td>\n",
       "      <td>2</td>\n",
       "      <td>2</td>\n",
       "      <td>15</td>\n",
       "      <td>...</td>\n",
       "      <td>21</td>\n",
       "      <td>464</td>\n",
       "      <td>5</td>\n",
       "      <td>NaN</td>\n",
       "      <td>NaN</td>\n",
       "      <td>2204</td>\n",
       "      <td>6.4</td>\n",
       "      <td>5.2</td>\n",
       "      <td>Man City (A)</td>\n",
       "      <td>131</td>\n",
       "    </tr>\n",
       "    <tr>\n",
       "      <th>2</th>\n",
       "      <td>3</td>\n",
       "      <td>Petr</td>\n",
       "      <td>Cech</td>\n",
       "      <td>Arsenal</td>\n",
       "      <td>1</td>\n",
       "      <td>Goalkeeper</td>\n",
       "      <td>10</td>\n",
       "      <td>10</td>\n",
       "      <td>0</td>\n",
       "      <td>0</td>\n",
       "      <td>...</td>\n",
       "      <td>12</td>\n",
       "      <td>542</td>\n",
       "      <td>1</td>\n",
       "      <td>NaN</td>\n",
       "      <td>NaN</td>\n",
       "      <td>2250</td>\n",
       "      <td>6.6</td>\n",
       "      <td>4.9</td>\n",
       "      <td>Leicester (H)</td>\n",
       "      <td>123</td>\n",
       "    </tr>\n",
       "    <tr>\n",
       "      <th>496</th>\n",
       "      <td>497</td>\n",
       "      <td>Georginio</td>\n",
       "      <td>Wijnaldum</td>\n",
       "      <td>Newcastle</td>\n",
       "      <td>11</td>\n",
       "      <td>Midfielder</td>\n",
       "      <td>3</td>\n",
       "      <td>3</td>\n",
       "      <td>4</td>\n",
       "      <td>9</td>\n",
       "      <td>...</td>\n",
       "      <td>11</td>\n",
       "      <td>494</td>\n",
       "      <td>3</td>\n",
       "      <td>NaN</td>\n",
       "      <td>NaN</td>\n",
       "      <td>2207</td>\n",
       "      <td>5.6</td>\n",
       "      <td>4.9</td>\n",
       "      <td>Chelsea (A)</td>\n",
       "      <td>122</td>\n",
       "    </tr>\n",
       "    <tr>\n",
       "      <th>415</th>\n",
       "      <td>416</td>\n",
       "      <td>André</td>\n",
       "      <td>Ayew</td>\n",
       "      <td>Swansea</td>\n",
       "      <td>17</td>\n",
       "      <td>Midfielder</td>\n",
       "      <td>2</td>\n",
       "      <td>2</td>\n",
       "      <td>4</td>\n",
       "      <td>8</td>\n",
       "      <td>...</td>\n",
       "      <td>16</td>\n",
       "      <td>370</td>\n",
       "      <td>4</td>\n",
       "      <td>100</td>\n",
       "      <td>100</td>\n",
       "      <td>2081</td>\n",
       "      <td>6.2</td>\n",
       "      <td>5.0</td>\n",
       "      <td>Southampton (H)</td>\n",
       "      <td>119</td>\n",
       "    </tr>\n",
       "  </tbody>\n",
       "</table>\n",
       "<p>10 rows × 22 columns</p>\n",
       "</div>"
      ],
      "text/plain": [
       "      id first_name second_name  team_name  team_id   type_name  event_points  \\\n",
       "162  163      Riyad      Mahrez  Leicester        7  Midfielder            14   \n",
       "169  170      Jamie       Vardy  Leicester        7     Forward             2   \n",
       "148  149     Romelu      Lukaku    Everton        6     Forward             9   \n",
       "441  442      Odion      Ighalo    Watford       18     Forward             2   \n",
       "14    15      Mesut        Özil    Arsenal        1  Midfielder            10   \n",
       "137  138       Ross     Barkley    Everton        6  Midfielder             3   \n",
       "349  350      Harry        Kane      Spurs       14     Forward             2   \n",
       "2      3       Petr        Cech    Arsenal        1  Goalkeeper            10   \n",
       "496  497  Georginio   Wijnaldum  Newcastle       11  Midfielder             3   \n",
       "415  416      André        Ayew    Swansea       17  Midfielder             2   \n",
       "\n",
       "     event_total  assists  goals_scored     ...       bonus  bps  \\\n",
       "162           14       10            14     ...          32  609   \n",
       "169            2        5            18     ...          24  619   \n",
       "148            9        5            16     ...          25  531   \n",
       "441            2        6            15     ...          25  493   \n",
       "14            10       16             4     ...          25  609   \n",
       "137            3        8             8     ...          14  518   \n",
       "349            2        2            15     ...          21  464   \n",
       "2             10        0             0     ...          12  542   \n",
       "496            3        4             9     ...          11  494   \n",
       "415            2        4             8     ...          16  370   \n",
       "\n",
       "     dreamteam_count  chance_of_playing_next_round  \\\n",
       "162               10                           100   \n",
       "169                3                           100   \n",
       "148                7                           100   \n",
       "441                7                           100   \n",
       "14                 3                           100   \n",
       "137                4                           NaN   \n",
       "349                5                           NaN   \n",
       "2                  1                           NaN   \n",
       "496                3                           NaN   \n",
       "415                4                           100   \n",
       "\n",
       "     chance_of_playing_this_round  minutes  form  points_per_game  \\\n",
       "162                           100     1959   6.0              7.6   \n",
       "169                           100     2178   5.6              6.2   \n",
       "148                            75     2151   3.2              6.0   \n",
       "441                           100     2128   4.0              6.0   \n",
       "14                            100     1989   3.4              6.4   \n",
       "137                           NaN     2182   5.2              5.3   \n",
       "349                           NaN     2204   6.4              5.2   \n",
       "2                             NaN     2250   6.6              4.9   \n",
       "496                           NaN     2207   5.6              4.9   \n",
       "415                           100     2081   6.2              5.0   \n",
       "\n",
       "           next_fixture total_points  \n",
       "162         Arsenal (A)          183  \n",
       "169         Arsenal (A)          156  \n",
       "148       West Brom (H)          151  \n",
       "441  Crystal Palace (A)          149  \n",
       "14        Leicester (H)          148  \n",
       "137       West Brom (H)          133  \n",
       "349        Man City (A)          131  \n",
       "2         Leicester (H)          123  \n",
       "496         Chelsea (A)          122  \n",
       "415     Southampton (H)          119  \n",
       "\n",
       "[10 rows x 22 columns]"
      ]
     },
     "execution_count": 192,
     "metadata": {},
     "output_type": "execute_result"
    }
   ],
   "source": [
    "## Top 10 players in Fantasy Football\n",
    "\n",
    "df.sort_values(by='total_points',ascending=False).head(10)"
   ]
  },
  {
   "cell_type": "code",
   "execution_count": 198,
   "metadata": {
    "collapsed": false
   },
   "outputs": [],
   "source": [
    "## Just some cleaning to make sure the strings are converted to floating numbers.\n",
    "\n",
    "df.form = df.form.astype(float)\n",
    "df.points_per_game = df.points_per_game.astype(float)"
   ]
  },
  {
   "cell_type": "code",
   "execution_count": 199,
   "metadata": {
    "collapsed": false
   },
   "outputs": [
    {
     "data": {
      "text/html": [
       "<div>\n",
       "<table border=\"1\" class=\"dataframe\">\n",
       "  <thead>\n",
       "    <tr style=\"text-align: right;\">\n",
       "      <th></th>\n",
       "      <th>id</th>\n",
       "      <th>team_id</th>\n",
       "      <th>event_points</th>\n",
       "      <th>event_total</th>\n",
       "      <th>assists</th>\n",
       "      <th>goals_scored</th>\n",
       "      <th>goals_conceded</th>\n",
       "      <th>now_cost</th>\n",
       "      <th>bonus</th>\n",
       "      <th>bps</th>\n",
       "      <th>dreamteam_count</th>\n",
       "      <th>chance_of_playing_next_round</th>\n",
       "      <th>chance_of_playing_this_round</th>\n",
       "      <th>minutes</th>\n",
       "      <th>form</th>\n",
       "      <th>points_per_game</th>\n",
       "      <th>total_points</th>\n",
       "    </tr>\n",
       "  </thead>\n",
       "  <tbody>\n",
       "    <tr>\n",
       "      <th>count</th>\n",
       "      <td>549.000000</td>\n",
       "      <td>549.000000</td>\n",
       "      <td>549.000000</td>\n",
       "      <td>549.000000</td>\n",
       "      <td>549.000000</td>\n",
       "      <td>549.000000</td>\n",
       "      <td>549.000000</td>\n",
       "      <td>549.000000</td>\n",
       "      <td>549.000000</td>\n",
       "      <td>549.000000</td>\n",
       "      <td>549.000000</td>\n",
       "      <td>428.000000</td>\n",
       "      <td>427.000000</td>\n",
       "      <td>549.000000</td>\n",
       "      <td>549.000000</td>\n",
       "      <td>549.000000</td>\n",
       "      <td>549.000000</td>\n",
       "    </tr>\n",
       "    <tr>\n",
       "      <th>mean</th>\n",
       "      <td>275.000000</td>\n",
       "      <td>10.462659</td>\n",
       "      <td>1.378871</td>\n",
       "      <td>1.378871</td>\n",
       "      <td>0.965392</td>\n",
       "      <td>1.056466</td>\n",
       "      <td>12.382514</td>\n",
       "      <td>51.027322</td>\n",
       "      <td>2.708561</td>\n",
       "      <td>168.085610</td>\n",
       "      <td>0.471767</td>\n",
       "      <td>63.726636</td>\n",
       "      <td>62.704918</td>\n",
       "      <td>854.652095</td>\n",
       "      <td>1.401093</td>\n",
       "      <td>2.153188</td>\n",
       "      <td>35.060109</td>\n",
       "    </tr>\n",
       "    <tr>\n",
       "      <th>std</th>\n",
       "      <td>158.626921</td>\n",
       "      <td>5.781055</td>\n",
       "      <td>2.549937</td>\n",
       "      <td>2.549937</td>\n",
       "      <td>1.794325</td>\n",
       "      <td>2.283410</td>\n",
       "      <td>11.742187</td>\n",
       "      <td>12.313913</td>\n",
       "      <td>4.337363</td>\n",
       "      <td>162.563379</td>\n",
       "      <td>0.995256</td>\n",
       "      <td>46.887453</td>\n",
       "      <td>47.234576</td>\n",
       "      <td>770.184671</td>\n",
       "      <td>1.842740</td>\n",
       "      <td>1.576855</td>\n",
       "      <td>34.402964</td>\n",
       "    </tr>\n",
       "    <tr>\n",
       "      <th>min</th>\n",
       "      <td>1.000000</td>\n",
       "      <td>1.000000</td>\n",
       "      <td>0.000000</td>\n",
       "      <td>0.000000</td>\n",
       "      <td>0.000000</td>\n",
       "      <td>0.000000</td>\n",
       "      <td>0.000000</td>\n",
       "      <td>37.000000</td>\n",
       "      <td>0.000000</td>\n",
       "      <td>-1.000000</td>\n",
       "      <td>0.000000</td>\n",
       "      <td>0.000000</td>\n",
       "      <td>0.000000</td>\n",
       "      <td>0.000000</td>\n",
       "      <td>0.000000</td>\n",
       "      <td>0.000000</td>\n",
       "      <td>0.000000</td>\n",
       "    </tr>\n",
       "    <tr>\n",
       "      <th>25%</th>\n",
       "      <td>138.000000</td>\n",
       "      <td>6.000000</td>\n",
       "      <td>0.000000</td>\n",
       "      <td>0.000000</td>\n",
       "      <td>0.000000</td>\n",
       "      <td>0.000000</td>\n",
       "      <td>1.000000</td>\n",
       "      <td>43.000000</td>\n",
       "      <td>0.000000</td>\n",
       "      <td>7.000000</td>\n",
       "      <td>0.000000</td>\n",
       "      <td>0.000000</td>\n",
       "      <td>0.000000</td>\n",
       "      <td>57.000000</td>\n",
       "      <td>0.000000</td>\n",
       "      <td>1.000000</td>\n",
       "      <td>2.000000</td>\n",
       "    </tr>\n",
       "    <tr>\n",
       "      <th>50%</th>\n",
       "      <td>275.000000</td>\n",
       "      <td>10.000000</td>\n",
       "      <td>0.000000</td>\n",
       "      <td>0.000000</td>\n",
       "      <td>0.000000</td>\n",
       "      <td>0.000000</td>\n",
       "      <td>10.000000</td>\n",
       "      <td>47.000000</td>\n",
       "      <td>0.000000</td>\n",
       "      <td>122.000000</td>\n",
       "      <td>0.000000</td>\n",
       "      <td>100.000000</td>\n",
       "      <td>100.000000</td>\n",
       "      <td>729.000000</td>\n",
       "      <td>0.600000</td>\n",
       "      <td>2.100000</td>\n",
       "      <td>27.000000</td>\n",
       "    </tr>\n",
       "    <tr>\n",
       "      <th>75%</th>\n",
       "      <td>412.000000</td>\n",
       "      <td>15.000000</td>\n",
       "      <td>2.000000</td>\n",
       "      <td>2.000000</td>\n",
       "      <td>1.000000</td>\n",
       "      <td>1.000000</td>\n",
       "      <td>21.000000</td>\n",
       "      <td>54.000000</td>\n",
       "      <td>4.000000</td>\n",
       "      <td>294.000000</td>\n",
       "      <td>1.000000</td>\n",
       "      <td>100.000000</td>\n",
       "      <td>100.000000</td>\n",
       "      <td>1500.000000</td>\n",
       "      <td>2.400000</td>\n",
       "      <td>3.200000</td>\n",
       "      <td>58.000000</td>\n",
       "    </tr>\n",
       "    <tr>\n",
       "      <th>max</th>\n",
       "      <td>549.000000</td>\n",
       "      <td>20.000000</td>\n",
       "      <td>16.000000</td>\n",
       "      <td>16.000000</td>\n",
       "      <td>16.000000</td>\n",
       "      <td>18.000000</td>\n",
       "      <td>48.000000</td>\n",
       "      <td>136.000000</td>\n",
       "      <td>32.000000</td>\n",
       "      <td>619.000000</td>\n",
       "      <td>10.000000</td>\n",
       "      <td>100.000000</td>\n",
       "      <td>100.000000</td>\n",
       "      <td>2250.000000</td>\n",
       "      <td>9.600000</td>\n",
       "      <td>7.600000</td>\n",
       "      <td>183.000000</td>\n",
       "    </tr>\n",
       "  </tbody>\n",
       "</table>\n",
       "</div>"
      ],
      "text/plain": [
       "               id     team_id  event_points  event_total     assists  \\\n",
       "count  549.000000  549.000000    549.000000   549.000000  549.000000   \n",
       "mean   275.000000   10.462659      1.378871     1.378871    0.965392   \n",
       "std    158.626921    5.781055      2.549937     2.549937    1.794325   \n",
       "min      1.000000    1.000000      0.000000     0.000000    0.000000   \n",
       "25%    138.000000    6.000000      0.000000     0.000000    0.000000   \n",
       "50%    275.000000   10.000000      0.000000     0.000000    0.000000   \n",
       "75%    412.000000   15.000000      2.000000     2.000000    1.000000   \n",
       "max    549.000000   20.000000     16.000000    16.000000   16.000000   \n",
       "\n",
       "       goals_scored  goals_conceded    now_cost       bonus         bps  \\\n",
       "count    549.000000      549.000000  549.000000  549.000000  549.000000   \n",
       "mean       1.056466       12.382514   51.027322    2.708561  168.085610   \n",
       "std        2.283410       11.742187   12.313913    4.337363  162.563379   \n",
       "min        0.000000        0.000000   37.000000    0.000000   -1.000000   \n",
       "25%        0.000000        1.000000   43.000000    0.000000    7.000000   \n",
       "50%        0.000000       10.000000   47.000000    0.000000  122.000000   \n",
       "75%        1.000000       21.000000   54.000000    4.000000  294.000000   \n",
       "max       18.000000       48.000000  136.000000   32.000000  619.000000   \n",
       "\n",
       "       dreamteam_count  chance_of_playing_next_round  \\\n",
       "count       549.000000                    428.000000   \n",
       "mean          0.471767                     63.726636   \n",
       "std           0.995256                     46.887453   \n",
       "min           0.000000                      0.000000   \n",
       "25%           0.000000                      0.000000   \n",
       "50%           0.000000                    100.000000   \n",
       "75%           1.000000                    100.000000   \n",
       "max          10.000000                    100.000000   \n",
       "\n",
       "       chance_of_playing_this_round      minutes        form  points_per_game  \\\n",
       "count                    427.000000   549.000000  549.000000       549.000000   \n",
       "mean                      62.704918   854.652095    1.401093         2.153188   \n",
       "std                       47.234576   770.184671    1.842740         1.576855   \n",
       "min                        0.000000     0.000000    0.000000         0.000000   \n",
       "25%                        0.000000    57.000000    0.000000         1.000000   \n",
       "50%                      100.000000   729.000000    0.600000         2.100000   \n",
       "75%                      100.000000  1500.000000    2.400000         3.200000   \n",
       "max                      100.000000  2250.000000    9.600000         7.600000   \n",
       "\n",
       "       total_points  \n",
       "count    549.000000  \n",
       "mean      35.060109  \n",
       "std       34.402964  \n",
       "min        0.000000  \n",
       "25%        2.000000  \n",
       "50%       27.000000  \n",
       "75%       58.000000  \n",
       "max      183.000000  "
      ]
     },
     "execution_count": 199,
     "metadata": {},
     "output_type": "execute_result"
    }
   ],
   "source": [
    "## Summary Statistics\n",
    "\n",
    "df.describe()"
   ]
  },
  {
   "cell_type": "code",
   "execution_count": 169,
   "metadata": {
    "collapsed": false
   },
   "outputs": [],
   "source": [
    "import matplotlib.pyplot as plt\n",
    "import seaborn as sns \n",
    "%matplotlib inline\n",
    "import numpy as np"
   ]
  },
  {
   "cell_type": "code",
   "execution_count": 180,
   "metadata": {
    "collapsed": false
   },
   "outputs": [
    {
     "data": {
      "text/plain": [
       "<matplotlib.axes._subplots.AxesSubplot at 0x10d2c5b10>"
      ]
     },
     "execution_count": 180,
     "metadata": {},
     "output_type": "execute_result"
    },
    {
     "data": {
      "image/png": "[encoded data removed]",
      "text/plain": [
       "<matplotlib.figure.Figure at 0x10d336a50>"
      ]
     },
     "metadata": {},
     "output_type": "display_data"
    }
   ],
   "source": [
    "# One response variable here is the amount of fantasy points scored. Let's take a look at the distribution\n",
    "\n",
    "plt.hist(df.total_points,color='blue',normed=True)\n",
    "plt.title(\"Histogram of Fantasy Points Distribution as at Gameweek 25\")\n",
    "plt.ylabel(\"Frequency Density\")\n",
    "plt.xlabel(\"Total Fantasy Points up to Gameweek 25\")\n",
    "sns.kdeplot(df.total_points)"
   ]
  },
  {
   "cell_type": "markdown",
   "metadata": {},
   "source": [
    "Data is highly skewed to the left. About 20% of players score 10 points and below. These are probably guys from the reserve team, long term injuries etc. \n",
    "\n",
    "Let's look at how the features correlate with our response variable"
   ]
  },
  {
   "cell_type": "code",
   "execution_count": 200,
   "metadata": {
    "collapsed": false
   },
   "outputs": [
    {
     "data": {
      "text/plain": [
       "id                             -0.066346\n",
       "team_id                        -0.027877\n",
       "event_points                    0.512975\n",
       "event_total                     0.512975\n",
       "assists                         0.644498\n",
       "goals_scored                    0.647920\n",
       "goals_conceded                  0.755711\n",
       "now_cost                        0.477597\n",
       "bonus                           0.842220\n",
       "bps                             0.939425\n",
       "dreamteam_count                 0.697499\n",
       "chance_of_playing_next_round    0.416410\n",
       "chance_of_playing_this_round    0.425193\n",
       "minutes                         0.905743\n",
       "form                            0.745225\n",
       "points_per_game                 0.819705\n",
       "total_points                    1.000000\n",
       "Name: total_points, dtype: float64"
      ]
     },
     "execution_count": 200,
     "metadata": {},
     "output_type": "execute_result"
    }
   ],
   "source": [
    "df.corr()['total_points']"
   ]
  },
  {
   "cell_type": "markdown",
   "metadata": {},
   "source": [
    "Pretty strong associations all around, likely >0 for most features. Highest correlation between 'bps' variable and fantasy points scored. This is expected because 'bps' is kind of like a captures fantasy point scoring actions and then some.\n",
    "\n",
    "Going back to the analytical objective of predicting the highest fantasy points scorer, it would be instructive to consider the outcome variable as the number of points scored in the current week."
   ]
  },
  {
   "cell_type": "code",
   "execution_count": 183,
   "metadata": {
    "collapsed": false
   },
   "outputs": [
    {
     "data": {
      "text/plain": [
       "<matplotlib.axes._subplots.AxesSubplot at 0x10da82b50>"
      ]
     },
     "execution_count": 183,
     "metadata": {},
     "output_type": "execute_result"
    },
    {
     "data": {
      "image/png": "[encoded data removed]",
      "text/plain": [
       "<matplotlib.figure.Figure at 0x10da8bed0>"
      ]
     },
     "metadata": {},
     "output_type": "display_data"
    }
   ],
   "source": [
    "# Let's look at the distribution again..\n",
    "\n",
    "plt.hist(df.event_points,color='blue',normed=True)\n",
    "plt.title(\"Histogram of Fantasy Points Distribution for Gameweek 25\")\n",
    "plt.ylabel(\"Frequency Density\")\n",
    "plt.xlabel(\"Fantasy Points for Gameweek 25\")\n",
    "sns.kdeplot(df.event_points)"
   ]
  },
  {
   "cell_type": "markdown",
   "metadata": {},
   "source": [
    "Expectedly, this is even more skewed because any given team is allowed to play 11 players and field three substitutes, leaving only a maximum of 14 out of a typical squad of 28 that can score points. "
   ]
  },
  {
   "cell_type": "code",
   "execution_count": 201,
   "metadata": {
    "collapsed": false
   },
   "outputs": [
    {
     "data": {
      "text/plain": [
       "id                             -0.114676\n",
       "team_id                        -0.144243\n",
       "event_points                    1.000000\n",
       "event_total                     1.000000\n",
       "assists                         0.331906\n",
       "goals_scored                    0.328215\n",
       "goals_conceded                  0.330107\n",
       "now_cost                        0.237014\n",
       "bonus                           0.457131\n",
       "bps                             0.470325\n",
       "dreamteam_count                 0.421987\n",
       "chance_of_playing_next_round    0.407069\n",
       "chance_of_playing_this_round    0.415642\n",
       "minutes                         0.423960\n",
       "form                            0.710053\n",
       "points_per_game                 0.512714\n",
       "total_points                    0.512975\n",
       "Name: event_points, dtype: float64"
      ]
     },
     "execution_count": 201,
     "metadata": {},
     "output_type": "execute_result"
    }
   ],
   "source": [
    "df.corr()['event_points']"
   ]
  },
  {
   "cell_type": "markdown",
   "metadata": {},
   "source": [
    "What stands out for me here is that form seems like more highly correlated that the cumulative points, or points per game. This means that the a player's performance in the past few games is likely to be a better predictor of his current performance than his performance in the overall season."
   ]
  },
  {
   "cell_type": "code",
   "execution_count": 202,
   "metadata": {
    "collapsed": false
   },
   "outputs": [
    {
     "data": {
      "text/plain": [
       "<matplotlib.axes._subplots.AxesSubplot at 0x10de8ba90>"
      ]
     },
     "execution_count": 202,
     "metadata": {},
     "output_type": "execute_result"
    },
    {
     "data": {
      "image/png": "[encoded data removed]",
      "text/plain": [
       "<matplotlib.figure.Figure at 0x10de10750>"
      ]
     },
     "metadata": {},
     "output_type": "display_data"
    }
   ],
   "source": [
    "## Just do a heatmap to see if there are any strong intra-feature correlations...\n",
    "\n",
    "sns.heatmap(df.corr())"
   ]
  },
  {
   "cell_type": "markdown",
   "metadata": {},
   "source": [
    "This preliminary analysis leads me to the conclusion that I should be digging a bit more into the player's form to uncover more features to predict his next gameweek's performance. I'll be working extracting information from the nested datasets on player fixture history in the next week. "
   ]
  },
  {
   "cell_type": "code",
   "execution_count": 212,
   "metadata": {
    "collapsed": false
   },
   "outputs": [
    {
     "data": {
      "text/html": [
       "<table class=\"simpletable\">\n",
       "<caption>OLS Regression Results</caption>\n",
       "<tr>\n",
       "  <th>Dep. Variable:</th>      <td>event_points</td>   <th>  R-squared:         </th> <td>   0.510</td>\n",
       "</tr>\n",
       "<tr>\n",
       "  <th>Model:</th>                   <td>OLS</td>       <th>  Adj. R-squared:    </th> <td>   0.505</td>\n",
       "</tr>\n",
       "<tr>\n",
       "  <th>Method:</th>             <td>Least Squares</td>  <th>  F-statistic:       </th> <td>   94.13</td>\n",
       "</tr>\n",
       "<tr>\n",
       "  <th>Date:</th>             <td>Fri, 12 Feb 2016</td> <th>  Prob (F-statistic):</th> <td>9.22e-81</td>\n",
       "</tr>\n",
       "<tr>\n",
       "  <th>Time:</th>                 <td>00:00:26</td>     <th>  Log-Likelihood:    </th> <td> -1096.4</td>\n",
       "</tr>\n",
       "<tr>\n",
       "  <th>No. Observations:</th>      <td>   549</td>      <th>  AIC:               </th> <td>   2207.</td>\n",
       "</tr>\n",
       "<tr>\n",
       "  <th>Df Residuals:</th>          <td>   542</td>      <th>  BIC:               </th> <td>   2237.</td>\n",
       "</tr>\n",
       "<tr>\n",
       "  <th>Df Model:</th>              <td>     6</td>      <th>                     </th>     <td> </td>   \n",
       "</tr>\n",
       "<tr>\n",
       "  <th>Covariance Type:</th>      <td>nonrobust</td>    <th>                     </th>     <td> </td>   \n",
       "</tr>\n",
       "</table>\n",
       "<table class=\"simpletable\">\n",
       "<tr>\n",
       "        <td></td>          <th>coef</th>     <th>std err</th>      <th>t</th>      <th>P>|t|</th> <th>[95.0% Conf. Int.]</th> \n",
       "</tr>\n",
       "<tr>\n",
       "  <th>Intercept</th>    <td>    0.6177</td> <td>    0.384</td> <td>    1.610</td> <td> 0.108</td> <td>   -0.136     1.372</td>\n",
       "</tr>\n",
       "<tr>\n",
       "  <th>form</th>         <td>    1.0085</td> <td>    0.063</td> <td>   16.008</td> <td> 0.000</td> <td>    0.885     1.132</td>\n",
       "</tr>\n",
       "<tr>\n",
       "  <th>total_points</th> <td>    0.0052</td> <td>    0.011</td> <td>    0.495</td> <td> 0.621</td> <td>   -0.016     0.026</td>\n",
       "</tr>\n",
       "<tr>\n",
       "  <th>minutes</th>      <td>   -0.0007</td> <td>    0.000</td> <td>   -1.437</td> <td> 0.151</td> <td>   -0.002     0.000</td>\n",
       "</tr>\n",
       "<tr>\n",
       "  <th>bps</th>          <td>    0.0013</td> <td>    0.002</td> <td>    0.551</td> <td> 0.582</td> <td>   -0.003     0.006</td>\n",
       "</tr>\n",
       "<tr>\n",
       "  <th>bonus</th>        <td>    0.0181</td> <td>    0.041</td> <td>    0.437</td> <td> 0.662</td> <td>   -0.063     0.099</td>\n",
       "</tr>\n",
       "<tr>\n",
       "  <th>now_cost</th>     <td>   -0.0106</td> <td>    0.008</td> <td>   -1.350</td> <td> 0.178</td> <td>   -0.026     0.005</td>\n",
       "</tr>\n",
       "</table>\n",
       "<table class=\"simpletable\">\n",
       "<tr>\n",
       "  <th>Omnibus:</th>       <td>264.212</td> <th>  Durbin-Watson:     </th> <td>   1.954</td>\n",
       "</tr>\n",
       "<tr>\n",
       "  <th>Prob(Omnibus):</th> <td> 0.000</td>  <th>  Jarque-Bera (JB):  </th> <td>2583.306</td>\n",
       "</tr>\n",
       "<tr>\n",
       "  <th>Skew:</th>          <td> 1.873</td>  <th>  Prob(JB):          </th> <td>    0.00</td>\n",
       "</tr>\n",
       "<tr>\n",
       "  <th>Kurtosis:</th>      <td>12.945</td>  <th>  Cond. No.          </th> <td>5.89e+03</td>\n",
       "</tr>\n",
       "</table>"
      ],
      "text/plain": [
       "<class 'statsmodels.iolib.summary.Summary'>\n",
       "\"\"\"\n",
       "                            OLS Regression Results                            \n",
       "==============================================================================\n",
       "Dep. Variable:           event_points   R-squared:                       0.510\n",
       "Model:                            OLS   Adj. R-squared:                  0.505\n",
       "Method:                 Least Squares   F-statistic:                     94.13\n",
       "Date:                Fri, 12 Feb 2016   Prob (F-statistic):           9.22e-81\n",
       "Time:                        00:00:26   Log-Likelihood:                -1096.4\n",
       "No. Observations:                 549   AIC:                             2207.\n",
       "Df Residuals:                     542   BIC:                             2237.\n",
       "Df Model:                           6                                         \n",
       "Covariance Type:            nonrobust                                         \n",
       "================================================================================\n",
       "                   coef    std err          t      P>|t|      [95.0% Conf. Int.]\n",
       "--------------------------------------------------------------------------------\n",
       "Intercept        0.6177      0.384      1.610      0.108        -0.136     1.372\n",
       "form             1.0085      0.063     16.008      0.000         0.885     1.132\n",
       "total_points     0.0052      0.011      0.495      0.621        -0.016     0.026\n",
       "minutes         -0.0007      0.000     -1.437      0.151        -0.002     0.000\n",
       "bps              0.0013      0.002      0.551      0.582        -0.003     0.006\n",
       "bonus            0.0181      0.041      0.437      0.662        -0.063     0.099\n",
       "now_cost        -0.0106      0.008     -1.350      0.178        -0.026     0.005\n",
       "==============================================================================\n",
       "Omnibus:                      264.212   Durbin-Watson:                   1.954\n",
       "Prob(Omnibus):                  0.000   Jarque-Bera (JB):             2583.306\n",
       "Skew:                           1.873   Prob(JB):                         0.00\n",
       "Kurtosis:                      12.945   Cond. No.                     5.89e+03\n",
       "==============================================================================\n",
       "\n",
       "Warnings:\n",
       "[1] Standard Errors assume that the covariance matrix of the errors is correctly specified.\n",
       "[2] The condition number is large, 5.89e+03. This might indicate that there are\n",
       "strong multicollinearity or other numerical problems.\n",
       "\"\"\""
      ]
     },
     "execution_count": 212,
     "metadata": {},
     "output_type": "execute_result"
    }
   ],
   "source": [
    "## In the meantime, a simple linear regression model to start with \n",
    "import statsmodels.formula.api as smf\n",
    "lm= smf.ols(formula='event_points ~ form + total_points + minutes + bps + bonus + now_cost',data=df)\n",
    "\n",
    "results = lm.fit()\n",
    "results.summary()"
   ]
  },
  {
   "cell_type": "markdown",
   "metadata": {},
   "source": [
    "No surprises from here so far, but pretty high explanatory power for the initial model. "
   ]
  },
  {
   "cell_type": "code",
   "execution_count": null,
   "metadata": {
    "collapsed": true
   },
   "outputs": [],
   "source": []
  }
 ],
 "metadata": {
  "kernelspec": {
   "display_name": "Python 2",
   "language": "python",
   "name": "python2"
  },
  "language_info": {
   "codemirror_mode": {
    "name": "ipython",
    "version": 2
   },
   "file_extension": ".py",
   "mimetype": "text/x-python",
   "name": "python",
   "nbconvert_exporter": "python",
   "pygments_lexer": "ipython2",
   "version": "2.7.10"
  }
 },
 "nbformat": 4,
 "nbformat_minor": 0
}
