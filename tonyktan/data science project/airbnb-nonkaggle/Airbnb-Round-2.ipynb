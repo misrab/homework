{
 "cells": [
  {
   "cell_type": "markdown",
   "metadata": {},
   "source": [
    "![alt text](airbnb-logo.png \"Title\")\n",
    "# Airbnb Data Project Round 2\n",
    "So upon reflection, I have decided to forsake Kaggle and to search for data sources on the internet, so that I go through the process of looking for data. After a few days of searching, I chanced upon this website [Inside Airbnb](http://insideairbnb.com/get-the-data.html) that had a trove of airbnb data from a anti-airbnb advocate. I have downloaded the Nov 2015 SF data and it looks promising so far, so let's see what we can do with it."
   ]
  },
  {
   "cell_type": "code",
   "execution_count": 1,
   "metadata": {
    "collapsed": false
   },
   "outputs": [],
   "source": [
    "import pandas as pd\n",
    "\n",
    "# Data sourced from Inside Airbnb (http://insideairbnb.com/get-the-data.html)\n",
    "# A million thanks to Murray Cox\n",
    "calendar = pd.read_csv(\"calendar.csv\")\n",
    "calendar2 = pd.read_csv(\"calendar2.csv\")\n",
    "listings = pd.read_csv(\"listings.csv\")\n",
    "listings2 = pd.read_csv(\"listings2.csv\")\n",
    "nhoods = pd.read_csv(\"neighbourhoods.csv\")\n",
    "reviews = pd.read_csv(\"reviews.csv\")\n",
    "reviews2 = pd.read_csv(\"reviews2.csv\")"
   ]
  },
  {
   "cell_type": "markdown",
   "metadata": {},
   "source": [
    "For a start, we will be looking at the listings2 datsset. From the list of data fields, we can see that this dataset is reasonably extensive, **with listing details, and reviews related data**. There are also a number of text fields describing the listing that may prove to be useful for our Naive Bayes purposes.\n",
    "\n",
    "As Airbnb compels each user to write a review after each stay, the **number of reviews is a good proxy of the popularity of the listing**. Should Airbnb be able to predict a popular location in advance, it can give the location more airtime/exposure, and improve the overall experience to users, as users are able to find something they like more quickly. "
   ]
  },
  {
   "cell_type": "code",
   "execution_count": 2,
   "metadata": {
    "collapsed": false
   },
   "outputs": [
    {
     "data": {
      "text/plain": [
       "['id',\n",
       " 'listing_url',\n",
       " 'scrape_id',\n",
       " 'last_scraped',\n",
       " 'name',\n",
       " 'summary',\n",
       " 'space',\n",
       " 'description',\n",
       " 'experiences_offered',\n",
       " 'neighborhood_overview',\n",
       " 'notes',\n",
       " 'transit',\n",
       " 'thumbnail_url',\n",
       " 'medium_url',\n",
       " 'picture_url',\n",
       " 'xl_picture_url',\n",
       " 'host_id',\n",
       " 'host_url',\n",
       " 'host_name',\n",
       " 'host_since',\n",
       " 'host_location',\n",
       " 'host_about',\n",
       " 'host_response_time',\n",
       " 'host_response_rate',\n",
       " 'host_acceptance_rate',\n",
       " 'host_is_superhost',\n",
       " 'host_thumbnail_url',\n",
       " 'host_picture_url',\n",
       " 'host_neighbourhood',\n",
       " 'host_listings_count',\n",
       " 'host_total_listings_count',\n",
       " 'host_verifications',\n",
       " 'host_has_profile_pic',\n",
       " 'host_identity_verified',\n",
       " 'street',\n",
       " 'neighbourhood',\n",
       " 'neighbourhood_cleansed',\n",
       " 'neighbourhood_group_cleansed',\n",
       " 'city',\n",
       " 'state',\n",
       " 'zipcode',\n",
       " 'market',\n",
       " 'smart_location',\n",
       " 'country_code',\n",
       " 'country',\n",
       " 'latitude',\n",
       " 'longitude',\n",
       " 'is_location_exact',\n",
       " 'property_type',\n",
       " 'room_type',\n",
       " 'accommodates',\n",
       " 'bathrooms',\n",
       " 'bedrooms',\n",
       " 'beds',\n",
       " 'bed_type',\n",
       " 'amenities',\n",
       " 'square_feet',\n",
       " 'price',\n",
       " 'weekly_price',\n",
       " 'monthly_price',\n",
       " 'security_deposit',\n",
       " 'cleaning_fee',\n",
       " 'guests_included',\n",
       " 'extra_people',\n",
       " 'minimum_nights',\n",
       " 'maximum_nights',\n",
       " 'calendar_updated',\n",
       " 'has_availability',\n",
       " 'availability_30',\n",
       " 'availability_60',\n",
       " 'availability_90',\n",
       " 'availability_365',\n",
       " 'calendar_last_scraped',\n",
       " 'number_of_reviews',\n",
       " 'first_review',\n",
       " 'last_review',\n",
       " 'review_scores_rating',\n",
       " 'review_scores_accuracy',\n",
       " 'review_scores_cleanliness',\n",
       " 'review_scores_checkin',\n",
       " 'review_scores_communication',\n",
       " 'review_scores_location',\n",
       " 'review_scores_value',\n",
       " 'requires_license',\n",
       " 'license',\n",
       " 'jurisdiction_names',\n",
       " 'instant_bookable',\n",
       " 'cancellation_policy',\n",
       " 'require_guest_profile_picture',\n",
       " 'require_guest_phone_verification',\n",
       " 'calculated_host_listings_count',\n",
       " 'reviews_per_month']"
      ]
     },
     "execution_count": 2,
     "metadata": {},
     "output_type": "execute_result"
    }
   ],
   "source": [
    "list(listings2)"
   ]
  },
  {
   "cell_type": "markdown",
   "metadata": {},
   "source": [
    "If we look at the end of the list, we see an interesting feature. Reviews per month would weigh the number of reviews against the duration which the location has been listed on Airbnb, giving a more normalized sensing of popularity. \n",
    "\n",
    "As starters, **I will use reviews per month as the response variable (y), and summary as the feature (X)**. As the summary field contains text, I can use what we have been learning in class to see if it is predictive. "
   ]
  },
  {
   "cell_type": "code",
   "execution_count": 3,
   "metadata": {
    "collapsed": false
   },
   "outputs": [
    {
     "data": {
      "text/html": [
       "<div>\n",
       "<table border=\"1\" class=\"dataframe\">\n",
       "  <thead>\n",
       "    <tr style=\"text-align: right;\">\n",
       "      <th></th>\n",
       "      <th>summary</th>\n",
       "      <th>reviews_per_month</th>\n",
       "    </tr>\n",
       "  </thead>\n",
       "  <tbody>\n",
       "    <tr>\n",
       "      <th>0</th>\n",
       "      <td>This is a big well designed space. Our neighbo...</td>\n",
       "      <td>0.28</td>\n",
       "    </tr>\n",
       "    <tr>\n",
       "      <th>1</th>\n",
       "      <td>Beautiful charmng multi- bedroom home in prest...</td>\n",
       "      <td>NaN</td>\n",
       "    </tr>\n",
       "    <tr>\n",
       "      <th>2</th>\n",
       "      <td>Convenience is the key for your travel. Walkin...</td>\n",
       "      <td>2.33</td>\n",
       "    </tr>\n",
       "    <tr>\n",
       "      <th>3</th>\n",
       "      <td>When I travel, my quiet beach side condo makes...</td>\n",
       "      <td>NaN</td>\n",
       "    </tr>\n",
       "    <tr>\n",
       "      <th>4</th>\n",
       "      <td>Our family-friendly condo is located in San Fr...</td>\n",
       "      <td>0.36</td>\n",
       "    </tr>\n",
       "  </tbody>\n",
       "</table>\n",
       "</div>"
      ],
      "text/plain": [
       "                                             summary  reviews_per_month\n",
       "0  This is a big well designed space. Our neighbo...               0.28\n",
       "1  Beautiful charmng multi- bedroom home in prest...                NaN\n",
       "2  Convenience is the key for your travel. Walkin...               2.33\n",
       "3  When I travel, my quiet beach side condo makes...                NaN\n",
       "4  Our family-friendly condo is located in San Fr...               0.36"
      ]
     },
     "execution_count": 3,
     "metadata": {},
     "output_type": "execute_result"
    }
   ],
   "source": [
    "listings2[['summary', 'reviews_per_month']].head()"
   ]
  },
  {
   "cell_type": "markdown",
   "metadata": {},
   "source": [
    "As we can immediately observe that there are some NAs, we will drop NAs from the field and **name the subset summary_to_reviews**."
   ]
  },
  {
   "cell_type": "code",
   "execution_count": 4,
   "metadata": {
    "collapsed": false
   },
   "outputs": [
    {
     "data": {
      "text/html": [
       "<div>\n",
       "<table border=\"1\" class=\"dataframe\">\n",
       "  <thead>\n",
       "    <tr style=\"text-align: right;\">\n",
       "      <th></th>\n",
       "      <th>summary</th>\n",
       "      <th>reviews_per_month</th>\n",
       "    </tr>\n",
       "  </thead>\n",
       "  <tbody>\n",
       "    <tr>\n",
       "      <th>0</th>\n",
       "      <td>This is a big well designed space. Our neighbo...</td>\n",
       "      <td>0.28</td>\n",
       "    </tr>\n",
       "    <tr>\n",
       "      <th>2</th>\n",
       "      <td>Convenience is the key for your travel. Walkin...</td>\n",
       "      <td>2.33</td>\n",
       "    </tr>\n",
       "    <tr>\n",
       "      <th>4</th>\n",
       "      <td>Our family-friendly condo is located in San Fr...</td>\n",
       "      <td>0.36</td>\n",
       "    </tr>\n",
       "    <tr>\n",
       "      <th>5</th>\n",
       "      <td>Large 2BD apt with back yard and ocean view. F...</td>\n",
       "      <td>1.13</td>\n",
       "    </tr>\n",
       "    <tr>\n",
       "      <th>6</th>\n",
       "      <td>Newly built cottage that comfortably sleeps 2....</td>\n",
       "      <td>6.09</td>\n",
       "    </tr>\n",
       "  </tbody>\n",
       "</table>\n",
       "</div>"
      ],
      "text/plain": [
       "                                             summary  reviews_per_month\n",
       "0  This is a big well designed space. Our neighbo...               0.28\n",
       "2  Convenience is the key for your travel. Walkin...               2.33\n",
       "4  Our family-friendly condo is located in San Fr...               0.36\n",
       "5  Large 2BD apt with back yard and ocean view. F...               1.13\n",
       "6  Newly built cottage that comfortably sleeps 2....               6.09"
      ]
     },
     "execution_count": 4,
     "metadata": {},
     "output_type": "execute_result"
    }
   ],
   "source": [
    "summary_to_reviews = listings2[['summary', 'reviews_per_month']].dropna()\n",
    "summary_to_reviews.head()"
   ]
  },
  {
   "cell_type": "markdown",
   "metadata": {},
   "source": [
    "At this juncture, I'm wondering if NA means zero/blank, or NA means missing data?. Either way, that's an aspect of the data I might want to keep in mind for later rounds. In the meantime, the subset data, with 5000+ rows, should do as a first attempt.\n",
    "\n",
    "With summary_to_reviews, we will now attempt to answer the question **\"Are we able to predict the popularity of a listing just from its summary description?\"**. This can be a valuable question to solve from a marketing or copywriting standpoint.\n",
    "\n",
    "As for reviews_per_month, we can try to understand the metric better by looking at the summary statistics. Specifically, we are looking at how to define popularity."
   ]
  },
  {
   "cell_type": "code",
   "execution_count": 5,
   "metadata": {
    "collapsed": false
   },
   "outputs": [
    {
     "data": {
      "text/plain": [
       "count    5157.000000\n",
       "mean        1.911286\n",
       "std         1.772234\n",
       "min         0.020000\n",
       "25%         0.600000\n",
       "50%         1.260000\n",
       "75%         2.760000\n",
       "max        11.520000\n",
       "Name: reviews_per_month, dtype: float64"
      ]
     },
     "execution_count": 5,
     "metadata": {},
     "output_type": "execute_result"
    }
   ],
   "source": [
    "summary_to_reviews.reviews_per_month.describe()"
   ]
  },
  {
   "cell_type": "markdown",
   "metadata": {},
   "source": [
    "From we can observe, the 75th percentile is 2.76 reviews_per_month. To use that as a proxy, we will categorize listings with 3 or more reviews per month and above as popular, and unpopular if otherwise."
   ]
  },
  {
   "cell_type": "code",
   "execution_count": 6,
   "metadata": {
    "collapsed": false
   },
   "outputs": [],
   "source": [
    "summary_to_reviews[\"Popularity\"] = summary_to_reviews.reviews_per_month >= 3\n",
    "summary_to_pop = summary_to_reviews[[\"summary\", \"Popularity\"]]"
   ]
  },
  {
   "cell_type": "code",
   "execution_count": 7,
   "metadata": {
    "collapsed": false
   },
   "outputs": [
    {
     "data": {
      "text/html": [
       "<div>\n",
       "<table border=\"1\" class=\"dataframe\">\n",
       "  <thead>\n",
       "    <tr style=\"text-align: right;\">\n",
       "      <th></th>\n",
       "      <th>summary</th>\n",
       "      <th>Popularity</th>\n",
       "    </tr>\n",
       "  </thead>\n",
       "  <tbody>\n",
       "    <tr>\n",
       "      <th>0</th>\n",
       "      <td>This is a big well designed space. Our neighbo...</td>\n",
       "      <td>False</td>\n",
       "    </tr>\n",
       "    <tr>\n",
       "      <th>2</th>\n",
       "      <td>Convenience is the key for your travel. Walkin...</td>\n",
       "      <td>False</td>\n",
       "    </tr>\n",
       "    <tr>\n",
       "      <th>4</th>\n",
       "      <td>Our family-friendly condo is located in San Fr...</td>\n",
       "      <td>False</td>\n",
       "    </tr>\n",
       "    <tr>\n",
       "      <th>5</th>\n",
       "      <td>Large 2BD apt with back yard and ocean view. F...</td>\n",
       "      <td>False</td>\n",
       "    </tr>\n",
       "    <tr>\n",
       "      <th>6</th>\n",
       "      <td>Newly built cottage that comfortably sleeps 2....</td>\n",
       "      <td>True</td>\n",
       "    </tr>\n",
       "  </tbody>\n",
       "</table>\n",
       "</div>"
      ],
      "text/plain": [
       "                                             summary Popularity\n",
       "0  This is a big well designed space. Our neighbo...      False\n",
       "2  Convenience is the key for your travel. Walkin...      False\n",
       "4  Our family-friendly condo is located in San Fr...      False\n",
       "5  Large 2BD apt with back yard and ocean view. F...      False\n",
       "6  Newly built cottage that comfortably sleeps 2....       True"
      ]
     },
     "execution_count": 7,
     "metadata": {},
     "output_type": "execute_result"
    }
   ],
   "source": [
    "summary_to_pop.head()"
   ]
  },
  {
   "cell_type": "markdown",
   "metadata": {},
   "source": [
    "Checking on the value counts, the true/false split seems all right."
   ]
  },
  {
   "cell_type": "code",
   "execution_count": 8,
   "metadata": {
    "collapsed": false
   },
   "outputs": [
    {
     "data": {
      "text/plain": [
       "False    3976\n",
       "True     1181\n",
       "Name: Popularity, dtype: int64"
      ]
     },
     "execution_count": 8,
     "metadata": {},
     "output_type": "execute_result"
    }
   ],
   "source": [
    "summary_to_pop.Popularity.value_counts()"
   ]
  },
  {
   "cell_type": "markdown",
   "metadata": {},
   "source": [
    "So lets proceed with the Y and x creation."
   ]
  },
  {
   "cell_type": "code",
   "execution_count": 9,
   "metadata": {
    "collapsed": false
   },
   "outputs": [],
   "source": [
    "from sklearn.feature_extraction.text import CountVectorizer\n",
    "countvect = CountVectorizer(ngram_range=(1,2))\n",
    "\n",
    "trainsummary = countvect.fit(summary_to_pop[\"summary\"])"
   ]
  },
  {
   "cell_type": "markdown",
   "metadata": {},
   "source": [
    "The vectorized vocabulary set looks to be in order."
   ]
  },
  {
   "cell_type": "code",
   "execution_count": 10,
   "metadata": {
    "collapsed": false
   },
   "outputs": [
    {
     "name": "stdout",
     "output_type": "stream",
     "text": [
      "CountVectorizer(analyzer=u'word', binary=False, decode_error=u'strict',\n",
      "        dtype=<type 'numpy.int64'>, encoding=u'utf-8', input=u'content',\n",
      "        lowercase=True, max_df=1.0, max_features=None, min_df=1,\n",
      "        ngram_range=(1, 2), preprocessor=None, stop_words=None,\n",
      "        strip_accents=None, token_pattern=u'(?u)\\\\b\\\\w\\\\w+\\\\b',\n",
      "        tokenizer=None, vocabulary=None)\n",
      "[u'00', u'00 blocks', u'00 check', u'00 cleaning', u'00 pm', u'00 this', u'00 to', u'00 visitor', u'00 we', u'000', u'000 00', u'000 btu', u'000 month', u'000 sq', u'000 square', u'000 thread', u'000sqft', u'000sqft in', u'00am', u'00am the']\n"
     ]
    }
   ],
   "source": [
    "print trainsummary\n",
    "print trainsummary.get_feature_names()[:20]"
   ]
  },
  {
   "cell_type": "markdown",
   "metadata": {},
   "source": [
    "So we transform the vocabulary and build the X and y variables.."
   ]
  },
  {
   "cell_type": "code",
   "execution_count": 15,
   "metadata": {
    "collapsed": false
   },
   "outputs": [
    {
     "name": "stdout",
     "output_type": "stream",
     "text": [
      "[[0 0 0 ..., 0 0 0]\n",
      " [0 0 0 ..., 0 0 0]\n",
      " [0 0 0 ..., 0 0 0]\n",
      " [0 0 0 ..., 0 0 0]\n",
      " [0 0 0 ..., 0 0 0]]\n",
      "0    False\n",
      "2    False\n",
      "4    False\n",
      "5    False\n",
      "6     True\n",
      "Name: Popularity, dtype: bool\n"
     ]
    }
   ],
   "source": [
    "transformx = trainsummary.transform(summary_to_pop[\"summary\"])\n",
    "#print transformx[:10]\n",
    "\n",
    "transformx_back = transformx.toarray()\n",
    "#print transformx_back\n",
    "\n",
    "X = transformx_back\n",
    "y = summary_to_pop.Popularity\n",
    "print X[:5]\n",
    "print y[:5]"
   ]
  },
  {
   "cell_type": "markdown",
   "metadata": {},
   "source": [
    "and we split the set up into train and test sets.."
   ]
  },
  {
   "cell_type": "code",
   "execution_count": 16,
   "metadata": {
    "collapsed": true
   },
   "outputs": [],
   "source": [
    "from sklearn.cross_validation import train_test_split\n",
    "\n",
    "xtrain, xtest, ytrain, ytest = train_test_split(X, y, test_size=0.2, random_state=70)"
   ]
  },
  {
   "cell_type": "markdown",
   "metadata": {},
   "source": [
    "We will also include the helper functions from our lab in class."
   ]
  },
  {
   "cell_type": "code",
   "execution_count": 17,
   "metadata": {
    "collapsed": true
   },
   "outputs": [],
   "source": [
    "# a few helper functions\n",
    "def accuracy_report(_clf):\n",
    "    print \"Accuracy: on test data: %0.2f%%\" % (100 * _clf.score(xtest, ytest))\n",
    "\n",
    "    #Print the accuracy on the test and training dataset\n",
    "    training_accuracy = _clf.score(xtrain, ytrain)\n",
    "    test_accuracy = _clf.score(xtest, ytest)\n",
    "\n",
    "    print \"Accuracy on training data: %0.2f%%\" % (training_accuracy)\n",
    "    \n",
    "# a function to run some tests\n",
    "def AnalyzeReview(testquote, _clf):\n",
    "    print \"The test quote\" + \" is judged by clasifier to be...\"\n",
    "    testquote = trainsummary.transform([testquote])\n",
    "\n",
    "    if (_clf.predict(testquote)[0] == 1):\n",
    "        print \"... a popular listing.\"\n",
    "    else:\n",
    "        print \"... an unpopular listing.\"\n",
    "    return(_clf.predict(testquote)[0])"
   ]
  },
  {
   "cell_type": "markdown",
   "metadata": {},
   "source": [
    "We will fit the training set to the Multinomial Naive Bayes, Bernoulli Naive Bayes, and LogisticRegression models."
   ]
  },
  {
   "cell_type": "code",
   "execution_count": 18,
   "metadata": {
    "collapsed": false
   },
   "outputs": [
    {
     "data": {
      "text/plain": [
       "LogisticRegression(C=1.0, class_weight=None, dual=False, fit_intercept=True,\n",
       "          intercept_scaling=1, max_iter=100, multi_class='ovr', n_jobs=1,\n",
       "          penalty='l2', random_state=None, solver='liblinear', tol=0.0001,\n",
       "          verbose=0, warm_start=False)"
      ]
     },
     "execution_count": 18,
     "metadata": {},
     "output_type": "execute_result"
    }
   ],
   "source": [
    "from sklearn.naive_bayes import MultinomialNB\n",
    "clfm = MultinomialNB()\n",
    "clfm.fit(xtrain, ytrain)\n",
    "\n",
    "from sklearn.naive_bayes import BernoulliNB\n",
    "clfb = BernoulliNB()\n",
    "clfb.fit(xtrain, ytrain)\n",
    "\n",
    "from sklearn.linear_model import LogisticRegression\n",
    "clfl = LogisticRegression()\n",
    "clfl.fit(xtrain, ytrain)"
   ]
  },
  {
   "cell_type": "markdown",
   "metadata": {},
   "source": [
    "For each fitting, we will test predict the listing \n",
    "\n",
    "*'Newly built cottage that comfortably sleeps 2. This brand new cottage is warm, safe, and perfectly located for the ultimate and most convenient way to visit San Francisco. Beautiful views of the pacific ocean and a few blocks from golden gate park. '*, \n",
    "\n",
    "which is a **popular** listing."
   ]
  },
  {
   "cell_type": "code",
   "execution_count": 19,
   "metadata": {
    "collapsed": true
   },
   "outputs": [],
   "source": [
    "summary_for_acc_testing = 'Newly built cottage that comfortably sleeps 2. This brand new cottage is warm, safe, and perfectly located for the ultimate and most convenient way to visit San Francisco. Beautiful views of the pacific ocean and a few blocks from golden gate park. '"
   ]
  },
  {
   "cell_type": "markdown",
   "metadata": {},
   "source": [
    "Now lets see the results.."
   ]
  },
  {
   "cell_type": "code",
   "execution_count": 20,
   "metadata": {
    "collapsed": false
   },
   "outputs": [
    {
     "name": "stdout",
     "output_type": "stream",
     "text": [
      "MultinomialNB Results:\n",
      "Accuracy: on test data: 74.81%\n",
      "Accuracy on training data: 0.92%\n",
      "The test quote is judged by clasifier to be...\n",
      "... a popular listing.\n",
      "\n",
      "BernoulliNB Results:\n",
      "Accuracy: on test data: 77.81%\n",
      "Accuracy on training data: 0.83%\n",
      "The test quote is judged by clasifier to be...\n",
      "... an unpopular listing.\n",
      "\n",
      "Logistic Regession:\n",
      "Accuracy: on test data: 77.13%\n",
      "Accuracy on training data: 0.99%\n",
      "The test quote is judged by clasifier to be...\n",
      "... a popular listing.\n"
     ]
    },
    {
     "data": {
      "text/plain": [
       "True"
      ]
     },
     "execution_count": 20,
     "metadata": {},
     "output_type": "execute_result"
    }
   ],
   "source": [
    "print \"MultinomialNB Results:\"\n",
    "accuracy_report(clfm)\n",
    "AnalyzeReview(summary_for_acc_testing, clfm)\n",
    "print\n",
    "print \"BernoulliNB Results:\"\n",
    "accuracy_report(clfb)\n",
    "AnalyzeReview(summary_for_acc_testing, clfb)\n",
    "print\n",
    "print \"Logistic Regession:\"\n",
    "accuracy_report(clfl)\n",
    "AnalyzeReview(summary_for_acc_testing, clfl)"
   ]
  },
  {
   "cell_type": "markdown",
   "metadata": {},
   "source": [
    "![alt text](minion-yay-2.png \"Title\")\n",
    "\n",
    "Better than expected results! Only the summary description, we are able to predict the outcome of the listing at over 74% accuracy. This is promising.\n",
    "\n",
    "Going forward, there are other data fields such as location, crime rates, etc, that could improve the accuracy. Potentially, we could also get all the BART station locations and measure the distance to the listing location as a feature.\n",
    "\n",
    "I also think it would be of interest if the summary descriptions of the popular and unpopular listings could be analysed to see if we could tease out the characterstics that makes a popular listing."
   ]
  }
 ],
 "metadata": {
  "kernelspec": {
   "display_name": "Python 2",
   "language": "python",
   "name": "python2"
  },
  "language_info": {
   "codemirror_mode": {
    "name": "ipython",
    "version": 2
   },
   "file_extension": ".py",
   "mimetype": "text/x-python",
   "name": "python",
   "nbconvert_exporter": "python",
   "pygments_lexer": "ipython2",
   "version": "2.7.11"
  }
 },
 "nbformat": 4,
 "nbformat_minor": 0
}
