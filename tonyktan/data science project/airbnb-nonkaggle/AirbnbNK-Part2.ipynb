{
 "cells": [
  {
   "cell_type": "markdown",
   "metadata": {},
   "source": [
    "![alt text](airbnb-logo.png \"Title\")\n",
    "# Airbnb Data Project V2 Part2\n",
    "Following on from last week's learning, I will be attempting to apply clustering and SVMs on the Airbnb dataset. Off the top of my head, I thought it would be interesting to apply the models to a list-price vs. popularity dataset. There could be interesting groupings such as popular cheap deals and popular premium listings.\n",
    "\n",
    "To start off, we will load up the data."
   ]
  },
  {
   "cell_type": "code",
   "execution_count": 12,
   "metadata": {
    "collapsed": true
   },
   "outputs": [],
   "source": [
    "import pandas as pd\n",
    "import numpy as np\n",
    "\n",
    "# Data sourced from Inside Airbnb (http://insideairbnb.com/get-the-data.html)\n",
    "# A million thanks to Murray Cox\n",
    "calendar = pd.read_csv(\"calendar.csv\")\n",
    "calendar2 = pd.read_csv(\"calendar2.csv\")\n",
    "listings = pd.read_csv(\"listings.csv\")\n",
    "listings2 = pd.read_csv(\"listings2.csv\")\n",
    "nhoods = pd.read_csv(\"neighbourhoods.csv\")\n",
    "reviews = pd.read_csv(\"reviews.csv\")\n",
    "reviews2 = pd.read_csv(\"reviews2.csv\")"
   ]
  },
  {
   "cell_type": "markdown",
   "metadata": {},
   "source": [
    "Currently, I think that we are not done with the listings2 dataset yet. Just to review, we look at the list of data fields again."
   ]
  },
  {
   "cell_type": "code",
   "execution_count": 13,
   "metadata": {
    "collapsed": false
   },
   "outputs": [
    {
     "data": {
      "text/plain": [
       "['id',\n",
       " 'listing_url',\n",
       " 'scrape_id',\n",
       " 'last_scraped',\n",
       " 'name',\n",
       " 'summary',\n",
       " 'space',\n",
       " 'description',\n",
       " 'experiences_offered',\n",
       " 'neighborhood_overview',\n",
       " 'notes',\n",
       " 'transit',\n",
       " 'thumbnail_url',\n",
       " 'medium_url',\n",
       " 'picture_url',\n",
       " 'xl_picture_url',\n",
       " 'host_id',\n",
       " 'host_url',\n",
       " 'host_name',\n",
       " 'host_since',\n",
       " 'host_location',\n",
       " 'host_about',\n",
       " 'host_response_time',\n",
       " 'host_response_rate',\n",
       " 'host_acceptance_rate',\n",
       " 'host_is_superhost',\n",
       " 'host_thumbnail_url',\n",
       " 'host_picture_url',\n",
       " 'host_neighbourhood',\n",
       " 'host_listings_count',\n",
       " 'host_total_listings_count',\n",
       " 'host_verifications',\n",
       " 'host_has_profile_pic',\n",
       " 'host_identity_verified',\n",
       " 'street',\n",
       " 'neighbourhood',\n",
       " 'neighbourhood_cleansed',\n",
       " 'neighbourhood_group_cleansed',\n",
       " 'city',\n",
       " 'state',\n",
       " 'zipcode',\n",
       " 'market',\n",
       " 'smart_location',\n",
       " 'country_code',\n",
       " 'country',\n",
       " 'latitude',\n",
       " 'longitude',\n",
       " 'is_location_exact',\n",
       " 'property_type',\n",
       " 'room_type',\n",
       " 'accommodates',\n",
       " 'bathrooms',\n",
       " 'bedrooms',\n",
       " 'beds',\n",
       " 'bed_type',\n",
       " 'amenities',\n",
       " 'square_feet',\n",
       " 'price',\n",
       " 'weekly_price',\n",
       " 'monthly_price',\n",
       " 'security_deposit',\n",
       " 'cleaning_fee',\n",
       " 'guests_included',\n",
       " 'extra_people',\n",
       " 'minimum_nights',\n",
       " 'maximum_nights',\n",
       " 'calendar_updated',\n",
       " 'has_availability',\n",
       " 'availability_30',\n",
       " 'availability_60',\n",
       " 'availability_90',\n",
       " 'availability_365',\n",
       " 'calendar_last_scraped',\n",
       " 'number_of_reviews',\n",
       " 'first_review',\n",
       " 'last_review',\n",
       " 'review_scores_rating',\n",
       " 'review_scores_accuracy',\n",
       " 'review_scores_cleanliness',\n",
       " 'review_scores_checkin',\n",
       " 'review_scores_communication',\n",
       " 'review_scores_location',\n",
       " 'review_scores_value',\n",
       " 'requires_license',\n",
       " 'license',\n",
       " 'jurisdiction_names',\n",
       " 'instant_bookable',\n",
       " 'cancellation_policy',\n",
       " 'require_guest_profile_picture',\n",
       " 'require_guest_phone_verification',\n",
       " 'calculated_host_listings_count',\n",
       " 'reviews_per_month']"
      ]
     },
     "execution_count": 13,
     "metadata": {},
     "output_type": "execute_result"
    }
   ],
   "source": [
    "list(listings2)"
   ]
  },
  {
   "cell_type": "code",
   "execution_count": 14,
   "metadata": {
    "collapsed": false
   },
   "outputs": [],
   "source": [
    "# for i in range(len(list(listings2))):\n",
    "#     print i\n",
    "#     print listings2.columns[i]\n",
    "#     print listings2[listings2.columns[i]].head()"
   ]
  },
  {
   "cell_type": "markdown",
   "metadata": {},
   "source": [
    "Glancing through the data, I wondered if it would be intersting to plot the price of listings against popularity. Clustering might put them into interesting archetypes (popular deals vs. premium deals vs. duds, etc.)\n",
    "\n",
    "To normalize the price, I had intended to use square feet, but the field seems to be mainly NA (hosts probably can't be bothered to input their square feet). So I thought a good idea would be to use the listing price divided by the number of beds available as a proxy. For popularity, we'll just stick with reviews per month."
   ]
  },
  {
   "cell_type": "code",
   "execution_count": 15,
   "metadata": {
    "collapsed": false
   },
   "outputs": [],
   "source": [
    "# to do computations, need to convert price from a string to float, stripping the dollar signs and commas.\n",
    "listings2.price = listings2.price.replace( '[\\$,)]', '', regex=True).replace( '[(]','-', regex=True).astype(float)"
   ]
  },
  {
   "cell_type": "code",
   "execution_count": 16,
   "metadata": {
    "collapsed": false
   },
   "outputs": [
    {
     "data": {
      "text/plain": [
       "0    350.00\n",
       "1    150.00\n",
       "2    119.00\n",
       "3     79.00\n",
       "4    173.75\n",
       "Name: price_per_bed, dtype: float64"
      ]
     },
     "execution_count": 16,
     "metadata": {},
     "output_type": "execute_result"
    }
   ],
   "source": [
    "listings2['price_per_bed'] = listings2.price / listings2.beds\n",
    "listings2.price_per_bed.head()"
   ]
  },
  {
   "cell_type": "markdown",
   "metadata": {},
   "source": [
    "Next, we select the two columns into a data frame named cluster_listings."
   ]
  },
  {
   "cell_type": "code",
   "execution_count": 17,
   "metadata": {
    "collapsed": false
   },
   "outputs": [],
   "source": [
    "cluster_listings = listings2[['price_per_bed', 'reviews_per_month']].dropna()"
   ]
  },
  {
   "cell_type": "markdown",
   "metadata": {},
   "source": [
    "Looking at the summary statistics, It seems that there are some outliers in the data ($10,000 per bed and 11 reviews per month), but by and large I think we should expect a good range of data points."
   ]
  },
  {
   "cell_type": "code",
   "execution_count": 18,
   "metadata": {
    "collapsed": false
   },
   "outputs": [
    {
     "data": {
      "text/html": [
       "<div>\n",
       "<table border=\"1\" class=\"dataframe\">\n",
       "  <thead>\n",
       "    <tr style=\"text-align: right;\">\n",
       "      <th></th>\n",
       "      <th>price_per_bed</th>\n",
       "      <th>reviews_per_month</th>\n",
       "    </tr>\n",
       "  </thead>\n",
       "  <tbody>\n",
       "    <tr>\n",
       "      <th>count</th>\n",
       "      <td>5690.000000</td>\n",
       "      <td>5690.000000</td>\n",
       "    </tr>\n",
       "    <tr>\n",
       "      <th>mean</th>\n",
       "      <td>135.602578</td>\n",
       "      <td>1.865921</td>\n",
       "    </tr>\n",
       "    <tr>\n",
       "      <th>std</th>\n",
       "      <td>192.674748</td>\n",
       "      <td>1.744574</td>\n",
       "    </tr>\n",
       "    <tr>\n",
       "      <th>min</th>\n",
       "      <td>0.000000</td>\n",
       "      <td>0.020000</td>\n",
       "    </tr>\n",
       "    <tr>\n",
       "      <th>25%</th>\n",
       "      <td>85.125000</td>\n",
       "      <td>0.570000</td>\n",
       "    </tr>\n",
       "    <tr>\n",
       "      <th>50%</th>\n",
       "      <td>120.000000</td>\n",
       "      <td>1.230000</td>\n",
       "    </tr>\n",
       "    <tr>\n",
       "      <th>75%</th>\n",
       "      <td>165.000000</td>\n",
       "      <td>2.700000</td>\n",
       "    </tr>\n",
       "    <tr>\n",
       "      <th>max</th>\n",
       "      <td>10000.000000</td>\n",
       "      <td>11.520000</td>\n",
       "    </tr>\n",
       "  </tbody>\n",
       "</table>\n",
       "</div>"
      ],
      "text/plain": [
       "       price_per_bed  reviews_per_month\n",
       "count    5690.000000        5690.000000\n",
       "mean      135.602578           1.865921\n",
       "std       192.674748           1.744574\n",
       "min         0.000000           0.020000\n",
       "25%        85.125000           0.570000\n",
       "50%       120.000000           1.230000\n",
       "75%       165.000000           2.700000\n",
       "max     10000.000000          11.520000"
      ]
     },
     "execution_count": 18,
     "metadata": {},
     "output_type": "execute_result"
    }
   ],
   "source": [
    "cluster_listings.describe()"
   ]
  },
  {
   "cell_type": "markdown",
   "metadata": {},
   "source": [
    "At this point, it seems that the data is not panning out as expected. There are some outliers which distort the overall shape of the scatter plot. These listings also hardly get any business."
   ]
  },
  {
   "cell_type": "code",
   "execution_count": 19,
   "metadata": {
    "collapsed": false
   },
   "outputs": [
    {
     "data": {
      "text/plain": [
       "<matplotlib.text.Text at 0x107fa0fd0>"
      ]
     },
     "execution_count": 19,
     "metadata": {},
     "output_type": "execute_result"
    },
    {
     "data": {
      "image/png": "[encoded data removed]",
      "text/plain": [
       "<matplotlib.figure.Figure at 0x1083bed50>"
      ]
     },
     "metadata": {},
     "output_type": "display_data"
    }
   ],
   "source": [
    "%matplotlib inline\n",
    "import matplotlib.pyplot as plt\n",
    "plt.scatter(cluster_listings.price_per_bed, cluster_listings.reviews_per_month)\n",
    "plt.xlabel(\"Price Per Bed\")\n",
    "plt.ylabel(\"Reviews Per Month\")\n",
    "plt.title(\"Listing Price vs. Popularity\")"
   ]
  },
  {
   "cell_type": "markdown",
   "metadata": {},
   "source": [
    "Zooming in closer and leaving out the outliers, we can observe that the scatter plot is looking like a radial distribution from around (100, 0) as the center. "
   ]
  },
  {
   "cell_type": "code",
   "execution_count": 20,
   "metadata": {
    "collapsed": false
   },
   "outputs": [
    {
     "data": {
      "text/plain": [
       "<matplotlib.text.Text at 0x1080d4cd0>"
      ]
     },
     "execution_count": 20,
     "metadata": {},
     "output_type": "execute_result"
    },
    {
     "data": {
      "image/png": "[encoded data removed]",
      "text/plain": [
       "<matplotlib.figure.Figure at 0x105f03090>"
      ]
     },
     "metadata": {},
     "output_type": "display_data"
    }
   ],
   "source": [
    "plt.xlim(-1, 400) # there are some outliers, so zoom in to get a better view of the pattern\n",
    "plt.ylim(-1, 12)\n",
    "plt.scatter(cluster_listings.price_per_bed, cluster_listings.reviews_per_month)\n",
    "plt.xlabel(\"Price Per Bed\")\n",
    "plt.ylabel(\"Reviews Per Month\")\n",
    "plt.title(\"Listing Price vs. Popularity\")"
   ]
  },
  {
   "cell_type": "markdown",
   "metadata": {},
   "source": [
    "Lets try to do a density plot to see if we are able to derive insights."
   ]
  },
  {
   "cell_type": "code",
   "execution_count": 21,
   "metadata": {
    "collapsed": false
   },
   "outputs": [],
   "source": [
    "from scipy.stats import gaussian_kde # use Gaussian kernel density distribution to map density\n",
    "\n",
    "# Calculate the point density\n",
    "vstacked = np.vstack([cluster_listings.price_per_bed, cluster_listings.reviews_per_month])\n",
    "density_color = gaussian_kde(vstacked)(vstacked)\n",
    "\n",
    "# Sort the points by density, so that the densest points are plotted last\n",
    "idx = density_color.argsort()\n",
    "cluster_listings.price_per_bed = cluster_listings.price_per_bed[idx]\n",
    "cluster_listings.reviews_per_month = cluster_listings.reviews_per_month[idx]\n",
    "density_color = density_color[idx]"
   ]
  },
  {
   "cell_type": "markdown",
   "metadata": {},
   "source": [
    "It does seem that there is a center where the listings coverge towards. however, this does not seem like a good plot to do clustering with."
   ]
  },
  {
   "cell_type": "code",
   "execution_count": 22,
   "metadata": {
    "collapsed": false
   },
   "outputs": [
    {
     "data": {
      "image/png": "[encoded data removed]",
      "text/plain": [
       "<matplotlib.figure.Figure at 0x105f0c5d0>"
      ]
     },
     "metadata": {},
     "output_type": "display_data"
    }
   ],
   "source": [
    "fig, ax = plt.subplots()\n",
    "ax.scatter(cluster_listings.price_per_bed, cluster_listings.reviews_per_month, c=density_color, s=50, edgecolor='')\n",
    "plt.xlim(-5, 500)\n",
    "plt.show()"
   ]
  },
  {
   "cell_type": "markdown",
   "metadata": {},
   "source": [
    "At this point, it might make some sense to do some k-means clustering on a variety of factors to see if we are able to derive some meaningful patterns. In order to do so, we would need to obtain the set of numeric data fields."
   ]
  },
  {
   "cell_type": "code",
   "execution_count": 23,
   "metadata": {
    "collapsed": false
   },
   "outputs": [
    {
     "data": {
      "text/plain": [
       "['id',\n",
       " 'scrape_id',\n",
       " 'host_id',\n",
       " 'host_listings_count',\n",
       " 'host_total_listings_count',\n",
       " 'neighbourhood_group_cleansed',\n",
       " 'zipcode',\n",
       " 'latitude',\n",
       " 'longitude',\n",
       " 'accommodates',\n",
       " 'bathrooms',\n",
       " 'bedrooms',\n",
       " 'beds',\n",
       " 'square_feet',\n",
       " 'price',\n",
       " 'guests_included',\n",
       " 'minimum_nights',\n",
       " 'maximum_nights',\n",
       " 'availability_30',\n",
       " 'availability_60',\n",
       " 'availability_90',\n",
       " 'availability_365',\n",
       " 'number_of_reviews',\n",
       " 'review_scores_rating',\n",
       " 'review_scores_accuracy',\n",
       " 'review_scores_cleanliness',\n",
       " 'review_scores_checkin',\n",
       " 'review_scores_communication',\n",
       " 'review_scores_location',\n",
       " 'review_scores_value',\n",
       " 'calculated_host_listings_count',\n",
       " 'reviews_per_month',\n",
       " 'price_per_bed']"
      ]
     },
     "execution_count": 23,
     "metadata": {},
     "output_type": "execute_result"
    }
   ],
   "source": [
    "list(listings2.select_dtypes(include=['int64', 'float64']))"
   ]
  },
  {
   "cell_type": "markdown",
   "metadata": {
    "collapsed": true
   },
   "source": [
    "Looking at the list, there are some fields like the ids that I would get rid of. Let's try to categorize the data sets into groups that make sense.\n",
    "\n",
    "The first group will be location/attribute data. We will extract the lat, long, price, and review information of the listings."
   ]
  },
  {
   "cell_type": "code",
   "execution_count": 24,
   "metadata": {
    "collapsed": false
   },
   "outputs": [],
   "source": [
    "listings2_latlong = listings2[[\n",
    " 'latitude',\n",
    " 'longitude',\n",
    " 'review_scores_location',\n",
    " 'reviews_per_month',\n",
    " 'price_per_bed']].dropna()"
   ]
  },
  {
   "cell_type": "code",
   "execution_count": 25,
   "metadata": {
    "collapsed": false
   },
   "outputs": [
    {
     "data": {
      "text/html": [
       "<div>\n",
       "<table border=\"1\" class=\"dataframe\">\n",
       "  <thead>\n",
       "    <tr style=\"text-align: right;\">\n",
       "      <th></th>\n",
       "      <th>latitude</th>\n",
       "      <th>longitude</th>\n",
       "      <th>review_scores_location</th>\n",
       "      <th>reviews_per_month</th>\n",
       "      <th>price_per_bed</th>\n",
       "    </tr>\n",
       "  </thead>\n",
       "  <tbody>\n",
       "    <tr>\n",
       "      <th>0</th>\n",
       "      <td>37.785217</td>\n",
       "      <td>-122.488655</td>\n",
       "      <td>9</td>\n",
       "      <td>0.28</td>\n",
       "      <td>350.00</td>\n",
       "    </tr>\n",
       "    <tr>\n",
       "      <th>2</th>\n",
       "      <td>37.781505</td>\n",
       "      <td>-122.504754</td>\n",
       "      <td>9</td>\n",
       "      <td>2.33</td>\n",
       "      <td>119.00</td>\n",
       "    </tr>\n",
       "    <tr>\n",
       "      <th>4</th>\n",
       "      <td>37.781797</td>\n",
       "      <td>-122.492492</td>\n",
       "      <td>10</td>\n",
       "      <td>0.36</td>\n",
       "      <td>173.75</td>\n",
       "    </tr>\n",
       "    <tr>\n",
       "      <th>5</th>\n",
       "      <td>37.781564</td>\n",
       "      <td>-122.494424</td>\n",
       "      <td>9</td>\n",
       "      <td>1.13</td>\n",
       "      <td>80.00</td>\n",
       "    </tr>\n",
       "    <tr>\n",
       "      <th>6</th>\n",
       "      <td>37.783888</td>\n",
       "      <td>-122.508557</td>\n",
       "      <td>9</td>\n",
       "      <td>6.09</td>\n",
       "      <td>135.00</td>\n",
       "    </tr>\n",
       "  </tbody>\n",
       "</table>\n",
       "</div>"
      ],
      "text/plain": [
       "    latitude   longitude  review_scores_location  reviews_per_month  \\\n",
       "0  37.785217 -122.488655                       9               0.28   \n",
       "2  37.781505 -122.504754                       9               2.33   \n",
       "4  37.781797 -122.492492                      10               0.36   \n",
       "5  37.781564 -122.494424                       9               1.13   \n",
       "6  37.783888 -122.508557                       9               6.09   \n",
       "\n",
       "   price_per_bed  \n",
       "0         350.00  \n",
       "2         119.00  \n",
       "4         173.75  \n",
       "5          80.00  \n",
       "6         135.00  "
      ]
     },
     "execution_count": 25,
     "metadata": {},
     "output_type": "execute_result"
    }
   ],
   "source": [
    "listings2_latlong.head()"
   ]
  },
  {
   "cell_type": "code",
   "execution_count": 26,
   "metadata": {
    "collapsed": false
   },
   "outputs": [
    {
     "data": {
      "text/html": [
       "<div>\n",
       "<table border=\"1\" class=\"dataframe\">\n",
       "  <thead>\n",
       "    <tr style=\"text-align: right;\">\n",
       "      <th></th>\n",
       "      <th>latitude</th>\n",
       "      <th>longitude</th>\n",
       "      <th>review_scores_location</th>\n",
       "      <th>reviews_per_month</th>\n",
       "      <th>price_per_bed</th>\n",
       "    </tr>\n",
       "  </thead>\n",
       "  <tbody>\n",
       "    <tr>\n",
       "      <th>count</th>\n",
       "      <td>5619.000000</td>\n",
       "      <td>5619.000000</td>\n",
       "      <td>5619.000000</td>\n",
       "      <td>5619.000000</td>\n",
       "      <td>5619.000000</td>\n",
       "    </tr>\n",
       "    <tr>\n",
       "      <th>mean</th>\n",
       "      <td>37.767126</td>\n",
       "      <td>-122.430687</td>\n",
       "      <td>9.425521</td>\n",
       "      <td>1.882073</td>\n",
       "      <td>135.662945</td>\n",
       "    </tr>\n",
       "    <tr>\n",
       "      <th>std</th>\n",
       "      <td>0.021308</td>\n",
       "      <td>0.024981</td>\n",
       "      <td>0.846072</td>\n",
       "      <td>1.748740</td>\n",
       "      <td>193.713587</td>\n",
       "    </tr>\n",
       "    <tr>\n",
       "      <th>min</th>\n",
       "      <td>37.705137</td>\n",
       "      <td>-122.513065</td>\n",
       "      <td>2.000000</td>\n",
       "      <td>0.020000</td>\n",
       "      <td>0.000000</td>\n",
       "    </tr>\n",
       "    <tr>\n",
       "      <th>25%</th>\n",
       "      <td>37.753716</td>\n",
       "      <td>-122.441803</td>\n",
       "      <td>9.000000</td>\n",
       "      <td>0.580000</td>\n",
       "      <td>85.250000</td>\n",
       "    </tr>\n",
       "    <tr>\n",
       "      <th>50%</th>\n",
       "      <td>37.767622</td>\n",
       "      <td>-122.426348</td>\n",
       "      <td>10.000000</td>\n",
       "      <td>1.250000</td>\n",
       "      <td>120.000000</td>\n",
       "    </tr>\n",
       "    <tr>\n",
       "      <th>75%</th>\n",
       "      <td>37.782362</td>\n",
       "      <td>-122.413651</td>\n",
       "      <td>10.000000</td>\n",
       "      <td>2.730000</td>\n",
       "      <td>165.000000</td>\n",
       "    </tr>\n",
       "    <tr>\n",
       "      <th>max</th>\n",
       "      <td>37.829576</td>\n",
       "      <td>-122.365222</td>\n",
       "      <td>10.000000</td>\n",
       "      <td>11.520000</td>\n",
       "      <td>10000.000000</td>\n",
       "    </tr>\n",
       "  </tbody>\n",
       "</table>\n",
       "</div>"
      ],
      "text/plain": [
       "          latitude    longitude  review_scores_location  reviews_per_month  \\\n",
       "count  5619.000000  5619.000000             5619.000000        5619.000000   \n",
       "mean     37.767126  -122.430687                9.425521           1.882073   \n",
       "std       0.021308     0.024981                0.846072           1.748740   \n",
       "min      37.705137  -122.513065                2.000000           0.020000   \n",
       "25%      37.753716  -122.441803                9.000000           0.580000   \n",
       "50%      37.767622  -122.426348               10.000000           1.250000   \n",
       "75%      37.782362  -122.413651               10.000000           2.730000   \n",
       "max      37.829576  -122.365222               10.000000          11.520000   \n",
       "\n",
       "       price_per_bed  \n",
       "count    5619.000000  \n",
       "mean      135.662945  \n",
       "std       193.713587  \n",
       "min         0.000000  \n",
       "25%        85.250000  \n",
       "50%       120.000000  \n",
       "75%       165.000000  \n",
       "max     10000.000000  "
      ]
     },
     "execution_count": 26,
     "metadata": {},
     "output_type": "execute_result"
    }
   ],
   "source": [
    "listings2_latlong.describe()"
   ]
  },
  {
   "cell_type": "markdown",
   "metadata": {},
   "source": [
    "Let's focus on the latlong attributes and try to get a geographical visualization of the listings."
   ]
  },
  {
   "cell_type": "code",
   "execution_count": null,
   "metadata": {
    "collapsed": false
   },
   "outputs": [],
   "source": [
    "from mpl_toolkits.basemap import Basemap\n",
    "\n",
    "# minlat, minlong, maxlat, maxlong\n",
    "minlong, maxlong = -122.513065, -122.365222\n",
    "minlat, maxlat = 37.705137, 37.829576\n",
    "\n",
    "map = Basemap(llcrnrlon=minlong-0.01, llcrnrlat=minlat-0.01,\n",
    "             urcrnrlon=maxlong+0.01, urcrnrlat=maxlat+0.01, projection='merc', resolution='h')\n",
    "\n",
    "map.drawcoastlines()\n",
    "map.drawcountries()\n",
    "map.fillcontinents(color = 'coral')\n",
    "map.drawmapboundary()\n",
    "\n",
    "x, y = map(listings2_latlong['longitude'].tolist(), listings2_latlong['latitude'].tolist())\n",
    "#long first then lat\n",
    "map.plot(x, y, 'bo', markersize=3)\n",
    "\n",
    "plt.show()"
   ]
  },
  {
   "cell_type": "markdown",
   "metadata": {},
   "source": [
    "From the map plot, we can see that there is a central cluster on the upper right region of the map, with some trailing groups on the peripheral radially. there is also a small group on the top left corner of the map, which seems to be at the Oakland/Berkeley area. This looks like a good plot for DBSCAN."
   ]
  },
  {
   "cell_type": "code",
   "execution_count": null,
   "metadata": {
    "collapsed": false
   },
   "outputs": [],
   "source": [
    "from sklearn.cluster import DBSCAN\n",
    "db = DBSCAN(eps=.15, min_samples=5)\n",
    "X = listings2_latlong[['longitude', 'latitude']]\n",
    "from sklearn.preprocessing import StandardScaler\n",
    "scaler = StandardScaler()\n",
    "X_scaled = scaler.fit_transform(X)\n",
    "db.fit(X_scaled)"
   ]
  },
  {
   "cell_type": "code",
   "execution_count": null,
   "metadata": {
    "collapsed": false
   },
   "outputs": [],
   "source": [
    "listings2_latlong['dbscan_clusters'] = db.labels_"
   ]
  },
  {
   "cell_type": "code",
   "execution_count": null,
   "metadata": {
    "collapsed": false
   },
   "outputs": [],
   "source": [
    "map.fillcontinents(color='#555555')\n",
    "\n",
    "map.scatter(x, y, c=listings2_latlong.dbscan_clusters, marker='o', lw=0.25, \n",
    "            alpha=0.9, zorder=2)\n",
    "plt.show()"
   ]
  },
  {
   "cell_type": "markdown",
   "metadata": {},
   "source": [
    "DBSCAN doesn't show up too nicely but there is some semblance of clustering."
   ]
  },
  {
   "cell_type": "markdown",
   "metadata": {},
   "source": [
    "-STILL IN PROGRESS-\n",
    "\n",
    "There is also a fair bit of review data that might be worth looking at. Users are asked to score the listings across various factors, ranging from location, to cleanliness, etc. If we analysed this data more deeply, we may be able to find some patterns."
   ]
  },
  {
   "cell_type": "code",
   "execution_count": null,
   "metadata": {
    "collapsed": true
   },
   "outputs": [],
   "source": [
    "listings2_price_review = listings2[[\n",
    " 'price',\n",
    " 'number_of_reviews',\n",
    " 'review_scores_rating',\n",
    " 'review_scores_accuracy',\n",
    " 'review_scores_cleanliness',\n",
    " 'review_scores_checkin',\n",
    " 'review_scores_communication',\n",
    " 'review_scores_location',\n",
    " 'review_scores_value',\n",
    " 'reviews_per_month',\n",
    " 'price_per_bed']].dropna()"
   ]
  },
  {
   "cell_type": "markdown",
   "metadata": {},
   "source": [
    "Extra: I want to assign a BART station and distance from BART station for each listing"
   ]
  },
  {
   "cell_type": "code",
   "execution_count": null,
   "metadata": {
    "collapsed": true
   },
   "outputs": [],
   "source": [
    "bartstations = pd.read_csv(\"BARTstations.csv\")"
   ]
  },
  {
   "cell_type": "code",
   "execution_count": null,
   "metadata": {
    "collapsed": false
   },
   "outputs": [],
   "source": [
    "bartstations.head()"
   ]
  }
 ],
 "metadata": {
  "kernelspec": {
   "display_name": "Python 2",
   "language": "python",
   "name": "python2"
  },
  "language_info": {
   "codemirror_mode": {
    "name": "ipython",
    "version": 2
   },
   "file_extension": ".py",
   "mimetype": "text/x-python",
   "name": "python",
   "nbconvert_exporter": "python",
   "pygments_lexer": "ipython2",
   "version": "2.7.11"
  }
 },
 "nbformat": 4,
 "nbformat_minor": 0
}
