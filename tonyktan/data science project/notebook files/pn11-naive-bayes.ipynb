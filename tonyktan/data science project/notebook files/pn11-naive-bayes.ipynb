{
 "cells": [
  {
   "cell_type": "markdown",
   "metadata": {},
   "source": [
    "# PN11 Naive Bayes"
   ]
  },
  {
   "cell_type": "code",
   "execution_count": 2,
   "metadata": {
    "collapsed": false
   },
   "outputs": [
    {
     "name": "stderr",
     "output_type": "stream",
     "text": [
      "/Users/tonyktan/Desktop/GA/anaconda2/lib/python2.7/site-packages/matplotlib/__init__.py:872: UserWarning: axes.color_cycle is deprecated and replaced with axes.prop_cycle; please use the latter.\n",
      "  warnings.warn(self.msg_depr % (key, alt_key))\n"
     ]
    }
   ],
   "source": [
    "#decision tree template\n",
    "%matplotlib inline\n",
    "import pandas as pd\n",
    "import numpy as np\n",
    "\n",
    "import seaborn as sns\n",
    "import matplotlib.pyplot as plt\n",
    "\n",
    "# Data sourced from Inside Airbnb (http://insideairbnb.com/get-the-data.html)\n",
    "# A million thanks to Murray Cox\n",
    "# Pre-processed with dimensionality reduction\n",
    "abnb = pd.read_csv(\"abnb_listings_rdcd.csv\")\n",
    "del abnb[\"Unnamed: 0\"]\n",
    "abnb.rename(columns={'review_scores_rating': 'rating'}, inplace=True)"
   ]
  },
  {
   "cell_type": "code",
   "execution_count": 3,
   "metadata": {
    "collapsed": false
   },
   "outputs": [
    {
     "data": {
      "text/html": [
       "<div>\n",
       "<table border=\"1\" class=\"dataframe\">\n",
       "  <thead>\n",
       "    <tr style=\"text-align: right;\">\n",
       "      <th></th>\n",
       "      <th>id</th>\n",
       "      <th>latitude</th>\n",
       "      <th>longitude</th>\n",
       "      <th>location</th>\n",
       "      <th>description</th>\n",
       "      <th>space</th>\n",
       "      <th>price</th>\n",
       "      <th>host</th>\n",
       "      <th>rating</th>\n",
       "      <th>reviews_per_month</th>\n",
       "    </tr>\n",
       "  </thead>\n",
       "  <tbody>\n",
       "    <tr>\n",
       "      <th>0</th>\n",
       "      <td>1162609</td>\n",
       "      <td>37.785217</td>\n",
       "      <td>-122.488655</td>\n",
       "      <td>11.875956</td>\n",
       "      <td>Lovely One Bedroom Apartment This is a big wel...</td>\n",
       "      <td>-1.319244</td>\n",
       "      <td>386.666667</td>\n",
       "      <td>1</td>\n",
       "      <td>89</td>\n",
       "      <td>0.28</td>\n",
       "    </tr>\n",
       "    <tr>\n",
       "      <th>1</th>\n",
       "      <td>6938818</td>\n",
       "      <td>37.781505</td>\n",
       "      <td>-122.504754</td>\n",
       "      <td>11.875956</td>\n",
       "      <td>Best Secret in Town Convenience is the key for...</td>\n",
       "      <td>-1.416978</td>\n",
       "      <td>142.333333</td>\n",
       "      <td>1</td>\n",
       "      <td>92</td>\n",
       "      <td>2.33</td>\n",
       "    </tr>\n",
       "    <tr>\n",
       "      <th>2</th>\n",
       "      <td>4781448</td>\n",
       "      <td>37.781797</td>\n",
       "      <td>-122.492492</td>\n",
       "      <td>11.875955</td>\n",
       "      <td>3 Bd 2.5 Ba Full Flat Condo w Views Our family...</td>\n",
       "      <td>5.781405</td>\n",
       "      <td>940.000000</td>\n",
       "      <td>1</td>\n",
       "      <td>100</td>\n",
       "      <td>0.36</td>\n",
       "    </tr>\n",
       "    <tr>\n",
       "      <th>3</th>\n",
       "      <td>1931937</td>\n",
       "      <td>37.781564</td>\n",
       "      <td>-122.494424</td>\n",
       "      <td>11.875955</td>\n",
       "      <td>Blocks from GG Park &amp; Ocean Beach Large 2BD ap...</td>\n",
       "      <td>-1.404158</td>\n",
       "      <td>136.666667</td>\n",
       "      <td>1</td>\n",
       "      <td>94</td>\n",
       "      <td>1.13</td>\n",
       "    </tr>\n",
       "    <tr>\n",
       "      <th>4</th>\n",
       "      <td>2134100</td>\n",
       "      <td>37.783888</td>\n",
       "      <td>-122.508557</td>\n",
       "      <td>11.875958</td>\n",
       "      <td>Ocean Beach hilltop cottage Newly built cottag...</td>\n",
       "      <td>-1.582193</td>\n",
       "      <td>178.333333</td>\n",
       "      <td>1</td>\n",
       "      <td>92</td>\n",
       "      <td>6.09</td>\n",
       "    </tr>\n",
       "  </tbody>\n",
       "</table>\n",
       "</div>"
      ],
      "text/plain": [
       "        id   latitude   longitude   location  \\\n",
       "0  1162609  37.785217 -122.488655  11.875956   \n",
       "1  6938818  37.781505 -122.504754  11.875956   \n",
       "2  4781448  37.781797 -122.492492  11.875955   \n",
       "3  1931937  37.781564 -122.494424  11.875955   \n",
       "4  2134100  37.783888 -122.508557  11.875958   \n",
       "\n",
       "                                         description     space       price  \\\n",
       "0  Lovely One Bedroom Apartment This is a big wel... -1.319244  386.666667   \n",
       "1  Best Secret in Town Convenience is the key for... -1.416978  142.333333   \n",
       "2  3 Bd 2.5 Ba Full Flat Condo w Views Our family...  5.781405  940.000000   \n",
       "3  Blocks from GG Park & Ocean Beach Large 2BD ap... -1.404158  136.666667   \n",
       "4  Ocean Beach hilltop cottage Newly built cottag... -1.582193  178.333333   \n",
       "\n",
       "   host  rating  reviews_per_month  \n",
       "0     1      89               0.28  \n",
       "1     1      92               2.33  \n",
       "2     1     100               0.36  \n",
       "3     1      94               1.13  \n",
       "4     1      92               6.09  "
      ]
     },
     "execution_count": 3,
     "metadata": {},
     "output_type": "execute_result"
    }
   ],
   "source": [
    "abnb.head()"
   ]
  },
  {
   "cell_type": "code",
   "execution_count": 4,
   "metadata": {
    "collapsed": true
   },
   "outputs": [],
   "source": [
    "descriptions = abnb.description\n",
    "reviews_per_month = abnb.reviews_per_month\n",
    "popularity = reviews_per_month > 3\n",
    "popularity.name = 'popularity'"
   ]
  },
  {
   "cell_type": "code",
   "execution_count": 5,
   "metadata": {
    "collapsed": false
   },
   "outputs": [],
   "source": [
    "desclength = descriptions.map(lambda text: len(text))\n",
    "desclength.name = 'desclength'"
   ]
  },
  {
   "cell_type": "code",
   "execution_count": 6,
   "metadata": {
    "collapsed": false
   },
   "outputs": [
    {
     "data": {
      "text/plain": [
       "<matplotlib.axes._subplots.AxesSubplot at 0x108de2810>"
      ]
     },
     "execution_count": 6,
     "metadata": {},
     "output_type": "execute_result"
    },
    {
     "data": {
      "image/png": "[encoded data removed]",
      "text/plain": [
       "<matplotlib.figure.Figure at 0x10628d9d0>"
      ]
     },
     "metadata": {},
     "output_type": "display_data"
    }
   ],
   "source": [
    "desclength.plot(bins=20, kind='hist')"
   ]
  },
  {
   "cell_type": "code",
   "execution_count": 7,
   "metadata": {
    "collapsed": true
   },
   "outputs": [],
   "source": [
    "desc_pop = pd.concat([descriptions, desclength, popularity], axis=1)"
   ]
  },
  {
   "cell_type": "code",
   "execution_count": 8,
   "metadata": {
    "collapsed": false
   },
   "outputs": [
    {
     "data": {
      "text/html": [
       "<div>\n",
       "<table border=\"1\" class=\"dataframe\">\n",
       "  <thead>\n",
       "    <tr style=\"text-align: right;\">\n",
       "      <th></th>\n",
       "      <th>description</th>\n",
       "      <th>desclength</th>\n",
       "      <th>popularity</th>\n",
       "    </tr>\n",
       "  </thead>\n",
       "  <tbody>\n",
       "    <tr>\n",
       "      <th>0</th>\n",
       "      <td>Lovely One Bedroom Apartment This is a big wel...</td>\n",
       "      <td>701</td>\n",
       "      <td>False</td>\n",
       "    </tr>\n",
       "    <tr>\n",
       "      <th>1</th>\n",
       "      <td>Best Secret in Town Convenience is the key for...</td>\n",
       "      <td>1828</td>\n",
       "      <td>False</td>\n",
       "    </tr>\n",
       "    <tr>\n",
       "      <th>2</th>\n",
       "      <td>3 Bd 2.5 Ba Full Flat Condo w Views Our family...</td>\n",
       "      <td>2205</td>\n",
       "      <td>False</td>\n",
       "    </tr>\n",
       "    <tr>\n",
       "      <th>3</th>\n",
       "      <td>Blocks from GG Park &amp; Ocean Beach Large 2BD ap...</td>\n",
       "      <td>1628</td>\n",
       "      <td>False</td>\n",
       "    </tr>\n",
       "    <tr>\n",
       "      <th>4</th>\n",
       "      <td>Ocean Beach hilltop cottage Newly built cottag...</td>\n",
       "      <td>1931</td>\n",
       "      <td>True</td>\n",
       "    </tr>\n",
       "  </tbody>\n",
       "</table>\n",
       "</div>"
      ],
      "text/plain": [
       "                                         description  desclength popularity\n",
       "0  Lovely One Bedroom Apartment This is a big wel...         701      False\n",
       "1  Best Secret in Town Convenience is the key for...        1828      False\n",
       "2  3 Bd 2.5 Ba Full Flat Condo w Views Our family...        2205      False\n",
       "3  Blocks from GG Park & Ocean Beach Large 2BD ap...        1628      False\n",
       "4  Ocean Beach hilltop cottage Newly built cottag...        1931       True"
      ]
     },
     "execution_count": 8,
     "metadata": {},
     "output_type": "execute_result"
    }
   ],
   "source": [
    "desc_pop.head()"
   ]
  },
  {
   "cell_type": "code",
   "execution_count": 9,
   "metadata": {
    "collapsed": false
   },
   "outputs": [
    {
     "data": {
      "text/plain": [
       "array([<matplotlib.axes._subplots.AxesSubplot object at 0x1093e6950>,\n",
       "       <matplotlib.axes._subplots.AxesSubplot object at 0x10969cd90>], dtype=object)"
      ]
     },
     "execution_count": 9,
     "metadata": {},
     "output_type": "execute_result"
    },
    {
     "data": {
      "image/png": "[encoded data removed]",
      "text/plain": [
       "<matplotlib.figure.Figure at 0x106301090>"
      ]
     },
     "metadata": {},
     "output_type": "display_data"
    }
   ],
   "source": [
    "desc_pop.hist(column='desclength', by='popularity', bins=50)"
   ]
  },
  {
   "cell_type": "code",
   "execution_count": 10,
   "metadata": {
    "collapsed": true
   },
   "outputs": [],
   "source": [
    "from sklearn.feature_extraction.text import CountVectorizer\n",
    "countvect = CountVectorizer(ngram_range=(1,3))\n",
    "\n",
    "trainsummary = countvect.fit(descriptions)"
   ]
  },
  {
   "cell_type": "code",
   "execution_count": 11,
   "metadata": {
    "collapsed": false
   },
   "outputs": [
    {
     "name": "stdout",
     "output_type": "stream",
     "text": [
      "CountVectorizer(analyzer=u'word', binary=False, decode_error=u'strict',\n",
      "        dtype=<type 'numpy.int64'>, encoding=u'utf-8', input=u'content',\n",
      "        lowercase=True, max_df=1.0, max_features=None, min_df=1,\n",
      "        ngram_range=(1, 3), preprocessor=None, stop_words=None,\n",
      "        strip_accents=None, token_pattern=u'(?u)\\\\b\\\\w\\\\w+\\\\b',\n",
      "        tokenizer=None, vocabulary=None)\n",
      "[u'00', u'00 00', u'00 00 de', u'00 00 free', u'00 00 street', u'00 00am', u'00 00am there', u'00 00am to', u'00 10', u'00 10 00', u'00 adult', u'00 adult citypass', u'00 adults', u'00 adults under', u'00 age', u'00 age 17', u'00 alamo', u'00 alamo sq', u'00 am', u'00 am 00']\n"
     ]
    }
   ],
   "source": [
    "print trainsummary\n",
    "print trainsummary.get_feature_names()[:20]"
   ]
  },
  {
   "cell_type": "code",
   "execution_count": null,
   "metadata": {
    "collapsed": false
   },
   "outputs": [
    {
     "name": "stdout",
     "output_type": "stream",
     "text": [
      "[[0 0 0 ..., 0 0 0]\n",
      " [0 0 0 ..., 0 0 0]\n",
      " [0 0 0 ..., 0 0 0]\n",
      " [0 0 0 ..., 0 0 0]\n",
      " [0 0 0 ..., 0 0 0]]\n",
      "0    False\n",
      "1    False\n",
      "2    False\n",
      "3    False\n",
      "4     True\n",
      "Name: reviews_per_month, dtype: bool\n"
     ]
    }
   ],
   "source": [
    "transformx = trainsummary.transform(descriptions)\n",
    "#print transformx[:10]\n",
    "\n",
    "transformx_back = transformx.toarray()\n",
    "#print transformx_back\n",
    "\n",
    "X = transformx_back\n",
    "y = reviews_per_month > 3\n",
    "print X[:5]\n",
    "print y[:5]"
   ]
  },
  {
   "cell_type": "code",
   "execution_count": null,
   "metadata": {
    "collapsed": false
   },
   "outputs": [],
   "source": [
    "from sklearn.cross_validation import train_test_split\n",
    "\n",
    "xtrain, xtest, ytrain, ytest = train_test_split(X, y, \n",
    "                                                test_size=0.2, \n",
    "                                                random_state=70)"
   ]
  },
  {
   "cell_type": "code",
   "execution_count": null,
   "metadata": {
    "collapsed": true
   },
   "outputs": [],
   "source": [
    "# a few helper functions\n",
    "def accuracy_report(_clf):\n",
    "    print \"Accuracy on test data: %0.2f%%\" % (100 * _clf.score(xtest, ytest))\n",
    "\n",
    "    #Print the accuracy on the test and training dataset\n",
    "    training_accuracy = _clf.score(xtrain, ytrain)\n",
    "    test_accuracy = _clf.score(xtest, ytest)\n",
    "\n",
    "    print \"Accuracy on training data: %0.2f%%\" % (100 * training_accuracy)\n",
    "    \n",
    "# a function to run some tests\n",
    "def AnalyzeReview(testquote, _clf):\n",
    "    print \"The test quote\" + \" is judged by clasifier to be...\"\n",
    "    testquote = trainsummary.transform([testquote])\n",
    "\n",
    "    if (_clf.predict(testquote)[0] == 1):\n",
    "        print \"... a popular listing.\"\n",
    "    else:\n",
    "        print \"... an unpopular listing.\"\n",
    "    return(_clf.predict(testquote)[0])"
   ]
  },
  {
   "cell_type": "code",
   "execution_count": null,
   "metadata": {
    "collapsed": false
   },
   "outputs": [],
   "source": [
    "from sklearn.naive_bayes import MultinomialNB\n",
    "clfm = MultinomialNB()\n",
    "clfm.fit(xtrain, ytrain)"
   ]
  },
  {
   "cell_type": "code",
   "execution_count": null,
   "metadata": {
    "collapsed": false
   },
   "outputs": [],
   "source": [
    "from sklearn.naive_bayes import BernoulliNB\n",
    "clfb = BernoulliNB()\n",
    "clfb.fit(xtrain, ytrain)"
   ]
  },
  {
   "cell_type": "code",
   "execution_count": null,
   "metadata": {
    "collapsed": false
   },
   "outputs": [],
   "source": [
    "from sklearn.linear_model import LogisticRegression\n",
    "clfl = LogisticRegression()\n",
    "clfl.fit(xtrain, ytrain)"
   ]
  },
  {
   "cell_type": "code",
   "execution_count": null,
   "metadata": {
    "collapsed": true
   },
   "outputs": [],
   "source": [
    "test_desc = 'Newly built cottage that comfortably sleeps 2. This brand new \\\n",
    "cottage is warm, safe, and perfectly located for the ultimate and most \\\n",
    "convenient way to visit San Francisco. Beautiful views of the pacific \\\n",
    "ocean and a few blocks from golden gate park. '"
   ]
  },
  {
   "cell_type": "code",
   "execution_count": null,
   "metadata": {
    "collapsed": false
   },
   "outputs": [],
   "source": [
    "print \"MultinomialNB Results:\"\n",
    "accuracy_report(clfm)\n",
    "AnalyzeReview(test_desc, clfm)\n",
    "print\n",
    "print \"BernoulliNB Results:\"\n",
    "accuracy_report(clfb)\n",
    "AnalyzeReview(test_desc, clfb)\n",
    "print\n",
    "print \"Logistic Regession:\"\n",
    "accuracy_report(clfl)\n",
    "AnalyzeReview(test_desc, clfl)"
   ]
  },
  {
   "cell_type": "code",
   "execution_count": null,
   "metadata": {
    "collapsed": false
   },
   "outputs": [],
   "source": [
    "from sklearn.metrics import confusion_matrix\n",
    "\n",
    "plt.matshow(confusion_matrix(ytest, clfl.predict(xtest)), \n",
    "            cmap=plt.cm.Blues)\n",
    "plt.title('confusion matrix')\n",
    "plt.colorbar()\n",
    "plt.ylabel('expected label')\n",
    "plt.xlabel('predicted label')"
   ]
  },
  {
   "cell_type": "code",
   "execution_count": null,
   "metadata": {
    "collapsed": false
   },
   "outputs": [],
   "source": [
    "confusion_matrix(ytest, clfl.predict(xtest))"
   ]
  }
 ],
 "metadata": {
  "kernelspec": {
   "display_name": "Python 2",
   "language": "python",
   "name": "python2"
  },
  "language_info": {
   "codemirror_mode": {
    "name": "ipython",
    "version": 2
   },
   "file_extension": ".py",
   "mimetype": "text/x-python",
   "name": "python",
   "nbconvert_exporter": "python",
   "pygments_lexer": "ipython2",
   "version": "2.7.11"
  }
 },
 "nbformat": 4,
 "nbformat_minor": 0
}
