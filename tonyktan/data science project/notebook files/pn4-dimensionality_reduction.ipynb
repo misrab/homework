{
 "cells": [
  {
   "cell_type": "markdown",
   "metadata": {},
   "source": [
    "# Part 4 - Dimensionality Reduction\n",
    "To ready the data for analysis, we will seek to reduce the number of fields to a more manageable number, before we apply data science techniques on it. The technique we will use is Principal Component Analysis (PCA), with the approach of grouping up fields in similar catagories."
   ]
  },
  {
   "cell_type": "code",
   "execution_count": 186,
   "metadata": {
    "collapsed": false
   },
   "outputs": [],
   "source": [
    "%matplotlib inline\n",
    "import pandas as pd\n",
    "import numpy as np\n",
    "\n",
    "# Data sourced from Inside Airbnb (http://insideairbnb.com/get-the-data.html)\n",
    "# A million thanks to Murray Cox\n",
    "abnb_listings = pd.read_csv(\"airbnb-sf-data/listings2.csv\")\n",
    "\n",
    "## Full list of available fields \n",
    "# calendar = pd.read_csv(\"airbnb-sf-data/calendar.csv\")\n",
    "# calendar2 = pd.read_csv(\"airbnb-sf-data/calendar2.csv\")\n",
    "# listings = pd.read_csv(\"airbnb-sf-data/listings.csv\")\n",
    "# listings2 = pd.read_csv(\"airbnb-sf-data/listings2.csv\")\n",
    "# nhoods = pd.read_csv(\"airbnb-sf-data/neighbourhoods.csv\")\n",
    "# reviews = pd.read_csv(\"airbnb-sf-data/reviews.csv\")\n",
    "# reviews2 = pd.read_csv(\"airbnb-sf-data/reviews2.csv\")"
   ]
  },
  {
   "cell_type": "markdown",
   "metadata": {},
   "source": [
    "The objective of this section is to reduce the dimensions of the listings data into the following fields:\n",
    "1. ID, Lat and Long\n",
    "2. Location\n",
    "3. Space\n",
    "4. Price\n",
    "5. Description\n",
    "6. Host\n",
    "7. Rating\n",
    "8. Reviews Per Month"
   ]
  },
  {
   "cell_type": "code",
   "execution_count": 187,
   "metadata": {
    "collapsed": false
   },
   "outputs": [
    {
     "data": {
      "text/plain": [
       "['id',\n",
       " 'listing_url',\n",
       " 'scrape_id',\n",
       " 'last_scraped',\n",
       " 'name',\n",
       " 'summary',\n",
       " 'space',\n",
       " 'description',\n",
       " 'experiences_offered',\n",
       " 'neighborhood_overview',\n",
       " 'notes',\n",
       " 'transit',\n",
       " 'thumbnail_url',\n",
       " 'medium_url',\n",
       " 'picture_url',\n",
       " 'xl_picture_url',\n",
       " 'host_id',\n",
       " 'host_url',\n",
       " 'host_name',\n",
       " 'host_since',\n",
       " 'host_location',\n",
       " 'host_about',\n",
       " 'host_response_time',\n",
       " 'host_response_rate',\n",
       " 'host_acceptance_rate',\n",
       " 'host_is_superhost',\n",
       " 'host_thumbnail_url',\n",
       " 'host_picture_url',\n",
       " 'host_neighbourhood',\n",
       " 'host_listings_count',\n",
       " 'host_total_listings_count',\n",
       " 'host_verifications',\n",
       " 'host_has_profile_pic',\n",
       " 'host_identity_verified',\n",
       " 'street',\n",
       " 'neighbourhood',\n",
       " 'neighbourhood_cleansed',\n",
       " 'neighbourhood_group_cleansed',\n",
       " 'city',\n",
       " 'state',\n",
       " 'zipcode',\n",
       " 'market',\n",
       " 'smart_location',\n",
       " 'country_code',\n",
       " 'country',\n",
       " 'latitude',\n",
       " 'longitude',\n",
       " 'is_location_exact',\n",
       " 'property_type',\n",
       " 'room_type',\n",
       " 'accommodates',\n",
       " 'bathrooms',\n",
       " 'bedrooms',\n",
       " 'beds',\n",
       " 'bed_type',\n",
       " 'amenities',\n",
       " 'square_feet',\n",
       " 'price',\n",
       " 'weekly_price',\n",
       " 'monthly_price',\n",
       " 'security_deposit',\n",
       " 'cleaning_fee',\n",
       " 'guests_included',\n",
       " 'extra_people',\n",
       " 'minimum_nights',\n",
       " 'maximum_nights',\n",
       " 'calendar_updated',\n",
       " 'has_availability',\n",
       " 'availability_30',\n",
       " 'availability_60',\n",
       " 'availability_90',\n",
       " 'availability_365',\n",
       " 'calendar_last_scraped',\n",
       " 'number_of_reviews',\n",
       " 'first_review',\n",
       " 'last_review',\n",
       " 'review_scores_rating',\n",
       " 'review_scores_accuracy',\n",
       " 'review_scores_cleanliness',\n",
       " 'review_scores_checkin',\n",
       " 'review_scores_communication',\n",
       " 'review_scores_location',\n",
       " 'review_scores_value',\n",
       " 'requires_license',\n",
       " 'license',\n",
       " 'jurisdiction_names',\n",
       " 'instant_bookable',\n",
       " 'cancellation_policy',\n",
       " 'require_guest_profile_picture',\n",
       " 'require_guest_phone_verification',\n",
       " 'calculated_host_listings_count',\n",
       " 'reviews_per_month']"
      ]
     },
     "execution_count": 187,
     "metadata": {},
     "output_type": "execute_result"
    }
   ],
   "source": [
    "list(abnb_listings.columns)"
   ]
  },
  {
   "cell_type": "markdown",
   "metadata": {},
   "source": [
    "## 1. ID, Lat, and Long"
   ]
  },
  {
   "cell_type": "code",
   "execution_count": 188,
   "metadata": {
    "collapsed": false
   },
   "outputs": [],
   "source": [
    "listingid = abnb_listings['id']\n",
    "latlong = abnb_listings[['latitude','longitude']]"
   ]
  },
  {
   "cell_type": "markdown",
   "metadata": {},
   "source": [
    "## 2. Location"
   ]
  },
  {
   "cell_type": "code",
   "execution_count": 189,
   "metadata": {
    "collapsed": false
   },
   "outputs": [],
   "source": [
    "locationfields = [\n",
    " 'latitude','longitude',\n",
    " 'neighbourhood_cleansed',\n",
    "]\n",
    "\n",
    "## there are other location-related fields omitted:\n",
    "#'street', proxy with zipcode\n",
    "# 'zipcode', too many levels\n",
    "#'neighbourhood', proxy with neighbourhood_cleansed\n",
    "#'neighbourhood_group_cleansed', is NaN\n",
    "#'city','state', equivalent to smart_location \n",
    "#'market', equivalent to city\n",
    "#'country', equivalent to country code\n",
    "#'is_location_exact', omit\n",
    "#'smart_location', provisions for multi-city sets, same for entire dataset\n",
    "#'country_code', provisions for multi-country sets, same for entire dataset\n",
    "\n",
    "location = abnb_listings[locationfields]"
   ]
  },
  {
   "cell_type": "code",
   "execution_count": 190,
   "metadata": {
    "collapsed": false
   },
   "outputs": [
    {
     "name": "stderr",
     "output_type": "stream",
     "text": [
      "/Users/tonyktan/Desktop/GA/anaconda2/lib/python2.7/site-packages/ipykernel/__main__.py:4: SettingWithCopyWarning: \n",
      "A value is trying to be set on a copy of a slice from a DataFrame.\n",
      "Try using .loc[row_indexer,col_indexer] = value instead\n",
      "\n",
      "See the caveats in the documentation: http://pandas.pydata.org/pandas-docs/stable/indexing.html#indexing-view-versus-copy\n"
     ]
    }
   ],
   "source": [
    "from sklearn.preprocessing import LabelEncoder\n",
    "numerify = LabelEncoder()\n",
    "\n",
    "location['neighbourhood_cleansed'] = numerify.fit_transform(location['neighbourhood_cleansed'].astype('str'))\n",
    "\n",
    "from sklearn.decomposition import PCA\n",
    "pca = PCA(n_components=1)\n",
    "location = pca.fit_transform(location)\n",
    "location = [i[0] for i in location]\n",
    "location = pd.DataFrame(pd.Series(location), columns=[\"location\"])"
   ]
  },
  {
   "cell_type": "markdown",
   "metadata": {},
   "source": [
    "## 3. Space"
   ]
  },
  {
   "cell_type": "code",
   "execution_count": 191,
   "metadata": {
    "collapsed": false
   },
   "outputs": [
    {
     "name": "stderr",
     "output_type": "stream",
     "text": [
      "/Users/tonyktan/Desktop/GA/anaconda2/lib/python2.7/site-packages/ipykernel/__main__.py:11: SettingWithCopyWarning: \n",
      "A value is trying to be set on a copy of a slice from a DataFrame.\n",
      "Try using .loc[row_indexer,col_indexer] = value instead\n",
      "\n",
      "See the caveats in the documentation: http://pandas.pydata.org/pandas-docs/stable/indexing.html#indexing-view-versus-copy\n"
     ]
    }
   ],
   "source": [
    "spacefields = [\n",
    " 'property_type',\n",
    " 'room_type',\n",
    " 'accommodates',\n",
    " 'bathrooms',\n",
    " 'bedrooms',\n",
    " 'beds',\n",
    " 'bed_type'\n",
    "]\n",
    "space = abnb_listings[spacefields]\n",
    "space['wireless'] = abnb_listings.amenities.apply(lambda x: 1 if \"Wireless Internet\" in x else 0)\n",
    "space.room_type = space.room_type.map({\n",
    "\"Shared room\": 0,\n",
    "\"Private room\": 1,\n",
    "\"Entire home/apt\":2\n",
    "})\n",
    "space.property_type = space.property_type.map({\n",
    "\"Other\": 0,\n",
    "\"Dorm\": 1,\n",
    "\"Bed & Breakfast\": 1,\n",
    "\"Cabin\": 1,\n",
    "\"Camper/RV\": 1,\n",
    "\"Boat\": 1,\n",
    "\"Yurt\": 1,\n",
    "\"Tent\": 1,\n",
    "\"Treehouse\": 1,\n",
    "\"Plane\": 1,\n",
    "\"Apartment\": 2,\n",
    "\"Condominium\": 2,\n",
    "\"Loft\": 2,\n",
    "\"Townhouse\": 2,\n",
    "\"House\": 2,        \n",
    "\"Bungalow\": 3,\n",
    "\"Villa\": 3,\n",
    "\"Island\": 4,\n",
    "\"Castle\": 4,\n",
    "})\n",
    "space.bed_type = space.bed_type.map({\n",
    "\"Couch\": 0,\n",
    "\"Airbed\": 1,\n",
    "\"Futon\": 2,\n",
    "\"Pull-out Sofa\": 2,\n",
    "\"Real Bed\": 3  \n",
    "})\n",
    "space.fillna(0, inplace=True)\n",
    "\n",
    "space = pca.fit_transform(space)\n",
    "space = [i[0] for i in space]\n",
    "space = pd.DataFrame(pd.Series(space), columns=[\"space\"])"
   ]
  },
  {
   "cell_type": "markdown",
   "metadata": {},
   "source": [
    "## 4. Price"
   ]
  },
  {
   "cell_type": "code",
   "execution_count": 239,
   "metadata": {
    "collapsed": false
   },
   "outputs": [
    {
     "name": "stderr",
     "output_type": "stream",
     "text": [
      "/Users/tonyktan/Desktop/GA/anaconda2/lib/python2.7/site-packages/ipykernel/__main__.py:12: SettingWithCopyWarning: \n",
      "A value is trying to be set on a copy of a slice from a DataFrame.\n",
      "Try using .loc[row_indexer,col_indexer] = value instead\n",
      "\n",
      "See the caveats in the documentation: http://pandas.pydata.org/pandas-docs/stable/indexing.html#indexing-view-versus-copy\n"
     ]
    }
   ],
   "source": [
    "pricefields = [\n",
    " 'price',\n",
    "# 'weekly_price', # too many NaNs\n",
    "# 'monthly_price', # too many NaNs\n",
    " 'security_deposit',\n",
    " 'cleaning_fee',\n",
    " 'extra_people'\n",
    "]\n",
    "price = abnb_listings[pricefields]\n",
    "price.fillna(\"$0\", inplace=True)\n",
    "for field in pricefields:\n",
    "    price[field] = price[field].replace( '[\\$,)]','', regex=True ).replace( '[(]','-',   regex=True ).astype(float)\n",
    "\n",
    "# Do away with PCA and just normalize price for addon costs\n",
    "# price = pca.fit_transform(price)\n",
    "# price = [i[0] for i in price]\n",
    "# price = pd.DataFrame(pd.Series(price), columns=[\"price\"])\n",
    "price = pd.DataFrame(price.price + (price.security_deposit / 5) + \n",
    "                     (price.cleaning_fee / 3) + (price.extra_people / 3), columns=[\"price\"])"
   ]
  },
  {
   "cell_type": "markdown",
   "metadata": {},
   "source": [
    "## 5. Description"
   ]
  },
  {
   "cell_type": "code",
   "execution_count": 242,
   "metadata": {
    "collapsed": false
   },
   "outputs": [],
   "source": [
    "descfields = [\n",
    " 'name',\n",
    " 'description',\n",
    " 'neighborhood_overview',\n",
    " 'notes',\n",
    " 'transit'\n",
    "]\n",
    "description = abnb_listings[descfields].fillna(\"\")\n",
    "description =  description['name'] + \" \" + description['description'] + \" \" + description['neighborhood_overview'] \\\n",
    "+ \" \" + description['notes'] + \" \" + description['transit']\n",
    "description = pd.DataFrame(description, columns=[\"description\"])"
   ]
  },
  {
   "cell_type": "markdown",
   "metadata": {},
   "source": [
    "## 6. Host"
   ]
  },
  {
   "cell_type": "code",
   "execution_count": 264,
   "metadata": {
    "collapsed": false
   },
   "outputs": [],
   "source": [
    "hostfields = [\n",
    "#  'host_name',\n",
    "#  'host_since',\n",
    "#  'host_location',\n",
    "#  'host_about',\n",
    "#  'host_response_time',\n",
    "#  'host_response_rate',\n",
    "#  'host_acceptance_rate',\n",
    " 'host_is_superhost',\n",
    "#  'host_neighbourhood',\n",
    "#  'host_listings_count',\n",
    "#  'host_total_listings_count',\n",
    "#  'host_verifications',\n",
    "#  'host_has_profile_pic',\n",
    " 'host_identity_verified'\n",
    "]\n",
    "host = abnb_listings[hostfields]\n",
    "host.host_is_superhost = host.host_is_superhost.map({\n",
    "\"f\": 0,\n",
    "\"t\": 1\n",
    "    })\n",
    "host.host_identity_verified = host.host_identity_verified.map({\n",
    "\"f\": 0,\n",
    "\"t\": 1\n",
    "    })\n",
    "host = pd.DataFrame(host.host_is_superhost * 3 + host.host_identity_verified, columns=[\"host\"])"
   ]
  },
  {
   "cell_type": "markdown",
   "metadata": {},
   "source": [
    "## 7. Rating"
   ]
  },
  {
   "cell_type": "code",
   "execution_count": 305,
   "metadata": {
    "collapsed": false,
    "scrolled": true
   },
   "outputs": [],
   "source": [
    "ratingfields = [\n",
    "'review_scores_rating', \n",
    "# 'review_scores_accuracy', # no need to overcomplicate things, just take the overall\n",
    "# 'review_scores_cleanliness',\n",
    "# 'review_scores_checkin',\n",
    "# 'review_scores_communication',\n",
    "# 'review_scores_location',\n",
    "# 'review_scores_value'\n",
    "]\n",
    "\n",
    "rating = abnb_listings[ratingfields]\n",
    "rating = rating.fillna(rating.mean())\n",
    "\n",
    "# from sklearn.preprocessing import StandardScaler\n",
    "# rating_std = StandardScaler().fit_transform(rating)\n",
    "# rating = pd.DataFrame(pca.fit_transform(rating_std), columns=[\"rating\"])"
   ]
  },
  {
   "cell_type": "code",
   "execution_count": 306,
   "metadata": {
    "collapsed": false
   },
   "outputs": [
    {
     "data": {
      "text/html": [
       "<div>\n",
       "<table border=\"1\" class=\"dataframe\">\n",
       "  <thead>\n",
       "    <tr style=\"text-align: right;\">\n",
       "      <th></th>\n",
       "      <th>review_scores_rating</th>\n",
       "    </tr>\n",
       "  </thead>\n",
       "  <tbody>\n",
       "    <tr>\n",
       "      <th>0</th>\n",
       "      <td>89.000000</td>\n",
       "    </tr>\n",
       "    <tr>\n",
       "      <th>1</th>\n",
       "      <td>93.777344</td>\n",
       "    </tr>\n",
       "    <tr>\n",
       "      <th>2</th>\n",
       "      <td>92.000000</td>\n",
       "    </tr>\n",
       "    <tr>\n",
       "      <th>3</th>\n",
       "      <td>93.777344</td>\n",
       "    </tr>\n",
       "    <tr>\n",
       "      <th>4</th>\n",
       "      <td>100.000000</td>\n",
       "    </tr>\n",
       "    <tr>\n",
       "      <th>5</th>\n",
       "      <td>94.000000</td>\n",
       "    </tr>\n",
       "    <tr>\n",
       "      <th>6</th>\n",
       "      <td>92.000000</td>\n",
       "    </tr>\n",
       "    <tr>\n",
       "      <th>7</th>\n",
       "      <td>100.000000</td>\n",
       "    </tr>\n",
       "    <tr>\n",
       "      <th>8</th>\n",
       "      <td>94.000000</td>\n",
       "    </tr>\n",
       "    <tr>\n",
       "      <th>9</th>\n",
       "      <td>97.000000</td>\n",
       "    </tr>\n",
       "  </tbody>\n",
       "</table>\n",
       "</div>"
      ],
      "text/plain": [
       "   review_scores_rating\n",
       "0             89.000000\n",
       "1             93.777344\n",
       "2             92.000000\n",
       "3             93.777344\n",
       "4            100.000000\n",
       "5             94.000000\n",
       "6             92.000000\n",
       "7            100.000000\n",
       "8             94.000000\n",
       "9             97.000000"
      ]
     },
     "execution_count": 306,
     "metadata": {},
     "output_type": "execute_result"
    }
   ],
   "source": [
    "rating.head(10)"
   ]
  },
  {
   "cell_type": "markdown",
   "metadata": {},
   "source": [
    "## 8. Reviews Per Month"
   ]
  },
  {
   "cell_type": "code",
   "execution_count": 308,
   "metadata": {
    "collapsed": false
   },
   "outputs": [],
   "source": [
    "reviews_per_month = pd.DataFrame(abnb_listings[\"reviews_per_month\"], columns=[\"reviews_per_month\"])"
   ]
  },
  {
   "cell_type": "code",
   "execution_count": 310,
   "metadata": {
    "collapsed": false
   },
   "outputs": [
    {
     "data": {
      "text/html": [
       "<div>\n",
       "<table border=\"1\" class=\"dataframe\">\n",
       "  <thead>\n",
       "    <tr style=\"text-align: right;\">\n",
       "      <th></th>\n",
       "      <th>reviews_per_month</th>\n",
       "    </tr>\n",
       "  </thead>\n",
       "  <tbody>\n",
       "    <tr>\n",
       "      <th>0</th>\n",
       "      <td>0.28</td>\n",
       "    </tr>\n",
       "    <tr>\n",
       "      <th>1</th>\n",
       "      <td>NaN</td>\n",
       "    </tr>\n",
       "    <tr>\n",
       "      <th>2</th>\n",
       "      <td>2.33</td>\n",
       "    </tr>\n",
       "    <tr>\n",
       "      <th>3</th>\n",
       "      <td>NaN</td>\n",
       "    </tr>\n",
       "    <tr>\n",
       "      <th>4</th>\n",
       "      <td>0.36</td>\n",
       "    </tr>\n",
       "  </tbody>\n",
       "</table>\n",
       "</div>"
      ],
      "text/plain": [
       "   reviews_per_month\n",
       "0               0.28\n",
       "1                NaN\n",
       "2               2.33\n",
       "3                NaN\n",
       "4               0.36"
      ]
     },
     "execution_count": 310,
     "metadata": {},
     "output_type": "execute_result"
    }
   ],
   "source": [
    "reviews_per_month.head()\n",
    "# not to fillna--merge and remove rows that do not have reviews per month"
   ]
  },
  {
   "cell_type": "markdown",
   "metadata": {},
   "source": [
    "# Concatenate Dataset"
   ]
  },
  {
   "cell_type": "code",
   "execution_count": 318,
   "metadata": {
    "collapsed": true
   },
   "outputs": [],
   "source": [
    "frames = [listingid, latlong, location, description, space, price, host, rating, reviews_per_month]\n",
    "abnb_listings_redcd = pd.concat(frames, axis=1)"
   ]
  },
  {
   "cell_type": "code",
   "execution_count": 319,
   "metadata": {
    "collapsed": false
   },
   "outputs": [
    {
     "data": {
      "text/html": [
       "<div>\n",
       "<table border=\"1\" class=\"dataframe\">\n",
       "  <thead>\n",
       "    <tr style=\"text-align: right;\">\n",
       "      <th></th>\n",
       "      <th>id</th>\n",
       "      <th>latitude</th>\n",
       "      <th>longitude</th>\n",
       "      <th>location</th>\n",
       "      <th>description</th>\n",
       "      <th>space</th>\n",
       "      <th>price</th>\n",
       "      <th>host</th>\n",
       "      <th>review_scores_rating</th>\n",
       "      <th>reviews_per_month</th>\n",
       "    </tr>\n",
       "  </thead>\n",
       "  <tbody>\n",
       "    <tr>\n",
       "      <th>0</th>\n",
       "      <td>1162609</td>\n",
       "      <td>37.785217</td>\n",
       "      <td>-122.488655</td>\n",
       "      <td>11.875956</td>\n",
       "      <td>Lovely One Bedroom Apartment This is a big wel...</td>\n",
       "      <td>-1.319244</td>\n",
       "      <td>386.666667</td>\n",
       "      <td>1</td>\n",
       "      <td>89.000000</td>\n",
       "      <td>0.28</td>\n",
       "    </tr>\n",
       "    <tr>\n",
       "      <th>1</th>\n",
       "      <td>6032828</td>\n",
       "      <td>37.783658</td>\n",
       "      <td>-122.489398</td>\n",
       "      <td>11.875956</td>\n",
       "      <td>Historic Seacliff Home Beautiful charmng multi...</td>\n",
       "      <td>3.393851</td>\n",
       "      <td>300.000000</td>\n",
       "      <td>0</td>\n",
       "      <td>93.777344</td>\n",
       "      <td>NaN</td>\n",
       "    </tr>\n",
       "    <tr>\n",
       "      <th>2</th>\n",
       "      <td>6938818</td>\n",
       "      <td>37.781505</td>\n",
       "      <td>-122.504754</td>\n",
       "      <td>11.875956</td>\n",
       "      <td>Best Secret in Town Convenience is the key for...</td>\n",
       "      <td>-1.416978</td>\n",
       "      <td>142.333333</td>\n",
       "      <td>1</td>\n",
       "      <td>92.000000</td>\n",
       "      <td>2.33</td>\n",
       "    </tr>\n",
       "    <tr>\n",
       "      <th>3</th>\n",
       "      <td>8087607</td>\n",
       "      <td>37.775318</td>\n",
       "      <td>-122.511621</td>\n",
       "      <td>11.875954</td>\n",
       "      <td>Single Room Beautiful Beach Condo When I trave...</td>\n",
       "      <td>-1.404158</td>\n",
       "      <td>79.000000</td>\n",
       "      <td>1</td>\n",
       "      <td>93.777344</td>\n",
       "      <td>NaN</td>\n",
       "    </tr>\n",
       "    <tr>\n",
       "      <th>4</th>\n",
       "      <td>4781448</td>\n",
       "      <td>37.781797</td>\n",
       "      <td>-122.492492</td>\n",
       "      <td>11.875955</td>\n",
       "      <td>3 Bd 2.5 Ba Full Flat Condo w Views Our family...</td>\n",
       "      <td>5.781405</td>\n",
       "      <td>940.000000</td>\n",
       "      <td>1</td>\n",
       "      <td>100.000000</td>\n",
       "      <td>0.36</td>\n",
       "    </tr>\n",
       "    <tr>\n",
       "      <th>5</th>\n",
       "      <td>1931937</td>\n",
       "      <td>37.781564</td>\n",
       "      <td>-122.494424</td>\n",
       "      <td>11.875955</td>\n",
       "      <td>Blocks from GG Park &amp; Ocean Beach Large 2BD ap...</td>\n",
       "      <td>-1.404158</td>\n",
       "      <td>136.666667</td>\n",
       "      <td>1</td>\n",
       "      <td>94.000000</td>\n",
       "      <td>1.13</td>\n",
       "    </tr>\n",
       "    <tr>\n",
       "      <th>6</th>\n",
       "      <td>2134100</td>\n",
       "      <td>37.783888</td>\n",
       "      <td>-122.508557</td>\n",
       "      <td>11.875958</td>\n",
       "      <td>Ocean Beach hilltop cottage Newly built cottag...</td>\n",
       "      <td>-1.582193</td>\n",
       "      <td>178.333333</td>\n",
       "      <td>1</td>\n",
       "      <td>92.000000</td>\n",
       "      <td>6.09</td>\n",
       "    </tr>\n",
       "    <tr>\n",
       "      <th>7</th>\n",
       "      <td>4688930</td>\n",
       "      <td>37.782034</td>\n",
       "      <td>-122.494214</td>\n",
       "      <td>11.875955</td>\n",
       "      <td>Modern remodel + period charm A view of the Go...</td>\n",
       "      <td>-0.484353</td>\n",
       "      <td>241.666667</td>\n",
       "      <td>1</td>\n",
       "      <td>100.000000</td>\n",
       "      <td>0.18</td>\n",
       "    </tr>\n",
       "    <tr>\n",
       "      <th>8</th>\n",
       "      <td>2316478</td>\n",
       "      <td>37.779118</td>\n",
       "      <td>-122.513065</td>\n",
       "      <td>11.875956</td>\n",
       "      <td>2+BR Beach Cottage-w/Parking+Views Experience ...</td>\n",
       "      <td>4.411968</td>\n",
       "      <td>348.333333</td>\n",
       "      <td>1</td>\n",
       "      <td>94.000000</td>\n",
       "      <td>4.95</td>\n",
       "    </tr>\n",
       "    <tr>\n",
       "      <th>9</th>\n",
       "      <td>3168359</td>\n",
       "      <td>37.779319</td>\n",
       "      <td>-122.509635</td>\n",
       "      <td>11.875956</td>\n",
       "      <td>Charming &amp; Private Ideal location Spacious, qu...</td>\n",
       "      <td>1.268373</td>\n",
       "      <td>300.666667</td>\n",
       "      <td>1</td>\n",
       "      <td>97.000000</td>\n",
       "      <td>3.94</td>\n",
       "    </tr>\n",
       "  </tbody>\n",
       "</table>\n",
       "</div>"
      ],
      "text/plain": [
       "        id   latitude   longitude   location  \\\n",
       "0  1162609  37.785217 -122.488655  11.875956   \n",
       "1  6032828  37.783658 -122.489398  11.875956   \n",
       "2  6938818  37.781505 -122.504754  11.875956   \n",
       "3  8087607  37.775318 -122.511621  11.875954   \n",
       "4  4781448  37.781797 -122.492492  11.875955   \n",
       "5  1931937  37.781564 -122.494424  11.875955   \n",
       "6  2134100  37.783888 -122.508557  11.875958   \n",
       "7  4688930  37.782034 -122.494214  11.875955   \n",
       "8  2316478  37.779118 -122.513065  11.875956   \n",
       "9  3168359  37.779319 -122.509635  11.875956   \n",
       "\n",
       "                                         description     space       price  \\\n",
       "0  Lovely One Bedroom Apartment This is a big wel... -1.319244  386.666667   \n",
       "1  Historic Seacliff Home Beautiful charmng multi...  3.393851  300.000000   \n",
       "2  Best Secret in Town Convenience is the key for... -1.416978  142.333333   \n",
       "3  Single Room Beautiful Beach Condo When I trave... -1.404158   79.000000   \n",
       "4  3 Bd 2.5 Ba Full Flat Condo w Views Our family...  5.781405  940.000000   \n",
       "5  Blocks from GG Park & Ocean Beach Large 2BD ap... -1.404158  136.666667   \n",
       "6  Ocean Beach hilltop cottage Newly built cottag... -1.582193  178.333333   \n",
       "7  Modern remodel + period charm A view of the Go... -0.484353  241.666667   \n",
       "8  2+BR Beach Cottage-w/Parking+Views Experience ...  4.411968  348.333333   \n",
       "9  Charming & Private Ideal location Spacious, qu...  1.268373  300.666667   \n",
       "\n",
       "   host  review_scores_rating  reviews_per_month  \n",
       "0     1             89.000000               0.28  \n",
       "1     0             93.777344                NaN  \n",
       "2     1             92.000000               2.33  \n",
       "3     1             93.777344                NaN  \n",
       "4     1            100.000000               0.36  \n",
       "5     1             94.000000               1.13  \n",
       "6     1             92.000000               6.09  \n",
       "7     1            100.000000               0.18  \n",
       "8     1             94.000000               4.95  \n",
       "9     1             97.000000               3.94  "
      ]
     },
     "execution_count": 319,
     "metadata": {},
     "output_type": "execute_result"
    }
   ],
   "source": [
    "abnb_listings_redcd.head(10)"
   ]
  },
  {
   "cell_type": "markdown",
   "metadata": {},
   "source": [
    "# Write reduced dataset to a CSV file"
   ]
  },
  {
   "cell_type": "code",
   "execution_count": 320,
   "metadata": {
    "collapsed": true
   },
   "outputs": [],
   "source": [
    "abnb_listings_redcd.dropna().to_csv(\"abnb_listings_rdcd.csv\")"
   ]
  }
 ],
 "metadata": {
  "kernelspec": {
   "display_name": "Python 2",
   "language": "python",
   "name": "python2"
  },
  "language_info": {
   "codemirror_mode": {
    "name": "ipython",
    "version": 2
   },
   "file_extension": ".py",
   "mimetype": "text/x-python",
   "name": "python",
   "nbconvert_exporter": "python",
   "pygments_lexer": "ipython2",
   "version": "2.7.11"
  }
 },
 "nbformat": 4,
 "nbformat_minor": 0
}
