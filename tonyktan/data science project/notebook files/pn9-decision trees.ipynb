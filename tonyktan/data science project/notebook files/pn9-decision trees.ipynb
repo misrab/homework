{
 "cells": [
  {
   "cell_type": "markdown",
   "metadata": {},
   "source": [
    "# pn9-decision trees"
   ]
  },
  {
   "cell_type": "code",
   "execution_count": 1,
   "metadata": {
    "collapsed": false
   },
   "outputs": [
    {
     "name": "stderr",
     "output_type": "stream",
     "text": [
      "/Users/tonyktan/Desktop/GA/anaconda2/lib/python2.7/site-packages/matplotlib/__init__.py:872: UserWarning: axes.color_cycle is deprecated and replaced with axes.prop_cycle; please use the latter.\n",
      "  warnings.warn(self.msg_depr % (key, alt_key))\n"
     ]
    }
   ],
   "source": [
    "#decision tree template\n",
    "%matplotlib inline\n",
    "import pandas as pd\n",
    "import numpy as np\n",
    "\n",
    "import seaborn as sns\n",
    "import matplotlib.pyplot as plt\n",
    "\n",
    "# Data sourced from Inside Airbnb (http://insideairbnb.com/get-the-data.html)\n",
    "# A million thanks to Murray Cox\n",
    "# Pre-processed with dimensionality reduction\n",
    "abnb = pd.read_csv(\"abnb_listings_rdcd.csv\")\n",
    "del abnb[\"Unnamed: 0\"]\n",
    "abnb.rename(columns={'review_scores_rating': 'rating'}, inplace=True)"
   ]
  },
  {
   "cell_type": "code",
   "execution_count": 2,
   "metadata": {
    "collapsed": false
   },
   "outputs": [
    {
     "data": {
      "text/html": [
       "<div>\n",
       "<table border=\"1\" class=\"dataframe\">\n",
       "  <thead>\n",
       "    <tr style=\"text-align: right;\">\n",
       "      <th></th>\n",
       "      <th>id</th>\n",
       "      <th>latitude</th>\n",
       "      <th>longitude</th>\n",
       "      <th>location</th>\n",
       "      <th>description</th>\n",
       "      <th>space</th>\n",
       "      <th>price</th>\n",
       "      <th>host</th>\n",
       "      <th>rating</th>\n",
       "      <th>reviews_per_month</th>\n",
       "    </tr>\n",
       "  </thead>\n",
       "  <tbody>\n",
       "    <tr>\n",
       "      <th>0</th>\n",
       "      <td>1162609</td>\n",
       "      <td>37.785217</td>\n",
       "      <td>-122.488655</td>\n",
       "      <td>11.875956</td>\n",
       "      <td>Lovely One Bedroom Apartment This is a big wel...</td>\n",
       "      <td>-1.319244</td>\n",
       "      <td>386.666667</td>\n",
       "      <td>1</td>\n",
       "      <td>89</td>\n",
       "      <td>0.28</td>\n",
       "    </tr>\n",
       "    <tr>\n",
       "      <th>1</th>\n",
       "      <td>6938818</td>\n",
       "      <td>37.781505</td>\n",
       "      <td>-122.504754</td>\n",
       "      <td>11.875956</td>\n",
       "      <td>Best Secret in Town Convenience is the key for...</td>\n",
       "      <td>-1.416978</td>\n",
       "      <td>142.333333</td>\n",
       "      <td>1</td>\n",
       "      <td>92</td>\n",
       "      <td>2.33</td>\n",
       "    </tr>\n",
       "    <tr>\n",
       "      <th>2</th>\n",
       "      <td>4781448</td>\n",
       "      <td>37.781797</td>\n",
       "      <td>-122.492492</td>\n",
       "      <td>11.875955</td>\n",
       "      <td>3 Bd 2.5 Ba Full Flat Condo w Views Our family...</td>\n",
       "      <td>5.781405</td>\n",
       "      <td>940.000000</td>\n",
       "      <td>1</td>\n",
       "      <td>100</td>\n",
       "      <td>0.36</td>\n",
       "    </tr>\n",
       "    <tr>\n",
       "      <th>3</th>\n",
       "      <td>1931937</td>\n",
       "      <td>37.781564</td>\n",
       "      <td>-122.494424</td>\n",
       "      <td>11.875955</td>\n",
       "      <td>Blocks from GG Park &amp; Ocean Beach Large 2BD ap...</td>\n",
       "      <td>-1.404158</td>\n",
       "      <td>136.666667</td>\n",
       "      <td>1</td>\n",
       "      <td>94</td>\n",
       "      <td>1.13</td>\n",
       "    </tr>\n",
       "    <tr>\n",
       "      <th>4</th>\n",
       "      <td>2134100</td>\n",
       "      <td>37.783888</td>\n",
       "      <td>-122.508557</td>\n",
       "      <td>11.875958</td>\n",
       "      <td>Ocean Beach hilltop cottage Newly built cottag...</td>\n",
       "      <td>-1.582193</td>\n",
       "      <td>178.333333</td>\n",
       "      <td>1</td>\n",
       "      <td>92</td>\n",
       "      <td>6.09</td>\n",
       "    </tr>\n",
       "  </tbody>\n",
       "</table>\n",
       "</div>"
      ],
      "text/plain": [
       "        id   latitude   longitude   location  \\\n",
       "0  1162609  37.785217 -122.488655  11.875956   \n",
       "1  6938818  37.781505 -122.504754  11.875956   \n",
       "2  4781448  37.781797 -122.492492  11.875955   \n",
       "3  1931937  37.781564 -122.494424  11.875955   \n",
       "4  2134100  37.783888 -122.508557  11.875958   \n",
       "\n",
       "                                         description     space       price  \\\n",
       "0  Lovely One Bedroom Apartment This is a big wel... -1.319244  386.666667   \n",
       "1  Best Secret in Town Convenience is the key for... -1.416978  142.333333   \n",
       "2  3 Bd 2.5 Ba Full Flat Condo w Views Our family...  5.781405  940.000000   \n",
       "3  Blocks from GG Park & Ocean Beach Large 2BD ap... -1.404158  136.666667   \n",
       "4  Ocean Beach hilltop cottage Newly built cottag... -1.582193  178.333333   \n",
       "\n",
       "   host  rating  reviews_per_month  \n",
       "0     1      89               0.28  \n",
       "1     1      92               2.33  \n",
       "2     1     100               0.36  \n",
       "3     1      94               1.13  \n",
       "4     1      92               6.09  "
      ]
     },
     "execution_count": 2,
     "metadata": {},
     "output_type": "execute_result"
    }
   ],
   "source": [
    "abnb.head()"
   ]
  },
  {
   "cell_type": "code",
   "execution_count": 15,
   "metadata": {
    "collapsed": true
   },
   "outputs": [],
   "source": [
    "feature_cols = ['location', 'space', 'price', 'host', 'rating']\n",
    "X = abnb[feature_cols]\n",
    "y = abnb.reviews_per_month"
   ]
  },
  {
   "cell_type": "code",
   "execution_count": 16,
   "metadata": {
    "collapsed": true
   },
   "outputs": [],
   "source": [
    "# instantiate a DecisionTreeRegressor (with random_state=1)\n",
    "from sklearn.tree import DecisionTreeRegressor\n",
    "dtr = DecisionTreeRegressor(random_state=1)"
   ]
  },
  {
   "cell_type": "code",
   "execution_count": 17,
   "metadata": {
    "collapsed": false
   },
   "outputs": [
    {
     "data": {
      "text/plain": [
       "5.1495288777013526"
      ]
     },
     "execution_count": 17,
     "metadata": {},
     "output_type": "execute_result"
    }
   ],
   "source": [
    "# use leave-one-out cross-validation (LOOCV) to estimate the RMSE for this model\n",
    "from sklearn import cross_validation\n",
    "scores = cross_validation.cross_val_score(dtr, X, y, cv=14, scoring=\"mean_squared_error\")\n",
    "np.mean(-scores)"
   ]
  },
  {
   "cell_type": "code",
   "execution_count": 18,
   "metadata": {
    "collapsed": false
   },
   "outputs": [
    {
     "name": "stdout",
     "output_type": "stream",
     "text": [
      "1 2.81676164077\n",
      "2 2.72769769016\n",
      "3 2.58554559399\n",
      "4 2.5484844407\n",
      "5 2.6370787739\n"
     ]
    }
   ],
   "source": [
    "# try different max_depth values one-by-one\n",
    "# What are their cross_val_score's?\n",
    "depths, rmses = [], []\n",
    "for depth in range(1,6):\n",
    "    dtr = DecisionTreeRegressor(random_state=1, max_depth=depth)\n",
    "    scores = cross_validation.cross_val_score(dtr, X, y, cv=14, scoring=\"mean_squared_error\")\n",
    "    depths.append(depth)\n",
    "    rmses.append(np.mean(-scores))\n",
    "    print depth, np.mean(-scores)"
   ]
  },
  {
   "cell_type": "code",
   "execution_count": 19,
   "metadata": {
    "collapsed": false
   },
   "outputs": [
    {
     "data": {
      "text/plain": [
       "<matplotlib.text.Text at 0x109777890>"
      ]
     },
     "execution_count": 19,
     "metadata": {},
     "output_type": "execute_result"
    },
    {
     "data": {
      "image/png": "[encoded data removed]",
      "text/plain": [
       "<matplotlib.figure.Figure at 0x10972c610>"
      ]
     },
     "metadata": {},
     "output_type": "display_data"
    }
   ],
   "source": [
    "# Plot max_depth (x-axis) versus RMSE (y-axis)\n",
    "# What's a good depth?\n",
    "plt.plot(depths, rmses)\n",
    "plt.xlabel(\"Max Depth\")\n",
    "plt.ylabel(\"RMSE\")\n",
    "plt.title(\"Max Depth to RMSE\")"
   ]
  },
  {
   "cell_type": "code",
   "execution_count": 20,
   "metadata": {
    "collapsed": true
   },
   "outputs": [],
   "source": [
    "# max_depth=? was best, so fit a tree using that parameter\n",
    "dtr = DecisionTreeRegressor(random_state=1, max_depth=4)\n",
    "treereg = dtr.fit(X, y)"
   ]
  },
  {
   "cell_type": "code",
   "execution_count": 21,
   "metadata": {
    "collapsed": false
   },
   "outputs": [
    {
     "data": {
      "text/html": [
       "<div>\n",
       "<table border=\"1\" class=\"dataframe\">\n",
       "  <thead>\n",
       "    <tr style=\"text-align: right;\">\n",
       "      <th></th>\n",
       "      <th>feature</th>\n",
       "      <th>importance</th>\n",
       "    </tr>\n",
       "  </thead>\n",
       "  <tbody>\n",
       "    <tr>\n",
       "      <th>0</th>\n",
       "      <td>location</td>\n",
       "      <td>0.010499</td>\n",
       "    </tr>\n",
       "    <tr>\n",
       "      <th>1</th>\n",
       "      <td>space</td>\n",
       "      <td>0.006346</td>\n",
       "    </tr>\n",
       "    <tr>\n",
       "      <th>2</th>\n",
       "      <td>price</td>\n",
       "      <td>0.254564</td>\n",
       "    </tr>\n",
       "    <tr>\n",
       "      <th>3</th>\n",
       "      <td>host</td>\n",
       "      <td>0.227979</td>\n",
       "    </tr>\n",
       "    <tr>\n",
       "      <th>4</th>\n",
       "      <td>rating</td>\n",
       "      <td>0.500612</td>\n",
       "    </tr>\n",
       "  </tbody>\n",
       "</table>\n",
       "</div>"
      ],
      "text/plain": [
       "    feature  importance\n",
       "0  location    0.010499\n",
       "1     space    0.006346\n",
       "2     price    0.254564\n",
       "3      host    0.227979\n",
       "4    rating    0.500612"
      ]
     },
     "execution_count": 21,
     "metadata": {},
     "output_type": "execute_result"
    }
   ],
   "source": [
    "# \"Gini importance\" of each feature: the (normalized) total reduction of error brought by that feature\n",
    "pd.DataFrame({'feature':feature_cols, 'importance':treereg.feature_importances_})"
   ]
  },
  {
   "cell_type": "code",
   "execution_count": 23,
   "metadata": {
    "collapsed": false
   },
   "outputs": [],
   "source": [
    "# create a Graphviz file\n",
    "from sklearn.tree import export_graphviz\n",
    "export_graphviz(treereg, out_file='tree_abnb.dot', feature_names=feature_cols)\n",
    "\n",
    "# At the command line, run this to convert to PNG:\n",
    "#   dot -Tpng tree_abnb.dot -o tree_abnb.png"
   ]
  },
  {
   "cell_type": "markdown",
   "metadata": {},
   "source": [
    "![Image of airbnb regression tree](tree_abnb.png)"
   ]
  },
  {
   "cell_type": "code",
   "execution_count": 24,
   "metadata": {
    "collapsed": true
   },
   "outputs": [],
   "source": [
    "# classification tree\n",
    "# what is y?\n",
    "y_class = abnb.reviews_per_month > 3"
   ]
  },
  {
   "cell_type": "code",
   "execution_count": 25,
   "metadata": {
    "collapsed": true
   },
   "outputs": [],
   "source": [
    "# fit a classification tree with max_depth=4 on all data\n",
    "from sklearn.tree import DecisionTreeClassifier\n",
    "clf = DecisionTreeClassifier(random_state=1, max_depth=4)\n",
    "treeclf = dtr.fit(X, y_class)"
   ]
  },
  {
   "cell_type": "code",
   "execution_count": 26,
   "metadata": {
    "collapsed": true
   },
   "outputs": [],
   "source": [
    "# create a Graphviz file\n",
    "export_graphviz(treeclf, out_file='tree_airbnb_c.dot', feature_names=feature_cols)\n",
    "\n",
    "# At the command line, run this to convert to PNG:\n",
    "#   dot -Tpng tree_airbnb_c.dot -o tree_airbnb_c.png"
   ]
  },
  {
   "cell_type": "markdown",
   "metadata": {},
   "source": [
    "![Image of airbnb classification tree](tree_airbnb_c.png)"
   ]
  },
  {
   "cell_type": "code",
   "execution_count": 27,
   "metadata": {
    "collapsed": false
   },
   "outputs": [
    {
     "data": {
      "text/html": [
       "<div>\n",
       "<table border=\"1\" class=\"dataframe\">\n",
       "  <thead>\n",
       "    <tr style=\"text-align: right;\">\n",
       "      <th></th>\n",
       "      <th>feature</th>\n",
       "      <th>importance</th>\n",
       "    </tr>\n",
       "  </thead>\n",
       "  <tbody>\n",
       "    <tr>\n",
       "      <th>0</th>\n",
       "      <td>location</td>\n",
       "      <td>0.008355</td>\n",
       "    </tr>\n",
       "    <tr>\n",
       "      <th>1</th>\n",
       "      <td>space</td>\n",
       "      <td>0.030719</td>\n",
       "    </tr>\n",
       "    <tr>\n",
       "      <th>2</th>\n",
       "      <td>price</td>\n",
       "      <td>0.295464</td>\n",
       "    </tr>\n",
       "    <tr>\n",
       "      <th>3</th>\n",
       "      <td>host</td>\n",
       "      <td>0.224769</td>\n",
       "    </tr>\n",
       "    <tr>\n",
       "      <th>4</th>\n",
       "      <td>rating</td>\n",
       "      <td>0.440693</td>\n",
       "    </tr>\n",
       "  </tbody>\n",
       "</table>\n",
       "</div>"
      ],
      "text/plain": [
       "    feature  importance\n",
       "0  location    0.008355\n",
       "1     space    0.030719\n",
       "2     price    0.295464\n",
       "3      host    0.224769\n",
       "4    rating    0.440693"
      ]
     },
     "execution_count": 27,
     "metadata": {},
     "output_type": "execute_result"
    }
   ],
   "source": [
    "# compute the feature importances\n",
    "pd.DataFrame({'feature':feature_cols, 'importance':treeclf.feature_importances_})"
   ]
  }
 ],
 "metadata": {
  "kernelspec": {
   "display_name": "Python 2",
   "language": "python",
   "name": "python2"
  },
  "language_info": {
   "codemirror_mode": {
    "name": "ipython",
    "version": 2
   },
   "file_extension": ".py",
   "mimetype": "text/x-python",
   "name": "python",
   "nbconvert_exporter": "python",
   "pygments_lexer": "ipython2",
   "version": "2.7.11"
  }
 },
 "nbformat": 4,
 "nbformat_minor": 0
}
