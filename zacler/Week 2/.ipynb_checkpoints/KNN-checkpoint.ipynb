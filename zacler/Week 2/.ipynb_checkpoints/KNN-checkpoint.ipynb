{
 "cells": [
  {
   "cell_type": "markdown",
   "metadata": {},
   "source": [
    "# Our KNN algorithm\n",
    "\n"
   ]
  },
  {
   "cell_type": "code",
   "execution_count": 4,
   "metadata": {
    "collapsed": false
   },
   "outputs": [],
   "source": [
    "# imports go here\n",
    "import pandas as pd\n",
    "import numpy as np"
   ]
  },
  {
   "cell_type": "markdown",
   "metadata": {},
   "source": [
    "\n",
    "## Part 1: Setting it all up\n"
   ]
  },
  {
   "cell_type": "code",
   "execution_count": 5,
   "metadata": {
    "collapsed": true
   },
   "outputs": [],
   "source": [
    "\n",
    "# we will need a euclidean_distance_algorithm that takes in\n",
    "# two numpy arrays, and calculates the \n",
    "# euclidean distance between them\n",
    "\n",
    "def euclidean_distance(np1, np2):\n",
    "    return np.linalg.norm(np1-np2)\n",
    "\n",
    "\n",
    "'''\n",
    "Bring in the iris data from the web\n",
    "\n",
    "iris_data ==\n",
    "    2D numpy array of the four predictors of iris\n",
    "        plus the species\n",
    "'''\n",
    "\n",
    "iris_data = pd.read_csv('https://raw.githubusercontent.com/sinanuozdemir/SF_DAT_15/master/data/iris.csv')\n",
    "# iris_data is a dataframe, but let's turn it into\n",
    "# a 2D numpy array\n",
    "# Hint: use .values to turn a dataframe into a 2d array\n",
    "\n",
    "iris_data = np.array(iris_data.values) #<FILL IN>"
   ]
  },
  {
   "cell_type": "code",
   "execution_count": 7,
   "metadata": {
    "collapsed": false
   },
   "outputs": [
    {
     "data": {
      "text/plain": [
       "array([[5.1, 3.5, 1.4, 0.2, 'Iris-setosa'],\n",
       "       [4.9, 3.0, 1.4, 0.2, 'Iris-setosa'],\n",
       "       [4.7, 3.2, 1.3, 0.2, 'Iris-setosa'],\n",
       "       [4.6, 3.1, 1.5, 0.2, 'Iris-setosa'],\n",
       "       [5.0, 3.6, 1.4, 0.2, 'Iris-setosa'],\n",
       "       [5.4, 3.9, 1.7, 0.4, 'Iris-setosa'],\n",
       "       [4.6, 3.4, 1.4, 0.3, 'Iris-setosa'],\n",
       "       [5.0, 3.4, 1.5, 0.2, 'Iris-setosa'],\n",
       "       [4.4, 2.9, 1.4, 0.2, 'Iris-setosa'],\n",
       "       [4.9, 3.1, 1.5, 0.1, 'Iris-setosa'],\n",
       "       [5.4, 3.7, 1.5, 0.2, 'Iris-setosa'],\n",
       "       [4.8, 3.4, 1.6, 0.2, 'Iris-setosa'],\n",
       "       [4.8, 3.0, 1.4, 0.1, 'Iris-setosa'],\n",
       "       [4.3, 3.0, 1.1, 0.1, 'Iris-setosa'],\n",
       "       [5.8, 4.0, 1.2, 0.2, 'Iris-setosa'],\n",
       "       [5.7, 4.4, 1.5, 0.4, 'Iris-setosa'],\n",
       "       [5.4, 3.9, 1.3, 0.4, 'Iris-setosa'],\n",
       "       [5.1, 3.5, 1.4, 0.3, 'Iris-setosa'],\n",
       "       [5.7, 3.8, 1.7, 0.3, 'Iris-setosa'],\n",
       "       [5.1, 3.8, 1.5, 0.3, 'Iris-setosa'],\n",
       "       [5.4, 3.4, 1.7, 0.2, 'Iris-setosa'],\n",
       "       [5.1, 3.7, 1.5, 0.4, 'Iris-setosa'],\n",
       "       [4.6, 3.6, 1.0, 0.2, 'Iris-setosa'],\n",
       "       [5.1, 3.3, 1.7, 0.5, 'Iris-setosa'],\n",
       "       [4.8, 3.4, 1.9, 0.2, 'Iris-setosa'],\n",
       "       [5.0, 3.0, 1.6, 0.2, 'Iris-setosa'],\n",
       "       [5.0, 3.4, 1.6, 0.4, 'Iris-setosa'],\n",
       "       [5.2, 3.5, 1.5, 0.2, 'Iris-setosa'],\n",
       "       [5.2, 3.4, 1.4, 0.2, 'Iris-setosa'],\n",
       "       [4.7, 3.2, 1.6, 0.2, 'Iris-setosa'],\n",
       "       [4.8, 3.1, 1.6, 0.2, 'Iris-setosa'],\n",
       "       [5.4, 3.4, 1.5, 0.4, 'Iris-setosa'],\n",
       "       [5.2, 4.1, 1.5, 0.1, 'Iris-setosa'],\n",
       "       [5.5, 4.2, 1.4, 0.2, 'Iris-setosa'],\n",
       "       [4.9, 3.1, 1.5, 0.1, 'Iris-setosa'],\n",
       "       [5.0, 3.2, 1.2, 0.2, 'Iris-setosa'],\n",
       "       [5.5, 3.5, 1.3, 0.2, 'Iris-setosa'],\n",
       "       [4.9, 3.1, 1.5, 0.1, 'Iris-setosa'],\n",
       "       [4.4, 3.0, 1.3, 0.2, 'Iris-setosa'],\n",
       "       [5.1, 3.4, 1.5, 0.2, 'Iris-setosa'],\n",
       "       [5.0, 3.5, 1.3, 0.3, 'Iris-setosa'],\n",
       "       [4.5, 2.3, 1.3, 0.3, 'Iris-setosa'],\n",
       "       [4.4, 3.2, 1.3, 0.2, 'Iris-setosa'],\n",
       "       [5.0, 3.5, 1.6, 0.6, 'Iris-setosa'],\n",
       "       [5.1, 3.8, 1.9, 0.4, 'Iris-setosa'],\n",
       "       [4.8, 3.0, 1.4, 0.3, 'Iris-setosa'],\n",
       "       [5.1, 3.8, 1.6, 0.2, 'Iris-setosa'],\n",
       "       [4.6, 3.2, 1.4, 0.2, 'Iris-setosa'],\n",
       "       [5.3, 3.7, 1.5, 0.2, 'Iris-setosa'],\n",
       "       [5.0, 3.3, 1.4, 0.2, 'Iris-setosa'],\n",
       "       [7.0, 3.2, 4.7, 1.4, 'Iris-versicolor'],\n",
       "       [6.4, 3.2, 4.5, 1.5, 'Iris-versicolor'],\n",
       "       [6.9, 3.1, 4.9, 1.5, 'Iris-versicolor'],\n",
       "       [5.5, 2.3, 4.0, 1.3, 'Iris-versicolor'],\n",
       "       [6.5, 2.8, 4.6, 1.5, 'Iris-versicolor'],\n",
       "       [5.7, 2.8, 4.5, 1.3, 'Iris-versicolor'],\n",
       "       [6.3, 3.3, 4.7, 1.6, 'Iris-versicolor'],\n",
       "       [4.9, 2.4, 3.3, 1.0, 'Iris-versicolor'],\n",
       "       [6.6, 2.9, 4.6, 1.3, 'Iris-versicolor'],\n",
       "       [5.2, 2.7, 3.9, 1.4, 'Iris-versicolor'],\n",
       "       [5.0, 2.0, 3.5, 1.0, 'Iris-versicolor'],\n",
       "       [5.9, 3.0, 4.2, 1.5, 'Iris-versicolor'],\n",
       "       [6.0, 2.2, 4.0, 1.0, 'Iris-versicolor'],\n",
       "       [6.1, 2.9, 4.7, 1.4, 'Iris-versicolor'],\n",
       "       [5.6, 2.9, 3.6, 1.3, 'Iris-versicolor'],\n",
       "       [6.7, 3.1, 4.4, 1.4, 'Iris-versicolor'],\n",
       "       [5.6, 3.0, 4.5, 1.5, 'Iris-versicolor'],\n",
       "       [5.8, 2.7, 4.1, 1.0, 'Iris-versicolor'],\n",
       "       [6.2, 2.2, 4.5, 1.5, 'Iris-versicolor'],\n",
       "       [5.6, 2.5, 3.9, 1.1, 'Iris-versicolor'],\n",
       "       [5.9, 3.2, 4.8, 1.8, 'Iris-versicolor'],\n",
       "       [6.1, 2.8, 4.0, 1.3, 'Iris-versicolor'],\n",
       "       [6.3, 2.5, 4.9, 1.5, 'Iris-versicolor'],\n",
       "       [6.1, 2.8, 4.7, 1.2, 'Iris-versicolor'],\n",
       "       [6.4, 2.9, 4.3, 1.3, 'Iris-versicolor'],\n",
       "       [6.6, 3.0, 4.4, 1.4, 'Iris-versicolor'],\n",
       "       [6.8, 2.8, 4.8, 1.4, 'Iris-versicolor'],\n",
       "       [6.7, 3.0, 5.0, 1.7, 'Iris-versicolor'],\n",
       "       [6.0, 2.9, 4.5, 1.5, 'Iris-versicolor'],\n",
       "       [5.7, 2.6, 3.5, 1.0, 'Iris-versicolor'],\n",
       "       [5.5, 2.4, 3.8, 1.1, 'Iris-versicolor'],\n",
       "       [5.5, 2.4, 3.7, 1.0, 'Iris-versicolor'],\n",
       "       [5.8, 2.7, 3.9, 1.2, 'Iris-versicolor'],\n",
       "       [6.0, 2.7, 5.1, 1.6, 'Iris-versicolor'],\n",
       "       [5.4, 3.0, 4.5, 1.5, 'Iris-versicolor'],\n",
       "       [6.0, 3.4, 4.5, 1.6, 'Iris-versicolor'],\n",
       "       [6.7, 3.1, 4.7, 1.5, 'Iris-versicolor'],\n",
       "       [6.3, 2.3, 4.4, 1.3, 'Iris-versicolor'],\n",
       "       [5.6, 3.0, 4.1, 1.3, 'Iris-versicolor'],\n",
       "       [5.5, 2.5, 4.0, 1.3, 'Iris-versicolor'],\n",
       "       [5.5, 2.6, 4.4, 1.2, 'Iris-versicolor'],\n",
       "       [6.1, 3.0, 4.6, 1.4, 'Iris-versicolor'],\n",
       "       [5.8, 2.6, 4.0, 1.2, 'Iris-versicolor'],\n",
       "       [5.0, 2.3, 3.3, 1.0, 'Iris-versicolor'],\n",
       "       [5.6, 2.7, 4.2, 1.3, 'Iris-versicolor'],\n",
       "       [5.7, 3.0, 4.2, 1.2, 'Iris-versicolor'],\n",
       "       [5.7, 2.9, 4.2, 1.3, 'Iris-versicolor'],\n",
       "       [6.2, 2.9, 4.3, 1.3, 'Iris-versicolor'],\n",
       "       [5.1, 2.5, 3.0, 1.1, 'Iris-versicolor'],\n",
       "       [5.7, 2.8, 4.1, 1.3, 'Iris-versicolor'],\n",
       "       [6.3, 3.3, 6.0, 2.5, 'Iris-virginica'],\n",
       "       [5.8, 2.7, 5.1, 1.9, 'Iris-virginica'],\n",
       "       [7.1, 3.0, 5.9, 2.1, 'Iris-virginica'],\n",
       "       [6.3, 2.9, 5.6, 1.8, 'Iris-virginica'],\n",
       "       [6.5, 3.0, 5.8, 2.2, 'Iris-virginica'],\n",
       "       [7.6, 3.0, 6.6, 2.1, 'Iris-virginica'],\n",
       "       [4.9, 2.5, 4.5, 1.7, 'Iris-virginica'],\n",
       "       [7.3, 2.9, 6.3, 1.8, 'Iris-virginica'],\n",
       "       [6.7, 2.5, 5.8, 1.8, 'Iris-virginica'],\n",
       "       [7.2, 3.6, 6.1, 2.5, 'Iris-virginica'],\n",
       "       [6.5, 3.2, 5.1, 2.0, 'Iris-virginica'],\n",
       "       [6.4, 2.7, 5.3, 1.9, 'Iris-virginica'],\n",
       "       [6.8, 3.0, 5.5, 2.1, 'Iris-virginica'],\n",
       "       [5.7, 2.5, 5.0, 2.0, 'Iris-virginica'],\n",
       "       [5.8, 2.8, 5.1, 2.4, 'Iris-virginica'],\n",
       "       [6.4, 3.2, 5.3, 2.3, 'Iris-virginica'],\n",
       "       [6.5, 3.0, 5.5, 1.8, 'Iris-virginica'],\n",
       "       [7.7, 3.8, 6.7, 2.2, 'Iris-virginica'],\n",
       "       [7.7, 2.6, 6.9, 2.3, 'Iris-virginica'],\n",
       "       [6.0, 2.2, 5.0, 1.5, 'Iris-virginica'],\n",
       "       [6.9, 3.2, 5.7, 2.3, 'Iris-virginica'],\n",
       "       [5.6, 2.8, 4.9, 2.0, 'Iris-virginica'],\n",
       "       [7.7, 2.8, 6.7, 2.0, 'Iris-virginica'],\n",
       "       [6.3, 2.7, 4.9, 1.8, 'Iris-virginica'],\n",
       "       [6.7, 3.3, 5.7, 2.1, 'Iris-virginica'],\n",
       "       [7.2, 3.2, 6.0, 1.8, 'Iris-virginica'],\n",
       "       [6.2, 2.8, 4.8, 1.8, 'Iris-virginica'],\n",
       "       [6.1, 3.0, 4.9, 1.8, 'Iris-virginica'],\n",
       "       [6.4, 2.8, 5.6, 2.1, 'Iris-virginica'],\n",
       "       [7.2, 3.0, 5.8, 1.6, 'Iris-virginica'],\n",
       "       [7.4, 2.8, 6.1, 1.9, 'Iris-virginica'],\n",
       "       [7.9, 3.8, 6.4, 2.0, 'Iris-virginica'],\n",
       "       [6.4, 2.8, 5.6, 2.2, 'Iris-virginica'],\n",
       "       [6.3, 2.8, 5.1, 1.5, 'Iris-virginica'],\n",
       "       [6.1, 2.6, 5.6, 1.4, 'Iris-virginica'],\n",
       "       [7.7, 3.0, 6.1, 2.3, 'Iris-virginica'],\n",
       "       [6.3, 3.4, 5.6, 2.4, 'Iris-virginica'],\n",
       "       [6.4, 3.1, 5.5, 1.8, 'Iris-virginica'],\n",
       "       [6.0, 3.0, 4.8, 1.8, 'Iris-virginica'],\n",
       "       [6.9, 3.1, 5.4, 2.1, 'Iris-virginica'],\n",
       "       [6.7, 3.1, 5.6, 2.4, 'Iris-virginica'],\n",
       "       [6.9, 3.1, 5.1, 2.3, 'Iris-virginica'],\n",
       "       [5.8, 2.7, 5.1, 1.9, 'Iris-virginica'],\n",
       "       [6.8, 3.2, 5.9, 2.3, 'Iris-virginica'],\n",
       "       [6.7, 3.3, 5.7, 2.5, 'Iris-virginica'],\n",
       "       [6.7, 3.0, 5.2, 2.3, 'Iris-virginica'],\n",
       "       [6.3, 2.5, 5.0, 1.9, 'Iris-virginica'],\n",
       "       [6.5, 3.0, 5.2, 2.0, 'Iris-virginica'],\n",
       "       [6.2, 3.4, 5.4, 2.3, 'Iris-virginica'],\n",
       "       [5.9, 3.0, 5.1, 1.8, 'Iris-virginica']], dtype=object)"
      ]
     },
     "execution_count": 7,
     "metadata": {},
     "output_type": "execute_result"
    }
   ],
   "source": [
    "# Question: in terms of machine learning:\n",
    "#   a. the first four columns are called what? features, observations\n",
    "#   b. the species column is called what? labels\n",
    "\n",
    "iris_data\n"
   ]
  },
  {
   "cell_type": "markdown",
   "metadata": {},
   "source": [
    "\n",
    "# Part 2: Predictions\n",
    "\n",
    "Before we jump into making a general function,\n",
    "let's try to predict \n",
    "\n",
    "unknown = [ 6.3,  3.1 ,  5.1,  2.4] with 3 neighbors"
   ]
  },
  {
   "cell_type": "code",
   "execution_count": 107,
   "metadata": {
    "collapsed": false
   },
   "outputs": [
    {
     "data": {
      "text/plain": [
       "[(6.9842680360936891, 'Iris-setosa'),\n",
       " (7.1224995612495476, 'Iris-setosa'),\n",
       " (7.3402997214010277, 'Iris-setosa'),\n",
       " (7.306161783043132, 'Iris-setosa'),\n",
       " (7.0696534568534553, 'Iris-setosa'),\n",
       " (6.5741919655574401, 'Iris-setosa'),\n",
       " (7.3505101863748203, 'Iris-setosa'),\n",
       " (6.9978568147683617, 'Iris-setosa'),\n",
       " (7.5226325179421059, 'Iris-setosa'),\n",
       " (7.0894287499064408, 'Iris-setosa'),\n",
       " (6.7126745787353643, 'Iris-setosa'),\n",
       " (7.1007041904306929, 'Iris-setosa'),\n",
       " (7.2242646684628049, 'Iris-setosa'),\n",
       " (7.7903786814249285, 'Iris-setosa'),\n",
       " (6.6437940967492359, 'Iris-setosa'),\n",
       " (6.5543878432695761, 'Iris-setosa'),\n",
       " (6.8132224387583289, 'Iris-setosa'),\n",
       " (6.962039930939782, 'Iris-setosa'),\n",
       " (6.3537390566500287, 'Iris-setosa'),\n",
       " (6.9318107302493486, 'Iris-setosa'),\n",
       " (6.570388116390081, 'Iris-setosa'),\n",
       " (6.9000000000000004, 'Iris-setosa'),\n",
       " (7.6144599283205903, 'Iris-setosa'),\n",
       " (6.7364679172397164, 'Iris-setosa'),\n",
       " (6.940461079784253, 'Iris-setosa'),\n",
       " (6.9296464556281663, 'Iris-setosa'),\n",
       " (6.8978257443922137, 'Iris-setosa'),\n",
       " (6.8483574673055729, 'Iris-setosa'),\n",
       " (6.9007245996344473, 'Iris-setosa'),\n",
       " (7.1728655361717193, 'Iris-setosa'),\n",
       " (7.0901339902712701, 'Iris-setosa'),\n",
       " (6.6430414720969493, 'Iris-setosa'),\n",
       " (6.9419017567234409, 'Iris-setosa'),\n",
       " (6.7683085036070869, 'Iris-setosa'),\n",
       " (7.0894287499064408, 'Iris-setosa'),\n",
       " (7.1651936470691426, 'Iris-setosa'),\n",
       " (6.74166151627327, 'Iris-setosa'),\n",
       " (7.0894287499064408, 'Iris-setosa'),\n",
       " (7.576938695805846, 'Iris-setosa'),\n",
       " (6.919537556802478, 'Iris-setosa'),\n",
       " (7.0985914095685212, 'Iris-setosa'),\n",
       " (7.508661665037252, 'Iris-setosa'),\n",
       " (7.5795778246548799, 'Iris-setosa'),\n",
       " (6.8665857600411577, 'Iris-setosa'),\n",
       " (6.6873013989201953, 'Iris-setosa'),\n",
       " (7.1798328671355574, 'Iris-setosa'),\n",
       " (6.8971008402081528, 'Iris-setosa'),\n",
       " (7.3634231170020374, 'Iris-setosa'),\n",
       " (6.7889616289974715, 'Iris-setosa'),\n",
       " (7.0505318948289286, 'Iris-setosa'),\n",
       " (3.6180105030251086, 'Iris-versicolor'),\n",
       " (4.235563716909474, 'Iris-versicolor'),\n",
       " (3.6633318168028399, 'Iris-versicolor'),\n",
       " (5.2905576265645191, 'Iris-versicolor'),\n",
       " (4.1158231254513353, 'Iris-versicolor'),\n",
       " (4.9325449820554095, 'Iris-versicolor'),\n",
       " (4.2906875905849873, 'Iris-versicolor'),\n",
       " (6.099180272790762, 'Iris-versicolor'),\n",
       " (4.0348482003664037, 'Iris-versicolor'),\n",
       " (5.5587768438749183, 'Iris-versicolor'),\n",
       " (5.990826320300064, 'Iris-versicolor'),\n",
       " (4.7895720059312179, 'Iris-versicolor'),\n",
       " (4.876474136094644, 'Iris-versicolor'),\n",
       " (4.4911023145771249, 'Iris-versicolor'),\n",
       " (5.2801515129776346, 'Iris-versicolor'),\n",
       " (3.9774363602702683, 'Iris-versicolor'),\n",
       " (5.0099900199501404, 'Iris-versicolor'),\n",
       " (4.9779513858614575, 'Iris-versicolor'),\n",
       " (4.4966654311834233, 'Iris-versicolor'),\n",
       " (5.2258970521815682, 'Iris-versicolor'),\n",
       " (4.6572524088780067, 'Iris-versicolor'),\n",
       " (4.6797435827190359, 'Iris-versicolor'),\n",
       " (4.2825226210727712, 'Iris-versicolor'),\n",
       " (4.5166359162544865, 'Iris-versicolor'),\n",
       " (4.3023249528597907, 'Iris-versicolor'),\n",
       " (4.0718546143004666, 'Iris-versicolor'),\n",
       " (3.7920970451717086, 'Iris-versicolor'),\n",
       " (3.8340579025361627, 'Iris-versicolor'),\n",
       " (4.620606020859169, 'Iris-versicolor'),\n",
       " (5.2763623833091673, 'Iris-versicolor'),\n",
       " (5.3609700614720834, 'Iris-versicolor'),\n",
       " (5.4074023338383093, 'Iris-versicolor'),\n",
       " (5.0099900199501395, 'Iris-versicolor'),\n",
       " (4.5321076774498641, 'Iris-versicolor'),\n",
       " (5.205766033928148, 'Iris-versicolor'),\n",
       " (4.6314144707637643, 'Iris-versicolor'),\n",
       " (3.8961519477556315, 'Iris-versicolor'),\n",
       " (4.4260591952661459, 'Iris-versicolor'),\n",
       " (5.1205468457968442, 'Iris-versicolor'),\n",
       " (5.2678268764263692, 'Iris-versicolor'),\n",
       " (5.1701063818842261, 'Iris-versicolor'),\n",
       " (4.5088801270381991, 'Iris-versicolor'),\n",
       " (4.9859803449271638, 'Iris-versicolor'),\n",
       " (6.0183054093324317, 'Iris-versicolor'),\n",
       " (5.1029403288692299, 'Iris-versicolor'),\n",
       " (5.008991914547277, 'Iris-versicolor'),\n",
       " (4.9989998999799949, 'Iris-versicolor'),\n",
       " (4.4933283877321948, 'Iris-versicolor'),\n",
       " (6.0124870062229663, 'Iris-versicolor'),\n",
       " (5.0289163842720628, 'Iris-versicolor'),\n",
       " (4.2976737893888597, 'Iris-virginica'),\n",
       " (4.727578661429126, 'Iris-virginica'),\n",
       " (3.4365680554879168, 'Iris-virginica'),\n",
       " (4.2023802778901391, 'Iris-virginica'),\n",
       " (4.0311288741492746, 'Iris-virginica'),\n",
       " (3.1160872901765768, 'Iris-virginica'),\n",
       " (5.7113921245174541, 'Iris-virginica'),\n",
       " (3.3000000000000003, 'Iris-virginica'),\n",
       " (3.8444765573482171, 'Iris-virginica'),\n",
       " (3.4785054261852171, 'Iris-virginica'),\n",
       " (4.029888335921977, 'Iris-virginica'),\n",
       " (4.11703777004778, 'Iris-virginica'),\n",
       " (3.7121422386541174, 'Iris-virginica'),\n",
       " (4.8559242168715935, 'Iris-virginica'),\n",
       " (4.7592016137163178, 'Iris-virginica'),\n",
       " (4.1400483088968896, 'Iris-virginica'),\n",
       " (4.0, 'Iris-virginica'),\n",
       " (3.1749015732775083, 'Iris-virginica'),\n",
       " (3.1953090617340916, 'Iris-virginica'),\n",
       " (4.6076024134033089, 'Iris-virginica'),\n",
       " (3.6455452267116368, 'Iris-virginica'),\n",
       " (4.9446941260304467, 'Iris-virginica'),\n",
       " (3.0594117081556709, 'Iris-virginica'),\n",
       " (4.2532340636273478, 'Iris-virginica'),\n",
       " (3.8288379438153295, 'Iris-virginica'),\n",
       " (3.3436506994600976, 'Iris-virginica'),\n",
       " (4.361192497471305, 'Iris-virginica'),\n",
       " (4.440720662234904, 'Iris-virginica'),\n",
       " (4.11703777004778, 'Iris-virginica'),\n",
       " (3.3196385345395663, 'Iris-virginica'),\n",
       " (3.1654383582688825, 'Iris-virginica'),\n",
       " (2.8722813232690139, 'Iris-virginica'),\n",
       " (4.1255302689472533, 'Iris-virginica'),\n",
       " (4.2343830719480255, 'Iris-virginica'),\n",
       " (4.4373415464667589, 'Iris-virginica'),\n",
       " (2.9068883707497264, 'Iris-virginica'),\n",
       " (4.2626282971894236, 'Iris-virginica'),\n",
       " (4.1012193308819755, 'Iris-virginica'),\n",
       " (4.5541190146942805, 'Iris-virginica'),\n",
       " (3.6152454965050431, 'Iris-virginica'),\n",
       " (3.8496753109840314, 'Iris-virginica'),\n",
       " (3.6578682316343762, 'Iris-virginica'),\n",
       " (4.727578661429126, 'Iris-virginica'),\n",
       " (3.7603191353926335, 'Iris-virginica'),\n",
       " (3.8807215823864509, 'Iris-virginica'),\n",
       " (3.8444765573482171, 'Iris-virginica'),\n",
       " (4.2602816808281592, 'Iris-virginica'),\n",
       " (4.0162171256046406, 'Iris-virginica'),\n",
       " (4.3485629810317796, 'Iris-virginica'),\n",
       " (4.6173585522460776, 'Iris-virginica')]"
      ]
     },
     "execution_count": 107,
     "metadata": {},
     "output_type": "execute_result"
    }
   ],
   "source": [
    "# define our variables\n",
    "unknown = [10.5, 3.0, 5.5, 1.8]\n",
    "#[ 6.3,  3.1 ,  5.1,  2.4]\n",
    "k = 3\n",
    "\n",
    "# Make a a list \"distances\" consisting of tuples\n",
    "# Each tuple should be\n",
    "# (euc_distance(unknown, data_point), species)\n",
    "# for each data_point in iris_data\n",
    "'''\n",
    "== [(4.4866468548349108, 'setosa'),\n",
    " (4.5276925690687078, 'setosa'),\n",
    " (4.6743983570080969, 'setosa'),\n",
    " ...\n",
    " (0.44721359549995821, 'virginica'),\n",
    " (0.72801098892805138, 'virginica')]\n",
    "\n",
    "'''\n",
    "\n",
    "distances = [(euclidean_distance(x[:-1], unknown), x[4]) for x in iris_data]\n",
    "\n",
    "distances\n",
    "\n"
   ]
  },
  {
   "cell_type": "code",
   "execution_count": 110,
   "metadata": {
    "collapsed": false
   },
   "outputs": [
    {
     "data": {
      "text/plain": [
       "[(2.8722813232690139, 'Iris-virginica'),\n",
       " (2.9068883707497264, 'Iris-virginica'),\n",
       " (3.0594117081556709, 'Iris-virginica')]"
      ]
     },
     "execution_count": 110,
     "metadata": {},
     "output_type": "execute_result"
    }
   ],
   "source": [
    "\n",
    "# Grab the nearest k neighbors\n",
    "nearest = sorted(distances)[:k]\n",
    "nearest"
   ]
  },
  {
   "cell_type": "code",
   "execution_count": 35,
   "metadata": {
    "collapsed": false
   },
   "outputs": [
    {
     "data": {
      "text/plain": [
       "[(2, 9)]"
      ]
     },
     "execution_count": 35,
     "metadata": {},
     "output_type": "execute_result"
    }
   ],
   "source": [
    "# Now we need to take the most frequently occuring flower\n",
    "# in those k neighbors\n",
    "# To do this, we will use the collections module\n",
    "\n",
    "# given a list l, this code will spit back the mode\n",
    "from collections import Counter\n",
    "l = [1,2,3,4,3,2,2,5,8,2,2,2,5,9,2,2,5,5,3,2]\n",
    "Counter(l).most_common(1)[0][0] # == 2\n"
   ]
  },
  {
   "cell_type": "code",
   "execution_count": 127,
   "metadata": {
    "collapsed": false
   },
   "outputs": [
    {
     "data": {
      "text/plain": [
       "'Iris-virginica'"
      ]
     },
     "execution_count": 127,
     "metadata": {},
     "output_type": "execute_result"
    }
   ],
   "source": [
    "# use it to find the most frequent occuring flower in nearest\n",
    "# note that the species is in the 1th index\n",
    "prediction = Counter([t[1] for t in nearest]).most_common(1)[0][0] # <FILL IN>\n",
    "prediction    \n"
   ]
  },
  {
   "cell_type": "code",
   "execution_count": 123,
   "metadata": {
    "collapsed": false
   },
   "outputs": [
    {
     "data": {
      "text/plain": [
       "'Iris-virginica'"
      ]
     },
     "execution_count": 123,
     "metadata": {},
     "output_type": "execute_result"
    }
   ],
   "source": [
    "'''\n",
    "Time to put it in a function so we \n",
    "can apply the prediction\n",
    "to each row in our data set!\n",
    "'''\n",
    "    \n",
    "# will default to 3 neighbors\n",
    "def predict(u, k = 3):\n",
    "    '''\n",
    "    Input:\n",
    "        unknown  == four attributes of an unknown flower\n",
    "        k        == the number of neighbors used\n",
    "    Output:\n",
    "        A prediction of the species of flower (str)\n",
    "    '''\n",
    "    d = [(euclidean_distance(x[:4],u), x[4]) for x in iris_data]\n",
    "    d = sorted(d)[:k]\n",
    "    return Counter([t[1] for t in d]).most_common(1)[0][0]\n",
    "    \n",
    "predict([ 5.8,  2.7,  5.1,  1.9]) # == 'setosa'"
   ]
  },
  {
   "cell_type": "code",
   "execution_count": 124,
   "metadata": {
    "collapsed": false
   },
   "outputs": [
    {
     "data": {
      "text/plain": [
       "0.95999999999999996"
      ]
     },
     "execution_count": 124,
     "metadata": {},
     "output_type": "execute_result"
    }
   ],
   "source": [
    "\n",
    "'''\n",
    "Putting it all together\n",
    "'''\n",
    "\n",
    "# predict each row\n",
    "# Note I use row[-1] because the last element of each row \n",
    "# is the actual species\n",
    "predictions = np.array([predict(row[:4]) for row in iris_data])\n",
    "\n",
    "# this is the last column of the iris_data\n",
    "actual = np.array([row[-1] for row in iris_data])\n",
    "\n",
    "# accuracy of the model\n",
    "np.mean(predictions == actual)\n"
   ]
  },
  {
   "cell_type": "code",
   "execution_count": 125,
   "metadata": {
    "collapsed": false
   },
   "outputs": [
    {
     "data": {
      "text/plain": [
       "0.96666666666666667"
      ]
     },
     "execution_count": 125,
     "metadata": {},
     "output_type": "execute_result"
    }
   ],
   "source": [
    "# now with k == 5\n",
    "predictions = np.array([predict(row[:4], k = 5) for row in iris_data])\n",
    "\n",
    "\n",
    "# this is the last column of the iris_data\n",
    "actual = np.array([row[-1] for row in iris_data])\n",
    "\n",
    "# accuracy of the model\n",
    "np.mean(predictions == actual)\n"
   ]
  },
  {
   "cell_type": "code",
   "execution_count": 126,
   "metadata": {
    "collapsed": false
   },
   "outputs": [
    {
     "data": {
      "text/plain": [
       "0.97999999999999998"
      ]
     },
     "execution_count": 126,
     "metadata": {},
     "output_type": "execute_result"
    }
   ],
   "source": [
    "# now with k == 2\n",
    "predictions = np.array([predict(row[:4], k = 2) for row in iris_data])\n",
    "\n",
    "\n",
    "# this is the last column of the iris_data\n",
    "actual = np.array([row[-1] for row in iris_data])\n",
    "\n",
    "# accuracy of the model\n",
    "np.mean(predictions == actual)\n",
    "\n",
    "# only two neighbors is the best so far!"
   ]
  },
  {
   "cell_type": "code",
   "execution_count": null,
   "metadata": {
    "collapsed": true
   },
   "outputs": [],
   "source": []
  }
 ],
 "metadata": {
  "kernelspec": {
   "display_name": "Python 2",
   "language": "python",
   "name": "python2"
  },
  "language_info": {
   "codemirror_mode": {
    "name": "ipython",
    "version": 2
   },
   "file_extension": ".py",
   "mimetype": "text/x-python",
   "name": "python",
   "nbconvert_exporter": "python",
   "pygments_lexer": "ipython2",
   "version": "2.7.11"
  }
 },
 "nbformat": 4,
 "nbformat_minor": 0
}
